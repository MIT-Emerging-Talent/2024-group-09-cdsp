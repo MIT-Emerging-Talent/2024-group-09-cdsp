{
 "cells": [
  {
   "cell_type": "code",
   "execution_count": 139,
   "id": "7831f558",
   "metadata": {},
   "outputs": [],
   "source": [
    "# Importing important librarays\n",
    "import pandas as pd\n",
    "import numpy as np\n",
    "import geopandas as gpd\n",
    "import matplotlib.pyplot as plt\n",
    "import plotly.graph_objs as go\n",
    "import seaborn as sn\n",
    "import seaborn as sns\n",
    "import plotly.express as px\n",
    "from sklearn.model_selection import train_test_split\n",
    "from sklearn.linear_model import LinearRegression\n",
    "from sklearn.ensemble import RandomForestRegressor\n",
    "from sklearn.tree import DecisionTreeRegressor\n",
    "from sklearn.metrics import mean_squared_error, r2_score, accuracy_score\n",
    "from sklearn.pipeline import make_pipeline\n"
   ]
  },
  {
   "cell_type": "code",
   "execution_count": null,
   "id": "1ea99a63",
   "metadata": {},
   "outputs": [],
   "source": [
    "#Loading the data\n",
    "Data = pd.read_csv(\"./data_processing/final_data/world.csv\")\n",
    "Data1 = pd.read_csv('./data_processing/final_data/Countrys.csv', encoding='latin-1')\n",
    "Data2 = pd.read_csv('./data_processing/final_data/Regions.csv', encoding='latin-1')\n",
    "Data3 = pd.read_csv('./data_processing/final_data/Mediam-country.csv',encoding='latin-1')"
   ]
  },
  {
   "cell_type": "code",
   "execution_count": 51,
   "id": "bef8569d",
   "metadata": {},
   "outputs": [
    {
     "data": {
      "text/plain": [
       "Year      0\n",
       "Upper     0\n",
       "Median    0\n",
       "Lower     0\n",
       "dtype: int64"
      ]
     },
     "execution_count": 51,
     "metadata": {},
     "output_type": "execute_result"
    }
   ],
   "source": [
    "#Checking if their is\n",
    "Data.isna().sum()"
   ]
  },
  {
   "cell_type": "code",
   "execution_count": 52,
   "id": "60febf61",
   "metadata": {},
   "outputs": [
    {
     "data": {
      "text/plain": [
       "ISO.Code               0\n",
       "Country.Name           0\n",
       "Uncertainty.Bounds*    0\n",
       "1990.5                 0\n",
       "1991.5                 0\n",
       "1992.5                 0\n",
       "1993.5                 0\n",
       "1994.5                 0\n",
       "1995.5                 0\n",
       "1996.5                 0\n",
       "1997.5                 0\n",
       "1998.5                 0\n",
       "1999.5                 0\n",
       "2000.5                 0\n",
       "2001.5                 0\n",
       "2002.5                 0\n",
       "2003.5                 0\n",
       "2004.5                 0\n",
       "2005.5                 0\n",
       "2006.5                 0\n",
       "2007.5                 0\n",
       "2008.5                 0\n",
       "2009.5                 0\n",
       "2010.5                 0\n",
       "2011.5                 0\n",
       "2012.5                 0\n",
       "2013.5                 0\n",
       "2014.5                 0\n",
       "2015.5                 0\n",
       "2016.5                 0\n",
       "2017.5                 0\n",
       "2018.5                 0\n",
       "2019.5                 0\n",
       "2020.5                 0\n",
       "2021.5                 0\n",
       "dtype: int64"
      ]
     },
     "execution_count": 52,
     "metadata": {},
     "output_type": "execute_result"
    }
   ],
   "source": [
    "Data1.isna().sum()"
   ]
  },
  {
   "cell_type": "code",
   "execution_count": 130,
   "id": "7e632f20",
   "metadata": {},
   "outputs": [
    {
     "data": {
      "text/plain": [
       "Region.Name            0\n",
       "Uncertainty.Bounds*    0\n",
       "1990.5                 0\n",
       "1991.5                 0\n",
       "1992.5                 0\n",
       "1993.5                 0\n",
       "1994.5                 0\n",
       "1995.5                 0\n",
       "1996.5                 0\n",
       "1997.5                 0\n",
       "1998.5                 0\n",
       "1999.5                 0\n",
       "2000.5                 0\n",
       "2001.5                 0\n",
       "2002.5                 0\n",
       "2003.5                 0\n",
       "2004.5                 0\n",
       "2005.5                 0\n",
       "2006.5                 0\n",
       "2007.5                 0\n",
       "2008.5                 0\n",
       "2009.5                 0\n",
       "2010.5                 0\n",
       "2011.5                 0\n",
       "2012.5                 0\n",
       "2013.5                 0\n",
       "2014.5                 0\n",
       "2015.5                 0\n",
       "2016.5                 0\n",
       "2017.5                 0\n",
       "2018.5                 0\n",
       "2019.5                 0\n",
       "2020.5                 0\n",
       "2021.5                 0\n",
       "dtype: int64"
      ]
     },
     "execution_count": 130,
     "metadata": {},
     "output_type": "execute_result"
    }
   ],
   "source": [
    "Data2.isna().sum()"
   ]
  },
  {
   "cell_type": "code",
   "execution_count": 53,
   "id": "7047d4f2",
   "metadata": {},
   "outputs": [
    {
     "data": {
      "text/plain": [
       "ISO.Code               0\n",
       "Country.Name           0\n",
       "Uncertainty.Bounds*    0\n",
       "1990.5                 0\n",
       "1991.5                 0\n",
       "1992.5                 0\n",
       "1993.5                 0\n",
       "1994.5                 0\n",
       "1995.5                 0\n",
       "1996.5                 0\n",
       "1997.5                 0\n",
       "1998.5                 0\n",
       "1999.5                 0\n",
       "2000.5                 0\n",
       "2001.5                 0\n",
       "2002.5                 0\n",
       "2003.5                 0\n",
       "2004.5                 0\n",
       "2005.5                 0\n",
       "2006.5                 0\n",
       "2007.5                 0\n",
       "2008.5                 0\n",
       "2009.5                 0\n",
       "2010.5                 0\n",
       "2011.5                 0\n",
       "2012.5                 0\n",
       "2013.5                 0\n",
       "2014.5                 0\n",
       "2015.5                 0\n",
       "2016.5                 0\n",
       "2017.5                 0\n",
       "2018.5                 0\n",
       "2019.5                 0\n",
       "2020.5                 0\n",
       "2021.5                 0\n",
       "dtype: int64"
      ]
     },
     "execution_count": 53,
     "metadata": {},
     "output_type": "execute_result"
    }
   ],
   "source": [
    "Data3.isna().sum()"
   ]
  },
  {
   "cell_type": "code",
   "execution_count": 54,
   "id": "e2f1257e",
   "metadata": {},
   "outputs": [
    {
     "data": {
      "text/html": [
       "<div>\n",
       "<style scoped>\n",
       "    .dataframe tbody tr th:only-of-type {\n",
       "        vertical-align: middle;\n",
       "    }\n",
       "\n",
       "    .dataframe tbody tr th {\n",
       "        vertical-align: top;\n",
       "    }\n",
       "\n",
       "    .dataframe thead th {\n",
       "        text-align: right;\n",
       "    }\n",
       "</style>\n",
       "<table border=\"1\" class=\"dataframe\">\n",
       "  <thead>\n",
       "    <tr style=\"text-align: right;\">\n",
       "      <th></th>\n",
       "      <th>Year</th>\n",
       "      <th>Upper</th>\n",
       "      <th>Median</th>\n",
       "      <th>Lower</th>\n",
       "    </tr>\n",
       "  </thead>\n",
       "  <tbody>\n",
       "    <tr>\n",
       "      <th>0</th>\n",
       "      <td>1990.5</td>\n",
       "      <td>91.7144</td>\n",
       "      <td>93.0265</td>\n",
       "      <td>94.5270</td>\n",
       "    </tr>\n",
       "    <tr>\n",
       "      <th>1</th>\n",
       "      <td>1991.5</td>\n",
       "      <td>90.8735</td>\n",
       "      <td>92.0843</td>\n",
       "      <td>93.4727</td>\n",
       "    </tr>\n",
       "    <tr>\n",
       "      <th>2</th>\n",
       "      <td>1992.5</td>\n",
       "      <td>90.3102</td>\n",
       "      <td>91.4601</td>\n",
       "      <td>92.7870</td>\n",
       "    </tr>\n",
       "    <tr>\n",
       "      <th>3</th>\n",
       "      <td>1993.5</td>\n",
       "      <td>89.1827</td>\n",
       "      <td>90.3089</td>\n",
       "      <td>91.6037</td>\n",
       "    </tr>\n",
       "    <tr>\n",
       "      <th>4</th>\n",
       "      <td>1994.5</td>\n",
       "      <td>88.1390</td>\n",
       "      <td>89.2436</td>\n",
       "      <td>90.5175</td>\n",
       "    </tr>\n",
       "  </tbody>\n",
       "</table>\n",
       "</div>"
      ],
      "text/plain": [
       "     Year    Upper   Median    Lower\n",
       "0  1990.5  91.7144  93.0265  94.5270\n",
       "1  1991.5  90.8735  92.0843  93.4727\n",
       "2  1992.5  90.3102  91.4601  92.7870\n",
       "3  1993.5  89.1827  90.3089  91.6037\n",
       "4  1994.5  88.1390  89.2436  90.5175"
      ]
     },
     "execution_count": 54,
     "metadata": {},
     "output_type": "execute_result"
    }
   ],
   "source": [
    "Data.head()"
   ]
  },
  {
   "cell_type": "code",
   "execution_count": 55,
   "id": "2e679bfc",
   "metadata": {},
   "outputs": [
    {
     "data": {
      "text/html": [
       "<div>\n",
       "<style scoped>\n",
       "    .dataframe tbody tr th:only-of-type {\n",
       "        vertical-align: middle;\n",
       "    }\n",
       "\n",
       "    .dataframe tbody tr th {\n",
       "        vertical-align: top;\n",
       "    }\n",
       "\n",
       "    .dataframe thead th {\n",
       "        text-align: right;\n",
       "    }\n",
       "</style>\n",
       "<table border=\"1\" class=\"dataframe\">\n",
       "  <thead>\n",
       "    <tr style=\"text-align: right;\">\n",
       "      <th></th>\n",
       "      <th>ISO.Code</th>\n",
       "      <th>Country.Name</th>\n",
       "      <th>Uncertainty.Bounds*</th>\n",
       "      <th>1990.5</th>\n",
       "      <th>1991.5</th>\n",
       "      <th>1992.5</th>\n",
       "      <th>1993.5</th>\n",
       "      <th>1994.5</th>\n",
       "      <th>1995.5</th>\n",
       "      <th>1996.5</th>\n",
       "      <th>...</th>\n",
       "      <th>2012.5</th>\n",
       "      <th>2013.5</th>\n",
       "      <th>2014.5</th>\n",
       "      <th>2015.5</th>\n",
       "      <th>2016.5</th>\n",
       "      <th>2017.5</th>\n",
       "      <th>2018.5</th>\n",
       "      <th>2019.5</th>\n",
       "      <th>2020.5</th>\n",
       "      <th>2021.5</th>\n",
       "    </tr>\n",
       "  </thead>\n",
       "  <tbody>\n",
       "    <tr>\n",
       "      <th>0</th>\n",
       "      <td>AFG</td>\n",
       "      <td>Afghanistan</td>\n",
       "      <td>Lower</td>\n",
       "      <td>88440</td>\n",
       "      <td>86209</td>\n",
       "      <td>84486</td>\n",
       "      <td>89585</td>\n",
       "      <td>98115</td>\n",
       "      <td>104568</td>\n",
       "      <td>108816</td>\n",
       "      <td>...</td>\n",
       "      <td>83913</td>\n",
       "      <td>81903</td>\n",
       "      <td>78985</td>\n",
       "      <td>76421</td>\n",
       "      <td>73260</td>\n",
       "      <td>69532</td>\n",
       "      <td>66235</td>\n",
       "      <td>63044</td>\n",
       "      <td>60064</td>\n",
       "      <td>57191</td>\n",
       "    </tr>\n",
       "    <tr>\n",
       "      <th>1</th>\n",
       "      <td>AFG</td>\n",
       "      <td>Afghanistan</td>\n",
       "      <td>Median</td>\n",
       "      <td>96478</td>\n",
       "      <td>93896</td>\n",
       "      <td>91784</td>\n",
       "      <td>97116</td>\n",
       "      <td>106230</td>\n",
       "      <td>113041</td>\n",
       "      <td>117417</td>\n",
       "      <td>...</td>\n",
       "      <td>93295</td>\n",
       "      <td>92148</td>\n",
       "      <td>90252</td>\n",
       "      <td>88672</td>\n",
       "      <td>86617</td>\n",
       "      <td>84127</td>\n",
       "      <td>82306</td>\n",
       "      <td>80677</td>\n",
       "      <td>79117</td>\n",
       "      <td>77811</td>\n",
       "    </tr>\n",
       "    <tr>\n",
       "      <th>2</th>\n",
       "      <td>AFG</td>\n",
       "      <td>Afghanistan</td>\n",
       "      <td>Upper</td>\n",
       "      <td>105107</td>\n",
       "      <td>102017</td>\n",
       "      <td>99493</td>\n",
       "      <td>105049</td>\n",
       "      <td>114686</td>\n",
       "      <td>121795</td>\n",
       "      <td>126438</td>\n",
       "      <td>...</td>\n",
       "      <td>103247</td>\n",
       "      <td>102858</td>\n",
       "      <td>101956</td>\n",
       "      <td>101655</td>\n",
       "      <td>100917</td>\n",
       "      <td>99672</td>\n",
       "      <td>99727</td>\n",
       "      <td>100559</td>\n",
       "      <td>101643</td>\n",
       "      <td>103663</td>\n",
       "    </tr>\n",
       "    <tr>\n",
       "      <th>3</th>\n",
       "      <td>ALB</td>\n",
       "      <td>Albania</td>\n",
       "      <td>Lower</td>\n",
       "      <td>2956</td>\n",
       "      <td>2786</td>\n",
       "      <td>2626</td>\n",
       "      <td>2468</td>\n",
       "      <td>2334</td>\n",
       "      <td>2210</td>\n",
       "      <td>2065</td>\n",
       "      <td>...</td>\n",
       "      <td>381</td>\n",
       "      <td>358</td>\n",
       "      <td>337</td>\n",
       "      <td>318</td>\n",
       "      <td>302</td>\n",
       "      <td>289</td>\n",
       "      <td>279</td>\n",
       "      <td>271</td>\n",
       "      <td>264</td>\n",
       "      <td>257</td>\n",
       "    </tr>\n",
       "    <tr>\n",
       "      <th>4</th>\n",
       "      <td>ALB</td>\n",
       "      <td>Albania</td>\n",
       "      <td>Median</td>\n",
       "      <td>3322</td>\n",
       "      <td>3128</td>\n",
       "      <td>2939</td>\n",
       "      <td>2764</td>\n",
       "      <td>2613</td>\n",
       "      <td>2477</td>\n",
       "      <td>2310</td>\n",
       "      <td>...</td>\n",
       "      <td>395</td>\n",
       "      <td>371</td>\n",
       "      <td>350</td>\n",
       "      <td>331</td>\n",
       "      <td>314</td>\n",
       "      <td>301</td>\n",
       "      <td>291</td>\n",
       "      <td>284</td>\n",
       "      <td>281</td>\n",
       "      <td>279</td>\n",
       "    </tr>\n",
       "  </tbody>\n",
       "</table>\n",
       "<p>5 rows × 35 columns</p>\n",
       "</div>"
      ],
      "text/plain": [
       "  ISO.Code Country.Name Uncertainty.Bounds*  1990.5  1991.5  1992.5  1993.5  \\\n",
       "0      AFG  Afghanistan               Lower   88440   86209   84486   89585   \n",
       "1      AFG  Afghanistan              Median   96478   93896   91784   97116   \n",
       "2      AFG  Afghanistan               Upper  105107  102017   99493  105049   \n",
       "3      ALB      Albania               Lower    2956    2786    2626    2468   \n",
       "4      ALB      Albania              Median    3322    3128    2939    2764   \n",
       "\n",
       "   1994.5  1995.5  1996.5  ...  2012.5  2013.5  2014.5  2015.5  2016.5  \\\n",
       "0   98115  104568  108816  ...   83913   81903   78985   76421   73260   \n",
       "1  106230  113041  117417  ...   93295   92148   90252   88672   86617   \n",
       "2  114686  121795  126438  ...  103247  102858  101956  101655  100917   \n",
       "3    2334    2210    2065  ...     381     358     337     318     302   \n",
       "4    2613    2477    2310  ...     395     371     350     331     314   \n",
       "\n",
       "   2017.5  2018.5  2019.5  2020.5  2021.5  \n",
       "0   69532   66235   63044   60064   57191  \n",
       "1   84127   82306   80677   79117   77811  \n",
       "2   99672   99727  100559  101643  103663  \n",
       "3     289     279     271     264     257  \n",
       "4     301     291     284     281     279  \n",
       "\n",
       "[5 rows x 35 columns]"
      ]
     },
     "execution_count": 55,
     "metadata": {},
     "output_type": "execute_result"
    }
   ],
   "source": [
    "Data1.head()"
   ]
  },
  {
   "cell_type": "code",
   "execution_count": 56,
   "id": "e62f705e",
   "metadata": {},
   "outputs": [
    {
     "data": {
      "text/html": [
       "<div>\n",
       "<style scoped>\n",
       "    .dataframe tbody tr th:only-of-type {\n",
       "        vertical-align: middle;\n",
       "    }\n",
       "\n",
       "    .dataframe tbody tr th {\n",
       "        vertical-align: top;\n",
       "    }\n",
       "\n",
       "    .dataframe thead th {\n",
       "        text-align: right;\n",
       "    }\n",
       "</style>\n",
       "<table border=\"1\" class=\"dataframe\">\n",
       "  <thead>\n",
       "    <tr style=\"text-align: right;\">\n",
       "      <th></th>\n",
       "      <th>Region.Name</th>\n",
       "      <th>Uncertainty.Bounds*</th>\n",
       "      <th>1990.5</th>\n",
       "      <th>1991.5</th>\n",
       "      <th>1992.5</th>\n",
       "      <th>1993.5</th>\n",
       "      <th>1994.5</th>\n",
       "      <th>1995.5</th>\n",
       "      <th>1996.5</th>\n",
       "      <th>1997.5</th>\n",
       "      <th>...</th>\n",
       "      <th>2012.5</th>\n",
       "      <th>2013.5</th>\n",
       "      <th>2014.5</th>\n",
       "      <th>2015.5</th>\n",
       "      <th>2016.5</th>\n",
       "      <th>2017.5</th>\n",
       "      <th>2018.5</th>\n",
       "      <th>2019.5</th>\n",
       "      <th>2020.5</th>\n",
       "      <th>2021.5</th>\n",
       "    </tr>\n",
       "  </thead>\n",
       "  <tbody>\n",
       "    <tr>\n",
       "      <th>0</th>\n",
       "      <td>Landlocked developing countries</td>\n",
       "      <td>Lower</td>\n",
       "      <td>163.3713</td>\n",
       "      <td>161.2143</td>\n",
       "      <td>159.1952</td>\n",
       "      <td>157.7577</td>\n",
       "      <td>158.9254</td>\n",
       "      <td>151.7868</td>\n",
       "      <td>148.5652</td>\n",
       "      <td>145.5601</td>\n",
       "      <td>...</td>\n",
       "      <td>73.6854</td>\n",
       "      <td>70.2756</td>\n",
       "      <td>67.3123</td>\n",
       "      <td>64.6551</td>\n",
       "      <td>62.0669</td>\n",
       "      <td>59.8847</td>\n",
       "      <td>57.7294</td>\n",
       "      <td>55.6866</td>\n",
       "      <td>53.7230</td>\n",
       "      <td>51.9269</td>\n",
       "    </tr>\n",
       "    <tr>\n",
       "      <th>1</th>\n",
       "      <td>Landlocked developing countries</td>\n",
       "      <td>Median</td>\n",
       "      <td>167.0614</td>\n",
       "      <td>164.8220</td>\n",
       "      <td>162.7679</td>\n",
       "      <td>161.2435</td>\n",
       "      <td>162.3344</td>\n",
       "      <td>155.0526</td>\n",
       "      <td>151.7127</td>\n",
       "      <td>148.6099</td>\n",
       "      <td>...</td>\n",
       "      <td>76.0458</td>\n",
       "      <td>72.7483</td>\n",
       "      <td>69.8582</td>\n",
       "      <td>67.3011</td>\n",
       "      <td>64.8649</td>\n",
       "      <td>62.8573</td>\n",
       "      <td>60.8472</td>\n",
       "      <td>58.9498</td>\n",
       "      <td>57.2073</td>\n",
       "      <td>55.7039</td>\n",
       "    </tr>\n",
       "    <tr>\n",
       "      <th>2</th>\n",
       "      <td>Landlocked developing countries</td>\n",
       "      <td>Upper</td>\n",
       "      <td>171.3171</td>\n",
       "      <td>168.9795</td>\n",
       "      <td>166.8137</td>\n",
       "      <td>165.2119</td>\n",
       "      <td>166.2859</td>\n",
       "      <td>158.8606</td>\n",
       "      <td>155.4367</td>\n",
       "      <td>152.2397</td>\n",
       "      <td>...</td>\n",
       "      <td>78.9169</td>\n",
       "      <td>75.8096</td>\n",
       "      <td>73.1646</td>\n",
       "      <td>70.9245</td>\n",
       "      <td>68.8901</td>\n",
       "      <td>67.3241</td>\n",
       "      <td>65.7727</td>\n",
       "      <td>64.4323</td>\n",
       "      <td>63.3522</td>\n",
       "      <td>62.7155</td>\n",
       "    </tr>\n",
       "    <tr>\n",
       "      <th>3</th>\n",
       "      <td>Small island developing States</td>\n",
       "      <td>Lower</td>\n",
       "      <td>74.3699</td>\n",
       "      <td>72.7835</td>\n",
       "      <td>71.2819</td>\n",
       "      <td>69.6668</td>\n",
       "      <td>68.1071</td>\n",
       "      <td>66.2466</td>\n",
       "      <td>64.8556</td>\n",
       "      <td>62.8243</td>\n",
       "      <td>...</td>\n",
       "      <td>43.1730</td>\n",
       "      <td>42.0991</td>\n",
       "      <td>40.9823</td>\n",
       "      <td>39.7135</td>\n",
       "      <td>38.8206</td>\n",
       "      <td>37.6627</td>\n",
       "      <td>36.3739</td>\n",
       "      <td>35.1505</td>\n",
       "      <td>33.7899</td>\n",
       "      <td>32.5386</td>\n",
       "    </tr>\n",
       "    <tr>\n",
       "      <th>4</th>\n",
       "      <td>Small island developing States</td>\n",
       "      <td>Median</td>\n",
       "      <td>76.8461</td>\n",
       "      <td>75.1958</td>\n",
       "      <td>73.6773</td>\n",
       "      <td>72.0216</td>\n",
       "      <td>70.4050</td>\n",
       "      <td>68.5043</td>\n",
       "      <td>67.1235</td>\n",
       "      <td>65.0596</td>\n",
       "      <td>...</td>\n",
       "      <td>46.0231</td>\n",
       "      <td>45.1305</td>\n",
       "      <td>44.1586</td>\n",
       "      <td>43.1290</td>\n",
       "      <td>42.5455</td>\n",
       "      <td>41.7740</td>\n",
       "      <td>40.7229</td>\n",
       "      <td>39.8651</td>\n",
       "      <td>38.8759</td>\n",
       "      <td>37.8665</td>\n",
       "    </tr>\n",
       "  </tbody>\n",
       "</table>\n",
       "<p>5 rows × 34 columns</p>\n",
       "</div>"
      ],
      "text/plain": [
       "                       Region.Name Uncertainty.Bounds*    1990.5    1991.5  \\\n",
       "0  Landlocked developing countries               Lower  163.3713  161.2143   \n",
       "1  Landlocked developing countries              Median  167.0614  164.8220   \n",
       "2  Landlocked developing countries               Upper  171.3171  168.9795   \n",
       "3   Small island developing States               Lower   74.3699   72.7835   \n",
       "4   Small island developing States              Median   76.8461   75.1958   \n",
       "\n",
       "     1992.5    1993.5    1994.5    1995.5    1996.5    1997.5  ...   2012.5  \\\n",
       "0  159.1952  157.7577  158.9254  151.7868  148.5652  145.5601  ...  73.6854   \n",
       "1  162.7679  161.2435  162.3344  155.0526  151.7127  148.6099  ...  76.0458   \n",
       "2  166.8137  165.2119  166.2859  158.8606  155.4367  152.2397  ...  78.9169   \n",
       "3   71.2819   69.6668   68.1071   66.2466   64.8556   62.8243  ...  43.1730   \n",
       "4   73.6773   72.0216   70.4050   68.5043   67.1235   65.0596  ...  46.0231   \n",
       "\n",
       "    2013.5   2014.5   2015.5   2016.5   2017.5   2018.5   2019.5   2020.5  \\\n",
       "0  70.2756  67.3123  64.6551  62.0669  59.8847  57.7294  55.6866  53.7230   \n",
       "1  72.7483  69.8582  67.3011  64.8649  62.8573  60.8472  58.9498  57.2073   \n",
       "2  75.8096  73.1646  70.9245  68.8901  67.3241  65.7727  64.4323  63.3522   \n",
       "3  42.0991  40.9823  39.7135  38.8206  37.6627  36.3739  35.1505  33.7899   \n",
       "4  45.1305  44.1586  43.1290  42.5455  41.7740  40.7229  39.8651  38.8759   \n",
       "\n",
       "    2021.5  \n",
       "0  51.9269  \n",
       "1  55.7039  \n",
       "2  62.7155  \n",
       "3  32.5386  \n",
       "4  37.8665  \n",
       "\n",
       "[5 rows x 34 columns]"
      ]
     },
     "execution_count": 56,
     "metadata": {},
     "output_type": "execute_result"
    }
   ],
   "source": [
    "Data2.head()"
   ]
  },
  {
   "cell_type": "code",
   "execution_count": 57,
   "id": "5eb03a1f",
   "metadata": {},
   "outputs": [
    {
     "data": {
      "text/html": [
       "<div>\n",
       "<style scoped>\n",
       "    .dataframe tbody tr th:only-of-type {\n",
       "        vertical-align: middle;\n",
       "    }\n",
       "\n",
       "    .dataframe tbody tr th {\n",
       "        vertical-align: top;\n",
       "    }\n",
       "\n",
       "    .dataframe thead th {\n",
       "        text-align: right;\n",
       "    }\n",
       "</style>\n",
       "<table border=\"1\" class=\"dataframe\">\n",
       "  <thead>\n",
       "    <tr style=\"text-align: right;\">\n",
       "      <th></th>\n",
       "      <th>ISO.Code</th>\n",
       "      <th>Country.Name</th>\n",
       "      <th>1985.5</th>\n",
       "      <th>1986.5</th>\n",
       "      <th>1987.5</th>\n",
       "      <th>1988.5</th>\n",
       "      <th>1989.5</th>\n",
       "      <th>1990.5</th>\n",
       "      <th>1991.5</th>\n",
       "      <th>1992.5</th>\n",
       "      <th>...</th>\n",
       "      <th>2012.5</th>\n",
       "      <th>2013.5</th>\n",
       "      <th>2014.5</th>\n",
       "      <th>2015.5</th>\n",
       "      <th>2016.5</th>\n",
       "      <th>2017.5</th>\n",
       "      <th>2018.5</th>\n",
       "      <th>2019.5</th>\n",
       "      <th>2020.5</th>\n",
       "      <th>2021.5</th>\n",
       "    </tr>\n",
       "  </thead>\n",
       "  <tbody>\n",
       "    <tr>\n",
       "      <th>0</th>\n",
       "      <td>AFG</td>\n",
       "      <td>Afghanistan</td>\n",
       "      <td>211.0975</td>\n",
       "      <td>204.5622</td>\n",
       "      <td>197.9429</td>\n",
       "      <td>191.3952</td>\n",
       "      <td>184.8613</td>\n",
       "      <td>178.4510</td>\n",
       "      <td>172.2279</td>\n",
       "      <td>166.3461</td>\n",
       "      <td>...</td>\n",
       "      <td>80.2697</td>\n",
       "      <td>76.7712</td>\n",
       "      <td>73.3774</td>\n",
       "      <td>70.1723</td>\n",
       "      <td>67.2483</td>\n",
       "      <td>64.5819</td>\n",
       "      <td>62.1718</td>\n",
       "      <td>59.9173</td>\n",
       "      <td>57.7978</td>\n",
       "      <td>55.6575</td>\n",
       "    </tr>\n",
       "    <tr>\n",
       "      <th>1</th>\n",
       "      <td>ALB</td>\n",
       "      <td>Albania</td>\n",
       "      <td>54.7511</td>\n",
       "      <td>51.0898</td>\n",
       "      <td>47.9032</td>\n",
       "      <td>45.1557</td>\n",
       "      <td>42.7981</td>\n",
       "      <td>40.8317</td>\n",
       "      <td>39.1433</td>\n",
       "      <td>37.6286</td>\n",
       "      <td>...</td>\n",
       "      <td>11.2140</td>\n",
       "      <td>10.4634</td>\n",
       "      <td>9.9216</td>\n",
       "      <td>9.5771</td>\n",
       "      <td>9.3997</td>\n",
       "      <td>9.3367</td>\n",
       "      <td>9.3439</td>\n",
       "      <td>9.3881</td>\n",
       "      <td>9.4361</td>\n",
       "      <td>9.4559</td>\n",
       "    </tr>\n",
       "    <tr>\n",
       "      <th>2</th>\n",
       "      <td>DZA</td>\n",
       "      <td>Algeria</td>\n",
       "      <td>74.6976</td>\n",
       "      <td>65.2901</td>\n",
       "      <td>59.0642</td>\n",
       "      <td>55.2652</td>\n",
       "      <td>53.0743</td>\n",
       "      <td>51.8901</td>\n",
       "      <td>51.2663</td>\n",
       "      <td>50.7505</td>\n",
       "      <td>...</td>\n",
       "      <td>26.4942</td>\n",
       "      <td>26.0503</td>\n",
       "      <td>25.6681</td>\n",
       "      <td>25.3046</td>\n",
       "      <td>24.9241</td>\n",
       "      <td>24.4831</td>\n",
       "      <td>23.9794</td>\n",
       "      <td>23.4515</td>\n",
       "      <td>22.8973</td>\n",
       "      <td>22.3353</td>\n",
       "    </tr>\n",
       "    <tr>\n",
       "      <th>3</th>\n",
       "      <td>AND</td>\n",
       "      <td>Andorra</td>\n",
       "      <td>17.4710</td>\n",
       "      <td>16.4658</td>\n",
       "      <td>15.5682</td>\n",
       "      <td>14.7067</td>\n",
       "      <td>13.8557</td>\n",
       "      <td>13.1167</td>\n",
       "      <td>12.3887</td>\n",
       "      <td>11.7152</td>\n",
       "      <td>...</td>\n",
       "      <td>4.1337</td>\n",
       "      <td>3.9225</td>\n",
       "      <td>3.7267</td>\n",
       "      <td>3.5254</td>\n",
       "      <td>3.3509</td>\n",
       "      <td>3.1954</td>\n",
       "      <td>3.0591</td>\n",
       "      <td>2.9504</td>\n",
       "      <td>2.8483</td>\n",
       "      <td>2.7564</td>\n",
       "    </tr>\n",
       "    <tr>\n",
       "      <th>4</th>\n",
       "      <td>AGO</td>\n",
       "      <td>Angola</td>\n",
       "      <td>226.6265</td>\n",
       "      <td>225.4729</td>\n",
       "      <td>224.7202</td>\n",
       "      <td>223.9889</td>\n",
       "      <td>223.7152</td>\n",
       "      <td>223.5046</td>\n",
       "      <td>223.4958</td>\n",
       "      <td>223.5959</td>\n",
       "      <td>...</td>\n",
       "      <td>104.8753</td>\n",
       "      <td>98.3058</td>\n",
       "      <td>92.9119</td>\n",
       "      <td>88.3390</td>\n",
       "      <td>84.4489</td>\n",
       "      <td>81.0795</td>\n",
       "      <td>77.9684</td>\n",
       "      <td>75.0384</td>\n",
       "      <td>72.0743</td>\n",
       "      <td>69.4213</td>\n",
       "    </tr>\n",
       "  </tbody>\n",
       "</table>\n",
       "<p>5 rows × 39 columns</p>\n",
       "</div>"
      ],
      "text/plain": [
       "  ISO.Code Country.Name    1985.5    1986.5    1987.5    1988.5    1989.5  \\\n",
       "0      AFG  Afghanistan  211.0975  204.5622  197.9429  191.3952  184.8613   \n",
       "1      ALB      Albania   54.7511   51.0898   47.9032   45.1557   42.7981   \n",
       "2      DZA      Algeria   74.6976   65.2901   59.0642   55.2652   53.0743   \n",
       "3      AND      Andorra   17.4710   16.4658   15.5682   14.7067   13.8557   \n",
       "4      AGO       Angola  226.6265  225.4729  224.7202  223.9889  223.7152   \n",
       "\n",
       "     1990.5    1991.5    1992.5  ...    2012.5   2013.5   2014.5   2015.5  \\\n",
       "0  178.4510  172.2279  166.3461  ...   80.2697  76.7712  73.3774  70.1723   \n",
       "1   40.8317   39.1433   37.6286  ...   11.2140  10.4634   9.9216   9.5771   \n",
       "2   51.8901   51.2663   50.7505  ...   26.4942  26.0503  25.6681  25.3046   \n",
       "3   13.1167   12.3887   11.7152  ...    4.1337   3.9225   3.7267   3.5254   \n",
       "4  223.5046  223.4958  223.5959  ...  104.8753  98.3058  92.9119  88.3390   \n",
       "\n",
       "    2016.5   2017.5   2018.5   2019.5   2020.5   2021.5  \n",
       "0  67.2483  64.5819  62.1718  59.9173  57.7978  55.6575  \n",
       "1   9.3997   9.3367   9.3439   9.3881   9.4361   9.4559  \n",
       "2  24.9241  24.4831  23.9794  23.4515  22.8973  22.3353  \n",
       "3   3.3509   3.1954   3.0591   2.9504   2.8483   2.7564  \n",
       "4  84.4489  81.0795  77.9684  75.0384  72.0743  69.4213  \n",
       "\n",
       "[5 rows x 39 columns]"
      ]
     },
     "execution_count": 57,
     "metadata": {},
     "output_type": "execute_result"
    }
   ],
   "source": [
    "Data3.head()"
   ]
  },
  {
   "cell_type": "code",
   "execution_count": 6,
   "id": "ea7fbc03",
   "metadata": {},
   "outputs": [],
   "source": [
    "# Include all rows from data,data1 and data2\n",
    "subset_data = Data.copy()\n",
    "subset_data1 = Data1.copy()\n",
    "subset_data2 =Data2.copy()\n",
    "subset_data3 =Data3.copy()"
   ]
  },
  {
   "cell_type": "code",
   "execution_count": 7,
   "id": "6ed329fd",
   "metadata": {},
   "outputs": [
    {
     "name": "stdout",
     "output_type": "stream",
     "text": [
      "      Year    Upper   Median    Lower\n",
      "0   1990.5  91.7144  93.0265  94.5270\n",
      "1   1991.5  90.8735  92.0843  93.4727\n",
      "2   1992.5  90.3102  91.4601  92.7870\n",
      "3   1993.5  89.1827  90.3089  91.6037\n",
      "4   1994.5  88.1390  89.2436  90.5175\n",
      "5   1995.5  86.1959  87.2732  88.5558\n",
      "6   1996.5  84.4455  85.5041  86.7730\n",
      "7   1997.5  82.5001  83.5399  84.7788\n",
      "8   1998.5  80.3815  81.3939  82.6101\n",
      "9   1999.5  78.0198  79.0101  80.2255\n",
      "10  2020.5  75.3526  76.3367  77.5217\n",
      "11  2001.5  72.7893  73.7579  74.9195\n",
      "12  2002.5  70.2494  71.2101  72.3582\n",
      "13  2003.5  67.5722  68.5216  69.6397\n",
      "14  2004.5  65.0976  66.0270  67.1414\n",
      "15  2005.5  62.2054  63.1198  64.2363\n",
      "16  2006.5  59.6367  60.5399  61.6461\n",
      "17  2007.5  57.0988  57.9892  59.1185\n",
      "18  2008.5  54.8247  55.7247  56.8808\n",
      "19  2009.5  52.3905  53.3111  54.4937\n",
      "20  2010.5  50.4736  51.4230  52.6508\n",
      "21  2011.5  48.5362  49.5331  50.8103\n",
      "22  2012.5  46.5573  47.5866  48.9430\n",
      "23  2013.5  44.9394  46.0193  47.5071\n",
      "24  2014.5  43.3104  44.4400  46.1260\n",
      "25  2015.5  41.9826  43.2034  45.0895\n",
      "26  2016.5  40.5803  41.8945  44.0015\n",
      "27  2017.5  39.2328  40.6186  43.0275\n",
      "28  2018.5  38.5023  39.9989  42.7428\n",
      "29  2019.5  37.6593  39.2916  42.4574\n",
      "30  2020.5  36.9350  38.7345  42.3704\n",
      "31  2021.5  36.1257  38.0924  42.2409\n",
      "    ISO.Code Country.Name Uncertainty.Bounds*  1990.5  1991.5  1992.5  1993.5  \\\n",
      "0        AFG  Afghanistan               Lower   88440   86209   84486   89585   \n",
      "1        AFG  Afghanistan              Median   96478   93896   91784   97116   \n",
      "2        AFG  Afghanistan               Upper  105107  102017   99493  105049   \n",
      "3        ALB      Albania               Lower    2956    2786    2626    2468   \n",
      "4        ALB      Albania              Median    3322    3128    2939    2764   \n",
      "..       ...          ...                 ...     ...     ...     ...     ...   \n",
      "595      ZMB       Zambia              Median   63355   65052   66490   67455   \n",
      "596      ZMB       Zambia               Upper   67515   69330   70893   71818   \n",
      "597      ZWE     Zimbabwe               Lower   25564   26983   28651   30195   \n",
      "598      ZWE     Zimbabwe              Median   28055   29551   31223   32778   \n",
      "599      ZWE     Zimbabwe               Upper   30620   32264   33990   35570   \n",
      "\n",
      "     1994.5  1995.5  1996.5  ...  2012.5  2013.5  2014.5  2015.5  2016.5  \\\n",
      "0     98115  104568  108816  ...   83913   81903   78985   76421   73260   \n",
      "1    106230  113041  117417  ...   93295   92148   90252   88672   86617   \n",
      "2    114686  121795  126438  ...  103247  102858  101956  101655  100917   \n",
      "3      2334    2210    2065  ...     381     358     337     318     302   \n",
      "4      2613    2477    2310  ...     395     371     350     331     314   \n",
      "..      ...     ...     ...  ...     ...     ...     ...     ...     ...   \n",
      "595   67934   68219   68472  ...   43064   42230   41303   41052   39840   \n",
      "596   72251   72676   72941  ...   47257   46614   45985   46346   45955   \n",
      "597   31460   32490   33447  ...   31116   28696   27022   25586   23779   \n",
      "598   34118   35289   36313  ...   34323   31928   30323   29164   27784   \n",
      "599   37038   38327   39506  ...   37805   35523   34081   33335   32421   \n",
      "\n",
      "     2017.5  2018.5  2019.5  2020.5  2021.5  \n",
      "0     69532   66235   63044   60064   57191  \n",
      "1     84127   82306   80677   79117   77811  \n",
      "2     99672   99727  100559  101643  103663  \n",
      "3       289     279     271     264     257  \n",
      "4       301     291     284     281     279  \n",
      "..      ...     ...     ...     ...     ...  \n",
      "595   39666   40269   39801   38513   37822  \n",
      "596   47134   49599   51032   51531   52773  \n",
      "597   22282   20474   19273   18099   16531  \n",
      "598   26931   25764   25332   24956   23960  \n",
      "599   32363   32325   33377   34534   34779  \n",
      "\n",
      "[600 rows x 35 columns]\n",
      "                        Region.Name Uncertainty.Bounds*    1990.5    1991.5  \\\n",
      "0   Landlocked developing countries               Lower  163.3713  161.2143   \n",
      "1   Landlocked developing countries              Median  167.0614  164.8220   \n",
      "2   Landlocked developing countries               Upper  171.3171  168.9795   \n",
      "3    Small island developing States               Lower   74.3699   72.7835   \n",
      "4    Small island developing States              Median   76.8461   75.1958   \n",
      "..                              ...                 ...       ...       ...   \n",
      "85  Eastern Europe and Central Asia              Median   46.7874   46.6131   \n",
      "86  Eastern Europe and Central Asia               Upper   48.3507   48.1991   \n",
      "87                   Western Europe               Lower   10.3872    9.9675   \n",
      "88                   Western Europe              Median   10.4497   10.0275   \n",
      "89                   Western Europe               Upper   10.5182   10.0927   \n",
      "\n",
      "      1992.5    1993.5    1994.5    1995.5    1996.5    1997.5  ...   2012.5  \\\n",
      "0   159.1952  157.7577  158.9254  151.7868  148.5652  145.5601  ...  73.6854   \n",
      "1   162.7679  161.2435  162.3344  155.0526  151.7127  148.6099  ...  76.0458   \n",
      "2   166.8137  165.2119  166.2859  158.8606  155.4367  152.2397  ...  78.9169   \n",
      "3    71.2819   69.6668   68.1071   66.2466   64.8556   62.8243  ...  43.1730   \n",
      "4    73.6773   72.0216   70.4050   68.5043   67.1235   65.0596  ...  46.0231   \n",
      "..       ...       ...       ...       ...       ...       ...  ...      ...   \n",
      "85   46.7367   46.6986   46.0030   45.0676   43.6428   41.9332  ...  16.0460   \n",
      "86   48.3551   48.3189   47.6159   46.6620   45.2420   43.5137  ...  16.7007   \n",
      "87    9.4649    8.9465    8.4369    7.9023    7.4355    7.0262  ...   4.1914   \n",
      "88    9.5245    9.0014    8.4912    7.9539    7.4825    7.0712  ...   4.2196   \n",
      "89    9.5866    9.0576    8.5474    8.0097    7.5319    7.1164  ...   4.2475   \n",
      "\n",
      "     2013.5   2014.5   2015.5   2016.5   2017.5   2018.5   2019.5   2020.5  \\\n",
      "0   70.2756  67.3123  64.6551  62.0669  59.8847  57.7294  55.6866  53.7230   \n",
      "1   72.7483  69.8582  67.3011  64.8649  62.8573  60.8472  58.9498  57.2073   \n",
      "2   75.8096  73.1646  70.9245  68.8901  67.3241  65.7727  64.4323  63.3522   \n",
      "3   42.0991  40.9823  39.7135  38.8206  37.6627  36.3739  35.1505  33.7899   \n",
      "4   45.1305  44.1586  43.1290  42.5455  41.7740  40.7229  39.8651  38.8759   \n",
      "..      ...      ...      ...      ...      ...      ...      ...      ...   \n",
      "85  15.2584  14.4733  13.7038  12.9826  12.4537  12.0170  11.6575  11.2392   \n",
      "86  15.8528  15.0455  14.3080  13.6515  13.2300  12.9394  12.7335  12.4478   \n",
      "87   4.1062   4.0448   3.9975   3.9571   3.9144   3.8607   3.7935   3.7101   \n",
      "88   4.1335   4.0716   4.0230   3.9829   3.9408   3.8878   3.8253   3.7559   \n",
      "89   4.1609   4.0988   4.0504   4.0113   3.9697   3.9174   3.8596   3.8046   \n",
      "\n",
      "     2021.5  \n",
      "0   51.9269  \n",
      "1   55.7039  \n",
      "2   62.7155  \n",
      "3   32.5386  \n",
      "4   37.8665  \n",
      "..      ...  \n",
      "85  10.8223  \n",
      "86  12.2089  \n",
      "87   3.6129  \n",
      "88   3.6824  \n",
      "89   3.7596  \n",
      "\n",
      "[90 rows x 34 columns]\n",
      "    ISO.Code                        Country.Name    1985.5    1986.5  \\\n",
      "0        AFG                         Afghanistan  211.0975  204.5622   \n",
      "1        ALB                             Albania   54.7511   51.0898   \n",
      "2        DZA                             Algeria   74.6976   65.2901   \n",
      "3        AND                             Andorra   17.4710   16.4658   \n",
      "4        AGO                              Angola  226.6265  225.4729   \n",
      "..       ...                                 ...       ...       ...   \n",
      "129      VEN  Venezuela (Bolivarian Republic of)   36.2501   34.9360   \n",
      "130      VNM                            Viet Nam   61.9697   60.3311   \n",
      "131      YEM                               Yemen  154.5297  147.1474   \n",
      "132      ZMB                              Zambia  167.7380  171.9575   \n",
      "133      ZWE                            Zimbabwe   82.9172   78.4785   \n",
      "\n",
      "       1987.5    1988.5    1989.5    1990.5    1991.5    1992.5  ...  \\\n",
      "0    197.9429  191.3952  184.8613  178.4510  172.2279  166.3461  ...   \n",
      "1     47.9032   45.1557   42.7981   40.8317   39.1433   37.6286  ...   \n",
      "2     59.0642   55.2652   53.0743   51.8901   51.2663   50.7505  ...   \n",
      "3     15.5682   14.7067   13.8557   13.1167   12.3887   11.7152  ...   \n",
      "4    224.7202  223.9889  223.7152  223.5046  223.4958  223.5959  ...   \n",
      "..        ...       ...       ...       ...       ...       ...  ...   \n",
      "129   33.6245   32.2637   30.8844   29.6197   28.5913   27.8114  ...   \n",
      "130   58.4775   56.4042   54.1050   51.6744   49.1336   46.5616  ...   \n",
      "131  140.7947  135.3520  130.5996  126.3982  122.7706  119.5892  ...   \n",
      "132  175.7664  178.8577  181.0278  182.2758  182.9471  182.7424  ...   \n",
      "133   75.8726   75.1776   76.5780   79.6011   83.5235   87.5936  ...   \n",
      "\n",
      "       2012.5   2013.5   2014.5   2015.5   2016.5   2017.5   2018.5   2019.5  \\\n",
      "0     80.2697  76.7712  73.3774  70.1723  67.2483  64.5819  62.1718  59.9173   \n",
      "1     11.2140  10.4634   9.9216   9.5771   9.3997   9.3367   9.3439   9.3881   \n",
      "2     26.4942  26.0503  25.6681  25.3046  24.9241  24.4831  23.9794  23.4515   \n",
      "3      4.1337   3.9225   3.7267   3.5254   3.3509   3.1954   3.0591   2.9504   \n",
      "4    104.8753  98.3058  92.9119  88.3390  84.4489  81.0795  77.9684  75.0384   \n",
      "..        ...      ...      ...      ...      ...      ...      ...      ...   \n",
      "129   17.3363  17.6206  18.0026  19.1425  24.2224  24.2296  24.2297  24.2297   \n",
      "130   22.5605  22.3340  22.1078  21.8924  21.6710  21.4593  21.2525  21.0635   \n",
      "131   58.8834  58.4959  58.7953  60.7858  60.4594  60.2612  61.6729  61.5950   \n",
      "132   74.5472  71.9971  69.5131  68.2222  65.3261  64.1508  64.2227  62.5853   \n",
      "133   72.1463  66.2226  62.6086  60.4718  57.8704  56.1751  53.6877  52.6659   \n",
      "\n",
      "      2020.5   2021.5  \n",
      "0    57.7978  55.6575  \n",
      "1     9.4361   9.4559  \n",
      "2    22.8973  22.3353  \n",
      "3     2.8483   2.7564  \n",
      "4    72.0743  69.4213  \n",
      "..       ...      ...  \n",
      "129  24.2297  24.2297  \n",
      "130  20.8524  20.6016  \n",
      "131  59.6857  61.9089  \n",
      "132  59.6699  57.6918  \n",
      "133  51.7696  49.5220  \n",
      "\n",
      "[134 rows x 39 columns]\n"
     ]
    }
   ],
   "source": [
    "# Display the subset of data,data1 and data2\n",
    "print(subset_data)\n",
    "print(subset_data1)\n",
    "print(subset_data2)\n",
    "print(subset_data3)"
   ]
  },
  {
   "cell_type": "code",
   "execution_count": 42,
   "id": "702888c4",
   "metadata": {},
   "outputs": [
    {
     "data": {
      "text/html": [
       "<div>\n",
       "<style scoped>\n",
       "    .dataframe tbody tr th:only-of-type {\n",
       "        vertical-align: middle;\n",
       "    }\n",
       "\n",
       "    .dataframe tbody tr th {\n",
       "        vertical-align: top;\n",
       "    }\n",
       "\n",
       "    .dataframe thead th {\n",
       "        text-align: right;\n",
       "    }\n",
       "</style>\n",
       "<table border=\"1\" class=\"dataframe\">\n",
       "  <thead>\n",
       "    <tr style=\"text-align: right;\">\n",
       "      <th></th>\n",
       "      <th>1990.5</th>\n",
       "      <th>1991.5</th>\n",
       "      <th>1992.5</th>\n",
       "      <th>1993.5</th>\n",
       "      <th>1994.5</th>\n",
       "      <th>1995.5</th>\n",
       "      <th>1996.5</th>\n",
       "      <th>1997.5</th>\n",
       "      <th>1998.5</th>\n",
       "      <th>1999.5</th>\n",
       "      <th>...</th>\n",
       "      <th>2012.5</th>\n",
       "      <th>2013.5</th>\n",
       "      <th>2014.5</th>\n",
       "      <th>2015.5</th>\n",
       "      <th>2016.5</th>\n",
       "      <th>2017.5</th>\n",
       "      <th>2018.5</th>\n",
       "      <th>2019.5</th>\n",
       "      <th>2020.5</th>\n",
       "      <th>2021.5</th>\n",
       "    </tr>\n",
       "  </thead>\n",
       "  <tbody>\n",
       "    <tr>\n",
       "      <th>count</th>\n",
       "      <td>6.000000e+02</td>\n",
       "      <td>6.000000e+02</td>\n",
       "      <td>6.000000e+02</td>\n",
       "      <td>6.000000e+02</td>\n",
       "      <td>6.000000e+02</td>\n",
       "      <td>6.000000e+02</td>\n",
       "      <td>6.000000e+02</td>\n",
       "      <td>6.000000e+02</td>\n",
       "      <td>6.000000e+02</td>\n",
       "      <td>6.000000e+02</td>\n",
       "      <td>...</td>\n",
       "      <td>6.000000e+02</td>\n",
       "      <td>6.000000e+02</td>\n",
       "      <td>6.000000e+02</td>\n",
       "      <td>6.000000e+02</td>\n",
       "      <td>6.000000e+02</td>\n",
       "      <td>6.000000e+02</td>\n",
       "      <td>6.000000e+02</td>\n",
       "      <td>6.000000e+02</td>\n",
       "      <td>6.000000e+02</td>\n",
       "      <td>6.000000e+02</td>\n",
       "    </tr>\n",
       "    <tr>\n",
       "      <th>mean</th>\n",
       "      <td>6.425831e+04</td>\n",
       "      <td>6.282968e+04</td>\n",
       "      <td>6.109349e+04</td>\n",
       "      <td>5.973556e+04</td>\n",
       "      <td>5.864090e+04</td>\n",
       "      <td>5.706085e+04</td>\n",
       "      <td>5.564972e+04</td>\n",
       "      <td>5.416006e+04</td>\n",
       "      <td>5.264470e+04</td>\n",
       "      <td>5.106143e+04</td>\n",
       "      <td>...</td>\n",
       "      <td>3.357855e+04</td>\n",
       "      <td>3.261687e+04</td>\n",
       "      <td>3.162120e+04</td>\n",
       "      <td>3.068017e+04</td>\n",
       "      <td>2.984513e+04</td>\n",
       "      <td>2.900484e+04</td>\n",
       "      <td>2.822333e+04</td>\n",
       "      <td>2.747968e+04</td>\n",
       "      <td>2.675603e+04</td>\n",
       "      <td>2.614482e+04</td>\n",
       "    </tr>\n",
       "    <tr>\n",
       "      <th>std</th>\n",
       "      <td>2.796304e+05</td>\n",
       "      <td>2.717348e+05</td>\n",
       "      <td>2.629378e+05</td>\n",
       "      <td>2.556831e+05</td>\n",
       "      <td>2.488998e+05</td>\n",
       "      <td>2.423663e+05</td>\n",
       "      <td>2.354309e+05</td>\n",
       "      <td>2.281562e+05</td>\n",
       "      <td>2.207851e+05</td>\n",
       "      <td>2.134018e+05</td>\n",
       "      <td>...</td>\n",
       "      <td>1.254874e+05</td>\n",
       "      <td>1.204815e+05</td>\n",
       "      <td>1.152692e+05</td>\n",
       "      <td>1.107307e+05</td>\n",
       "      <td>1.072269e+05</td>\n",
       "      <td>1.037822e+05</td>\n",
       "      <td>1.005936e+05</td>\n",
       "      <td>9.771136e+04</td>\n",
       "      <td>9.495393e+04</td>\n",
       "      <td>9.298180e+04</td>\n",
       "    </tr>\n",
       "    <tr>\n",
       "      <th>min</th>\n",
       "      <td>1.000000e+00</td>\n",
       "      <td>1.000000e+00</td>\n",
       "      <td>1.000000e+00</td>\n",
       "      <td>1.000000e+00</td>\n",
       "      <td>1.000000e+00</td>\n",
       "      <td>1.000000e+00</td>\n",
       "      <td>1.000000e+00</td>\n",
       "      <td>1.000000e+00</td>\n",
       "      <td>1.000000e+00</td>\n",
       "      <td>0.000000e+00</td>\n",
       "      <td>...</td>\n",
       "      <td>0.000000e+00</td>\n",
       "      <td>0.000000e+00</td>\n",
       "      <td>0.000000e+00</td>\n",
       "      <td>0.000000e+00</td>\n",
       "      <td>0.000000e+00</td>\n",
       "      <td>0.000000e+00</td>\n",
       "      <td>0.000000e+00</td>\n",
       "      <td>0.000000e+00</td>\n",
       "      <td>0.000000e+00</td>\n",
       "      <td>0.000000e+00</td>\n",
       "    </tr>\n",
       "    <tr>\n",
       "      <th>25%</th>\n",
       "      <td>6.735000e+02</td>\n",
       "      <td>6.412500e+02</td>\n",
       "      <td>6.072500e+02</td>\n",
       "      <td>5.745000e+02</td>\n",
       "      <td>5.425000e+02</td>\n",
       "      <td>5.190000e+02</td>\n",
       "      <td>4.947500e+02</td>\n",
       "      <td>4.757500e+02</td>\n",
       "      <td>4.535000e+02</td>\n",
       "      <td>4.315000e+02</td>\n",
       "      <td>...</td>\n",
       "      <td>2.577500e+02</td>\n",
       "      <td>2.490000e+02</td>\n",
       "      <td>2.420000e+02</td>\n",
       "      <td>2.397500e+02</td>\n",
       "      <td>2.367500e+02</td>\n",
       "      <td>2.200000e+02</td>\n",
       "      <td>2.125000e+02</td>\n",
       "      <td>2.090000e+02</td>\n",
       "      <td>1.975000e+02</td>\n",
       "      <td>1.877500e+02</td>\n",
       "    </tr>\n",
       "    <tr>\n",
       "      <th>50%</th>\n",
       "      <td>5.344500e+03</td>\n",
       "      <td>5.153000e+03</td>\n",
       "      <td>4.769500e+03</td>\n",
       "      <td>4.510500e+03</td>\n",
       "      <td>4.343500e+03</td>\n",
       "      <td>4.230000e+03</td>\n",
       "      <td>4.135000e+03</td>\n",
       "      <td>4.090000e+03</td>\n",
       "      <td>3.982000e+03</td>\n",
       "      <td>3.881000e+03</td>\n",
       "      <td>...</td>\n",
       "      <td>2.283000e+03</td>\n",
       "      <td>2.204500e+03</td>\n",
       "      <td>2.109000e+03</td>\n",
       "      <td>2.050500e+03</td>\n",
       "      <td>1.976500e+03</td>\n",
       "      <td>1.940500e+03</td>\n",
       "      <td>1.864000e+03</td>\n",
       "      <td>1.759000e+03</td>\n",
       "      <td>1.694500e+03</td>\n",
       "      <td>1.607000e+03</td>\n",
       "    </tr>\n",
       "    <tr>\n",
       "      <th>75%</th>\n",
       "      <td>4.016175e+04</td>\n",
       "      <td>4.009150e+04</td>\n",
       "      <td>3.859875e+04</td>\n",
       "      <td>3.672925e+04</td>\n",
       "      <td>3.756775e+04</td>\n",
       "      <td>3.673100e+04</td>\n",
       "      <td>3.526775e+04</td>\n",
       "      <td>3.425600e+04</td>\n",
       "      <td>3.380700e+04</td>\n",
       "      <td>3.252425e+04</td>\n",
       "      <td>...</td>\n",
       "      <td>1.979325e+04</td>\n",
       "      <td>1.966575e+04</td>\n",
       "      <td>1.854600e+04</td>\n",
       "      <td>1.754050e+04</td>\n",
       "      <td>1.705375e+04</td>\n",
       "      <td>1.608125e+04</td>\n",
       "      <td>1.547025e+04</td>\n",
       "      <td>1.537575e+04</td>\n",
       "      <td>1.425500e+04</td>\n",
       "      <td>1.401625e+04</td>\n",
       "    </tr>\n",
       "    <tr>\n",
       "      <th>max</th>\n",
       "      <td>3.572372e+06</td>\n",
       "      <td>3.484838e+06</td>\n",
       "      <td>3.406345e+06</td>\n",
       "      <td>3.321803e+06</td>\n",
       "      <td>3.238172e+06</td>\n",
       "      <td>3.158264e+06</td>\n",
       "      <td>3.069109e+06</td>\n",
       "      <td>2.973984e+06</td>\n",
       "      <td>2.875661e+06</td>\n",
       "      <td>2.776073e+06</td>\n",
       "      <td>...</td>\n",
       "      <td>1.421398e+06</td>\n",
       "      <td>1.328532e+06</td>\n",
       "      <td>1.229643e+06</td>\n",
       "      <td>1.142429e+06</td>\n",
       "      <td>1.074063e+06</td>\n",
       "      <td>1.086190e+06</td>\n",
       "      <td>1.109978e+06</td>\n",
       "      <td>1.132667e+06</td>\n",
       "      <td>1.149945e+06</td>\n",
       "      <td>1.172650e+06</td>\n",
       "    </tr>\n",
       "  </tbody>\n",
       "</table>\n",
       "<p>8 rows × 32 columns</p>\n",
       "</div>"
      ],
      "text/plain": [
       "             1990.5        1991.5        1992.5        1993.5        1994.5  \\\n",
       "count  6.000000e+02  6.000000e+02  6.000000e+02  6.000000e+02  6.000000e+02   \n",
       "mean   6.425831e+04  6.282968e+04  6.109349e+04  5.973556e+04  5.864090e+04   \n",
       "std    2.796304e+05  2.717348e+05  2.629378e+05  2.556831e+05  2.488998e+05   \n",
       "min    1.000000e+00  1.000000e+00  1.000000e+00  1.000000e+00  1.000000e+00   \n",
       "25%    6.735000e+02  6.412500e+02  6.072500e+02  5.745000e+02  5.425000e+02   \n",
       "50%    5.344500e+03  5.153000e+03  4.769500e+03  4.510500e+03  4.343500e+03   \n",
       "75%    4.016175e+04  4.009150e+04  3.859875e+04  3.672925e+04  3.756775e+04   \n",
       "max    3.572372e+06  3.484838e+06  3.406345e+06  3.321803e+06  3.238172e+06   \n",
       "\n",
       "             1995.5        1996.5        1997.5        1998.5        1999.5  \\\n",
       "count  6.000000e+02  6.000000e+02  6.000000e+02  6.000000e+02  6.000000e+02   \n",
       "mean   5.706085e+04  5.564972e+04  5.416006e+04  5.264470e+04  5.106143e+04   \n",
       "std    2.423663e+05  2.354309e+05  2.281562e+05  2.207851e+05  2.134018e+05   \n",
       "min    1.000000e+00  1.000000e+00  1.000000e+00  1.000000e+00  0.000000e+00   \n",
       "25%    5.190000e+02  4.947500e+02  4.757500e+02  4.535000e+02  4.315000e+02   \n",
       "50%    4.230000e+03  4.135000e+03  4.090000e+03  3.982000e+03  3.881000e+03   \n",
       "75%    3.673100e+04  3.526775e+04  3.425600e+04  3.380700e+04  3.252425e+04   \n",
       "max    3.158264e+06  3.069109e+06  2.973984e+06  2.875661e+06  2.776073e+06   \n",
       "\n",
       "       ...        2012.5        2013.5        2014.5        2015.5  \\\n",
       "count  ...  6.000000e+02  6.000000e+02  6.000000e+02  6.000000e+02   \n",
       "mean   ...  3.357855e+04  3.261687e+04  3.162120e+04  3.068017e+04   \n",
       "std    ...  1.254874e+05  1.204815e+05  1.152692e+05  1.107307e+05   \n",
       "min    ...  0.000000e+00  0.000000e+00  0.000000e+00  0.000000e+00   \n",
       "25%    ...  2.577500e+02  2.490000e+02  2.420000e+02  2.397500e+02   \n",
       "50%    ...  2.283000e+03  2.204500e+03  2.109000e+03  2.050500e+03   \n",
       "75%    ...  1.979325e+04  1.966575e+04  1.854600e+04  1.754050e+04   \n",
       "max    ...  1.421398e+06  1.328532e+06  1.229643e+06  1.142429e+06   \n",
       "\n",
       "             2016.5        2017.5        2018.5        2019.5        2020.5  \\\n",
       "count  6.000000e+02  6.000000e+02  6.000000e+02  6.000000e+02  6.000000e+02   \n",
       "mean   2.984513e+04  2.900484e+04  2.822333e+04  2.747968e+04  2.675603e+04   \n",
       "std    1.072269e+05  1.037822e+05  1.005936e+05  9.771136e+04  9.495393e+04   \n",
       "min    0.000000e+00  0.000000e+00  0.000000e+00  0.000000e+00  0.000000e+00   \n",
       "25%    2.367500e+02  2.200000e+02  2.125000e+02  2.090000e+02  1.975000e+02   \n",
       "50%    1.976500e+03  1.940500e+03  1.864000e+03  1.759000e+03  1.694500e+03   \n",
       "75%    1.705375e+04  1.608125e+04  1.547025e+04  1.537575e+04  1.425500e+04   \n",
       "max    1.074063e+06  1.086190e+06  1.109978e+06  1.132667e+06  1.149945e+06   \n",
       "\n",
       "             2021.5  \n",
       "count  6.000000e+02  \n",
       "mean   2.614482e+04  \n",
       "std    9.298180e+04  \n",
       "min    0.000000e+00  \n",
       "25%    1.877500e+02  \n",
       "50%    1.607000e+03  \n",
       "75%    1.401625e+04  \n",
       "max    1.172650e+06  \n",
       "\n",
       "[8 rows x 32 columns]"
      ]
     },
     "execution_count": 42,
     "metadata": {},
     "output_type": "execute_result"
    }
   ],
   "source": [
    "Data.describe()\n"
   ]
  },
  {
   "cell_type": "code",
   "execution_count": 43,
   "id": "d525d16e",
   "metadata": {},
   "outputs": [
    {
     "data": {
      "text/html": [
       "<div>\n",
       "<style scoped>\n",
       "    .dataframe tbody tr th:only-of-type {\n",
       "        vertical-align: middle;\n",
       "    }\n",
       "\n",
       "    .dataframe tbody tr th {\n",
       "        vertical-align: top;\n",
       "    }\n",
       "\n",
       "    .dataframe thead th {\n",
       "        text-align: right;\n",
       "    }\n",
       "</style>\n",
       "<table border=\"1\" class=\"dataframe\">\n",
       "  <thead>\n",
       "    <tr style=\"text-align: right;\">\n",
       "      <th></th>\n",
       "      <th>1990.5</th>\n",
       "      <th>1991.5</th>\n",
       "      <th>1992.5</th>\n",
       "      <th>1993.5</th>\n",
       "      <th>1994.5</th>\n",
       "      <th>1995.5</th>\n",
       "      <th>1996.5</th>\n",
       "      <th>1997.5</th>\n",
       "      <th>1998.5</th>\n",
       "      <th>1999.5</th>\n",
       "      <th>...</th>\n",
       "      <th>2012.5</th>\n",
       "      <th>2013.5</th>\n",
       "      <th>2014.5</th>\n",
       "      <th>2015.5</th>\n",
       "      <th>2016.5</th>\n",
       "      <th>2017.5</th>\n",
       "      <th>2018.5</th>\n",
       "      <th>2019.5</th>\n",
       "      <th>2020.5</th>\n",
       "      <th>2021.5</th>\n",
       "    </tr>\n",
       "  </thead>\n",
       "  <tbody>\n",
       "    <tr>\n",
       "      <th>count</th>\n",
       "      <td>6.000000e+02</td>\n",
       "      <td>6.000000e+02</td>\n",
       "      <td>6.000000e+02</td>\n",
       "      <td>6.000000e+02</td>\n",
       "      <td>6.000000e+02</td>\n",
       "      <td>6.000000e+02</td>\n",
       "      <td>6.000000e+02</td>\n",
       "      <td>6.000000e+02</td>\n",
       "      <td>6.000000e+02</td>\n",
       "      <td>6.000000e+02</td>\n",
       "      <td>...</td>\n",
       "      <td>6.000000e+02</td>\n",
       "      <td>6.000000e+02</td>\n",
       "      <td>6.000000e+02</td>\n",
       "      <td>6.000000e+02</td>\n",
       "      <td>6.000000e+02</td>\n",
       "      <td>6.000000e+02</td>\n",
       "      <td>6.000000e+02</td>\n",
       "      <td>6.000000e+02</td>\n",
       "      <td>6.000000e+02</td>\n",
       "      <td>6.000000e+02</td>\n",
       "    </tr>\n",
       "    <tr>\n",
       "      <th>mean</th>\n",
       "      <td>6.425831e+04</td>\n",
       "      <td>6.282968e+04</td>\n",
       "      <td>6.109349e+04</td>\n",
       "      <td>5.973556e+04</td>\n",
       "      <td>5.864090e+04</td>\n",
       "      <td>5.706085e+04</td>\n",
       "      <td>5.564972e+04</td>\n",
       "      <td>5.416006e+04</td>\n",
       "      <td>5.264470e+04</td>\n",
       "      <td>5.106143e+04</td>\n",
       "      <td>...</td>\n",
       "      <td>3.357855e+04</td>\n",
       "      <td>3.261687e+04</td>\n",
       "      <td>3.162120e+04</td>\n",
       "      <td>3.068017e+04</td>\n",
       "      <td>2.984513e+04</td>\n",
       "      <td>2.900484e+04</td>\n",
       "      <td>2.822333e+04</td>\n",
       "      <td>2.747968e+04</td>\n",
       "      <td>2.675603e+04</td>\n",
       "      <td>2.614482e+04</td>\n",
       "    </tr>\n",
       "    <tr>\n",
       "      <th>std</th>\n",
       "      <td>2.796304e+05</td>\n",
       "      <td>2.717348e+05</td>\n",
       "      <td>2.629378e+05</td>\n",
       "      <td>2.556831e+05</td>\n",
       "      <td>2.488998e+05</td>\n",
       "      <td>2.423663e+05</td>\n",
       "      <td>2.354309e+05</td>\n",
       "      <td>2.281562e+05</td>\n",
       "      <td>2.207851e+05</td>\n",
       "      <td>2.134018e+05</td>\n",
       "      <td>...</td>\n",
       "      <td>1.254874e+05</td>\n",
       "      <td>1.204815e+05</td>\n",
       "      <td>1.152692e+05</td>\n",
       "      <td>1.107307e+05</td>\n",
       "      <td>1.072269e+05</td>\n",
       "      <td>1.037822e+05</td>\n",
       "      <td>1.005936e+05</td>\n",
       "      <td>9.771136e+04</td>\n",
       "      <td>9.495393e+04</td>\n",
       "      <td>9.298180e+04</td>\n",
       "    </tr>\n",
       "    <tr>\n",
       "      <th>min</th>\n",
       "      <td>1.000000e+00</td>\n",
       "      <td>1.000000e+00</td>\n",
       "      <td>1.000000e+00</td>\n",
       "      <td>1.000000e+00</td>\n",
       "      <td>1.000000e+00</td>\n",
       "      <td>1.000000e+00</td>\n",
       "      <td>1.000000e+00</td>\n",
       "      <td>1.000000e+00</td>\n",
       "      <td>1.000000e+00</td>\n",
       "      <td>0.000000e+00</td>\n",
       "      <td>...</td>\n",
       "      <td>0.000000e+00</td>\n",
       "      <td>0.000000e+00</td>\n",
       "      <td>0.000000e+00</td>\n",
       "      <td>0.000000e+00</td>\n",
       "      <td>0.000000e+00</td>\n",
       "      <td>0.000000e+00</td>\n",
       "      <td>0.000000e+00</td>\n",
       "      <td>0.000000e+00</td>\n",
       "      <td>0.000000e+00</td>\n",
       "      <td>0.000000e+00</td>\n",
       "    </tr>\n",
       "    <tr>\n",
       "      <th>25%</th>\n",
       "      <td>6.735000e+02</td>\n",
       "      <td>6.412500e+02</td>\n",
       "      <td>6.072500e+02</td>\n",
       "      <td>5.745000e+02</td>\n",
       "      <td>5.425000e+02</td>\n",
       "      <td>5.190000e+02</td>\n",
       "      <td>4.947500e+02</td>\n",
       "      <td>4.757500e+02</td>\n",
       "      <td>4.535000e+02</td>\n",
       "      <td>4.315000e+02</td>\n",
       "      <td>...</td>\n",
       "      <td>2.577500e+02</td>\n",
       "      <td>2.490000e+02</td>\n",
       "      <td>2.420000e+02</td>\n",
       "      <td>2.397500e+02</td>\n",
       "      <td>2.367500e+02</td>\n",
       "      <td>2.200000e+02</td>\n",
       "      <td>2.125000e+02</td>\n",
       "      <td>2.090000e+02</td>\n",
       "      <td>1.975000e+02</td>\n",
       "      <td>1.877500e+02</td>\n",
       "    </tr>\n",
       "    <tr>\n",
       "      <th>50%</th>\n",
       "      <td>5.344500e+03</td>\n",
       "      <td>5.153000e+03</td>\n",
       "      <td>4.769500e+03</td>\n",
       "      <td>4.510500e+03</td>\n",
       "      <td>4.343500e+03</td>\n",
       "      <td>4.230000e+03</td>\n",
       "      <td>4.135000e+03</td>\n",
       "      <td>4.090000e+03</td>\n",
       "      <td>3.982000e+03</td>\n",
       "      <td>3.881000e+03</td>\n",
       "      <td>...</td>\n",
       "      <td>2.283000e+03</td>\n",
       "      <td>2.204500e+03</td>\n",
       "      <td>2.109000e+03</td>\n",
       "      <td>2.050500e+03</td>\n",
       "      <td>1.976500e+03</td>\n",
       "      <td>1.940500e+03</td>\n",
       "      <td>1.864000e+03</td>\n",
       "      <td>1.759000e+03</td>\n",
       "      <td>1.694500e+03</td>\n",
       "      <td>1.607000e+03</td>\n",
       "    </tr>\n",
       "    <tr>\n",
       "      <th>75%</th>\n",
       "      <td>4.016175e+04</td>\n",
       "      <td>4.009150e+04</td>\n",
       "      <td>3.859875e+04</td>\n",
       "      <td>3.672925e+04</td>\n",
       "      <td>3.756775e+04</td>\n",
       "      <td>3.673100e+04</td>\n",
       "      <td>3.526775e+04</td>\n",
       "      <td>3.425600e+04</td>\n",
       "      <td>3.380700e+04</td>\n",
       "      <td>3.252425e+04</td>\n",
       "      <td>...</td>\n",
       "      <td>1.979325e+04</td>\n",
       "      <td>1.966575e+04</td>\n",
       "      <td>1.854600e+04</td>\n",
       "      <td>1.754050e+04</td>\n",
       "      <td>1.705375e+04</td>\n",
       "      <td>1.608125e+04</td>\n",
       "      <td>1.547025e+04</td>\n",
       "      <td>1.537575e+04</td>\n",
       "      <td>1.425500e+04</td>\n",
       "      <td>1.401625e+04</td>\n",
       "    </tr>\n",
       "    <tr>\n",
       "      <th>max</th>\n",
       "      <td>3.572372e+06</td>\n",
       "      <td>3.484838e+06</td>\n",
       "      <td>3.406345e+06</td>\n",
       "      <td>3.321803e+06</td>\n",
       "      <td>3.238172e+06</td>\n",
       "      <td>3.158264e+06</td>\n",
       "      <td>3.069109e+06</td>\n",
       "      <td>2.973984e+06</td>\n",
       "      <td>2.875661e+06</td>\n",
       "      <td>2.776073e+06</td>\n",
       "      <td>...</td>\n",
       "      <td>1.421398e+06</td>\n",
       "      <td>1.328532e+06</td>\n",
       "      <td>1.229643e+06</td>\n",
       "      <td>1.142429e+06</td>\n",
       "      <td>1.074063e+06</td>\n",
       "      <td>1.086190e+06</td>\n",
       "      <td>1.109978e+06</td>\n",
       "      <td>1.132667e+06</td>\n",
       "      <td>1.149945e+06</td>\n",
       "      <td>1.172650e+06</td>\n",
       "    </tr>\n",
       "  </tbody>\n",
       "</table>\n",
       "<p>8 rows × 32 columns</p>\n",
       "</div>"
      ],
      "text/plain": [
       "             1990.5        1991.5        1992.5        1993.5        1994.5  \\\n",
       "count  6.000000e+02  6.000000e+02  6.000000e+02  6.000000e+02  6.000000e+02   \n",
       "mean   6.425831e+04  6.282968e+04  6.109349e+04  5.973556e+04  5.864090e+04   \n",
       "std    2.796304e+05  2.717348e+05  2.629378e+05  2.556831e+05  2.488998e+05   \n",
       "min    1.000000e+00  1.000000e+00  1.000000e+00  1.000000e+00  1.000000e+00   \n",
       "25%    6.735000e+02  6.412500e+02  6.072500e+02  5.745000e+02  5.425000e+02   \n",
       "50%    5.344500e+03  5.153000e+03  4.769500e+03  4.510500e+03  4.343500e+03   \n",
       "75%    4.016175e+04  4.009150e+04  3.859875e+04  3.672925e+04  3.756775e+04   \n",
       "max    3.572372e+06  3.484838e+06  3.406345e+06  3.321803e+06  3.238172e+06   \n",
       "\n",
       "             1995.5        1996.5        1997.5        1998.5        1999.5  \\\n",
       "count  6.000000e+02  6.000000e+02  6.000000e+02  6.000000e+02  6.000000e+02   \n",
       "mean   5.706085e+04  5.564972e+04  5.416006e+04  5.264470e+04  5.106143e+04   \n",
       "std    2.423663e+05  2.354309e+05  2.281562e+05  2.207851e+05  2.134018e+05   \n",
       "min    1.000000e+00  1.000000e+00  1.000000e+00  1.000000e+00  0.000000e+00   \n",
       "25%    5.190000e+02  4.947500e+02  4.757500e+02  4.535000e+02  4.315000e+02   \n",
       "50%    4.230000e+03  4.135000e+03  4.090000e+03  3.982000e+03  3.881000e+03   \n",
       "75%    3.673100e+04  3.526775e+04  3.425600e+04  3.380700e+04  3.252425e+04   \n",
       "max    3.158264e+06  3.069109e+06  2.973984e+06  2.875661e+06  2.776073e+06   \n",
       "\n",
       "       ...        2012.5        2013.5        2014.5        2015.5  \\\n",
       "count  ...  6.000000e+02  6.000000e+02  6.000000e+02  6.000000e+02   \n",
       "mean   ...  3.357855e+04  3.261687e+04  3.162120e+04  3.068017e+04   \n",
       "std    ...  1.254874e+05  1.204815e+05  1.152692e+05  1.107307e+05   \n",
       "min    ...  0.000000e+00  0.000000e+00  0.000000e+00  0.000000e+00   \n",
       "25%    ...  2.577500e+02  2.490000e+02  2.420000e+02  2.397500e+02   \n",
       "50%    ...  2.283000e+03  2.204500e+03  2.109000e+03  2.050500e+03   \n",
       "75%    ...  1.979325e+04  1.966575e+04  1.854600e+04  1.754050e+04   \n",
       "max    ...  1.421398e+06  1.328532e+06  1.229643e+06  1.142429e+06   \n",
       "\n",
       "             2016.5        2017.5        2018.5        2019.5        2020.5  \\\n",
       "count  6.000000e+02  6.000000e+02  6.000000e+02  6.000000e+02  6.000000e+02   \n",
       "mean   2.984513e+04  2.900484e+04  2.822333e+04  2.747968e+04  2.675603e+04   \n",
       "std    1.072269e+05  1.037822e+05  1.005936e+05  9.771136e+04  9.495393e+04   \n",
       "min    0.000000e+00  0.000000e+00  0.000000e+00  0.000000e+00  0.000000e+00   \n",
       "25%    2.367500e+02  2.200000e+02  2.125000e+02  2.090000e+02  1.975000e+02   \n",
       "50%    1.976500e+03  1.940500e+03  1.864000e+03  1.759000e+03  1.694500e+03   \n",
       "75%    1.705375e+04  1.608125e+04  1.547025e+04  1.537575e+04  1.425500e+04   \n",
       "max    1.074063e+06  1.086190e+06  1.109978e+06  1.132667e+06  1.149945e+06   \n",
       "\n",
       "             2021.5  \n",
       "count  6.000000e+02  \n",
       "mean   2.614482e+04  \n",
       "std    9.298180e+04  \n",
       "min    0.000000e+00  \n",
       "25%    1.877500e+02  \n",
       "50%    1.607000e+03  \n",
       "75%    1.401625e+04  \n",
       "max    1.172650e+06  \n",
       "\n",
       "[8 rows x 32 columns]"
      ]
     },
     "execution_count": 43,
     "metadata": {},
     "output_type": "execute_result"
    }
   ],
   "source": [
    "Data1.describe()"
   ]
  },
  {
   "cell_type": "code",
   "execution_count": 44,
   "id": "8048233d",
   "metadata": {},
   "outputs": [
    {
     "data": {
      "text/html": [
       "<div>\n",
       "<style scoped>\n",
       "    .dataframe tbody tr th:only-of-type {\n",
       "        vertical-align: middle;\n",
       "    }\n",
       "\n",
       "    .dataframe tbody tr th {\n",
       "        vertical-align: top;\n",
       "    }\n",
       "\n",
       "    .dataframe thead th {\n",
       "        text-align: right;\n",
       "    }\n",
       "</style>\n",
       "<table border=\"1\" class=\"dataframe\">\n",
       "  <thead>\n",
       "    <tr style=\"text-align: right;\">\n",
       "      <th></th>\n",
       "      <th>1990.5</th>\n",
       "      <th>1991.5</th>\n",
       "      <th>1992.5</th>\n",
       "      <th>1993.5</th>\n",
       "      <th>1994.5</th>\n",
       "      <th>1995.5</th>\n",
       "      <th>1996.5</th>\n",
       "      <th>1997.5</th>\n",
       "      <th>1998.5</th>\n",
       "      <th>1999.5</th>\n",
       "      <th>...</th>\n",
       "      <th>2012.5</th>\n",
       "      <th>2013.5</th>\n",
       "      <th>2014.5</th>\n",
       "      <th>2015.5</th>\n",
       "      <th>2016.5</th>\n",
       "      <th>2017.5</th>\n",
       "      <th>2018.5</th>\n",
       "      <th>2019.5</th>\n",
       "      <th>2020.5</th>\n",
       "      <th>2021.5</th>\n",
       "    </tr>\n",
       "  </thead>\n",
       "  <tbody>\n",
       "    <tr>\n",
       "      <th>count</th>\n",
       "      <td>90.000000</td>\n",
       "      <td>90.000000</td>\n",
       "      <td>90.000000</td>\n",
       "      <td>90.000000</td>\n",
       "      <td>90.000000</td>\n",
       "      <td>90.000000</td>\n",
       "      <td>90.000000</td>\n",
       "      <td>90.000000</td>\n",
       "      <td>90.000000</td>\n",
       "      <td>90.000000</td>\n",
       "      <td>...</td>\n",
       "      <td>90.000000</td>\n",
       "      <td>90.000000</td>\n",
       "      <td>90.000000</td>\n",
       "      <td>90.000000</td>\n",
       "      <td>90.000000</td>\n",
       "      <td>90.000000</td>\n",
       "      <td>90.000000</td>\n",
       "      <td>90.000000</td>\n",
       "      <td>90.000000</td>\n",
       "      <td>90.000000</td>\n",
       "    </tr>\n",
       "    <tr>\n",
       "      <th>mean</th>\n",
       "      <td>77.012348</td>\n",
       "      <td>75.406379</td>\n",
       "      <td>73.876888</td>\n",
       "      <td>72.400000</td>\n",
       "      <td>71.148420</td>\n",
       "      <td>69.009856</td>\n",
       "      <td>67.147867</td>\n",
       "      <td>65.220758</td>\n",
       "      <td>63.225979</td>\n",
       "      <td>61.025128</td>\n",
       "      <td>...</td>\n",
       "      <td>35.970118</td>\n",
       "      <td>34.788231</td>\n",
       "      <td>33.660150</td>\n",
       "      <td>32.583606</td>\n",
       "      <td>31.616464</td>\n",
       "      <td>30.627376</td>\n",
       "      <td>29.812166</td>\n",
       "      <td>29.049480</td>\n",
       "      <td>28.313184</td>\n",
       "      <td>27.661118</td>\n",
       "    </tr>\n",
       "    <tr>\n",
       "      <th>std</th>\n",
       "      <td>55.717698</td>\n",
       "      <td>55.155325</td>\n",
       "      <td>54.624099</td>\n",
       "      <td>54.202119</td>\n",
       "      <td>54.261436</td>\n",
       "      <td>52.845606</td>\n",
       "      <td>51.987573</td>\n",
       "      <td>51.067950</td>\n",
       "      <td>49.936943</td>\n",
       "      <td>48.638942</td>\n",
       "      <td>...</td>\n",
       "      <td>29.879725</td>\n",
       "      <td>28.939299</td>\n",
       "      <td>28.141048</td>\n",
       "      <td>27.416178</td>\n",
       "      <td>26.711857</td>\n",
       "      <td>26.117840</td>\n",
       "      <td>25.450410</td>\n",
       "      <td>24.857087</td>\n",
       "      <td>24.286443</td>\n",
       "      <td>23.767804</td>\n",
       "    </tr>\n",
       "    <tr>\n",
       "      <th>min</th>\n",
       "      <td>9.411100</td>\n",
       "      <td>8.869600</td>\n",
       "      <td>8.359300</td>\n",
       "      <td>7.901600</td>\n",
       "      <td>7.511100</td>\n",
       "      <td>7.206300</td>\n",
       "      <td>6.955600</td>\n",
       "      <td>6.760100</td>\n",
       "      <td>6.592800</td>\n",
       "      <td>6.403500</td>\n",
       "      <td>...</td>\n",
       "      <td>4.191400</td>\n",
       "      <td>4.106200</td>\n",
       "      <td>4.044800</td>\n",
       "      <td>3.997500</td>\n",
       "      <td>3.957100</td>\n",
       "      <td>3.914400</td>\n",
       "      <td>3.860700</td>\n",
       "      <td>3.793500</td>\n",
       "      <td>3.710100</td>\n",
       "      <td>3.612900</td>\n",
       "    </tr>\n",
       "    <tr>\n",
       "      <th>25%</th>\n",
       "      <td>33.772400</td>\n",
       "      <td>33.074750</td>\n",
       "      <td>32.399175</td>\n",
       "      <td>32.056675</td>\n",
       "      <td>31.863100</td>\n",
       "      <td>31.686325</td>\n",
       "      <td>31.607000</td>\n",
       "      <td>31.596375</td>\n",
       "      <td>31.641300</td>\n",
       "      <td>31.565425</td>\n",
       "      <td>...</td>\n",
       "      <td>13.141100</td>\n",
       "      <td>12.181550</td>\n",
       "      <td>11.323525</td>\n",
       "      <td>10.508675</td>\n",
       "      <td>9.785625</td>\n",
       "      <td>9.231450</td>\n",
       "      <td>8.913275</td>\n",
       "      <td>8.461550</td>\n",
       "      <td>8.066150</td>\n",
       "      <td>7.792650</td>\n",
       "    </tr>\n",
       "    <tr>\n",
       "      <th>50%</th>\n",
       "      <td>65.394100</td>\n",
       "      <td>63.353750</td>\n",
       "      <td>60.961250</td>\n",
       "      <td>58.635300</td>\n",
       "      <td>56.357100</td>\n",
       "      <td>54.127250</td>\n",
       "      <td>51.721650</td>\n",
       "      <td>49.481850</td>\n",
       "      <td>47.282950</td>\n",
       "      <td>45.140900</td>\n",
       "      <td>...</td>\n",
       "      <td>26.775850</td>\n",
       "      <td>25.905350</td>\n",
       "      <td>24.703400</td>\n",
       "      <td>23.887400</td>\n",
       "      <td>23.231850</td>\n",
       "      <td>22.636950</td>\n",
       "      <td>22.148150</td>\n",
       "      <td>21.679550</td>\n",
       "      <td>21.094650</td>\n",
       "      <td>20.353850</td>\n",
       "    </tr>\n",
       "    <tr>\n",
       "      <th>75%</th>\n",
       "      <td>123.356775</td>\n",
       "      <td>119.711300</td>\n",
       "      <td>116.254825</td>\n",
       "      <td>113.035375</td>\n",
       "      <td>110.016550</td>\n",
       "      <td>106.798750</td>\n",
       "      <td>103.469275</td>\n",
       "      <td>100.010150</td>\n",
       "      <td>96.472625</td>\n",
       "      <td>92.874325</td>\n",
       "      <td>...</td>\n",
       "      <td>54.158050</td>\n",
       "      <td>51.547625</td>\n",
       "      <td>49.033700</td>\n",
       "      <td>47.218375</td>\n",
       "      <td>44.818150</td>\n",
       "      <td>43.172675</td>\n",
       "      <td>41.217150</td>\n",
       "      <td>39.798150</td>\n",
       "      <td>38.577375</td>\n",
       "      <td>36.925225</td>\n",
       "    </tr>\n",
       "    <tr>\n",
       "      <th>max</th>\n",
       "      <td>203.060000</td>\n",
       "      <td>201.328200</td>\n",
       "      <td>199.492600</td>\n",
       "      <td>197.747500</td>\n",
       "      <td>195.853700</td>\n",
       "      <td>193.402600</td>\n",
       "      <td>190.382800</td>\n",
       "      <td>186.857300</td>\n",
       "      <td>182.860000</td>\n",
       "      <td>178.303900</td>\n",
       "      <td>...</td>\n",
       "      <td>121.726800</td>\n",
       "      <td>119.776700</td>\n",
       "      <td>118.222000</td>\n",
       "      <td>117.012900</td>\n",
       "      <td>115.832500</td>\n",
       "      <td>114.894600</td>\n",
       "      <td>113.747700</td>\n",
       "      <td>112.883100</td>\n",
       "      <td>111.874000</td>\n",
       "      <td>110.794600</td>\n",
       "    </tr>\n",
       "  </tbody>\n",
       "</table>\n",
       "<p>8 rows × 32 columns</p>\n",
       "</div>"
      ],
      "text/plain": [
       "           1990.5      1991.5      1992.5      1993.5      1994.5      1995.5  \\\n",
       "count   90.000000   90.000000   90.000000   90.000000   90.000000   90.000000   \n",
       "mean    77.012348   75.406379   73.876888   72.400000   71.148420   69.009856   \n",
       "std     55.717698   55.155325   54.624099   54.202119   54.261436   52.845606   \n",
       "min      9.411100    8.869600    8.359300    7.901600    7.511100    7.206300   \n",
       "25%     33.772400   33.074750   32.399175   32.056675   31.863100   31.686325   \n",
       "50%     65.394100   63.353750   60.961250   58.635300   56.357100   54.127250   \n",
       "75%    123.356775  119.711300  116.254825  113.035375  110.016550  106.798750   \n",
       "max    203.060000  201.328200  199.492600  197.747500  195.853700  193.402600   \n",
       "\n",
       "           1996.5      1997.5      1998.5      1999.5  ...      2012.5  \\\n",
       "count   90.000000   90.000000   90.000000   90.000000  ...   90.000000   \n",
       "mean    67.147867   65.220758   63.225979   61.025128  ...   35.970118   \n",
       "std     51.987573   51.067950   49.936943   48.638942  ...   29.879725   \n",
       "min      6.955600    6.760100    6.592800    6.403500  ...    4.191400   \n",
       "25%     31.607000   31.596375   31.641300   31.565425  ...   13.141100   \n",
       "50%     51.721650   49.481850   47.282950   45.140900  ...   26.775850   \n",
       "75%    103.469275  100.010150   96.472625   92.874325  ...   54.158050   \n",
       "max    190.382800  186.857300  182.860000  178.303900  ...  121.726800   \n",
       "\n",
       "           2013.5      2014.5      2015.5      2016.5      2017.5      2018.5  \\\n",
       "count   90.000000   90.000000   90.000000   90.000000   90.000000   90.000000   \n",
       "mean    34.788231   33.660150   32.583606   31.616464   30.627376   29.812166   \n",
       "std     28.939299   28.141048   27.416178   26.711857   26.117840   25.450410   \n",
       "min      4.106200    4.044800    3.997500    3.957100    3.914400    3.860700   \n",
       "25%     12.181550   11.323525   10.508675    9.785625    9.231450    8.913275   \n",
       "50%     25.905350   24.703400   23.887400   23.231850   22.636950   22.148150   \n",
       "75%     51.547625   49.033700   47.218375   44.818150   43.172675   41.217150   \n",
       "max    119.776700  118.222000  117.012900  115.832500  114.894600  113.747700   \n",
       "\n",
       "           2019.5      2020.5      2021.5  \n",
       "count   90.000000   90.000000   90.000000  \n",
       "mean    29.049480   28.313184   27.661118  \n",
       "std     24.857087   24.286443   23.767804  \n",
       "min      3.793500    3.710100    3.612900  \n",
       "25%      8.461550    8.066150    7.792650  \n",
       "50%     21.679550   21.094650   20.353850  \n",
       "75%     39.798150   38.577375   36.925225  \n",
       "max    112.883100  111.874000  110.794600  \n",
       "\n",
       "[8 rows x 32 columns]"
      ]
     },
     "execution_count": 44,
     "metadata": {},
     "output_type": "execute_result"
    }
   ],
   "source": [
    "Data2.describe()"
   ]
  },
  {
   "cell_type": "code",
   "execution_count": 8,
   "id": "b1202883",
   "metadata": {},
   "outputs": [
    {
     "data": {
      "text/html": [
       "<div>\n",
       "<style scoped>\n",
       "    .dataframe tbody tr th:only-of-type {\n",
       "        vertical-align: middle;\n",
       "    }\n",
       "\n",
       "    .dataframe tbody tr th {\n",
       "        vertical-align: top;\n",
       "    }\n",
       "\n",
       "    .dataframe thead th {\n",
       "        text-align: right;\n",
       "    }\n",
       "</style>\n",
       "<table border=\"1\" class=\"dataframe\">\n",
       "  <thead>\n",
       "    <tr style=\"text-align: right;\">\n",
       "      <th></th>\n",
       "      <th>1985.5</th>\n",
       "      <th>1986.5</th>\n",
       "      <th>1987.5</th>\n",
       "      <th>1988.5</th>\n",
       "      <th>1989.5</th>\n",
       "      <th>1990.5</th>\n",
       "      <th>1991.5</th>\n",
       "      <th>1992.5</th>\n",
       "      <th>1993.5</th>\n",
       "      <th>1994.5</th>\n",
       "      <th>...</th>\n",
       "      <th>2012.5</th>\n",
       "      <th>2013.5</th>\n",
       "      <th>2014.5</th>\n",
       "      <th>2015.5</th>\n",
       "      <th>2016.5</th>\n",
       "      <th>2017.5</th>\n",
       "      <th>2018.5</th>\n",
       "      <th>2019.5</th>\n",
       "      <th>2020.5</th>\n",
       "      <th>2021.5</th>\n",
       "    </tr>\n",
       "  </thead>\n",
       "  <tbody>\n",
       "    <tr>\n",
       "      <th>count</th>\n",
       "      <td>134.000000</td>\n",
       "      <td>134.000000</td>\n",
       "      <td>134.000000</td>\n",
       "      <td>134.000000</td>\n",
       "      <td>134.000000</td>\n",
       "      <td>134.000000</td>\n",
       "      <td>134.000000</td>\n",
       "      <td>134.000000</td>\n",
       "      <td>134.000000</td>\n",
       "      <td>134.000000</td>\n",
       "      <td>...</td>\n",
       "      <td>134.000000</td>\n",
       "      <td>134.000000</td>\n",
       "      <td>134.000000</td>\n",
       "      <td>134.000000</td>\n",
       "      <td>134.000000</td>\n",
       "      <td>134.000000</td>\n",
       "      <td>134.000000</td>\n",
       "      <td>134.000000</td>\n",
       "      <td>134.000000</td>\n",
       "      <td>134.000000</td>\n",
       "    </tr>\n",
       "    <tr>\n",
       "      <th>mean</th>\n",
       "      <td>75.985558</td>\n",
       "      <td>73.592843</td>\n",
       "      <td>71.543419</td>\n",
       "      <td>70.060522</td>\n",
       "      <td>68.208103</td>\n",
       "      <td>66.798724</td>\n",
       "      <td>65.570134</td>\n",
       "      <td>64.616330</td>\n",
       "      <td>63.704275</td>\n",
       "      <td>63.379993</td>\n",
       "      <td>...</td>\n",
       "      <td>32.298282</td>\n",
       "      <td>31.226140</td>\n",
       "      <td>30.293910</td>\n",
       "      <td>29.348886</td>\n",
       "      <td>28.392867</td>\n",
       "      <td>27.440138</td>\n",
       "      <td>26.664867</td>\n",
       "      <td>26.012161</td>\n",
       "      <td>25.128923</td>\n",
       "      <td>24.401866</td>\n",
       "    </tr>\n",
       "    <tr>\n",
       "      <th>std</th>\n",
       "      <td>71.239050</td>\n",
       "      <td>69.828432</td>\n",
       "      <td>68.861277</td>\n",
       "      <td>68.053396</td>\n",
       "      <td>67.286501</td>\n",
       "      <td>66.624742</td>\n",
       "      <td>66.026463</td>\n",
       "      <td>65.378572</td>\n",
       "      <td>65.105949</td>\n",
       "      <td>67.467930</td>\n",
       "      <td>...</td>\n",
       "      <td>34.518549</td>\n",
       "      <td>33.322961</td>\n",
       "      <td>32.373855</td>\n",
       "      <td>31.502880</td>\n",
       "      <td>30.268769</td>\n",
       "      <td>29.385204</td>\n",
       "      <td>28.572267</td>\n",
       "      <td>27.773915</td>\n",
       "      <td>26.933281</td>\n",
       "      <td>26.178785</td>\n",
       "    </tr>\n",
       "    <tr>\n",
       "      <th>min</th>\n",
       "      <td>7.477900</td>\n",
       "      <td>7.129900</td>\n",
       "      <td>6.840900</td>\n",
       "      <td>6.617500</td>\n",
       "      <td>6.450200</td>\n",
       "      <td>6.326400</td>\n",
       "      <td>6.180900</td>\n",
       "      <td>5.971900</td>\n",
       "      <td>5.688000</td>\n",
       "      <td>5.225700</td>\n",
       "      <td>...</td>\n",
       "      <td>2.571000</td>\n",
       "      <td>2.446900</td>\n",
       "      <td>2.326600</td>\n",
       "      <td>2.216800</td>\n",
       "      <td>2.114300</td>\n",
       "      <td>2.013500</td>\n",
       "      <td>1.929800</td>\n",
       "      <td>1.854800</td>\n",
       "      <td>1.783700</td>\n",
       "      <td>1.717200</td>\n",
       "    </tr>\n",
       "    <tr>\n",
       "      <th>25%</th>\n",
       "      <td>21.814275</td>\n",
       "      <td>20.528525</td>\n",
       "      <td>19.429150</td>\n",
       "      <td>18.415000</td>\n",
       "      <td>17.495600</td>\n",
       "      <td>16.795550</td>\n",
       "      <td>15.896775</td>\n",
       "      <td>15.409300</td>\n",
       "      <td>15.004525</td>\n",
       "      <td>14.799675</td>\n",
       "      <td>...</td>\n",
       "      <td>7.929625</td>\n",
       "      <td>7.761375</td>\n",
       "      <td>7.608350</td>\n",
       "      <td>7.479200</td>\n",
       "      <td>7.345750</td>\n",
       "      <td>6.902750</td>\n",
       "      <td>6.496900</td>\n",
       "      <td>6.209550</td>\n",
       "      <td>6.058900</td>\n",
       "      <td>5.825325</td>\n",
       "    </tr>\n",
       "    <tr>\n",
       "      <th>50%</th>\n",
       "      <td>44.599100</td>\n",
       "      <td>42.900600</td>\n",
       "      <td>41.369900</td>\n",
       "      <td>39.713300</td>\n",
       "      <td>37.943900</td>\n",
       "      <td>36.377600</td>\n",
       "      <td>34.895950</td>\n",
       "      <td>33.901350</td>\n",
       "      <td>32.281400</td>\n",
       "      <td>30.903150</td>\n",
       "      <td>...</td>\n",
       "      <td>17.604050</td>\n",
       "      <td>17.399400</td>\n",
       "      <td>17.118600</td>\n",
       "      <td>16.684250</td>\n",
       "      <td>16.171800</td>\n",
       "      <td>15.687900</td>\n",
       "      <td>15.331300</td>\n",
       "      <td>14.907650</td>\n",
       "      <td>14.433400</td>\n",
       "      <td>13.989450</td>\n",
       "    </tr>\n",
       "    <tr>\n",
       "      <th>75%</th>\n",
       "      <td>119.370875</td>\n",
       "      <td>114.653500</td>\n",
       "      <td>108.161575</td>\n",
       "      <td>105.829075</td>\n",
       "      <td>106.317075</td>\n",
       "      <td>107.236125</td>\n",
       "      <td>108.404500</td>\n",
       "      <td>109.749275</td>\n",
       "      <td>108.512625</td>\n",
       "      <td>105.059250</td>\n",
       "      <td>...</td>\n",
       "      <td>43.807675</td>\n",
       "      <td>44.610075</td>\n",
       "      <td>45.985250</td>\n",
       "      <td>42.282875</td>\n",
       "      <td>42.068275</td>\n",
       "      <td>38.910500</td>\n",
       "      <td>37.992725</td>\n",
       "      <td>37.099450</td>\n",
       "      <td>36.141025</td>\n",
       "      <td>35.638450</td>\n",
       "    </tr>\n",
       "    <tr>\n",
       "      <th>max</th>\n",
       "      <td>272.288400</td>\n",
       "      <td>269.047100</td>\n",
       "      <td>266.655100</td>\n",
       "      <td>264.363800</td>\n",
       "      <td>262.353200</td>\n",
       "      <td>263.567800</td>\n",
       "      <td>265.707800</td>\n",
       "      <td>265.042300</td>\n",
       "      <td>261.495300</td>\n",
       "      <td>340.633200</td>\n",
       "      <td>...</td>\n",
       "      <td>148.122600</td>\n",
       "      <td>143.429500</td>\n",
       "      <td>139.981200</td>\n",
       "      <td>140.977600</td>\n",
       "      <td>130.311800</td>\n",
       "      <td>126.094700</td>\n",
       "      <td>122.509700</td>\n",
       "      <td>118.600500</td>\n",
       "      <td>114.885700</td>\n",
       "      <td>111.784600</td>\n",
       "    </tr>\n",
       "  </tbody>\n",
       "</table>\n",
       "<p>8 rows × 37 columns</p>\n",
       "</div>"
      ],
      "text/plain": [
       "           1985.5      1986.5      1987.5      1988.5      1989.5      1990.5  \\\n",
       "count  134.000000  134.000000  134.000000  134.000000  134.000000  134.000000   \n",
       "mean    75.985558   73.592843   71.543419   70.060522   68.208103   66.798724   \n",
       "std     71.239050   69.828432   68.861277   68.053396   67.286501   66.624742   \n",
       "min      7.477900    7.129900    6.840900    6.617500    6.450200    6.326400   \n",
       "25%     21.814275   20.528525   19.429150   18.415000   17.495600   16.795550   \n",
       "50%     44.599100   42.900600   41.369900   39.713300   37.943900   36.377600   \n",
       "75%    119.370875  114.653500  108.161575  105.829075  106.317075  107.236125   \n",
       "max    272.288400  269.047100  266.655100  264.363800  262.353200  263.567800   \n",
       "\n",
       "           1991.5      1992.5      1993.5      1994.5  ...      2012.5  \\\n",
       "count  134.000000  134.000000  134.000000  134.000000  ...  134.000000   \n",
       "mean    65.570134   64.616330   63.704275   63.379993  ...   32.298282   \n",
       "std     66.026463   65.378572   65.105949   67.467930  ...   34.518549   \n",
       "min      6.180900    5.971900    5.688000    5.225700  ...    2.571000   \n",
       "25%     15.896775   15.409300   15.004525   14.799675  ...    7.929625   \n",
       "50%     34.895950   33.901350   32.281400   30.903150  ...   17.604050   \n",
       "75%    108.404500  109.749275  108.512625  105.059250  ...   43.807675   \n",
       "max    265.707800  265.042300  261.495300  340.633200  ...  148.122600   \n",
       "\n",
       "           2013.5      2014.5      2015.5      2016.5      2017.5      2018.5  \\\n",
       "count  134.000000  134.000000  134.000000  134.000000  134.000000  134.000000   \n",
       "mean    31.226140   30.293910   29.348886   28.392867   27.440138   26.664867   \n",
       "std     33.322961   32.373855   31.502880   30.268769   29.385204   28.572267   \n",
       "min      2.446900    2.326600    2.216800    2.114300    2.013500    1.929800   \n",
       "25%      7.761375    7.608350    7.479200    7.345750    6.902750    6.496900   \n",
       "50%     17.399400   17.118600   16.684250   16.171800   15.687900   15.331300   \n",
       "75%     44.610075   45.985250   42.282875   42.068275   38.910500   37.992725   \n",
       "max    143.429500  139.981200  140.977600  130.311800  126.094700  122.509700   \n",
       "\n",
       "           2019.5      2020.5      2021.5  \n",
       "count  134.000000  134.000000  134.000000  \n",
       "mean    26.012161   25.128923   24.401866  \n",
       "std     27.773915   26.933281   26.178785  \n",
       "min      1.854800    1.783700    1.717200  \n",
       "25%      6.209550    6.058900    5.825325  \n",
       "50%     14.907650   14.433400   13.989450  \n",
       "75%     37.099450   36.141025   35.638450  \n",
       "max    118.600500  114.885700  111.784600  \n",
       "\n",
       "[8 rows x 37 columns]"
      ]
     },
     "execution_count": 8,
     "metadata": {},
     "output_type": "execute_result"
    }
   ],
   "source": [
    "Data3.describe()"
   ]
  },
  {
   "cell_type": "code",
   "execution_count": 141,
   "id": "e2e33c0f",
   "metadata": {},
   "outputs": [
    {
     "data": {
      "image/png": "[encoded data removed]",
      "text/plain": [
       "<Figure size 960x640 with 2 Axes>"
      ]
     },
     "metadata": {},
     "output_type": "display_data"
    }
   ],
   "source": [
    "# Modify the function to suit your needs\n",
    "def plotPerColumnDistribution(df, nGraphShown, nGraphPerRow):\n",
    "    nunique = df.nunique()\n",
    "    df = df[[col for col in df if nunique[col] > 1 and nunique[col] < 50]]\n",
    "    \n",
    "    nRow, nCol = df.shape\n",
    "    columnNames = list(df)\n",
    "    nGraphRow = (nCol + nGraphPerRow - 1) // nGraphPerRow  # Use integer division\n",
    "    \n",
    "    plt.figure(num=None, figsize=(6 * nGraphPerRow, 8 * nGraphRow), dpi=80, facecolor='w', edgecolor='k')\n",
    "    \n",
    "    for i in range(min(nCol, nGraphShown)):\n",
    "        plt.subplot(nGraphRow, nGraphPerRow, i + 1)\n",
    "        columnDf = df.iloc[:, i]\n",
    "        \n",
    "        # Your specific modification for bar graphs\n",
    "        sns.barplot(x=columnDf.value_counts().index, y=columnDf.value_counts().values)\n",
    "        \n",
    "        plt.ylabel('counts')\n",
    "        plt.xticks(rotation=90)\n",
    "        plt.title(f'{columnNames[i]} (column {i})')\n",
    "    \n",
    "    plt.tight_layout(pad=1.0, w_pad=1.0, h_pad=1.0)\n",
    "    plt.show()\n",
    "plotPerColumnDistribution(Data2, nGraphShown=4, nGraphPerRow=2)\n"
   ]
  },
  {
   "cell_type": "code",
   "execution_count": 142,
   "id": "302a88bc",
   "metadata": {},
   "outputs": [
    {
     "name": "stderr",
     "output_type": "stream",
     "text": [
      "C:\\Users\\Administrator\\AppData\\Local\\Temp\\ipykernel_6252\\4004351188.py:2: FutureWarning:\n",
      "\n",
      "\n",
      "\n",
      "The `ci` parameter is deprecated. Use `errorbar=None` for the same effect.\n",
      "\n",
      "\n"
     ]
    },
    {
     "data": {
      "image/png": "[encoded data removed]",
      "text/plain": [
       "<Figure size 640x480 with 1 Axes>"
      ]
     },
     "metadata": {},
     "output_type": "display_data"
    }
   ],
   "source": [
    "q = Data3.nlargest(10, '2021.5') \n",
    "sns.barplot(x='Country.Name', y='2021.5', data=q, ci=None, palette='Blues', edgecolor='black', lw=3)\n",
    "plt.title('Top 10 Countries With Highest Under 5 Mortality Rate')\n",
    "# Rotate x-axis labels for better visibility\n",
    "plt.xticks(rotation=45, ha='right')\n",
    "# Adjust layout to prevent clipping of labels\n",
    "plt.tight_layout()\n",
    "# Show the plot\n",
    "plt.show()\n"
   ]
  },
  {
   "cell_type": "code",
   "execution_count": 175,
   "id": "c2b687c5",
   "metadata": {},
   "outputs": [
    {
     "name": "stderr",
     "output_type": "stream",
     "text": [
      "C:\\Users\\Administrator\\AppData\\Local\\Temp\\ipykernel_6252\\3416430434.py:4: FutureWarning:\n",
      "\n",
      "\n",
      "\n",
      "The `ci` parameter is deprecated. Use `errorbar=None` for the same effect.\n",
      "\n",
      "\n"
     ]
    },
    {
     "data": {
      "image/png": "[encoded data removed]",
      "text/plain": [
       "<Figure size 640x480 with 1 Axes>"
      ]
     },
     "metadata": {},
     "output_type": "display_data"
    }
   ],
   "source": [
    "q_lowest = Data3.nsmallest(10, '2021.5')\n",
    "\n",
    "# Create a bar plot for the 10 countries with the lowest child mortality rates\n",
    "sns.barplot(x='Country.Name', y='2021.5', data=q_lowest, ci=None, palette='Greens', edgecolor='black', lw=3)\n",
    "plt.title('Top 10 Countries With Lowest Under 5 Mortality Rate')\n",
    "plt.xticks(rotation=45, ha='right')\n",
    "plt.tight_layout()\n",
    "plt.show()\n",
    "\n"
   ]
  },
  {
   "cell_type": "code",
   "execution_count": 143,
   "id": "255cf9cf",
   "metadata": {},
   "outputs": [
    {
     "data": {
      "application/vnd.plotly.v1+json": {
       "config": {
        "plotlyServerURL": "https://plot.ly"
       },
       "data": [
        {
         "colorbar": {
          "len": 350,
          "lenmode": "pixels",
          "title": {
           "text": "2021.5 Under 5 Mortality Rate"
          }
         },
         "colorscale": [
          [
           0,
           "#440154"
          ],
          [
           0.1111111111111111,
           "#482878"
          ],
          [
           0.2222222222222222,
           "#3e4989"
          ],
          [
           0.3333333333333333,
           "#31688e"
          ],
          [
           0.4444444444444444,
           "#26828e"
          ],
          [
           0.5555555555555556,
           "#1f9e89"
          ],
          [
           0.6666666666666666,
           "#35b779"
          ],
          [
           0.7777777777777778,
           "#6ece58"
          ],
          [
           0.8888888888888888,
           "#b5de2b"
          ],
          [
           1,
           "#fde725"
          ]
         ],
         "locationmode": "country names",
         "locations": [
          "Afghanistan",
          "Angola",
          "Burkina Faso",
          "Burundi",
          "Cameroon",
          "Central African Republic",
          "Chad",
          "Cote d'Ivoire",
          "Democratic Republic of the Congo",
          "Guinea",
          "Haiti",
          "Liberia",
          "Pakistan",
          "Sierra Leone",
          "Somalia",
          "South Sudan",
          "Sudan",
          "Togo",
          "Yemen",
          "Zambia"
         ],
         "text": [
          "Afghanistan",
          "Angola",
          "Burkina Faso",
          "Burundi",
          "Cameroon",
          "Central African Republic",
          "Chad",
          "Cote d'Ivoire",
          "Democratic Republic of the Congo",
          "Guinea",
          "Haiti",
          "Liberia",
          "Pakistan",
          "Sierra Leone",
          "Somalia",
          "South Sudan",
          "Sudan",
          "Togo",
          "Yemen",
          "Zambia"
         ],
         "type": "choropleth",
         "z": [
          55.6575,
          69.4213,
          82.6076,
          52.6048,
          69.788,
          99.9161,
          107.0655,
          74.7853,
          78.9605,
          98.7269,
          58.6327,
          76.0402,
          63.3326,
          104.687,
          111.7846,
          98.6896,
          54.8955,
          62.6045,
          61.9089,
          57.6918
         ]
        }
       ],
       "layout": {
        "geo": {
         "scope": "world"
        },
        "template": {
         "data": {
          "bar": [
           {
            "error_x": {
             "color": "#2a3f5f"
            },
            "error_y": {
             "color": "#2a3f5f"
            },
            "marker": {
             "line": {
              "color": "#E5ECF6",
              "width": 0.5
             },
             "pattern": {
              "fillmode": "overlay",
              "size": 10,
              "solidity": 0.2
             }
            },
            "type": "bar"
           }
          ],
          "barpolar": [
           {
            "marker": {
             "line": {
              "color": "#E5ECF6",
              "width": 0.5
             },
             "pattern": {
              "fillmode": "overlay",
              "size": 10,
              "solidity": 0.2
             }
            },
            "type": "barpolar"
           }
          ],
          "carpet": [
           {
            "aaxis": {
             "endlinecolor": "#2a3f5f",
             "gridcolor": "white",
             "linecolor": "white",
             "minorgridcolor": "white",
             "startlinecolor": "#2a3f5f"
            },
            "baxis": {
             "endlinecolor": "#2a3f5f",
             "gridcolor": "white",
             "linecolor": "white",
             "minorgridcolor": "white",
             "startlinecolor": "#2a3f5f"
            },
            "type": "carpet"
           }
          ],
          "choropleth": [
           {
            "colorbar": {
             "outlinewidth": 0,
             "ticks": ""
            },
            "type": "choropleth"
           }
          ],
          "contour": [
           {
            "colorbar": {
             "outlinewidth": 0,
             "ticks": ""
            },
            "colorscale": [
             [
              0,
              "#0d0887"
             ],
             [
              0.1111111111111111,
              "#46039f"
             ],
             [
              0.2222222222222222,
              "#7201a8"
             ],
             [
              0.3333333333333333,
              "#9c179e"
             ],
             [
              0.4444444444444444,
              "#bd3786"
             ],
             [
              0.5555555555555556,
              "#d8576b"
             ],
             [
              0.6666666666666666,
              "#ed7953"
             ],
             [
              0.7777777777777778,
              "#fb9f3a"
             ],
             [
              0.8888888888888888,
              "#fdca26"
             ],
             [
              1,
              "#f0f921"
             ]
            ],
            "type": "contour"
           }
          ],
          "contourcarpet": [
           {
            "colorbar": {
             "outlinewidth": 0,
             "ticks": ""
            },
            "type": "contourcarpet"
           }
          ],
          "heatmap": [
           {
            "colorbar": {
             "outlinewidth": 0,
             "ticks": ""
            },
            "colorscale": [
             [
              0,
              "#0d0887"
             ],
             [
              0.1111111111111111,
              "#46039f"
             ],
             [
              0.2222222222222222,
              "#7201a8"
             ],
             [
              0.3333333333333333,
              "#9c179e"
             ],
             [
              0.4444444444444444,
              "#bd3786"
             ],
             [
              0.5555555555555556,
              "#d8576b"
             ],
             [
              0.6666666666666666,
              "#ed7953"
             ],
             [
              0.7777777777777778,
              "#fb9f3a"
             ],
             [
              0.8888888888888888,
              "#fdca26"
             ],
             [
              1,
              "#f0f921"
             ]
            ],
            "type": "heatmap"
           }
          ],
          "heatmapgl": [
           {
            "colorbar": {
             "outlinewidth": 0,
             "ticks": ""
            },
            "colorscale": [
             [
              0,
              "#0d0887"
             ],
             [
              0.1111111111111111,
              "#46039f"
             ],
             [
              0.2222222222222222,
              "#7201a8"
             ],
             [
              0.3333333333333333,
              "#9c179e"
             ],
             [
              0.4444444444444444,
              "#bd3786"
             ],
             [
              0.5555555555555556,
              "#d8576b"
             ],
             [
              0.6666666666666666,
              "#ed7953"
             ],
             [
              0.7777777777777778,
              "#fb9f3a"
             ],
             [
              0.8888888888888888,
              "#fdca26"
             ],
             [
              1,
              "#f0f921"
             ]
            ],
            "type": "heatmapgl"
           }
          ],
          "histogram": [
           {
            "marker": {
             "pattern": {
              "fillmode": "overlay",
              "size": 10,
              "solidity": 0.2
             }
            },
            "type": "histogram"
           }
          ],
          "histogram2d": [
           {
            "colorbar": {
             "outlinewidth": 0,
             "ticks": ""
            },
            "colorscale": [
             [
              0,
              "#0d0887"
             ],
             [
              0.1111111111111111,
              "#46039f"
             ],
             [
              0.2222222222222222,
              "#7201a8"
             ],
             [
              0.3333333333333333,
              "#9c179e"
             ],
             [
              0.4444444444444444,
              "#bd3786"
             ],
             [
              0.5555555555555556,
              "#d8576b"
             ],
             [
              0.6666666666666666,
              "#ed7953"
             ],
             [
              0.7777777777777778,
              "#fb9f3a"
             ],
             [
              0.8888888888888888,
              "#fdca26"
             ],
             [
              1,
              "#f0f921"
             ]
            ],
            "type": "histogram2d"
           }
          ],
          "histogram2dcontour": [
           {
            "colorbar": {
             "outlinewidth": 0,
             "ticks": ""
            },
            "colorscale": [
             [
              0,
              "#0d0887"
             ],
             [
              0.1111111111111111,
              "#46039f"
             ],
             [
              0.2222222222222222,
              "#7201a8"
             ],
             [
              0.3333333333333333,
              "#9c179e"
             ],
             [
              0.4444444444444444,
              "#bd3786"
             ],
             [
              0.5555555555555556,
              "#d8576b"
             ],
             [
              0.6666666666666666,
              "#ed7953"
             ],
             [
              0.7777777777777778,
              "#fb9f3a"
             ],
             [
              0.8888888888888888,
              "#fdca26"
             ],
             [
              1,
              "#f0f921"
             ]
            ],
            "type": "histogram2dcontour"
           }
          ],
          "mesh3d": [
           {
            "colorbar": {
             "outlinewidth": 0,
             "ticks": ""
            },
            "type": "mesh3d"
           }
          ],
          "parcoords": [
           {
            "line": {
             "colorbar": {
              "outlinewidth": 0,
              "ticks": ""
             }
            },
            "type": "parcoords"
           }
          ],
          "pie": [
           {
            "automargin": true,
            "type": "pie"
           }
          ],
          "scatter": [
           {
            "fillpattern": {
             "fillmode": "overlay",
             "size": 10,
             "solidity": 0.2
            },
            "type": "scatter"
           }
          ],
          "scatter3d": [
           {
            "line": {
             "colorbar": {
              "outlinewidth": 0,
              "ticks": ""
             }
            },
            "marker": {
             "colorbar": {
              "outlinewidth": 0,
              "ticks": ""
             }
            },
            "type": "scatter3d"
           }
          ],
          "scattercarpet": [
           {
            "marker": {
             "colorbar": {
              "outlinewidth": 0,
              "ticks": ""
             }
            },
            "type": "scattercarpet"
           }
          ],
          "scattergeo": [
           {
            "marker": {
             "colorbar": {
              "outlinewidth": 0,
              "ticks": ""
             }
            },
            "type": "scattergeo"
           }
          ],
          "scattergl": [
           {
            "marker": {
             "colorbar": {
              "outlinewidth": 0,
              "ticks": ""
             }
            },
            "type": "scattergl"
           }
          ],
          "scattermapbox": [
           {
            "marker": {
             "colorbar": {
              "outlinewidth": 0,
              "ticks": ""
             }
            },
            "type": "scattermapbox"
           }
          ],
          "scatterpolar": [
           {
            "marker": {
             "colorbar": {
              "outlinewidth": 0,
              "ticks": ""
             }
            },
            "type": "scatterpolar"
           }
          ],
          "scatterpolargl": [
           {
            "marker": {
             "colorbar": {
              "outlinewidth": 0,
              "ticks": ""
             }
            },
            "type": "scatterpolargl"
           }
          ],
          "scatterternary": [
           {
            "marker": {
             "colorbar": {
              "outlinewidth": 0,
              "ticks": ""
             }
            },
            "type": "scatterternary"
           }
          ],
          "surface": [
           {
            "colorbar": {
             "outlinewidth": 0,
             "ticks": ""
            },
            "colorscale": [
             [
              0,
              "#0d0887"
             ],
             [
              0.1111111111111111,
              "#46039f"
             ],
             [
              0.2222222222222222,
              "#7201a8"
             ],
             [
              0.3333333333333333,
              "#9c179e"
             ],
             [
              0.4444444444444444,
              "#bd3786"
             ],
             [
              0.5555555555555556,
              "#d8576b"
             ],
             [
              0.6666666666666666,
              "#ed7953"
             ],
             [
              0.7777777777777778,
              "#fb9f3a"
             ],
             [
              0.8888888888888888,
              "#fdca26"
             ],
             [
              1,
              "#f0f921"
             ]
            ],
            "type": "surface"
           }
          ],
          "table": [
           {
            "cells": {
             "fill": {
              "color": "#EBF0F8"
             },
             "line": {
              "color": "white"
             }
            },
            "header": {
             "fill": {
              "color": "#C8D4E3"
             },
             "line": {
              "color": "white"
             }
            },
            "type": "table"
           }
          ]
         },
         "layout": {
          "annotationdefaults": {
           "arrowcolor": "#2a3f5f",
           "arrowhead": 0,
           "arrowwidth": 1
          },
          "autotypenumbers": "strict",
          "coloraxis": {
           "colorbar": {
            "outlinewidth": 0,
            "ticks": ""
           }
          },
          "colorscale": {
           "diverging": [
            [
             0,
             "#8e0152"
            ],
            [
             0.1,
             "#c51b7d"
            ],
            [
             0.2,
             "#de77ae"
            ],
            [
             0.3,
             "#f1b6da"
            ],
            [
             0.4,
             "#fde0ef"
            ],
            [
             0.5,
             "#f7f7f7"
            ],
            [
             0.6,
             "#e6f5d0"
            ],
            [
             0.7,
             "#b8e186"
            ],
            [
             0.8,
             "#7fbc41"
            ],
            [
             0.9,
             "#4d9221"
            ],
            [
             1,
             "#276419"
            ]
           ],
           "sequential": [
            [
             0,
             "#0d0887"
            ],
            [
             0.1111111111111111,
             "#46039f"
            ],
            [
             0.2222222222222222,
             "#7201a8"
            ],
            [
             0.3333333333333333,
             "#9c179e"
            ],
            [
             0.4444444444444444,
             "#bd3786"
            ],
            [
             0.5555555555555556,
             "#d8576b"
            ],
            [
             0.6666666666666666,
             "#ed7953"
            ],
            [
             0.7777777777777778,
             "#fb9f3a"
            ],
            [
             0.8888888888888888,
             "#fdca26"
            ],
            [
             1,
             "#f0f921"
            ]
           ],
           "sequentialminus": [
            [
             0,
             "#0d0887"
            ],
            [
             0.1111111111111111,
             "#46039f"
            ],
            [
             0.2222222222222222,
             "#7201a8"
            ],
            [
             0.3333333333333333,
             "#9c179e"
            ],
            [
             0.4444444444444444,
             "#bd3786"
            ],
            [
             0.5555555555555556,
             "#d8576b"
            ],
            [
             0.6666666666666666,
             "#ed7953"
            ],
            [
             0.7777777777777778,
             "#fb9f3a"
            ],
            [
             0.8888888888888888,
             "#fdca26"
            ],
            [
             1,
             "#f0f921"
            ]
           ]
          },
          "colorway": [
           "#636efa",
           "#EF553B",
           "#00cc96",
           "#ab63fa",
           "#FFA15A",
           "#19d3f3",
           "#FF6692",
           "#B6E880",
           "#FF97FF",
           "#FECB52"
          ],
          "font": {
           "color": "#2a3f5f"
          },
          "geo": {
           "bgcolor": "white",
           "lakecolor": "white",
           "landcolor": "#E5ECF6",
           "showlakes": true,
           "showland": true,
           "subunitcolor": "white"
          },
          "hoverlabel": {
           "align": "left"
          },
          "hovermode": "closest",
          "mapbox": {
           "style": "light"
          },
          "paper_bgcolor": "white",
          "plot_bgcolor": "#E5ECF6",
          "polar": {
           "angularaxis": {
            "gridcolor": "white",
            "linecolor": "white",
            "ticks": ""
           },
           "bgcolor": "#E5ECF6",
           "radialaxis": {
            "gridcolor": "white",
            "linecolor": "white",
            "ticks": ""
           }
          },
          "scene": {
           "xaxis": {
            "backgroundcolor": "#E5ECF6",
            "gridcolor": "white",
            "gridwidth": 2,
            "linecolor": "white",
            "showbackground": true,
            "ticks": "",
            "zerolinecolor": "white"
           },
           "yaxis": {
            "backgroundcolor": "#E5ECF6",
            "gridcolor": "white",
            "gridwidth": 2,
            "linecolor": "white",
            "showbackground": true,
            "ticks": "",
            "zerolinecolor": "white"
           },
           "zaxis": {
            "backgroundcolor": "#E5ECF6",
            "gridcolor": "white",
            "gridwidth": 2,
            "linecolor": "white",
            "showbackground": true,
            "ticks": "",
            "zerolinecolor": "white"
           }
          },
          "shapedefaults": {
           "line": {
            "color": "#2a3f5f"
           }
          },
          "ternary": {
           "aaxis": {
            "gridcolor": "white",
            "linecolor": "white",
            "ticks": ""
           },
           "baxis": {
            "gridcolor": "white",
            "linecolor": "white",
            "ticks": ""
           },
           "bgcolor": "#E5ECF6",
           "caxis": {
            "gridcolor": "white",
            "linecolor": "white",
            "ticks": ""
           }
          },
          "title": {
           "x": 0.05
          },
          "xaxis": {
           "automargin": true,
           "gridcolor": "white",
           "linecolor": "white",
           "ticks": "",
           "title": {
            "standoff": 15
           },
           "zerolinecolor": "white",
           "zerolinewidth": 2
          },
          "yaxis": {
           "automargin": true,
           "gridcolor": "white",
           "linecolor": "white",
           "ticks": "",
           "title": {
            "standoff": 15
           },
           "zerolinecolor": "white",
           "zerolinewidth": 2
          }
         }
        },
        "title": {
         "text": "Top 10 Countries With the heghest Under 5 Mortality Rates (2021.5)"
        }
       }
      },
      "text/html": [
       "<div>                            <div id=\"c6480d61-7035-4676-86d6-5a3aebeb8902\" class=\"plotly-graph-div\" style=\"height:525px; width:100%;\"></div>            <script type=\"text/javascript\">                require([\"plotly\"], function(Plotly) {                    window.PLOTLYENV=window.PLOTLYENV || {};                                    if (document.getElementById(\"c6480d61-7035-4676-86d6-5a3aebeb8902\")) {                    Plotly.newPlot(                        \"c6480d61-7035-4676-86d6-5a3aebeb8902\",                        [{\"colorbar\":{\"len\":350,\"lenmode\":\"pixels\",\"title\":{\"text\":\"2021.5 Under 5 Mortality Rate\"}},\"colorscale\":[[0.0,\"#440154\"],[0.1111111111111111,\"#482878\"],[0.2222222222222222,\"#3e4989\"],[0.3333333333333333,\"#31688e\"],[0.4444444444444444,\"#26828e\"],[0.5555555555555556,\"#1f9e89\"],[0.6666666666666666,\"#35b779\"],[0.7777777777777778,\"#6ece58\"],[0.8888888888888888,\"#b5de2b\"],[1.0,\"#fde725\"]],\"locationmode\":\"country names\",\"locations\":[\"Afghanistan\",\"Angola\",\"Burkina Faso\",\"Burundi\",\"Cameroon\",\"Central African Republic\",\"Chad\",\"Cote d'Ivoire\",\"Democratic Republic of the Congo\",\"Guinea\",\"Haiti\",\"Liberia\",\"Pakistan\",\"Sierra Leone\",\"Somalia\",\"South Sudan\",\"Sudan\",\"Togo\",\"Yemen\",\"Zambia\"],\"text\":[\"Afghanistan\",\"Angola\",\"Burkina Faso\",\"Burundi\",\"Cameroon\",\"Central African Republic\",\"Chad\",\"Cote d'Ivoire\",\"Democratic Republic of the Congo\",\"Guinea\",\"Haiti\",\"Liberia\",\"Pakistan\",\"Sierra Leone\",\"Somalia\",\"South Sudan\",\"Sudan\",\"Togo\",\"Yemen\",\"Zambia\"],\"z\":[55.6575,69.4213,82.6076,52.6048,69.788,99.9161,107.0655,74.7853,78.9605,98.7269,58.6327,76.0402,63.3326,104.687,111.7846,98.6896,54.8955,62.6045,61.9089,57.6918],\"type\":\"choropleth\"}],                        {\"geo\":{\"scope\":\"world\"},\"title\":{\"text\":\"Top 10 Countries With the heghest Under 5 Mortality Rates (2021.5)\"},\"template\":{\"data\":{\"histogram2dcontour\":[{\"type\":\"histogram2dcontour\",\"colorbar\":{\"outlinewidth\":0,\"ticks\":\"\"},\"colorscale\":[[0.0,\"#0d0887\"],[0.1111111111111111,\"#46039f\"],[0.2222222222222222,\"#7201a8\"],[0.3333333333333333,\"#9c179e\"],[0.4444444444444444,\"#bd3786\"],[0.5555555555555556,\"#d8576b\"],[0.6666666666666666,\"#ed7953\"],[0.7777777777777778,\"#fb9f3a\"],[0.8888888888888888,\"#fdca26\"],[1.0,\"#f0f921\"]]}],\"choropleth\":[{\"type\":\"choropleth\",\"colorbar\":{\"outlinewidth\":0,\"ticks\":\"\"}}],\"histogram2d\":[{\"type\":\"histogram2d\",\"colorbar\":{\"outlinewidth\":0,\"ticks\":\"\"},\"colorscale\":[[0.0,\"#0d0887\"],[0.1111111111111111,\"#46039f\"],[0.2222222222222222,\"#7201a8\"],[0.3333333333333333,\"#9c179e\"],[0.4444444444444444,\"#bd3786\"],[0.5555555555555556,\"#d8576b\"],[0.6666666666666666,\"#ed7953\"],[0.7777777777777778,\"#fb9f3a\"],[0.8888888888888888,\"#fdca26\"],[1.0,\"#f0f921\"]]}],\"heatmap\":[{\"type\":\"heatmap\",\"colorbar\":{\"outlinewidth\":0,\"ticks\":\"\"},\"colorscale\":[[0.0,\"#0d0887\"],[0.1111111111111111,\"#46039f\"],[0.2222222222222222,\"#7201a8\"],[0.3333333333333333,\"#9c179e\"],[0.4444444444444444,\"#bd3786\"],[0.5555555555555556,\"#d8576b\"],[0.6666666666666666,\"#ed7953\"],[0.7777777777777778,\"#fb9f3a\"],[0.8888888888888888,\"#fdca26\"],[1.0,\"#f0f921\"]]}],\"heatmapgl\":[{\"type\":\"heatmapgl\",\"colorbar\":{\"outlinewidth\":0,\"ticks\":\"\"},\"colorscale\":[[0.0,\"#0d0887\"],[0.1111111111111111,\"#46039f\"],[0.2222222222222222,\"#7201a8\"],[0.3333333333333333,\"#9c179e\"],[0.4444444444444444,\"#bd3786\"],[0.5555555555555556,\"#d8576b\"],[0.6666666666666666,\"#ed7953\"],[0.7777777777777778,\"#fb9f3a\"],[0.8888888888888888,\"#fdca26\"],[1.0,\"#f0f921\"]]}],\"contourcarpet\":[{\"type\":\"contourcarpet\",\"colorbar\":{\"outlinewidth\":0,\"ticks\":\"\"}}],\"contour\":[{\"type\":\"contour\",\"colorbar\":{\"outlinewidth\":0,\"ticks\":\"\"},\"colorscale\":[[0.0,\"#0d0887\"],[0.1111111111111111,\"#46039f\"],[0.2222222222222222,\"#7201a8\"],[0.3333333333333333,\"#9c179e\"],[0.4444444444444444,\"#bd3786\"],[0.5555555555555556,\"#d8576b\"],[0.6666666666666666,\"#ed7953\"],[0.7777777777777778,\"#fb9f3a\"],[0.8888888888888888,\"#fdca26\"],[1.0,\"#f0f921\"]]}],\"surface\":[{\"type\":\"surface\",\"colorbar\":{\"outlinewidth\":0,\"ticks\":\"\"},\"colorscale\":[[0.0,\"#0d0887\"],[0.1111111111111111,\"#46039f\"],[0.2222222222222222,\"#7201a8\"],[0.3333333333333333,\"#9c179e\"],[0.4444444444444444,\"#bd3786\"],[0.5555555555555556,\"#d8576b\"],[0.6666666666666666,\"#ed7953\"],[0.7777777777777778,\"#fb9f3a\"],[0.8888888888888888,\"#fdca26\"],[1.0,\"#f0f921\"]]}],\"mesh3d\":[{\"type\":\"mesh3d\",\"colorbar\":{\"outlinewidth\":0,\"ticks\":\"\"}}],\"scatter\":[{\"fillpattern\":{\"fillmode\":\"overlay\",\"size\":10,\"solidity\":0.2},\"type\":\"scatter\"}],\"parcoords\":[{\"type\":\"parcoords\",\"line\":{\"colorbar\":{\"outlinewidth\":0,\"ticks\":\"\"}}}],\"scatterpolargl\":[{\"type\":\"scatterpolargl\",\"marker\":{\"colorbar\":{\"outlinewidth\":0,\"ticks\":\"\"}}}],\"bar\":[{\"error_x\":{\"color\":\"#2a3f5f\"},\"error_y\":{\"color\":\"#2a3f5f\"},\"marker\":{\"line\":{\"color\":\"#E5ECF6\",\"width\":0.5},\"pattern\":{\"fillmode\":\"overlay\",\"size\":10,\"solidity\":0.2}},\"type\":\"bar\"}],\"scattergeo\":[{\"type\":\"scattergeo\",\"marker\":{\"colorbar\":{\"outlinewidth\":0,\"ticks\":\"\"}}}],\"scatterpolar\":[{\"type\":\"scatterpolar\",\"marker\":{\"colorbar\":{\"outlinewidth\":0,\"ticks\":\"\"}}}],\"histogram\":[{\"marker\":{\"pattern\":{\"fillmode\":\"overlay\",\"size\":10,\"solidity\":0.2}},\"type\":\"histogram\"}],\"scattergl\":[{\"type\":\"scattergl\",\"marker\":{\"colorbar\":{\"outlinewidth\":0,\"ticks\":\"\"}}}],\"scatter3d\":[{\"type\":\"scatter3d\",\"line\":{\"colorbar\":{\"outlinewidth\":0,\"ticks\":\"\"}},\"marker\":{\"colorbar\":{\"outlinewidth\":0,\"ticks\":\"\"}}}],\"scattermapbox\":[{\"type\":\"scattermapbox\",\"marker\":{\"colorbar\":{\"outlinewidth\":0,\"ticks\":\"\"}}}],\"scatterternary\":[{\"type\":\"scatterternary\",\"marker\":{\"colorbar\":{\"outlinewidth\":0,\"ticks\":\"\"}}}],\"scattercarpet\":[{\"type\":\"scattercarpet\",\"marker\":{\"colorbar\":{\"outlinewidth\":0,\"ticks\":\"\"}}}],\"carpet\":[{\"aaxis\":{\"endlinecolor\":\"#2a3f5f\",\"gridcolor\":\"white\",\"linecolor\":\"white\",\"minorgridcolor\":\"white\",\"startlinecolor\":\"#2a3f5f\"},\"baxis\":{\"endlinecolor\":\"#2a3f5f\",\"gridcolor\":\"white\",\"linecolor\":\"white\",\"minorgridcolor\":\"white\",\"startlinecolor\":\"#2a3f5f\"},\"type\":\"carpet\"}],\"table\":[{\"cells\":{\"fill\":{\"color\":\"#EBF0F8\"},\"line\":{\"color\":\"white\"}},\"header\":{\"fill\":{\"color\":\"#C8D4E3\"},\"line\":{\"color\":\"white\"}},\"type\":\"table\"}],\"barpolar\":[{\"marker\":{\"line\":{\"color\":\"#E5ECF6\",\"width\":0.5},\"pattern\":{\"fillmode\":\"overlay\",\"size\":10,\"solidity\":0.2}},\"type\":\"barpolar\"}],\"pie\":[{\"automargin\":true,\"type\":\"pie\"}]},\"layout\":{\"autotypenumbers\":\"strict\",\"colorway\":[\"#636efa\",\"#EF553B\",\"#00cc96\",\"#ab63fa\",\"#FFA15A\",\"#19d3f3\",\"#FF6692\",\"#B6E880\",\"#FF97FF\",\"#FECB52\"],\"font\":{\"color\":\"#2a3f5f\"},\"hovermode\":\"closest\",\"hoverlabel\":{\"align\":\"left\"},\"paper_bgcolor\":\"white\",\"plot_bgcolor\":\"#E5ECF6\",\"polar\":{\"bgcolor\":\"#E5ECF6\",\"angularaxis\":{\"gridcolor\":\"white\",\"linecolor\":\"white\",\"ticks\":\"\"},\"radialaxis\":{\"gridcolor\":\"white\",\"linecolor\":\"white\",\"ticks\":\"\"}},\"ternary\":{\"bgcolor\":\"#E5ECF6\",\"aaxis\":{\"gridcolor\":\"white\",\"linecolor\":\"white\",\"ticks\":\"\"},\"baxis\":{\"gridcolor\":\"white\",\"linecolor\":\"white\",\"ticks\":\"\"},\"caxis\":{\"gridcolor\":\"white\",\"linecolor\":\"white\",\"ticks\":\"\"}},\"coloraxis\":{\"colorbar\":{\"outlinewidth\":0,\"ticks\":\"\"}},\"colorscale\":{\"sequential\":[[0.0,\"#0d0887\"],[0.1111111111111111,\"#46039f\"],[0.2222222222222222,\"#7201a8\"],[0.3333333333333333,\"#9c179e\"],[0.4444444444444444,\"#bd3786\"],[0.5555555555555556,\"#d8576b\"],[0.6666666666666666,\"#ed7953\"],[0.7777777777777778,\"#fb9f3a\"],[0.8888888888888888,\"#fdca26\"],[1.0,\"#f0f921\"]],\"sequentialminus\":[[0.0,\"#0d0887\"],[0.1111111111111111,\"#46039f\"],[0.2222222222222222,\"#7201a8\"],[0.3333333333333333,\"#9c179e\"],[0.4444444444444444,\"#bd3786\"],[0.5555555555555556,\"#d8576b\"],[0.6666666666666666,\"#ed7953\"],[0.7777777777777778,\"#fb9f3a\"],[0.8888888888888888,\"#fdca26\"],[1.0,\"#f0f921\"]],\"diverging\":[[0,\"#8e0152\"],[0.1,\"#c51b7d\"],[0.2,\"#de77ae\"],[0.3,\"#f1b6da\"],[0.4,\"#fde0ef\"],[0.5,\"#f7f7f7\"],[0.6,\"#e6f5d0\"],[0.7,\"#b8e186\"],[0.8,\"#7fbc41\"],[0.9,\"#4d9221\"],[1,\"#276419\"]]},\"xaxis\":{\"gridcolor\":\"white\",\"linecolor\":\"white\",\"ticks\":\"\",\"title\":{\"standoff\":15},\"zerolinecolor\":\"white\",\"automargin\":true,\"zerolinewidth\":2},\"yaxis\":{\"gridcolor\":\"white\",\"linecolor\":\"white\",\"ticks\":\"\",\"title\":{\"standoff\":15},\"zerolinecolor\":\"white\",\"automargin\":true,\"zerolinewidth\":2},\"scene\":{\"xaxis\":{\"backgroundcolor\":\"#E5ECF6\",\"gridcolor\":\"white\",\"linecolor\":\"white\",\"showbackground\":true,\"ticks\":\"\",\"zerolinecolor\":\"white\",\"gridwidth\":2},\"yaxis\":{\"backgroundcolor\":\"#E5ECF6\",\"gridcolor\":\"white\",\"linecolor\":\"white\",\"showbackground\":true,\"ticks\":\"\",\"zerolinecolor\":\"white\",\"gridwidth\":2},\"zaxis\":{\"backgroundcolor\":\"#E5ECF6\",\"gridcolor\":\"white\",\"linecolor\":\"white\",\"showbackground\":true,\"ticks\":\"\",\"zerolinecolor\":\"white\",\"gridwidth\":2}},\"shapedefaults\":{\"line\":{\"color\":\"#2a3f5f\"}},\"annotationdefaults\":{\"arrowcolor\":\"#2a3f5f\",\"arrowhead\":0,\"arrowwidth\":1},\"geo\":{\"bgcolor\":\"white\",\"landcolor\":\"#E5ECF6\",\"subunitcolor\":\"white\",\"showland\":true,\"showlakes\":true,\"lakecolor\":\"white\"},\"title\":{\"x\":0.05},\"mapbox\":{\"style\":\"light\"}}}},                        {\"responsive\": true}                    ).then(function(){\n",
       "                            \n",
       "var gd = document.getElementById('c6480d61-7035-4676-86d6-5a3aebeb8902');\n",
       "var x = new MutationObserver(function (mutations, observer) {{\n",
       "        var display = window.getComputedStyle(gd).display;\n",
       "        if (!display || display === 'none') {{\n",
       "            console.log([gd, 'removed!']);\n",
       "            Plotly.purge(gd);\n",
       "            observer.disconnect();\n",
       "        }}\n",
       "}});\n",
       "\n",
       "// Listen for the removal of the full notebook cells\n",
       "var notebookContainer = gd.closest('#notebook-container');\n",
       "if (notebookContainer) {{\n",
       "    x.observe(notebookContainer, {childList: true});\n",
       "}}\n",
       "\n",
       "// Listen for the clearing of the current output cell\n",
       "var outputEl = gd.closest('.output');\n",
       "if (outputEl) {{\n",
       "    x.observe(outputEl, {childList: true});\n",
       "}}\n",
       "\n",
       "                        })                };                });            </script>        </div>"
      ]
     },
     "metadata": {},
     "output_type": "display_data"
    }
   ],
   "source": [
    "w = Data3.groupby([\"Country.Name\"])[\"2021.5\"].mean()\n",
    "mortality = w.nlargest(20).index\n",
    "# Filter the DataFrame to include only the selected countries\n",
    "filtered_data =  Data3[Data3[\"Country.Name\"].isin(mortality)]\n",
    "data = dict(\n",
    "    type='choropleth',\n",
    "    locations=filtered_data[\"Country.Name\"],\n",
    "    locationmode='country names',\n",
    "    colorscale='Viridis',\n",
    "    text=filtered_data[\"Country.Name\"],\n",
    "    z=filtered_data[\"2021.5\"],\n",
    "    colorbar={'title': '2021.5 Under 5 Mortality Rate', 'len': 350, 'lenmode': 'pixels'}\n",
    ")\n",
    "\n",
    "layout = dict(\n",
    "    geo={'scope': 'world'},\n",
    "    title=\"Top 10 Countries With the heghest Under 5 Mortality Rates (2021.5)\"\n",
    ")\n",
    "\n",
    "choropleth_map = go.Figure(data=[data], layout=layout)\n",
    "choropleth_map.show()\n"
   ]
  },
  {
   "cell_type": "code",
   "execution_count": 144,
   "id": "6f0af14f",
   "metadata": {},
   "outputs": [
    {
     "data": {
      "application/vnd.plotly.v1+json": {
       "config": {
        "plotlyServerURL": "https://plot.ly"
       },
       "data": [
        {
         "colorbar": {
          "len": 350,
          "lenmode": "pixels",
          "title": {
           "text": "2021 Under 5 Mortality Rate"
          }
         },
         "colorscale": [
          [
           0,
           "#440154"
          ],
          [
           0.1111111111111111,
           "#482878"
          ],
          [
           0.2222222222222222,
           "#3e4989"
          ],
          [
           0.3333333333333333,
           "#31688e"
          ],
          [
           0.4444444444444444,
           "#26828e"
          ],
          [
           0.5555555555555556,
           "#1f9e89"
          ],
          [
           0.6666666666666666,
           "#35b779"
          ],
          [
           0.7777777777777778,
           "#6ece58"
          ],
          [
           0.8888888888888888,
           "#b5de2b"
          ],
          [
           1,
           "#fde725"
          ]
         ],
         "locationmode": "country names",
         "locations": [
          "Afghanistan",
          "Albania",
          "Algeria",
          "Andorra",
          "Angola",
          "Anguilla",
          "Antigua and Barbuda",
          "Argentina",
          "Armenia",
          "Australia",
          "Austria",
          "Azerbaijan",
          "Bahamas",
          "Bahrain",
          "Bangladesh",
          "Barbados",
          "Belarus",
          "Belgium",
          "Belize",
          "Bhutan",
          "Bolivia (Plurinational State of)",
          "Bosnia and Herzegovina",
          "Botswana",
          "British Virgin Islands",
          "Brunei Darussalam",
          "Bulgaria",
          "Burkina Faso",
          "Burundi",
          "Cambodia",
          "Cameroon",
          "Canada",
          "Central African Republic",
          "Chad",
          "Chile",
          "China",
          "Colombia",
          "Congo",
          "Cote d'Ivoire",
          "Cyprus",
          "Democratic Republic of the Congo",
          "Dominica",
          "Egypt",
          "Eritrea",
          "Ethiopia",
          "France",
          "Georgia",
          "Greece",
          "Guinea",
          "Haiti",
          "Iceland",
          "Iran (Islamic Republic of)",
          "Israel",
          "Japan",
          "Kenya",
          "Kuwait",
          "Latvia",
          "Liberia",
          "Luxembourg",
          "Malaysia",
          "Malta",
          "Mauritius",
          "Monaco",
          "Montserrat",
          "Myanmar",
          "Nepal",
          "Nicaragua",
          "Niue",
          "Oman",
          "Pakistan",
          "Palau",
          "Panama",
          "Papua New Guinea",
          "Paraguay",
          "Peru",
          "Philippines",
          "Poland",
          "Portugal",
          "Qatar",
          "Republic of Korea",
          "Republic of Moldova",
          "Romania",
          "Russian Federation",
          "Rwanda",
          "Saint Kitts and Nevis",
          "Saint Lucia",
          "Saint Vincent and the Grenadines",
          "Samoa",
          "San Marino",
          "Sao Tome and Principe",
          "Saudi Arabia",
          "Senegal",
          "Serbia",
          "Seychelles",
          "Sierra Leone",
          "Singapore",
          "Slovakia",
          "Slovenia",
          "Solomon Islands",
          "Somalia",
          "South Africa",
          "South Sudan",
          "Spain",
          "Sri Lanka",
          "State of Palestine",
          "Sudan",
          "Suriname",
          "Sweden",
          "Switzerland",
          "Syrian Arab Republic",
          "Tajikistan",
          "Thailand",
          "Timor-Leste",
          "Togo",
          "Tonga",
          "Trinidad and Tobago",
          "Tunisia",
          "Turkmenistan",
          "Turks and Caicos Islands",
          "Tuvalu",
          "Türkiye",
          "Uganda",
          "Ukraine",
          "United Arab Emirates",
          "United Kingdom",
          "United Republic of Tanzania",
          "United States",
          "Uruguay",
          "Uzbekistan",
          "Vanuatu",
          "Venezuela (Bolivarian Republic of)",
          "Viet Nam",
          "Yemen",
          "Zambia",
          "Zimbabwe"
         ],
         "text": [
          "Afghanistan",
          "Albania",
          "Algeria",
          "Andorra",
          "Angola",
          "Anguilla",
          "Antigua and Barbuda",
          "Argentina",
          "Armenia",
          "Australia",
          "Austria",
          "Azerbaijan",
          "Bahamas",
          "Bahrain",
          "Bangladesh",
          "Barbados",
          "Belarus",
          "Belgium",
          "Belize",
          "Bhutan",
          "Bolivia (Plurinational State of)",
          "Bosnia and Herzegovina",
          "Botswana",
          "British Virgin Islands",
          "Brunei Darussalam",
          "Bulgaria",
          "Burkina Faso",
          "Burundi",
          "Cambodia",
          "Cameroon",
          "Canada",
          "Central African Republic",
          "Chad",
          "Chile",
          "China",
          "Colombia",
          "Congo",
          "Cote d'Ivoire",
          "Cyprus",
          "Democratic Republic of the Congo",
          "Dominica",
          "Egypt",
          "Eritrea",
          "Ethiopia",
          "France",
          "Georgia",
          "Greece",
          "Guinea",
          "Haiti",
          "Iceland",
          "Iran (Islamic Republic of)",
          "Israel",
          "Japan",
          "Kenya",
          "Kuwait",
          "Latvia",
          "Liberia",
          "Luxembourg",
          "Malaysia",
          "Malta",
          "Mauritius",
          "Monaco",
          "Montserrat",
          "Myanmar",
          "Nepal",
          "Nicaragua",
          "Niue",
          "Oman",
          "Pakistan",
          "Palau",
          "Panama",
          "Papua New Guinea",
          "Paraguay",
          "Peru",
          "Philippines",
          "Poland",
          "Portugal",
          "Qatar",
          "Republic of Korea",
          "Republic of Moldova",
          "Romania",
          "Russian Federation",
          "Rwanda",
          "Saint Kitts and Nevis",
          "Saint Lucia",
          "Saint Vincent and the Grenadines",
          "Samoa",
          "San Marino",
          "Sao Tome and Principe",
          "Saudi Arabia",
          "Senegal",
          "Serbia",
          "Seychelles",
          "Sierra Leone",
          "Singapore",
          "Slovakia",
          "Slovenia",
          "Solomon Islands",
          "Somalia",
          "South Africa",
          "South Sudan",
          "Spain",
          "Sri Lanka",
          "State of Palestine",
          "Sudan",
          "Suriname",
          "Sweden",
          "Switzerland",
          "Syrian Arab Republic",
          "Tajikistan",
          "Thailand",
          "Timor-Leste",
          "Togo",
          "Tonga",
          "Trinidad and Tobago",
          "Tunisia",
          "Turkmenistan",
          "Turks and Caicos Islands",
          "Tuvalu",
          "Türkiye",
          "Uganda",
          "Ukraine",
          "United Arab Emirates",
          "United Kingdom",
          "United Republic of Tanzania",
          "United States",
          "Uruguay",
          "Uzbekistan",
          "Vanuatu",
          "Venezuela (Bolivarian Republic of)",
          "Viet Nam",
          "Yemen",
          "Zambia",
          "Zimbabwe"
         ],
         "type": "choropleth",
         "z": [
          55.6575,
          9.4559,
          22.3353,
          2.7564,
          69.4213,
          4.0451,
          6.1446,
          6.9182,
          10.7211,
          3.7119,
          3.6576,
          18.5862,
          13.1591,
          6.9156,
          27.2736,
          11.9135,
          2.7249,
          4.1007,
          11.1866,
          26.6874,
          24.6919,
          5.6006,
          34.8694,
          10.4629,
          11.476,
          6.3243,
          82.6076,
          52.6048,
          24.7636,
          69.788,
          5.0413,
          99.9161,
          107.0655,
          6.5534,
          6.9346,
          12.8482,
          42.9679,
          74.7853,
          2.7855,
          78.9605,
          35.8948,
          18.9578,
          38.0916,
          46.8115,
          4.3538,
          9.4798,
          3.7141,
          98.7269,
          58.6327,
          2.6359,
          12.6313,
          3.3566,
          2.3024,
          37.1526,
          8.7338,
          3.6796,
          76.0402,
          2.7349,
          7.5561,
          5.832,
          16.6172,
          2.9236,
          5.2735,
          41.8124,
          27.1635,
          13.2554,
          24.1315,
          10.1395,
          63.3326,
          16.2452,
          13.8705,
          42.8119,
          18.1575,
          14.1226,
          25.7395,
          4.3466,
          3.0985,
          5.3061,
          2.8882,
          14.1965,
          6.4269,
          5.0549,
          39.4389,
          14.5602,
          24.8206,
          13.7103,
          16.7185,
          1.7172,
          15.4256,
          6.7211,
          38.5999,
          5.4873,
          13.9128,
          104.687,
          2.0883,
          5.6331,
          2.1696,
          18.7853,
          111.7846,
          32.8473,
          98.6896,
          3.0454,
          6.7481,
          14.8348,
          54.8955,
          17.1758,
          2.4645,
          3.8306,
          22.2724,
          31.419,
          8.291,
          50.549,
          62.6045,
          11.1399,
          16.3318,
          16.3213,
          41.4278,
          4.4894,
          21.2541,
          8.9802,
          42.1282,
          8.2232,
          6.3718,
          4.1854,
          47.1164,
          6.243,
          5.8231,
          14.0661,
          23.2141,
          24.2297,
          20.6016,
          61.9089,
          57.6918,
          49.522
         ]
        }
       ],
       "layout": {
        "geo": {
         "scope": "world"
        },
        "template": {
         "data": {
          "bar": [
           {
            "error_x": {
             "color": "#2a3f5f"
            },
            "error_y": {
             "color": "#2a3f5f"
            },
            "marker": {
             "line": {
              "color": "#E5ECF6",
              "width": 0.5
             },
             "pattern": {
              "fillmode": "overlay",
              "size": 10,
              "solidity": 0.2
             }
            },
            "type": "bar"
           }
          ],
          "barpolar": [
           {
            "marker": {
             "line": {
              "color": "#E5ECF6",
              "width": 0.5
             },
             "pattern": {
              "fillmode": "overlay",
              "size": 10,
              "solidity": 0.2
             }
            },
            "type": "barpolar"
           }
          ],
          "carpet": [
           {
            "aaxis": {
             "endlinecolor": "#2a3f5f",
             "gridcolor": "white",
             "linecolor": "white",
             "minorgridcolor": "white",
             "startlinecolor": "#2a3f5f"
            },
            "baxis": {
             "endlinecolor": "#2a3f5f",
             "gridcolor": "white",
             "linecolor": "white",
             "minorgridcolor": "white",
             "startlinecolor": "#2a3f5f"
            },
            "type": "carpet"
           }
          ],
          "choropleth": [
           {
            "colorbar": {
             "outlinewidth": 0,
             "ticks": ""
            },
            "type": "choropleth"
           }
          ],
          "contour": [
           {
            "colorbar": {
             "outlinewidth": 0,
             "ticks": ""
            },
            "colorscale": [
             [
              0,
              "#0d0887"
             ],
             [
              0.1111111111111111,
              "#46039f"
             ],
             [
              0.2222222222222222,
              "#7201a8"
             ],
             [
              0.3333333333333333,
              "#9c179e"
             ],
             [
              0.4444444444444444,
              "#bd3786"
             ],
             [
              0.5555555555555556,
              "#d8576b"
             ],
             [
              0.6666666666666666,
              "#ed7953"
             ],
             [
              0.7777777777777778,
              "#fb9f3a"
             ],
             [
              0.8888888888888888,
              "#fdca26"
             ],
             [
              1,
              "#f0f921"
             ]
            ],
            "type": "contour"
           }
          ],
          "contourcarpet": [
           {
            "colorbar": {
             "outlinewidth": 0,
             "ticks": ""
            },
            "type": "contourcarpet"
           }
          ],
          "heatmap": [
           {
            "colorbar": {
             "outlinewidth": 0,
             "ticks": ""
            },
            "colorscale": [
             [
              0,
              "#0d0887"
             ],
             [
              0.1111111111111111,
              "#46039f"
             ],
             [
              0.2222222222222222,
              "#7201a8"
             ],
             [
              0.3333333333333333,
              "#9c179e"
             ],
             [
              0.4444444444444444,
              "#bd3786"
             ],
             [
              0.5555555555555556,
              "#d8576b"
             ],
             [
              0.6666666666666666,
              "#ed7953"
             ],
             [
              0.7777777777777778,
              "#fb9f3a"
             ],
             [
              0.8888888888888888,
              "#fdca26"
             ],
             [
              1,
              "#f0f921"
             ]
            ],
            "type": "heatmap"
           }
          ],
          "heatmapgl": [
           {
            "colorbar": {
             "outlinewidth": 0,
             "ticks": ""
            },
            "colorscale": [
             [
              0,
              "#0d0887"
             ],
             [
              0.1111111111111111,
              "#46039f"
             ],
             [
              0.2222222222222222,
              "#7201a8"
             ],
             [
              0.3333333333333333,
              "#9c179e"
             ],
             [
              0.4444444444444444,
              "#bd3786"
             ],
             [
              0.5555555555555556,
              "#d8576b"
             ],
             [
              0.6666666666666666,
              "#ed7953"
             ],
             [
              0.7777777777777778,
              "#fb9f3a"
             ],
             [
              0.8888888888888888,
              "#fdca26"
             ],
             [
              1,
              "#f0f921"
             ]
            ],
            "type": "heatmapgl"
           }
          ],
          "histogram": [
           {
            "marker": {
             "pattern": {
              "fillmode": "overlay",
              "size": 10,
              "solidity": 0.2
             }
            },
            "type": "histogram"
           }
          ],
          "histogram2d": [
           {
            "colorbar": {
             "outlinewidth": 0,
             "ticks": ""
            },
            "colorscale": [
             [
              0,
              "#0d0887"
             ],
             [
              0.1111111111111111,
              "#46039f"
             ],
             [
              0.2222222222222222,
              "#7201a8"
             ],
             [
              0.3333333333333333,
              "#9c179e"
             ],
             [
              0.4444444444444444,
              "#bd3786"
             ],
             [
              0.5555555555555556,
              "#d8576b"
             ],
             [
              0.6666666666666666,
              "#ed7953"
             ],
             [
              0.7777777777777778,
              "#fb9f3a"
             ],
             [
              0.8888888888888888,
              "#fdca26"
             ],
             [
              1,
              "#f0f921"
             ]
            ],
            "type": "histogram2d"
           }
          ],
          "histogram2dcontour": [
           {
            "colorbar": {
             "outlinewidth": 0,
             "ticks": ""
            },
            "colorscale": [
             [
              0,
              "#0d0887"
             ],
             [
              0.1111111111111111,
              "#46039f"
             ],
             [
              0.2222222222222222,
              "#7201a8"
             ],
             [
              0.3333333333333333,
              "#9c179e"
             ],
             [
              0.4444444444444444,
              "#bd3786"
             ],
             [
              0.5555555555555556,
              "#d8576b"
             ],
             [
              0.6666666666666666,
              "#ed7953"
             ],
             [
              0.7777777777777778,
              "#fb9f3a"
             ],
             [
              0.8888888888888888,
              "#fdca26"
             ],
             [
              1,
              "#f0f921"
             ]
            ],
            "type": "histogram2dcontour"
           }
          ],
          "mesh3d": [
           {
            "colorbar": {
             "outlinewidth": 0,
             "ticks": ""
            },
            "type": "mesh3d"
           }
          ],
          "parcoords": [
           {
            "line": {
             "colorbar": {
              "outlinewidth": 0,
              "ticks": ""
             }
            },
            "type": "parcoords"
           }
          ],
          "pie": [
           {
            "automargin": true,
            "type": "pie"
           }
          ],
          "scatter": [
           {
            "fillpattern": {
             "fillmode": "overlay",
             "size": 10,
             "solidity": 0.2
            },
            "type": "scatter"
           }
          ],
          "scatter3d": [
           {
            "line": {
             "colorbar": {
              "outlinewidth": 0,
              "ticks": ""
             }
            },
            "marker": {
             "colorbar": {
              "outlinewidth": 0,
              "ticks": ""
             }
            },
            "type": "scatter3d"
           }
          ],
          "scattercarpet": [
           {
            "marker": {
             "colorbar": {
              "outlinewidth": 0,
              "ticks": ""
             }
            },
            "type": "scattercarpet"
           }
          ],
          "scattergeo": [
           {
            "marker": {
             "colorbar": {
              "outlinewidth": 0,
              "ticks": ""
             }
            },
            "type": "scattergeo"
           }
          ],
          "scattergl": [
           {
            "marker": {
             "colorbar": {
              "outlinewidth": 0,
              "ticks": ""
             }
            },
            "type": "scattergl"
           }
          ],
          "scattermapbox": [
           {
            "marker": {
             "colorbar": {
              "outlinewidth": 0,
              "ticks": ""
             }
            },
            "type": "scattermapbox"
           }
          ],
          "scatterpolar": [
           {
            "marker": {
             "colorbar": {
              "outlinewidth": 0,
              "ticks": ""
             }
            },
            "type": "scatterpolar"
           }
          ],
          "scatterpolargl": [
           {
            "marker": {
             "colorbar": {
              "outlinewidth": 0,
              "ticks": ""
             }
            },
            "type": "scatterpolargl"
           }
          ],
          "scatterternary": [
           {
            "marker": {
             "colorbar": {
              "outlinewidth": 0,
              "ticks": ""
             }
            },
            "type": "scatterternary"
           }
          ],
          "surface": [
           {
            "colorbar": {
             "outlinewidth": 0,
             "ticks": ""
            },
            "colorscale": [
             [
              0,
              "#0d0887"
             ],
             [
              0.1111111111111111,
              "#46039f"
             ],
             [
              0.2222222222222222,
              "#7201a8"
             ],
             [
              0.3333333333333333,
              "#9c179e"
             ],
             [
              0.4444444444444444,
              "#bd3786"
             ],
             [
              0.5555555555555556,
              "#d8576b"
             ],
             [
              0.6666666666666666,
              "#ed7953"
             ],
             [
              0.7777777777777778,
              "#fb9f3a"
             ],
             [
              0.8888888888888888,
              "#fdca26"
             ],
             [
              1,
              "#f0f921"
             ]
            ],
            "type": "surface"
           }
          ],
          "table": [
           {
            "cells": {
             "fill": {
              "color": "#EBF0F8"
             },
             "line": {
              "color": "white"
             }
            },
            "header": {
             "fill": {
              "color": "#C8D4E3"
             },
             "line": {
              "color": "white"
             }
            },
            "type": "table"
           }
          ]
         },
         "layout": {
          "annotationdefaults": {
           "arrowcolor": "#2a3f5f",
           "arrowhead": 0,
           "arrowwidth": 1
          },
          "autotypenumbers": "strict",
          "coloraxis": {
           "colorbar": {
            "outlinewidth": 0,
            "ticks": ""
           }
          },
          "colorscale": {
           "diverging": [
            [
             0,
             "#8e0152"
            ],
            [
             0.1,
             "#c51b7d"
            ],
            [
             0.2,
             "#de77ae"
            ],
            [
             0.3,
             "#f1b6da"
            ],
            [
             0.4,
             "#fde0ef"
            ],
            [
             0.5,
             "#f7f7f7"
            ],
            [
             0.6,
             "#e6f5d0"
            ],
            [
             0.7,
             "#b8e186"
            ],
            [
             0.8,
             "#7fbc41"
            ],
            [
             0.9,
             "#4d9221"
            ],
            [
             1,
             "#276419"
            ]
           ],
           "sequential": [
            [
             0,
             "#0d0887"
            ],
            [
             0.1111111111111111,
             "#46039f"
            ],
            [
             0.2222222222222222,
             "#7201a8"
            ],
            [
             0.3333333333333333,
             "#9c179e"
            ],
            [
             0.4444444444444444,
             "#bd3786"
            ],
            [
             0.5555555555555556,
             "#d8576b"
            ],
            [
             0.6666666666666666,
             "#ed7953"
            ],
            [
             0.7777777777777778,
             "#fb9f3a"
            ],
            [
             0.8888888888888888,
             "#fdca26"
            ],
            [
             1,
             "#f0f921"
            ]
           ],
           "sequentialminus": [
            [
             0,
             "#0d0887"
            ],
            [
             0.1111111111111111,
             "#46039f"
            ],
            [
             0.2222222222222222,
             "#7201a8"
            ],
            [
             0.3333333333333333,
             "#9c179e"
            ],
            [
             0.4444444444444444,
             "#bd3786"
            ],
            [
             0.5555555555555556,
             "#d8576b"
            ],
            [
             0.6666666666666666,
             "#ed7953"
            ],
            [
             0.7777777777777778,
             "#fb9f3a"
            ],
            [
             0.8888888888888888,
             "#fdca26"
            ],
            [
             1,
             "#f0f921"
            ]
           ]
          },
          "colorway": [
           "#636efa",
           "#EF553B",
           "#00cc96",
           "#ab63fa",
           "#FFA15A",
           "#19d3f3",
           "#FF6692",
           "#B6E880",
           "#FF97FF",
           "#FECB52"
          ],
          "font": {
           "color": "#2a3f5f"
          },
          "geo": {
           "bgcolor": "white",
           "lakecolor": "white",
           "landcolor": "#E5ECF6",
           "showlakes": true,
           "showland": true,
           "subunitcolor": "white"
          },
          "hoverlabel": {
           "align": "left"
          },
          "hovermode": "closest",
          "mapbox": {
           "style": "light"
          },
          "paper_bgcolor": "white",
          "plot_bgcolor": "#E5ECF6",
          "polar": {
           "angularaxis": {
            "gridcolor": "white",
            "linecolor": "white",
            "ticks": ""
           },
           "bgcolor": "#E5ECF6",
           "radialaxis": {
            "gridcolor": "white",
            "linecolor": "white",
            "ticks": ""
           }
          },
          "scene": {
           "xaxis": {
            "backgroundcolor": "#E5ECF6",
            "gridcolor": "white",
            "gridwidth": 2,
            "linecolor": "white",
            "showbackground": true,
            "ticks": "",
            "zerolinecolor": "white"
           },
           "yaxis": {
            "backgroundcolor": "#E5ECF6",
            "gridcolor": "white",
            "gridwidth": 2,
            "linecolor": "white",
            "showbackground": true,
            "ticks": "",
            "zerolinecolor": "white"
           },
           "zaxis": {
            "backgroundcolor": "#E5ECF6",
            "gridcolor": "white",
            "gridwidth": 2,
            "linecolor": "white",
            "showbackground": true,
            "ticks": "",
            "zerolinecolor": "white"
           }
          },
          "shapedefaults": {
           "line": {
            "color": "#2a3f5f"
           }
          },
          "ternary": {
           "aaxis": {
            "gridcolor": "white",
            "linecolor": "white",
            "ticks": ""
           },
           "baxis": {
            "gridcolor": "white",
            "linecolor": "white",
            "ticks": ""
           },
           "bgcolor": "#E5ECF6",
           "caxis": {
            "gridcolor": "white",
            "linecolor": "white",
            "ticks": ""
           }
          },
          "title": {
           "x": 0.05
          },
          "xaxis": {
           "automargin": true,
           "gridcolor": "white",
           "linecolor": "white",
           "ticks": "",
           "title": {
            "standoff": 15
           },
           "zerolinecolor": "white",
           "zerolinewidth": 2
          },
          "yaxis": {
           "automargin": true,
           "gridcolor": "white",
           "linecolor": "white",
           "ticks": "",
           "title": {
            "standoff": 15
           },
           "zerolinecolor": "white",
           "zerolinewidth": 2
          }
         }
        },
        "title": {
         "text": "Under 5 Mortality Rate of 2021.5 (Death Per 1000 Births)"
        }
       }
      },
      "text/html": [
       "<div>                            <div id=\"dda1a8ee-07c8-401d-8990-aa7b10156281\" class=\"plotly-graph-div\" style=\"height:525px; width:100%;\"></div>            <script type=\"text/javascript\">                require([\"plotly\"], function(Plotly) {                    window.PLOTLYENV=window.PLOTLYENV || {};                                    if (document.getElementById(\"dda1a8ee-07c8-401d-8990-aa7b10156281\")) {                    Plotly.newPlot(                        \"dda1a8ee-07c8-401d-8990-aa7b10156281\",                        [{\"colorbar\":{\"len\":350,\"lenmode\":\"pixels\",\"title\":{\"text\":\"2021 Under 5 Mortality Rate\"}},\"colorscale\":[[0.0,\"#440154\"],[0.1111111111111111,\"#482878\"],[0.2222222222222222,\"#3e4989\"],[0.3333333333333333,\"#31688e\"],[0.4444444444444444,\"#26828e\"],[0.5555555555555556,\"#1f9e89\"],[0.6666666666666666,\"#35b779\"],[0.7777777777777778,\"#6ece58\"],[0.8888888888888888,\"#b5de2b\"],[1.0,\"#fde725\"]],\"locationmode\":\"country names\",\"locations\":[\"Afghanistan\",\"Albania\",\"Algeria\",\"Andorra\",\"Angola\",\"Anguilla\",\"Antigua and Barbuda\",\"Argentina\",\"Armenia\",\"Australia\",\"Austria\",\"Azerbaijan\",\"Bahamas\",\"Bahrain\",\"Bangladesh\",\"Barbados\",\"Belarus\",\"Belgium\",\"Belize\",\"Bhutan\",\"Bolivia (Plurinational State of)\",\"Bosnia and Herzegovina\",\"Botswana\",\"British Virgin Islands\",\"Brunei Darussalam\",\"Bulgaria\",\"Burkina Faso\",\"Burundi\",\"Cambodia\",\"Cameroon\",\"Canada\",\"Central African Republic\",\"Chad\",\"Chile\",\"China\",\"Colombia\",\"Congo\",\"Cote d'Ivoire\",\"Cyprus\",\"Democratic Republic of the Congo\",\"Dominica\",\"Egypt\",\"Eritrea\",\"Ethiopia\",\"France\",\"Georgia\",\"Greece\",\"Guinea\",\"Haiti\",\"Iceland\",\"Iran (Islamic Republic of)\",\"Israel\",\"Japan\",\"Kenya\",\"Kuwait\",\"Latvia\",\"Liberia\",\"Luxembourg\",\"Malaysia\",\"Malta\",\"Mauritius\",\"Monaco\",\"Montserrat\",\"Myanmar\",\"Nepal\",\"Nicaragua\",\"Niue\",\"Oman\",\"Pakistan\",\"Palau\",\"Panama\",\"Papua New Guinea\",\"Paraguay\",\"Peru\",\"Philippines\",\"Poland\",\"Portugal\",\"Qatar\",\"Republic of Korea\",\"Republic of Moldova\",\"Romania\",\"Russian Federation\",\"Rwanda\",\"Saint Kitts and Nevis\",\"Saint Lucia\",\"Saint Vincent and the Grenadines\",\"Samoa\",\"San Marino\",\"Sao Tome and Principe\",\"Saudi Arabia\",\"Senegal\",\"Serbia\",\"Seychelles\",\"Sierra Leone\",\"Singapore\",\"Slovakia\",\"Slovenia\",\"Solomon Islands\",\"Somalia\",\"South Africa\",\"South Sudan\",\"Spain\",\"Sri Lanka\",\"State of Palestine\",\"Sudan\",\"Suriname\",\"Sweden\",\"Switzerland\",\"Syrian Arab Republic\",\"Tajikistan\",\"Thailand\",\"Timor-Leste\",\"Togo\",\"Tonga\",\"Trinidad and Tobago\",\"Tunisia\",\"Turkmenistan\",\"Turks and Caicos Islands\",\"Tuvalu\",\"T\\u00fcrkiye\",\"Uganda\",\"Ukraine\",\"United Arab Emirates\",\"United Kingdom\",\"United Republic of Tanzania\",\"United States\",\"Uruguay\",\"Uzbekistan\",\"Vanuatu\",\"Venezuela (Bolivarian Republic of)\",\"Viet Nam\",\"Yemen\",\"Zambia\",\"Zimbabwe\"],\"text\":[\"Afghanistan\",\"Albania\",\"Algeria\",\"Andorra\",\"Angola\",\"Anguilla\",\"Antigua and Barbuda\",\"Argentina\",\"Armenia\",\"Australia\",\"Austria\",\"Azerbaijan\",\"Bahamas\",\"Bahrain\",\"Bangladesh\",\"Barbados\",\"Belarus\",\"Belgium\",\"Belize\",\"Bhutan\",\"Bolivia (Plurinational State of)\",\"Bosnia and Herzegovina\",\"Botswana\",\"British Virgin Islands\",\"Brunei Darussalam\",\"Bulgaria\",\"Burkina Faso\",\"Burundi\",\"Cambodia\",\"Cameroon\",\"Canada\",\"Central African Republic\",\"Chad\",\"Chile\",\"China\",\"Colombia\",\"Congo\",\"Cote d'Ivoire\",\"Cyprus\",\"Democratic Republic of the Congo\",\"Dominica\",\"Egypt\",\"Eritrea\",\"Ethiopia\",\"France\",\"Georgia\",\"Greece\",\"Guinea\",\"Haiti\",\"Iceland\",\"Iran (Islamic Republic of)\",\"Israel\",\"Japan\",\"Kenya\",\"Kuwait\",\"Latvia\",\"Liberia\",\"Luxembourg\",\"Malaysia\",\"Malta\",\"Mauritius\",\"Monaco\",\"Montserrat\",\"Myanmar\",\"Nepal\",\"Nicaragua\",\"Niue\",\"Oman\",\"Pakistan\",\"Palau\",\"Panama\",\"Papua New Guinea\",\"Paraguay\",\"Peru\",\"Philippines\",\"Poland\",\"Portugal\",\"Qatar\",\"Republic of Korea\",\"Republic of Moldova\",\"Romania\",\"Russian Federation\",\"Rwanda\",\"Saint Kitts and Nevis\",\"Saint Lucia\",\"Saint Vincent and the Grenadines\",\"Samoa\",\"San Marino\",\"Sao Tome and Principe\",\"Saudi Arabia\",\"Senegal\",\"Serbia\",\"Seychelles\",\"Sierra Leone\",\"Singapore\",\"Slovakia\",\"Slovenia\",\"Solomon Islands\",\"Somalia\",\"South Africa\",\"South Sudan\",\"Spain\",\"Sri Lanka\",\"State of Palestine\",\"Sudan\",\"Suriname\",\"Sweden\",\"Switzerland\",\"Syrian Arab Republic\",\"Tajikistan\",\"Thailand\",\"Timor-Leste\",\"Togo\",\"Tonga\",\"Trinidad and Tobago\",\"Tunisia\",\"Turkmenistan\",\"Turks and Caicos Islands\",\"Tuvalu\",\"T\\u00fcrkiye\",\"Uganda\",\"Ukraine\",\"United Arab Emirates\",\"United Kingdom\",\"United Republic of Tanzania\",\"United States\",\"Uruguay\",\"Uzbekistan\",\"Vanuatu\",\"Venezuela (Bolivarian Republic of)\",\"Viet Nam\",\"Yemen\",\"Zambia\",\"Zimbabwe\"],\"z\":[55.6575,9.4559,22.3353,2.7564,69.4213,4.0451,6.1446,6.9182,10.7211,3.7119,3.6576,18.5862,13.1591,6.9156,27.2736,11.9135,2.7249,4.1007,11.1866,26.6874,24.6919,5.6006,34.8694,10.4629,11.476,6.3243,82.6076,52.6048,24.7636,69.788,5.0413,99.9161,107.0655,6.5534,6.9346,12.8482,42.9679,74.7853,2.7855,78.9605,35.8948,18.9578,38.0916,46.8115,4.3538,9.4798,3.7141,98.7269,58.6327,2.6359,12.6313,3.3566,2.3024,37.1526,8.7338,3.6796,76.0402,2.7349,7.5561,5.832,16.6172,2.9236,5.2735,41.8124,27.1635,13.2554,24.1315,10.1395,63.3326,16.2452,13.8705,42.8119,18.1575,14.1226,25.7395,4.3466,3.0985,5.3061,2.8882,14.1965,6.4269,5.0549,39.4389,14.5602,24.8206,13.7103,16.7185,1.7172,15.4256,6.7211,38.5999,5.4873,13.9128,104.687,2.0883,5.6331,2.1696,18.7853,111.7846,32.8473,98.6896,3.0454,6.7481,14.8348,54.8955,17.1758,2.4645,3.8306,22.2724,31.419,8.291,50.549,62.6045,11.1399,16.3318,16.3213,41.4278,4.4894,21.2541,8.9802,42.1282,8.2232,6.3718,4.1854,47.1164,6.243,5.8231,14.0661,23.2141,24.2297,20.6016,61.9089,57.6918,49.522],\"type\":\"choropleth\"}],                        {\"geo\":{\"scope\":\"world\"},\"title\":{\"text\":\"Under 5 Mortality Rate of 2021.5 (Death Per 1000 Births)\"},\"template\":{\"data\":{\"histogram2dcontour\":[{\"type\":\"histogram2dcontour\",\"colorbar\":{\"outlinewidth\":0,\"ticks\":\"\"},\"colorscale\":[[0.0,\"#0d0887\"],[0.1111111111111111,\"#46039f\"],[0.2222222222222222,\"#7201a8\"],[0.3333333333333333,\"#9c179e\"],[0.4444444444444444,\"#bd3786\"],[0.5555555555555556,\"#d8576b\"],[0.6666666666666666,\"#ed7953\"],[0.7777777777777778,\"#fb9f3a\"],[0.8888888888888888,\"#fdca26\"],[1.0,\"#f0f921\"]]}],\"choropleth\":[{\"type\":\"choropleth\",\"colorbar\":{\"outlinewidth\":0,\"ticks\":\"\"}}],\"histogram2d\":[{\"type\":\"histogram2d\",\"colorbar\":{\"outlinewidth\":0,\"ticks\":\"\"},\"colorscale\":[[0.0,\"#0d0887\"],[0.1111111111111111,\"#46039f\"],[0.2222222222222222,\"#7201a8\"],[0.3333333333333333,\"#9c179e\"],[0.4444444444444444,\"#bd3786\"],[0.5555555555555556,\"#d8576b\"],[0.6666666666666666,\"#ed7953\"],[0.7777777777777778,\"#fb9f3a\"],[0.8888888888888888,\"#fdca26\"],[1.0,\"#f0f921\"]]}],\"heatmap\":[{\"type\":\"heatmap\",\"colorbar\":{\"outlinewidth\":0,\"ticks\":\"\"},\"colorscale\":[[0.0,\"#0d0887\"],[0.1111111111111111,\"#46039f\"],[0.2222222222222222,\"#7201a8\"],[0.3333333333333333,\"#9c179e\"],[0.4444444444444444,\"#bd3786\"],[0.5555555555555556,\"#d8576b\"],[0.6666666666666666,\"#ed7953\"],[0.7777777777777778,\"#fb9f3a\"],[0.8888888888888888,\"#fdca26\"],[1.0,\"#f0f921\"]]}],\"heatmapgl\":[{\"type\":\"heatmapgl\",\"colorbar\":{\"outlinewidth\":0,\"ticks\":\"\"},\"colorscale\":[[0.0,\"#0d0887\"],[0.1111111111111111,\"#46039f\"],[0.2222222222222222,\"#7201a8\"],[0.3333333333333333,\"#9c179e\"],[0.4444444444444444,\"#bd3786\"],[0.5555555555555556,\"#d8576b\"],[0.6666666666666666,\"#ed7953\"],[0.7777777777777778,\"#fb9f3a\"],[0.8888888888888888,\"#fdca26\"],[1.0,\"#f0f921\"]]}],\"contourcarpet\":[{\"type\":\"contourcarpet\",\"colorbar\":{\"outlinewidth\":0,\"ticks\":\"\"}}],\"contour\":[{\"type\":\"contour\",\"colorbar\":{\"outlinewidth\":0,\"ticks\":\"\"},\"colorscale\":[[0.0,\"#0d0887\"],[0.1111111111111111,\"#46039f\"],[0.2222222222222222,\"#7201a8\"],[0.3333333333333333,\"#9c179e\"],[0.4444444444444444,\"#bd3786\"],[0.5555555555555556,\"#d8576b\"],[0.6666666666666666,\"#ed7953\"],[0.7777777777777778,\"#fb9f3a\"],[0.8888888888888888,\"#fdca26\"],[1.0,\"#f0f921\"]]}],\"surface\":[{\"type\":\"surface\",\"colorbar\":{\"outlinewidth\":0,\"ticks\":\"\"},\"colorscale\":[[0.0,\"#0d0887\"],[0.1111111111111111,\"#46039f\"],[0.2222222222222222,\"#7201a8\"],[0.3333333333333333,\"#9c179e\"],[0.4444444444444444,\"#bd3786\"],[0.5555555555555556,\"#d8576b\"],[0.6666666666666666,\"#ed7953\"],[0.7777777777777778,\"#fb9f3a\"],[0.8888888888888888,\"#fdca26\"],[1.0,\"#f0f921\"]]}],\"mesh3d\":[{\"type\":\"mesh3d\",\"colorbar\":{\"outlinewidth\":0,\"ticks\":\"\"}}],\"scatter\":[{\"fillpattern\":{\"fillmode\":\"overlay\",\"size\":10,\"solidity\":0.2},\"type\":\"scatter\"}],\"parcoords\":[{\"type\":\"parcoords\",\"line\":{\"colorbar\":{\"outlinewidth\":0,\"ticks\":\"\"}}}],\"scatterpolargl\":[{\"type\":\"scatterpolargl\",\"marker\":{\"colorbar\":{\"outlinewidth\":0,\"ticks\":\"\"}}}],\"bar\":[{\"error_x\":{\"color\":\"#2a3f5f\"},\"error_y\":{\"color\":\"#2a3f5f\"},\"marker\":{\"line\":{\"color\":\"#E5ECF6\",\"width\":0.5},\"pattern\":{\"fillmode\":\"overlay\",\"size\":10,\"solidity\":0.2}},\"type\":\"bar\"}],\"scattergeo\":[{\"type\":\"scattergeo\",\"marker\":{\"colorbar\":{\"outlinewidth\":0,\"ticks\":\"\"}}}],\"scatterpolar\":[{\"type\":\"scatterpolar\",\"marker\":{\"colorbar\":{\"outlinewidth\":0,\"ticks\":\"\"}}}],\"histogram\":[{\"marker\":{\"pattern\":{\"fillmode\":\"overlay\",\"size\":10,\"solidity\":0.2}},\"type\":\"histogram\"}],\"scattergl\":[{\"type\":\"scattergl\",\"marker\":{\"colorbar\":{\"outlinewidth\":0,\"ticks\":\"\"}}}],\"scatter3d\":[{\"type\":\"scatter3d\",\"line\":{\"colorbar\":{\"outlinewidth\":0,\"ticks\":\"\"}},\"marker\":{\"colorbar\":{\"outlinewidth\":0,\"ticks\":\"\"}}}],\"scattermapbox\":[{\"type\":\"scattermapbox\",\"marker\":{\"colorbar\":{\"outlinewidth\":0,\"ticks\":\"\"}}}],\"scatterternary\":[{\"type\":\"scatterternary\",\"marker\":{\"colorbar\":{\"outlinewidth\":0,\"ticks\":\"\"}}}],\"scattercarpet\":[{\"type\":\"scattercarpet\",\"marker\":{\"colorbar\":{\"outlinewidth\":0,\"ticks\":\"\"}}}],\"carpet\":[{\"aaxis\":{\"endlinecolor\":\"#2a3f5f\",\"gridcolor\":\"white\",\"linecolor\":\"white\",\"minorgridcolor\":\"white\",\"startlinecolor\":\"#2a3f5f\"},\"baxis\":{\"endlinecolor\":\"#2a3f5f\",\"gridcolor\":\"white\",\"linecolor\":\"white\",\"minorgridcolor\":\"white\",\"startlinecolor\":\"#2a3f5f\"},\"type\":\"carpet\"}],\"table\":[{\"cells\":{\"fill\":{\"color\":\"#EBF0F8\"},\"line\":{\"color\":\"white\"}},\"header\":{\"fill\":{\"color\":\"#C8D4E3\"},\"line\":{\"color\":\"white\"}},\"type\":\"table\"}],\"barpolar\":[{\"marker\":{\"line\":{\"color\":\"#E5ECF6\",\"width\":0.5},\"pattern\":{\"fillmode\":\"overlay\",\"size\":10,\"solidity\":0.2}},\"type\":\"barpolar\"}],\"pie\":[{\"automargin\":true,\"type\":\"pie\"}]},\"layout\":{\"autotypenumbers\":\"strict\",\"colorway\":[\"#636efa\",\"#EF553B\",\"#00cc96\",\"#ab63fa\",\"#FFA15A\",\"#19d3f3\",\"#FF6692\",\"#B6E880\",\"#FF97FF\",\"#FECB52\"],\"font\":{\"color\":\"#2a3f5f\"},\"hovermode\":\"closest\",\"hoverlabel\":{\"align\":\"left\"},\"paper_bgcolor\":\"white\",\"plot_bgcolor\":\"#E5ECF6\",\"polar\":{\"bgcolor\":\"#E5ECF6\",\"angularaxis\":{\"gridcolor\":\"white\",\"linecolor\":\"white\",\"ticks\":\"\"},\"radialaxis\":{\"gridcolor\":\"white\",\"linecolor\":\"white\",\"ticks\":\"\"}},\"ternary\":{\"bgcolor\":\"#E5ECF6\",\"aaxis\":{\"gridcolor\":\"white\",\"linecolor\":\"white\",\"ticks\":\"\"},\"baxis\":{\"gridcolor\":\"white\",\"linecolor\":\"white\",\"ticks\":\"\"},\"caxis\":{\"gridcolor\":\"white\",\"linecolor\":\"white\",\"ticks\":\"\"}},\"coloraxis\":{\"colorbar\":{\"outlinewidth\":0,\"ticks\":\"\"}},\"colorscale\":{\"sequential\":[[0.0,\"#0d0887\"],[0.1111111111111111,\"#46039f\"],[0.2222222222222222,\"#7201a8\"],[0.3333333333333333,\"#9c179e\"],[0.4444444444444444,\"#bd3786\"],[0.5555555555555556,\"#d8576b\"],[0.6666666666666666,\"#ed7953\"],[0.7777777777777778,\"#fb9f3a\"],[0.8888888888888888,\"#fdca26\"],[1.0,\"#f0f921\"]],\"sequentialminus\":[[0.0,\"#0d0887\"],[0.1111111111111111,\"#46039f\"],[0.2222222222222222,\"#7201a8\"],[0.3333333333333333,\"#9c179e\"],[0.4444444444444444,\"#bd3786\"],[0.5555555555555556,\"#d8576b\"],[0.6666666666666666,\"#ed7953\"],[0.7777777777777778,\"#fb9f3a\"],[0.8888888888888888,\"#fdca26\"],[1.0,\"#f0f921\"]],\"diverging\":[[0,\"#8e0152\"],[0.1,\"#c51b7d\"],[0.2,\"#de77ae\"],[0.3,\"#f1b6da\"],[0.4,\"#fde0ef\"],[0.5,\"#f7f7f7\"],[0.6,\"#e6f5d0\"],[0.7,\"#b8e186\"],[0.8,\"#7fbc41\"],[0.9,\"#4d9221\"],[1,\"#276419\"]]},\"xaxis\":{\"gridcolor\":\"white\",\"linecolor\":\"white\",\"ticks\":\"\",\"title\":{\"standoff\":15},\"zerolinecolor\":\"white\",\"automargin\":true,\"zerolinewidth\":2},\"yaxis\":{\"gridcolor\":\"white\",\"linecolor\":\"white\",\"ticks\":\"\",\"title\":{\"standoff\":15},\"zerolinecolor\":\"white\",\"automargin\":true,\"zerolinewidth\":2},\"scene\":{\"xaxis\":{\"backgroundcolor\":\"#E5ECF6\",\"gridcolor\":\"white\",\"linecolor\":\"white\",\"showbackground\":true,\"ticks\":\"\",\"zerolinecolor\":\"white\",\"gridwidth\":2},\"yaxis\":{\"backgroundcolor\":\"#E5ECF6\",\"gridcolor\":\"white\",\"linecolor\":\"white\",\"showbackground\":true,\"ticks\":\"\",\"zerolinecolor\":\"white\",\"gridwidth\":2},\"zaxis\":{\"backgroundcolor\":\"#E5ECF6\",\"gridcolor\":\"white\",\"linecolor\":\"white\",\"showbackground\":true,\"ticks\":\"\",\"zerolinecolor\":\"white\",\"gridwidth\":2}},\"shapedefaults\":{\"line\":{\"color\":\"#2a3f5f\"}},\"annotationdefaults\":{\"arrowcolor\":\"#2a3f5f\",\"arrowhead\":0,\"arrowwidth\":1},\"geo\":{\"bgcolor\":\"white\",\"landcolor\":\"#E5ECF6\",\"subunitcolor\":\"white\",\"showland\":true,\"showlakes\":true,\"lakecolor\":\"white\"},\"title\":{\"x\":0.05},\"mapbox\":{\"style\":\"light\"}}}},                        {\"responsive\": true}                    ).then(function(){\n",
       "                            \n",
       "var gd = document.getElementById('dda1a8ee-07c8-401d-8990-aa7b10156281');\n",
       "var x = new MutationObserver(function (mutations, observer) {{\n",
       "        var display = window.getComputedStyle(gd).display;\n",
       "        if (!display || display === 'none') {{\n",
       "            console.log([gd, 'removed!']);\n",
       "            Plotly.purge(gd);\n",
       "            observer.disconnect();\n",
       "        }}\n",
       "}});\n",
       "\n",
       "// Listen for the removal of the full notebook cells\n",
       "var notebookContainer = gd.closest('#notebook-container');\n",
       "if (notebookContainer) {{\n",
       "    x.observe(notebookContainer, {childList: true});\n",
       "}}\n",
       "\n",
       "// Listen for the clearing of the current output cell\n",
       "var outputEl = gd.closest('.output');\n",
       "if (outputEl) {{\n",
       "    x.observe(outputEl, {childList: true});\n",
       "}}\n",
       "\n",
       "                        })                };                });            </script>        </div>"
      ]
     },
     "metadata": {},
     "output_type": "display_data"
    }
   ],
   "source": [
    "import plotly.graph_objs as go\n",
    "import pandas as pd\n",
    "\n",
    "\n",
    "w = Data3.groupby([\"Country.Name\"])[\"2021.5\"].mean()\n",
    "\n",
    "data = dict(\n",
    "    type='choropleth',\n",
    "    locations=w.index,\n",
    "    locationmode='country names',\n",
    "    colorscale='Viridis',  # Change this line to use the 'Viridis' color scale\n",
    "    text=w.index,\n",
    "    z=w,\n",
    "    colorbar={'title': '2021 Under 5 Mortality Rate', 'len': 350, 'lenmode': 'pixels'}\n",
    ")\n",
    "\n",
    "layout = dict(\n",
    "    geo={'scope': 'world'},\n",
    "    title=\"Under 5 Mortality Rate of 2021.5 (Death Per 1000 Births)\"\n",
    ")\n",
    "\n",
    "choropleth_map = go.Figure(data=[data], layout=layout)\n",
    "choropleth_map.show()\n"
   ]
  },
  {
   "cell_type": "code",
   "execution_count": 145,
   "id": "1acdb89d",
   "metadata": {},
   "outputs": [
    {
     "data": {
      "application/vnd.plotly.v1+json": {
       "config": {
        "plotlyServerURL": "https://plot.ly"
       },
       "data": [
        {
         "alignmentgroup": "True",
         "hovertemplate": "Mortality Rate (Deaths per 1000 live births)=%{marker.color}<br>Country.Name=%{y}<extra></extra>",
         "legendgroup": "",
         "marker": {
          "color": [
           55.6575
          ],
          "coloraxis": "coloraxis",
          "pattern": {
           "shape": ""
          }
         },
         "name": "",
         "offsetgroup": "",
         "orientation": "h",
         "showlegend": false,
         "textposition": "auto",
         "type": "bar",
         "x": [
          55.6575
         ],
         "xaxis": "x",
         "y": [
          "Afghanistan"
         ],
         "yaxis": "y"
        }
       ],
       "frames": [
        {
         "data": [
          {
           "alignmentgroup": "True",
           "hovertemplate": "Mortality Rate (Deaths per 1000 live births)=%{marker.color}<br>Country.Name=%{y}<extra></extra>",
           "legendgroup": "",
           "marker": {
            "color": [
             55.6575
            ],
            "coloraxis": "coloraxis",
            "pattern": {
             "shape": ""
            }
           },
           "name": "",
           "offsetgroup": "",
           "orientation": "h",
           "showlegend": false,
           "textposition": "auto",
           "type": "bar",
           "x": [
            55.6575
           ],
           "xaxis": "x",
           "y": [
            "Afghanistan"
           ],
           "yaxis": "y"
          }
         ],
         "name": "55.6575"
        },
        {
         "data": [
          {
           "alignmentgroup": "True",
           "hovertemplate": "Mortality Rate (Deaths per 1000 live births)=%{marker.color}<br>Country.Name=%{y}<extra></extra>",
           "legendgroup": "",
           "marker": {
            "color": [
             9.4559
            ],
            "coloraxis": "coloraxis",
            "pattern": {
             "shape": ""
            }
           },
           "name": "",
           "offsetgroup": "",
           "orientation": "h",
           "showlegend": false,
           "textposition": "auto",
           "type": "bar",
           "x": [
            9.4559
           ],
           "xaxis": "x",
           "y": [
            "Albania"
           ],
           "yaxis": "y"
          }
         ],
         "name": "9.4559"
        },
        {
         "data": [
          {
           "alignmentgroup": "True",
           "hovertemplate": "Mortality Rate (Deaths per 1000 live births)=%{marker.color}<br>Country.Name=%{y}<extra></extra>",
           "legendgroup": "",
           "marker": {
            "color": [
             22.3353
            ],
            "coloraxis": "coloraxis",
            "pattern": {
             "shape": ""
            }
           },
           "name": "",
           "offsetgroup": "",
           "orientation": "h",
           "showlegend": false,
           "textposition": "auto",
           "type": "bar",
           "x": [
            22.3353
           ],
           "xaxis": "x",
           "y": [
            "Algeria"
           ],
           "yaxis": "y"
          }
         ],
         "name": "22.3353"
        },
        {
         "data": [
          {
           "alignmentgroup": "True",
           "hovertemplate": "Mortality Rate (Deaths per 1000 live births)=%{marker.color}<br>Country.Name=%{y}<extra></extra>",
           "legendgroup": "",
           "marker": {
            "color": [
             2.7564
            ],
            "coloraxis": "coloraxis",
            "pattern": {
             "shape": ""
            }
           },
           "name": "",
           "offsetgroup": "",
           "orientation": "h",
           "showlegend": false,
           "textposition": "auto",
           "type": "bar",
           "x": [
            2.7564
           ],
           "xaxis": "x",
           "y": [
            "Andorra"
           ],
           "yaxis": "y"
          }
         ],
         "name": "2.7564"
        },
        {
         "data": [
          {
           "alignmentgroup": "True",
           "hovertemplate": "Mortality Rate (Deaths per 1000 live births)=%{marker.color}<br>Country.Name=%{y}<extra></extra>",
           "legendgroup": "",
           "marker": {
            "color": [
             69.4213
            ],
            "coloraxis": "coloraxis",
            "pattern": {
             "shape": ""
            }
           },
           "name": "",
           "offsetgroup": "",
           "orientation": "h",
           "showlegend": false,
           "textposition": "auto",
           "type": "bar",
           "x": [
            69.4213
           ],
           "xaxis": "x",
           "y": [
            "Angola"
           ],
           "yaxis": "y"
          }
         ],
         "name": "69.4213"
        },
        {
         "data": [
          {
           "alignmentgroup": "True",
           "hovertemplate": "Mortality Rate (Deaths per 1000 live births)=%{marker.color}<br>Country.Name=%{y}<extra></extra>",
           "legendgroup": "",
           "marker": {
            "color": [
             4.0451
            ],
            "coloraxis": "coloraxis",
            "pattern": {
             "shape": ""
            }
           },
           "name": "",
           "offsetgroup": "",
           "orientation": "h",
           "showlegend": false,
           "textposition": "auto",
           "type": "bar",
           "x": [
            4.0451
           ],
           "xaxis": "x",
           "y": [
            "Anguilla"
           ],
           "yaxis": "y"
          }
         ],
         "name": "4.0451"
        },
        {
         "data": [
          {
           "alignmentgroup": "True",
           "hovertemplate": "Mortality Rate (Deaths per 1000 live births)=%{marker.color}<br>Country.Name=%{y}<extra></extra>",
           "legendgroup": "",
           "marker": {
            "color": [
             6.1446
            ],
            "coloraxis": "coloraxis",
            "pattern": {
             "shape": ""
            }
           },
           "name": "",
           "offsetgroup": "",
           "orientation": "h",
           "showlegend": false,
           "textposition": "auto",
           "type": "bar",
           "x": [
            6.1446
           ],
           "xaxis": "x",
           "y": [
            "Antigua and Barbuda"
           ],
           "yaxis": "y"
          }
         ],
         "name": "6.1446"
        },
        {
         "data": [
          {
           "alignmentgroup": "True",
           "hovertemplate": "Mortality Rate (Deaths per 1000 live births)=%{marker.color}<br>Country.Name=%{y}<extra></extra>",
           "legendgroup": "",
           "marker": {
            "color": [
             6.9182
            ],
            "coloraxis": "coloraxis",
            "pattern": {
             "shape": ""
            }
           },
           "name": "",
           "offsetgroup": "",
           "orientation": "h",
           "showlegend": false,
           "textposition": "auto",
           "type": "bar",
           "x": [
            6.9182
           ],
           "xaxis": "x",
           "y": [
            "Argentina"
           ],
           "yaxis": "y"
          }
         ],
         "name": "6.9182"
        },
        {
         "data": [
          {
           "alignmentgroup": "True",
           "hovertemplate": "Mortality Rate (Deaths per 1000 live births)=%{marker.color}<br>Country.Name=%{y}<extra></extra>",
           "legendgroup": "",
           "marker": {
            "color": [
             10.7211
            ],
            "coloraxis": "coloraxis",
            "pattern": {
             "shape": ""
            }
           },
           "name": "",
           "offsetgroup": "",
           "orientation": "h",
           "showlegend": false,
           "textposition": "auto",
           "type": "bar",
           "x": [
            10.7211
           ],
           "xaxis": "x",
           "y": [
            "Armenia"
           ],
           "yaxis": "y"
          }
         ],
         "name": "10.7211"
        },
        {
         "data": [
          {
           "alignmentgroup": "True",
           "hovertemplate": "Mortality Rate (Deaths per 1000 live births)=%{marker.color}<br>Country.Name=%{y}<extra></extra>",
           "legendgroup": "",
           "marker": {
            "color": [
             3.7119
            ],
            "coloraxis": "coloraxis",
            "pattern": {
             "shape": ""
            }
           },
           "name": "",
           "offsetgroup": "",
           "orientation": "h",
           "showlegend": false,
           "textposition": "auto",
           "type": "bar",
           "x": [
            3.7119
           ],
           "xaxis": "x",
           "y": [
            "Australia"
           ],
           "yaxis": "y"
          }
         ],
         "name": "3.7119"
        },
        {
         "data": [
          {
           "alignmentgroup": "True",
           "hovertemplate": "Mortality Rate (Deaths per 1000 live births)=%{marker.color}<br>Country.Name=%{y}<extra></extra>",
           "legendgroup": "",
           "marker": {
            "color": [
             3.6576
            ],
            "coloraxis": "coloraxis",
            "pattern": {
             "shape": ""
            }
           },
           "name": "",
           "offsetgroup": "",
           "orientation": "h",
           "showlegend": false,
           "textposition": "auto",
           "type": "bar",
           "x": [
            3.6576
           ],
           "xaxis": "x",
           "y": [
            "Austria"
           ],
           "yaxis": "y"
          }
         ],
         "name": "3.6576"
        },
        {
         "data": [
          {
           "alignmentgroup": "True",
           "hovertemplate": "Mortality Rate (Deaths per 1000 live births)=%{marker.color}<br>Country.Name=%{y}<extra></extra>",
           "legendgroup": "",
           "marker": {
            "color": [
             18.5862
            ],
            "coloraxis": "coloraxis",
            "pattern": {
             "shape": ""
            }
           },
           "name": "",
           "offsetgroup": "",
           "orientation": "h",
           "showlegend": false,
           "textposition": "auto",
           "type": "bar",
           "x": [
            18.5862
           ],
           "xaxis": "x",
           "y": [
            "Azerbaijan"
           ],
           "yaxis": "y"
          }
         ],
         "name": "18.5862"
        },
        {
         "data": [
          {
           "alignmentgroup": "True",
           "hovertemplate": "Mortality Rate (Deaths per 1000 live births)=%{marker.color}<br>Country.Name=%{y}<extra></extra>",
           "legendgroup": "",
           "marker": {
            "color": [
             13.1591
            ],
            "coloraxis": "coloraxis",
            "pattern": {
             "shape": ""
            }
           },
           "name": "",
           "offsetgroup": "",
           "orientation": "h",
           "showlegend": false,
           "textposition": "auto",
           "type": "bar",
           "x": [
            13.1591
           ],
           "xaxis": "x",
           "y": [
            "Bahamas"
           ],
           "yaxis": "y"
          }
         ],
         "name": "13.1591"
        },
        {
         "data": [
          {
           "alignmentgroup": "True",
           "hovertemplate": "Mortality Rate (Deaths per 1000 live births)=%{marker.color}<br>Country.Name=%{y}<extra></extra>",
           "legendgroup": "",
           "marker": {
            "color": [
             6.9156
            ],
            "coloraxis": "coloraxis",
            "pattern": {
             "shape": ""
            }
           },
           "name": "",
           "offsetgroup": "",
           "orientation": "h",
           "showlegend": false,
           "textposition": "auto",
           "type": "bar",
           "x": [
            6.9156
           ],
           "xaxis": "x",
           "y": [
            "Bahrain"
           ],
           "yaxis": "y"
          }
         ],
         "name": "6.9156"
        },
        {
         "data": [
          {
           "alignmentgroup": "True",
           "hovertemplate": "Mortality Rate (Deaths per 1000 live births)=%{marker.color}<br>Country.Name=%{y}<extra></extra>",
           "legendgroup": "",
           "marker": {
            "color": [
             27.2736
            ],
            "coloraxis": "coloraxis",
            "pattern": {
             "shape": ""
            }
           },
           "name": "",
           "offsetgroup": "",
           "orientation": "h",
           "showlegend": false,
           "textposition": "auto",
           "type": "bar",
           "x": [
            27.2736
           ],
           "xaxis": "x",
           "y": [
            "Bangladesh"
           ],
           "yaxis": "y"
          }
         ],
         "name": "27.2736"
        },
        {
         "data": [
          {
           "alignmentgroup": "True",
           "hovertemplate": "Mortality Rate (Deaths per 1000 live births)=%{marker.color}<br>Country.Name=%{y}<extra></extra>",
           "legendgroup": "",
           "marker": {
            "color": [
             11.9135
            ],
            "coloraxis": "coloraxis",
            "pattern": {
             "shape": ""
            }
           },
           "name": "",
           "offsetgroup": "",
           "orientation": "h",
           "showlegend": false,
           "textposition": "auto",
           "type": "bar",
           "x": [
            11.9135
           ],
           "xaxis": "x",
           "y": [
            "Barbados"
           ],
           "yaxis": "y"
          }
         ],
         "name": "11.9135"
        },
        {
         "data": [
          {
           "alignmentgroup": "True",
           "hovertemplate": "Mortality Rate (Deaths per 1000 live births)=%{marker.color}<br>Country.Name=%{y}<extra></extra>",
           "legendgroup": "",
           "marker": {
            "color": [
             2.7249
            ],
            "coloraxis": "coloraxis",
            "pattern": {
             "shape": ""
            }
           },
           "name": "",
           "offsetgroup": "",
           "orientation": "h",
           "showlegend": false,
           "textposition": "auto",
           "type": "bar",
           "x": [
            2.7249
           ],
           "xaxis": "x",
           "y": [
            "Belarus"
           ],
           "yaxis": "y"
          }
         ],
         "name": "2.7249"
        },
        {
         "data": [
          {
           "alignmentgroup": "True",
           "hovertemplate": "Mortality Rate (Deaths per 1000 live births)=%{marker.color}<br>Country.Name=%{y}<extra></extra>",
           "legendgroup": "",
           "marker": {
            "color": [
             4.1007
            ],
            "coloraxis": "coloraxis",
            "pattern": {
             "shape": ""
            }
           },
           "name": "",
           "offsetgroup": "",
           "orientation": "h",
           "showlegend": false,
           "textposition": "auto",
           "type": "bar",
           "x": [
            4.1007
           ],
           "xaxis": "x",
           "y": [
            "Belgium"
           ],
           "yaxis": "y"
          }
         ],
         "name": "4.1007"
        },
        {
         "data": [
          {
           "alignmentgroup": "True",
           "hovertemplate": "Mortality Rate (Deaths per 1000 live births)=%{marker.color}<br>Country.Name=%{y}<extra></extra>",
           "legendgroup": "",
           "marker": {
            "color": [
             11.1866
            ],
            "coloraxis": "coloraxis",
            "pattern": {
             "shape": ""
            }
           },
           "name": "",
           "offsetgroup": "",
           "orientation": "h",
           "showlegend": false,
           "textposition": "auto",
           "type": "bar",
           "x": [
            11.1866
           ],
           "xaxis": "x",
           "y": [
            "Belize"
           ],
           "yaxis": "y"
          }
         ],
         "name": "11.1866"
        },
        {
         "data": [
          {
           "alignmentgroup": "True",
           "hovertemplate": "Mortality Rate (Deaths per 1000 live births)=%{marker.color}<br>Country.Name=%{y}<extra></extra>",
           "legendgroup": "",
           "marker": {
            "color": [
             26.6874
            ],
            "coloraxis": "coloraxis",
            "pattern": {
             "shape": ""
            }
           },
           "name": "",
           "offsetgroup": "",
           "orientation": "h",
           "showlegend": false,
           "textposition": "auto",
           "type": "bar",
           "x": [
            26.6874
           ],
           "xaxis": "x",
           "y": [
            "Bhutan"
           ],
           "yaxis": "y"
          }
         ],
         "name": "26.6874"
        },
        {
         "data": [
          {
           "alignmentgroup": "True",
           "hovertemplate": "Mortality Rate (Deaths per 1000 live births)=%{marker.color}<br>Country.Name=%{y}<extra></extra>",
           "legendgroup": "",
           "marker": {
            "color": [
             24.6919
            ],
            "coloraxis": "coloraxis",
            "pattern": {
             "shape": ""
            }
           },
           "name": "",
           "offsetgroup": "",
           "orientation": "h",
           "showlegend": false,
           "textposition": "auto",
           "type": "bar",
           "x": [
            24.6919
           ],
           "xaxis": "x",
           "y": [
            "Bolivia (Plurinational State of)"
           ],
           "yaxis": "y"
          }
         ],
         "name": "24.6919"
        },
        {
         "data": [
          {
           "alignmentgroup": "True",
           "hovertemplate": "Mortality Rate (Deaths per 1000 live births)=%{marker.color}<br>Country.Name=%{y}<extra></extra>",
           "legendgroup": "",
           "marker": {
            "color": [
             5.6006
            ],
            "coloraxis": "coloraxis",
            "pattern": {
             "shape": ""
            }
           },
           "name": "",
           "offsetgroup": "",
           "orientation": "h",
           "showlegend": false,
           "textposition": "auto",
           "type": "bar",
           "x": [
            5.6006
           ],
           "xaxis": "x",
           "y": [
            "Bosnia and Herzegovina"
           ],
           "yaxis": "y"
          }
         ],
         "name": "5.6006"
        },
        {
         "data": [
          {
           "alignmentgroup": "True",
           "hovertemplate": "Mortality Rate (Deaths per 1000 live births)=%{marker.color}<br>Country.Name=%{y}<extra></extra>",
           "legendgroup": "",
           "marker": {
            "color": [
             34.8694
            ],
            "coloraxis": "coloraxis",
            "pattern": {
             "shape": ""
            }
           },
           "name": "",
           "offsetgroup": "",
           "orientation": "h",
           "showlegend": false,
           "textposition": "auto",
           "type": "bar",
           "x": [
            34.8694
           ],
           "xaxis": "x",
           "y": [
            "Botswana"
           ],
           "yaxis": "y"
          }
         ],
         "name": "34.8694"
        },
        {
         "data": [
          {
           "alignmentgroup": "True",
           "hovertemplate": "Mortality Rate (Deaths per 1000 live births)=%{marker.color}<br>Country.Name=%{y}<extra></extra>",
           "legendgroup": "",
           "marker": {
            "color": [
             10.4629
            ],
            "coloraxis": "coloraxis",
            "pattern": {
             "shape": ""
            }
           },
           "name": "",
           "offsetgroup": "",
           "orientation": "h",
           "showlegend": false,
           "textposition": "auto",
           "type": "bar",
           "x": [
            10.4629
           ],
           "xaxis": "x",
           "y": [
            "British Virgin Islands"
           ],
           "yaxis": "y"
          }
         ],
         "name": "10.4629"
        },
        {
         "data": [
          {
           "alignmentgroup": "True",
           "hovertemplate": "Mortality Rate (Deaths per 1000 live births)=%{marker.color}<br>Country.Name=%{y}<extra></extra>",
           "legendgroup": "",
           "marker": {
            "color": [
             11.476
            ],
            "coloraxis": "coloraxis",
            "pattern": {
             "shape": ""
            }
           },
           "name": "",
           "offsetgroup": "",
           "orientation": "h",
           "showlegend": false,
           "textposition": "auto",
           "type": "bar",
           "x": [
            11.476
           ],
           "xaxis": "x",
           "y": [
            "Brunei Darussalam"
           ],
           "yaxis": "y"
          }
         ],
         "name": "11.476"
        },
        {
         "data": [
          {
           "alignmentgroup": "True",
           "hovertemplate": "Mortality Rate (Deaths per 1000 live births)=%{marker.color}<br>Country.Name=%{y}<extra></extra>",
           "legendgroup": "",
           "marker": {
            "color": [
             6.3243
            ],
            "coloraxis": "coloraxis",
            "pattern": {
             "shape": ""
            }
           },
           "name": "",
           "offsetgroup": "",
           "orientation": "h",
           "showlegend": false,
           "textposition": "auto",
           "type": "bar",
           "x": [
            6.3243
           ],
           "xaxis": "x",
           "y": [
            "Bulgaria"
           ],
           "yaxis": "y"
          }
         ],
         "name": "6.3243"
        },
        {
         "data": [
          {
           "alignmentgroup": "True",
           "hovertemplate": "Mortality Rate (Deaths per 1000 live births)=%{marker.color}<br>Country.Name=%{y}<extra></extra>",
           "legendgroup": "",
           "marker": {
            "color": [
             82.6076
            ],
            "coloraxis": "coloraxis",
            "pattern": {
             "shape": ""
            }
           },
           "name": "",
           "offsetgroup": "",
           "orientation": "h",
           "showlegend": false,
           "textposition": "auto",
           "type": "bar",
           "x": [
            82.6076
           ],
           "xaxis": "x",
           "y": [
            "Burkina Faso"
           ],
           "yaxis": "y"
          }
         ],
         "name": "82.6076"
        },
        {
         "data": [
          {
           "alignmentgroup": "True",
           "hovertemplate": "Mortality Rate (Deaths per 1000 live births)=%{marker.color}<br>Country.Name=%{y}<extra></extra>",
           "legendgroup": "",
           "marker": {
            "color": [
             52.6048
            ],
            "coloraxis": "coloraxis",
            "pattern": {
             "shape": ""
            }
           },
           "name": "",
           "offsetgroup": "",
           "orientation": "h",
           "showlegend": false,
           "textposition": "auto",
           "type": "bar",
           "x": [
            52.6048
           ],
           "xaxis": "x",
           "y": [
            "Burundi"
           ],
           "yaxis": "y"
          }
         ],
         "name": "52.6048"
        },
        {
         "data": [
          {
           "alignmentgroup": "True",
           "hovertemplate": "Mortality Rate (Deaths per 1000 live births)=%{marker.color}<br>Country.Name=%{y}<extra></extra>",
           "legendgroup": "",
           "marker": {
            "color": [
             24.7636
            ],
            "coloraxis": "coloraxis",
            "pattern": {
             "shape": ""
            }
           },
           "name": "",
           "offsetgroup": "",
           "orientation": "h",
           "showlegend": false,
           "textposition": "auto",
           "type": "bar",
           "x": [
            24.7636
           ],
           "xaxis": "x",
           "y": [
            "Cambodia"
           ],
           "yaxis": "y"
          }
         ],
         "name": "24.7636"
        },
        {
         "data": [
          {
           "alignmentgroup": "True",
           "hovertemplate": "Mortality Rate (Deaths per 1000 live births)=%{marker.color}<br>Country.Name=%{y}<extra></extra>",
           "legendgroup": "",
           "marker": {
            "color": [
             69.788
            ],
            "coloraxis": "coloraxis",
            "pattern": {
             "shape": ""
            }
           },
           "name": "",
           "offsetgroup": "",
           "orientation": "h",
           "showlegend": false,
           "textposition": "auto",
           "type": "bar",
           "x": [
            69.788
           ],
           "xaxis": "x",
           "y": [
            "Cameroon"
           ],
           "yaxis": "y"
          }
         ],
         "name": "69.788"
        },
        {
         "data": [
          {
           "alignmentgroup": "True",
           "hovertemplate": "Mortality Rate (Deaths per 1000 live births)=%{marker.color}<br>Country.Name=%{y}<extra></extra>",
           "legendgroup": "",
           "marker": {
            "color": [
             5.0413
            ],
            "coloraxis": "coloraxis",
            "pattern": {
             "shape": ""
            }
           },
           "name": "",
           "offsetgroup": "",
           "orientation": "h",
           "showlegend": false,
           "textposition": "auto",
           "type": "bar",
           "x": [
            5.0413
           ],
           "xaxis": "x",
           "y": [
            "Canada"
           ],
           "yaxis": "y"
          }
         ],
         "name": "5.0413"
        },
        {
         "data": [
          {
           "alignmentgroup": "True",
           "hovertemplate": "Mortality Rate (Deaths per 1000 live births)=%{marker.color}<br>Country.Name=%{y}<extra></extra>",
           "legendgroup": "",
           "marker": {
            "color": [
             99.9161
            ],
            "coloraxis": "coloraxis",
            "pattern": {
             "shape": ""
            }
           },
           "name": "",
           "offsetgroup": "",
           "orientation": "h",
           "showlegend": false,
           "textposition": "auto",
           "type": "bar",
           "x": [
            99.9161
           ],
           "xaxis": "x",
           "y": [
            "Central African Republic"
           ],
           "yaxis": "y"
          }
         ],
         "name": "99.9161"
        },
        {
         "data": [
          {
           "alignmentgroup": "True",
           "hovertemplate": "Mortality Rate (Deaths per 1000 live births)=%{marker.color}<br>Country.Name=%{y}<extra></extra>",
           "legendgroup": "",
           "marker": {
            "color": [
             107.0655
            ],
            "coloraxis": "coloraxis",
            "pattern": {
             "shape": ""
            }
           },
           "name": "",
           "offsetgroup": "",
           "orientation": "h",
           "showlegend": false,
           "textposition": "auto",
           "type": "bar",
           "x": [
            107.0655
           ],
           "xaxis": "x",
           "y": [
            "Chad"
           ],
           "yaxis": "y"
          }
         ],
         "name": "107.0655"
        },
        {
         "data": [
          {
           "alignmentgroup": "True",
           "hovertemplate": "Mortality Rate (Deaths per 1000 live births)=%{marker.color}<br>Country.Name=%{y}<extra></extra>",
           "legendgroup": "",
           "marker": {
            "color": [
             6.5534
            ],
            "coloraxis": "coloraxis",
            "pattern": {
             "shape": ""
            }
           },
           "name": "",
           "offsetgroup": "",
           "orientation": "h",
           "showlegend": false,
           "textposition": "auto",
           "type": "bar",
           "x": [
            6.5534
           ],
           "xaxis": "x",
           "y": [
            "Chile"
           ],
           "yaxis": "y"
          }
         ],
         "name": "6.5534"
        },
        {
         "data": [
          {
           "alignmentgroup": "True",
           "hovertemplate": "Mortality Rate (Deaths per 1000 live births)=%{marker.color}<br>Country.Name=%{y}<extra></extra>",
           "legendgroup": "",
           "marker": {
            "color": [
             6.9346
            ],
            "coloraxis": "coloraxis",
            "pattern": {
             "shape": ""
            }
           },
           "name": "",
           "offsetgroup": "",
           "orientation": "h",
           "showlegend": false,
           "textposition": "auto",
           "type": "bar",
           "x": [
            6.9346
           ],
           "xaxis": "x",
           "y": [
            "China"
           ],
           "yaxis": "y"
          }
         ],
         "name": "6.9346"
        },
        {
         "data": [
          {
           "alignmentgroup": "True",
           "hovertemplate": "Mortality Rate (Deaths per 1000 live births)=%{marker.color}<br>Country.Name=%{y}<extra></extra>",
           "legendgroup": "",
           "marker": {
            "color": [
             12.8482
            ],
            "coloraxis": "coloraxis",
            "pattern": {
             "shape": ""
            }
           },
           "name": "",
           "offsetgroup": "",
           "orientation": "h",
           "showlegend": false,
           "textposition": "auto",
           "type": "bar",
           "x": [
            12.8482
           ],
           "xaxis": "x",
           "y": [
            "Colombia"
           ],
           "yaxis": "y"
          }
         ],
         "name": "12.8482"
        },
        {
         "data": [
          {
           "alignmentgroup": "True",
           "hovertemplate": "Mortality Rate (Deaths per 1000 live births)=%{marker.color}<br>Country.Name=%{y}<extra></extra>",
           "legendgroup": "",
           "marker": {
            "color": [
             42.9679
            ],
            "coloraxis": "coloraxis",
            "pattern": {
             "shape": ""
            }
           },
           "name": "",
           "offsetgroup": "",
           "orientation": "h",
           "showlegend": false,
           "textposition": "auto",
           "type": "bar",
           "x": [
            42.9679
           ],
           "xaxis": "x",
           "y": [
            "Congo"
           ],
           "yaxis": "y"
          }
         ],
         "name": "42.9679"
        },
        {
         "data": [
          {
           "alignmentgroup": "True",
           "hovertemplate": "Mortality Rate (Deaths per 1000 live births)=%{marker.color}<br>Country.Name=%{y}<extra></extra>",
           "legendgroup": "",
           "marker": {
            "color": [
             74.7853
            ],
            "coloraxis": "coloraxis",
            "pattern": {
             "shape": ""
            }
           },
           "name": "",
           "offsetgroup": "",
           "orientation": "h",
           "showlegend": false,
           "textposition": "auto",
           "type": "bar",
           "x": [
            74.7853
           ],
           "xaxis": "x",
           "y": [
            "Cote d'Ivoire"
           ],
           "yaxis": "y"
          }
         ],
         "name": "74.7853"
        },
        {
         "data": [
          {
           "alignmentgroup": "True",
           "hovertemplate": "Mortality Rate (Deaths per 1000 live births)=%{marker.color}<br>Country.Name=%{y}<extra></extra>",
           "legendgroup": "",
           "marker": {
            "color": [
             2.7855
            ],
            "coloraxis": "coloraxis",
            "pattern": {
             "shape": ""
            }
           },
           "name": "",
           "offsetgroup": "",
           "orientation": "h",
           "showlegend": false,
           "textposition": "auto",
           "type": "bar",
           "x": [
            2.7855
           ],
           "xaxis": "x",
           "y": [
            "Cyprus"
           ],
           "yaxis": "y"
          }
         ],
         "name": "2.7855"
        },
        {
         "data": [
          {
           "alignmentgroup": "True",
           "hovertemplate": "Mortality Rate (Deaths per 1000 live births)=%{marker.color}<br>Country.Name=%{y}<extra></extra>",
           "legendgroup": "",
           "marker": {
            "color": [
             78.9605
            ],
            "coloraxis": "coloraxis",
            "pattern": {
             "shape": ""
            }
           },
           "name": "",
           "offsetgroup": "",
           "orientation": "h",
           "showlegend": false,
           "textposition": "auto",
           "type": "bar",
           "x": [
            78.9605
           ],
           "xaxis": "x",
           "y": [
            "Democratic Republic of the Congo"
           ],
           "yaxis": "y"
          }
         ],
         "name": "78.9605"
        },
        {
         "data": [
          {
           "alignmentgroup": "True",
           "hovertemplate": "Mortality Rate (Deaths per 1000 live births)=%{marker.color}<br>Country.Name=%{y}<extra></extra>",
           "legendgroup": "",
           "marker": {
            "color": [
             35.8948
            ],
            "coloraxis": "coloraxis",
            "pattern": {
             "shape": ""
            }
           },
           "name": "",
           "offsetgroup": "",
           "orientation": "h",
           "showlegend": false,
           "textposition": "auto",
           "type": "bar",
           "x": [
            35.8948
           ],
           "xaxis": "x",
           "y": [
            "Dominica"
           ],
           "yaxis": "y"
          }
         ],
         "name": "35.8948"
        },
        {
         "data": [
          {
           "alignmentgroup": "True",
           "hovertemplate": "Mortality Rate (Deaths per 1000 live births)=%{marker.color}<br>Country.Name=%{y}<extra></extra>",
           "legendgroup": "",
           "marker": {
            "color": [
             18.9578
            ],
            "coloraxis": "coloraxis",
            "pattern": {
             "shape": ""
            }
           },
           "name": "",
           "offsetgroup": "",
           "orientation": "h",
           "showlegend": false,
           "textposition": "auto",
           "type": "bar",
           "x": [
            18.9578
           ],
           "xaxis": "x",
           "y": [
            "Egypt"
           ],
           "yaxis": "y"
          }
         ],
         "name": "18.9578"
        },
        {
         "data": [
          {
           "alignmentgroup": "True",
           "hovertemplate": "Mortality Rate (Deaths per 1000 live births)=%{marker.color}<br>Country.Name=%{y}<extra></extra>",
           "legendgroup": "",
           "marker": {
            "color": [
             38.0916
            ],
            "coloraxis": "coloraxis",
            "pattern": {
             "shape": ""
            }
           },
           "name": "",
           "offsetgroup": "",
           "orientation": "h",
           "showlegend": false,
           "textposition": "auto",
           "type": "bar",
           "x": [
            38.0916
           ],
           "xaxis": "x",
           "y": [
            "Eritrea"
           ],
           "yaxis": "y"
          }
         ],
         "name": "38.0916"
        },
        {
         "data": [
          {
           "alignmentgroup": "True",
           "hovertemplate": "Mortality Rate (Deaths per 1000 live births)=%{marker.color}<br>Country.Name=%{y}<extra></extra>",
           "legendgroup": "",
           "marker": {
            "color": [
             46.8115
            ],
            "coloraxis": "coloraxis",
            "pattern": {
             "shape": ""
            }
           },
           "name": "",
           "offsetgroup": "",
           "orientation": "h",
           "showlegend": false,
           "textposition": "auto",
           "type": "bar",
           "x": [
            46.8115
           ],
           "xaxis": "x",
           "y": [
            "Ethiopia"
           ],
           "yaxis": "y"
          }
         ],
         "name": "46.8115"
        },
        {
         "data": [
          {
           "alignmentgroup": "True",
           "hovertemplate": "Mortality Rate (Deaths per 1000 live births)=%{marker.color}<br>Country.Name=%{y}<extra></extra>",
           "legendgroup": "",
           "marker": {
            "color": [
             4.3538
            ],
            "coloraxis": "coloraxis",
            "pattern": {
             "shape": ""
            }
           },
           "name": "",
           "offsetgroup": "",
           "orientation": "h",
           "showlegend": false,
           "textposition": "auto",
           "type": "bar",
           "x": [
            4.3538
           ],
           "xaxis": "x",
           "y": [
            "France"
           ],
           "yaxis": "y"
          }
         ],
         "name": "4.3538"
        },
        {
         "data": [
          {
           "alignmentgroup": "True",
           "hovertemplate": "Mortality Rate (Deaths per 1000 live births)=%{marker.color}<br>Country.Name=%{y}<extra></extra>",
           "legendgroup": "",
           "marker": {
            "color": [
             9.4798
            ],
            "coloraxis": "coloraxis",
            "pattern": {
             "shape": ""
            }
           },
           "name": "",
           "offsetgroup": "",
           "orientation": "h",
           "showlegend": false,
           "textposition": "auto",
           "type": "bar",
           "x": [
            9.4798
           ],
           "xaxis": "x",
           "y": [
            "Georgia"
           ],
           "yaxis": "y"
          }
         ],
         "name": "9.4798"
        },
        {
         "data": [
          {
           "alignmentgroup": "True",
           "hovertemplate": "Mortality Rate (Deaths per 1000 live births)=%{marker.color}<br>Country.Name=%{y}<extra></extra>",
           "legendgroup": "",
           "marker": {
            "color": [
             3.7141
            ],
            "coloraxis": "coloraxis",
            "pattern": {
             "shape": ""
            }
           },
           "name": "",
           "offsetgroup": "",
           "orientation": "h",
           "showlegend": false,
           "textposition": "auto",
           "type": "bar",
           "x": [
            3.7141
           ],
           "xaxis": "x",
           "y": [
            "Greece"
           ],
           "yaxis": "y"
          }
         ],
         "name": "3.7141"
        },
        {
         "data": [
          {
           "alignmentgroup": "True",
           "hovertemplate": "Mortality Rate (Deaths per 1000 live births)=%{marker.color}<br>Country.Name=%{y}<extra></extra>",
           "legendgroup": "",
           "marker": {
            "color": [
             98.7269
            ],
            "coloraxis": "coloraxis",
            "pattern": {
             "shape": ""
            }
           },
           "name": "",
           "offsetgroup": "",
           "orientation": "h",
           "showlegend": false,
           "textposition": "auto",
           "type": "bar",
           "x": [
            98.7269
           ],
           "xaxis": "x",
           "y": [
            "Guinea"
           ],
           "yaxis": "y"
          }
         ],
         "name": "98.7269"
        },
        {
         "data": [
          {
           "alignmentgroup": "True",
           "hovertemplate": "Mortality Rate (Deaths per 1000 live births)=%{marker.color}<br>Country.Name=%{y}<extra></extra>",
           "legendgroup": "",
           "marker": {
            "color": [
             58.6327
            ],
            "coloraxis": "coloraxis",
            "pattern": {
             "shape": ""
            }
           },
           "name": "",
           "offsetgroup": "",
           "orientation": "h",
           "showlegend": false,
           "textposition": "auto",
           "type": "bar",
           "x": [
            58.6327
           ],
           "xaxis": "x",
           "y": [
            "Haiti"
           ],
           "yaxis": "y"
          }
         ],
         "name": "58.6327"
        },
        {
         "data": [
          {
           "alignmentgroup": "True",
           "hovertemplate": "Mortality Rate (Deaths per 1000 live births)=%{marker.color}<br>Country.Name=%{y}<extra></extra>",
           "legendgroup": "",
           "marker": {
            "color": [
             2.6359
            ],
            "coloraxis": "coloraxis",
            "pattern": {
             "shape": ""
            }
           },
           "name": "",
           "offsetgroup": "",
           "orientation": "h",
           "showlegend": false,
           "textposition": "auto",
           "type": "bar",
           "x": [
            2.6359
           ],
           "xaxis": "x",
           "y": [
            "Iceland"
           ],
           "yaxis": "y"
          }
         ],
         "name": "2.6359"
        },
        {
         "data": [
          {
           "alignmentgroup": "True",
           "hovertemplate": "Mortality Rate (Deaths per 1000 live births)=%{marker.color}<br>Country.Name=%{y}<extra></extra>",
           "legendgroup": "",
           "marker": {
            "color": [
             12.6313
            ],
            "coloraxis": "coloraxis",
            "pattern": {
             "shape": ""
            }
           },
           "name": "",
           "offsetgroup": "",
           "orientation": "h",
           "showlegend": false,
           "textposition": "auto",
           "type": "bar",
           "x": [
            12.6313
           ],
           "xaxis": "x",
           "y": [
            "Iran (Islamic Republic of)"
           ],
           "yaxis": "y"
          }
         ],
         "name": "12.6313"
        },
        {
         "data": [
          {
           "alignmentgroup": "True",
           "hovertemplate": "Mortality Rate (Deaths per 1000 live births)=%{marker.color}<br>Country.Name=%{y}<extra></extra>",
           "legendgroup": "",
           "marker": {
            "color": [
             3.3566
            ],
            "coloraxis": "coloraxis",
            "pattern": {
             "shape": ""
            }
           },
           "name": "",
           "offsetgroup": "",
           "orientation": "h",
           "showlegend": false,
           "textposition": "auto",
           "type": "bar",
           "x": [
            3.3566
           ],
           "xaxis": "x",
           "y": [
            "Israel"
           ],
           "yaxis": "y"
          }
         ],
         "name": "3.3566"
        },
        {
         "data": [
          {
           "alignmentgroup": "True",
           "hovertemplate": "Mortality Rate (Deaths per 1000 live births)=%{marker.color}<br>Country.Name=%{y}<extra></extra>",
           "legendgroup": "",
           "marker": {
            "color": [
             2.3024
            ],
            "coloraxis": "coloraxis",
            "pattern": {
             "shape": ""
            }
           },
           "name": "",
           "offsetgroup": "",
           "orientation": "h",
           "showlegend": false,
           "textposition": "auto",
           "type": "bar",
           "x": [
            2.3024
           ],
           "xaxis": "x",
           "y": [
            "Japan"
           ],
           "yaxis": "y"
          }
         ],
         "name": "2.3024"
        },
        {
         "data": [
          {
           "alignmentgroup": "True",
           "hovertemplate": "Mortality Rate (Deaths per 1000 live births)=%{marker.color}<br>Country.Name=%{y}<extra></extra>",
           "legendgroup": "",
           "marker": {
            "color": [
             37.1526
            ],
            "coloraxis": "coloraxis",
            "pattern": {
             "shape": ""
            }
           },
           "name": "",
           "offsetgroup": "",
           "orientation": "h",
           "showlegend": false,
           "textposition": "auto",
           "type": "bar",
           "x": [
            37.1526
           ],
           "xaxis": "x",
           "y": [
            "Kenya"
           ],
           "yaxis": "y"
          }
         ],
         "name": "37.1526"
        },
        {
         "data": [
          {
           "alignmentgroup": "True",
           "hovertemplate": "Mortality Rate (Deaths per 1000 live births)=%{marker.color}<br>Country.Name=%{y}<extra></extra>",
           "legendgroup": "",
           "marker": {
            "color": [
             8.7338
            ],
            "coloraxis": "coloraxis",
            "pattern": {
             "shape": ""
            }
           },
           "name": "",
           "offsetgroup": "",
           "orientation": "h",
           "showlegend": false,
           "textposition": "auto",
           "type": "bar",
           "x": [
            8.7338
           ],
           "xaxis": "x",
           "y": [
            "Kuwait"
           ],
           "yaxis": "y"
          }
         ],
         "name": "8.7338"
        },
        {
         "data": [
          {
           "alignmentgroup": "True",
           "hovertemplate": "Mortality Rate (Deaths per 1000 live births)=%{marker.color}<br>Country.Name=%{y}<extra></extra>",
           "legendgroup": "",
           "marker": {
            "color": [
             3.6796
            ],
            "coloraxis": "coloraxis",
            "pattern": {
             "shape": ""
            }
           },
           "name": "",
           "offsetgroup": "",
           "orientation": "h",
           "showlegend": false,
           "textposition": "auto",
           "type": "bar",
           "x": [
            3.6796
           ],
           "xaxis": "x",
           "y": [
            "Latvia"
           ],
           "yaxis": "y"
          }
         ],
         "name": "3.6796"
        },
        {
         "data": [
          {
           "alignmentgroup": "True",
           "hovertemplate": "Mortality Rate (Deaths per 1000 live births)=%{marker.color}<br>Country.Name=%{y}<extra></extra>",
           "legendgroup": "",
           "marker": {
            "color": [
             76.0402
            ],
            "coloraxis": "coloraxis",
            "pattern": {
             "shape": ""
            }
           },
           "name": "",
           "offsetgroup": "",
           "orientation": "h",
           "showlegend": false,
           "textposition": "auto",
           "type": "bar",
           "x": [
            76.0402
           ],
           "xaxis": "x",
           "y": [
            "Liberia"
           ],
           "yaxis": "y"
          }
         ],
         "name": "76.0402"
        },
        {
         "data": [
          {
           "alignmentgroup": "True",
           "hovertemplate": "Mortality Rate (Deaths per 1000 live births)=%{marker.color}<br>Country.Name=%{y}<extra></extra>",
           "legendgroup": "",
           "marker": {
            "color": [
             2.7349
            ],
            "coloraxis": "coloraxis",
            "pattern": {
             "shape": ""
            }
           },
           "name": "",
           "offsetgroup": "",
           "orientation": "h",
           "showlegend": false,
           "textposition": "auto",
           "type": "bar",
           "x": [
            2.7349
           ],
           "xaxis": "x",
           "y": [
            "Luxembourg"
           ],
           "yaxis": "y"
          }
         ],
         "name": "2.7349"
        },
        {
         "data": [
          {
           "alignmentgroup": "True",
           "hovertemplate": "Mortality Rate (Deaths per 1000 live births)=%{marker.color}<br>Country.Name=%{y}<extra></extra>",
           "legendgroup": "",
           "marker": {
            "color": [
             7.5561
            ],
            "coloraxis": "coloraxis",
            "pattern": {
             "shape": ""
            }
           },
           "name": "",
           "offsetgroup": "",
           "orientation": "h",
           "showlegend": false,
           "textposition": "auto",
           "type": "bar",
           "x": [
            7.5561
           ],
           "xaxis": "x",
           "y": [
            "Malaysia"
           ],
           "yaxis": "y"
          }
         ],
         "name": "7.5561"
        },
        {
         "data": [
          {
           "alignmentgroup": "True",
           "hovertemplate": "Mortality Rate (Deaths per 1000 live births)=%{marker.color}<br>Country.Name=%{y}<extra></extra>",
           "legendgroup": "",
           "marker": {
            "color": [
             5.832
            ],
            "coloraxis": "coloraxis",
            "pattern": {
             "shape": ""
            }
           },
           "name": "",
           "offsetgroup": "",
           "orientation": "h",
           "showlegend": false,
           "textposition": "auto",
           "type": "bar",
           "x": [
            5.832
           ],
           "xaxis": "x",
           "y": [
            "Malta"
           ],
           "yaxis": "y"
          }
         ],
         "name": "5.832"
        },
        {
         "data": [
          {
           "alignmentgroup": "True",
           "hovertemplate": "Mortality Rate (Deaths per 1000 live births)=%{marker.color}<br>Country.Name=%{y}<extra></extra>",
           "legendgroup": "",
           "marker": {
            "color": [
             16.6172
            ],
            "coloraxis": "coloraxis",
            "pattern": {
             "shape": ""
            }
           },
           "name": "",
           "offsetgroup": "",
           "orientation": "h",
           "showlegend": false,
           "textposition": "auto",
           "type": "bar",
           "x": [
            16.6172
           ],
           "xaxis": "x",
           "y": [
            "Mauritius"
           ],
           "yaxis": "y"
          }
         ],
         "name": "16.6172"
        },
        {
         "data": [
          {
           "alignmentgroup": "True",
           "hovertemplate": "Mortality Rate (Deaths per 1000 live births)=%{marker.color}<br>Country.Name=%{y}<extra></extra>",
           "legendgroup": "",
           "marker": {
            "color": [
             2.9236
            ],
            "coloraxis": "coloraxis",
            "pattern": {
             "shape": ""
            }
           },
           "name": "",
           "offsetgroup": "",
           "orientation": "h",
           "showlegend": false,
           "textposition": "auto",
           "type": "bar",
           "x": [
            2.9236
           ],
           "xaxis": "x",
           "y": [
            "Monaco"
           ],
           "yaxis": "y"
          }
         ],
         "name": "2.9236"
        },
        {
         "data": [
          {
           "alignmentgroup": "True",
           "hovertemplate": "Mortality Rate (Deaths per 1000 live births)=%{marker.color}<br>Country.Name=%{y}<extra></extra>",
           "legendgroup": "",
           "marker": {
            "color": [
             5.2735
            ],
            "coloraxis": "coloraxis",
            "pattern": {
             "shape": ""
            }
           },
           "name": "",
           "offsetgroup": "",
           "orientation": "h",
           "showlegend": false,
           "textposition": "auto",
           "type": "bar",
           "x": [
            5.2735
           ],
           "xaxis": "x",
           "y": [
            "Montserrat"
           ],
           "yaxis": "y"
          }
         ],
         "name": "5.2735"
        },
        {
         "data": [
          {
           "alignmentgroup": "True",
           "hovertemplate": "Mortality Rate (Deaths per 1000 live births)=%{marker.color}<br>Country.Name=%{y}<extra></extra>",
           "legendgroup": "",
           "marker": {
            "color": [
             41.8124
            ],
            "coloraxis": "coloraxis",
            "pattern": {
             "shape": ""
            }
           },
           "name": "",
           "offsetgroup": "",
           "orientation": "h",
           "showlegend": false,
           "textposition": "auto",
           "type": "bar",
           "x": [
            41.8124
           ],
           "xaxis": "x",
           "y": [
            "Myanmar"
           ],
           "yaxis": "y"
          }
         ],
         "name": "41.8124"
        },
        {
         "data": [
          {
           "alignmentgroup": "True",
           "hovertemplate": "Mortality Rate (Deaths per 1000 live births)=%{marker.color}<br>Country.Name=%{y}<extra></extra>",
           "legendgroup": "",
           "marker": {
            "color": [
             27.1635
            ],
            "coloraxis": "coloraxis",
            "pattern": {
             "shape": ""
            }
           },
           "name": "",
           "offsetgroup": "",
           "orientation": "h",
           "showlegend": false,
           "textposition": "auto",
           "type": "bar",
           "x": [
            27.1635
           ],
           "xaxis": "x",
           "y": [
            "Nepal"
           ],
           "yaxis": "y"
          }
         ],
         "name": "27.1635"
        },
        {
         "data": [
          {
           "alignmentgroup": "True",
           "hovertemplate": "Mortality Rate (Deaths per 1000 live births)=%{marker.color}<br>Country.Name=%{y}<extra></extra>",
           "legendgroup": "",
           "marker": {
            "color": [
             13.2554
            ],
            "coloraxis": "coloraxis",
            "pattern": {
             "shape": ""
            }
           },
           "name": "",
           "offsetgroup": "",
           "orientation": "h",
           "showlegend": false,
           "textposition": "auto",
           "type": "bar",
           "x": [
            13.2554
           ],
           "xaxis": "x",
           "y": [
            "Nicaragua"
           ],
           "yaxis": "y"
          }
         ],
         "name": "13.2554"
        },
        {
         "data": [
          {
           "alignmentgroup": "True",
           "hovertemplate": "Mortality Rate (Deaths per 1000 live births)=%{marker.color}<br>Country.Name=%{y}<extra></extra>",
           "legendgroup": "",
           "marker": {
            "color": [
             24.1315
            ],
            "coloraxis": "coloraxis",
            "pattern": {
             "shape": ""
            }
           },
           "name": "",
           "offsetgroup": "",
           "orientation": "h",
           "showlegend": false,
           "textposition": "auto",
           "type": "bar",
           "x": [
            24.1315
           ],
           "xaxis": "x",
           "y": [
            "Niue"
           ],
           "yaxis": "y"
          }
         ],
         "name": "24.1315"
        },
        {
         "data": [
          {
           "alignmentgroup": "True",
           "hovertemplate": "Mortality Rate (Deaths per 1000 live births)=%{marker.color}<br>Country.Name=%{y}<extra></extra>",
           "legendgroup": "",
           "marker": {
            "color": [
             10.1395
            ],
            "coloraxis": "coloraxis",
            "pattern": {
             "shape": ""
            }
           },
           "name": "",
           "offsetgroup": "",
           "orientation": "h",
           "showlegend": false,
           "textposition": "auto",
           "type": "bar",
           "x": [
            10.1395
           ],
           "xaxis": "x",
           "y": [
            "Oman"
           ],
           "yaxis": "y"
          }
         ],
         "name": "10.1395"
        },
        {
         "data": [
          {
           "alignmentgroup": "True",
           "hovertemplate": "Mortality Rate (Deaths per 1000 live births)=%{marker.color}<br>Country.Name=%{y}<extra></extra>",
           "legendgroup": "",
           "marker": {
            "color": [
             63.3326
            ],
            "coloraxis": "coloraxis",
            "pattern": {
             "shape": ""
            }
           },
           "name": "",
           "offsetgroup": "",
           "orientation": "h",
           "showlegend": false,
           "textposition": "auto",
           "type": "bar",
           "x": [
            63.3326
           ],
           "xaxis": "x",
           "y": [
            "Pakistan"
           ],
           "yaxis": "y"
          }
         ],
         "name": "63.3326"
        },
        {
         "data": [
          {
           "alignmentgroup": "True",
           "hovertemplate": "Mortality Rate (Deaths per 1000 live births)=%{marker.color}<br>Country.Name=%{y}<extra></extra>",
           "legendgroup": "",
           "marker": {
            "color": [
             16.2452
            ],
            "coloraxis": "coloraxis",
            "pattern": {
             "shape": ""
            }
           },
           "name": "",
           "offsetgroup": "",
           "orientation": "h",
           "showlegend": false,
           "textposition": "auto",
           "type": "bar",
           "x": [
            16.2452
           ],
           "xaxis": "x",
           "y": [
            "Palau"
           ],
           "yaxis": "y"
          }
         ],
         "name": "16.2452"
        },
        {
         "data": [
          {
           "alignmentgroup": "True",
           "hovertemplate": "Mortality Rate (Deaths per 1000 live births)=%{marker.color}<br>Country.Name=%{y}<extra></extra>",
           "legendgroup": "",
           "marker": {
            "color": [
             13.8705
            ],
            "coloraxis": "coloraxis",
            "pattern": {
             "shape": ""
            }
           },
           "name": "",
           "offsetgroup": "",
           "orientation": "h",
           "showlegend": false,
           "textposition": "auto",
           "type": "bar",
           "x": [
            13.8705
           ],
           "xaxis": "x",
           "y": [
            "Panama"
           ],
           "yaxis": "y"
          }
         ],
         "name": "13.8705"
        },
        {
         "data": [
          {
           "alignmentgroup": "True",
           "hovertemplate": "Mortality Rate (Deaths per 1000 live births)=%{marker.color}<br>Country.Name=%{y}<extra></extra>",
           "legendgroup": "",
           "marker": {
            "color": [
             42.8119
            ],
            "coloraxis": "coloraxis",
            "pattern": {
             "shape": ""
            }
           },
           "name": "",
           "offsetgroup": "",
           "orientation": "h",
           "showlegend": false,
           "textposition": "auto",
           "type": "bar",
           "x": [
            42.8119
           ],
           "xaxis": "x",
           "y": [
            "Papua New Guinea"
           ],
           "yaxis": "y"
          }
         ],
         "name": "42.8119"
        },
        {
         "data": [
          {
           "alignmentgroup": "True",
           "hovertemplate": "Mortality Rate (Deaths per 1000 live births)=%{marker.color}<br>Country.Name=%{y}<extra></extra>",
           "legendgroup": "",
           "marker": {
            "color": [
             18.1575
            ],
            "coloraxis": "coloraxis",
            "pattern": {
             "shape": ""
            }
           },
           "name": "",
           "offsetgroup": "",
           "orientation": "h",
           "showlegend": false,
           "textposition": "auto",
           "type": "bar",
           "x": [
            18.1575
           ],
           "xaxis": "x",
           "y": [
            "Paraguay"
           ],
           "yaxis": "y"
          }
         ],
         "name": "18.1575"
        },
        {
         "data": [
          {
           "alignmentgroup": "True",
           "hovertemplate": "Mortality Rate (Deaths per 1000 live births)=%{marker.color}<br>Country.Name=%{y}<extra></extra>",
           "legendgroup": "",
           "marker": {
            "color": [
             14.1226
            ],
            "coloraxis": "coloraxis",
            "pattern": {
             "shape": ""
            }
           },
           "name": "",
           "offsetgroup": "",
           "orientation": "h",
           "showlegend": false,
           "textposition": "auto",
           "type": "bar",
           "x": [
            14.1226
           ],
           "xaxis": "x",
           "y": [
            "Peru"
           ],
           "yaxis": "y"
          }
         ],
         "name": "14.1226"
        },
        {
         "data": [
          {
           "alignmentgroup": "True",
           "hovertemplate": "Mortality Rate (Deaths per 1000 live births)=%{marker.color}<br>Country.Name=%{y}<extra></extra>",
           "legendgroup": "",
           "marker": {
            "color": [
             25.7395
            ],
            "coloraxis": "coloraxis",
            "pattern": {
             "shape": ""
            }
           },
           "name": "",
           "offsetgroup": "",
           "orientation": "h",
           "showlegend": false,
           "textposition": "auto",
           "type": "bar",
           "x": [
            25.7395
           ],
           "xaxis": "x",
           "y": [
            "Philippines"
           ],
           "yaxis": "y"
          }
         ],
         "name": "25.7395"
        },
        {
         "data": [
          {
           "alignmentgroup": "True",
           "hovertemplate": "Mortality Rate (Deaths per 1000 live births)=%{marker.color}<br>Country.Name=%{y}<extra></extra>",
           "legendgroup": "",
           "marker": {
            "color": [
             4.3466
            ],
            "coloraxis": "coloraxis",
            "pattern": {
             "shape": ""
            }
           },
           "name": "",
           "offsetgroup": "",
           "orientation": "h",
           "showlegend": false,
           "textposition": "auto",
           "type": "bar",
           "x": [
            4.3466
           ],
           "xaxis": "x",
           "y": [
            "Poland"
           ],
           "yaxis": "y"
          }
         ],
         "name": "4.3466"
        },
        {
         "data": [
          {
           "alignmentgroup": "True",
           "hovertemplate": "Mortality Rate (Deaths per 1000 live births)=%{marker.color}<br>Country.Name=%{y}<extra></extra>",
           "legendgroup": "",
           "marker": {
            "color": [
             3.0985
            ],
            "coloraxis": "coloraxis",
            "pattern": {
             "shape": ""
            }
           },
           "name": "",
           "offsetgroup": "",
           "orientation": "h",
           "showlegend": false,
           "textposition": "auto",
           "type": "bar",
           "x": [
            3.0985
           ],
           "xaxis": "x",
           "y": [
            "Portugal"
           ],
           "yaxis": "y"
          }
         ],
         "name": "3.0985"
        },
        {
         "data": [
          {
           "alignmentgroup": "True",
           "hovertemplate": "Mortality Rate (Deaths per 1000 live births)=%{marker.color}<br>Country.Name=%{y}<extra></extra>",
           "legendgroup": "",
           "marker": {
            "color": [
             5.3061
            ],
            "coloraxis": "coloraxis",
            "pattern": {
             "shape": ""
            }
           },
           "name": "",
           "offsetgroup": "",
           "orientation": "h",
           "showlegend": false,
           "textposition": "auto",
           "type": "bar",
           "x": [
            5.3061
           ],
           "xaxis": "x",
           "y": [
            "Qatar"
           ],
           "yaxis": "y"
          }
         ],
         "name": "5.3061"
        },
        {
         "data": [
          {
           "alignmentgroup": "True",
           "hovertemplate": "Mortality Rate (Deaths per 1000 live births)=%{marker.color}<br>Country.Name=%{y}<extra></extra>",
           "legendgroup": "",
           "marker": {
            "color": [
             2.8882
            ],
            "coloraxis": "coloraxis",
            "pattern": {
             "shape": ""
            }
           },
           "name": "",
           "offsetgroup": "",
           "orientation": "h",
           "showlegend": false,
           "textposition": "auto",
           "type": "bar",
           "x": [
            2.8882
           ],
           "xaxis": "x",
           "y": [
            "Republic of Korea"
           ],
           "yaxis": "y"
          }
         ],
         "name": "2.8882"
        },
        {
         "data": [
          {
           "alignmentgroup": "True",
           "hovertemplate": "Mortality Rate (Deaths per 1000 live births)=%{marker.color}<br>Country.Name=%{y}<extra></extra>",
           "legendgroup": "",
           "marker": {
            "color": [
             14.1965
            ],
            "coloraxis": "coloraxis",
            "pattern": {
             "shape": ""
            }
           },
           "name": "",
           "offsetgroup": "",
           "orientation": "h",
           "showlegend": false,
           "textposition": "auto",
           "type": "bar",
           "x": [
            14.1965
           ],
           "xaxis": "x",
           "y": [
            "Republic of Moldova"
           ],
           "yaxis": "y"
          }
         ],
         "name": "14.1965"
        },
        {
         "data": [
          {
           "alignmentgroup": "True",
           "hovertemplate": "Mortality Rate (Deaths per 1000 live births)=%{marker.color}<br>Country.Name=%{y}<extra></extra>",
           "legendgroup": "",
           "marker": {
            "color": [
             6.4269
            ],
            "coloraxis": "coloraxis",
            "pattern": {
             "shape": ""
            }
           },
           "name": "",
           "offsetgroup": "",
           "orientation": "h",
           "showlegend": false,
           "textposition": "auto",
           "type": "bar",
           "x": [
            6.4269
           ],
           "xaxis": "x",
           "y": [
            "Romania"
           ],
           "yaxis": "y"
          }
         ],
         "name": "6.4269"
        },
        {
         "data": [
          {
           "alignmentgroup": "True",
           "hovertemplate": "Mortality Rate (Deaths per 1000 live births)=%{marker.color}<br>Country.Name=%{y}<extra></extra>",
           "legendgroup": "",
           "marker": {
            "color": [
             5.0549
            ],
            "coloraxis": "coloraxis",
            "pattern": {
             "shape": ""
            }
           },
           "name": "",
           "offsetgroup": "",
           "orientation": "h",
           "showlegend": false,
           "textposition": "auto",
           "type": "bar",
           "x": [
            5.0549
           ],
           "xaxis": "x",
           "y": [
            "Russian Federation"
           ],
           "yaxis": "y"
          }
         ],
         "name": "5.0549"
        },
        {
         "data": [
          {
           "alignmentgroup": "True",
           "hovertemplate": "Mortality Rate (Deaths per 1000 live births)=%{marker.color}<br>Country.Name=%{y}<extra></extra>",
           "legendgroup": "",
           "marker": {
            "color": [
             39.4389
            ],
            "coloraxis": "coloraxis",
            "pattern": {
             "shape": ""
            }
           },
           "name": "",
           "offsetgroup": "",
           "orientation": "h",
           "showlegend": false,
           "textposition": "auto",
           "type": "bar",
           "x": [
            39.4389
           ],
           "xaxis": "x",
           "y": [
            "Rwanda"
           ],
           "yaxis": "y"
          }
         ],
         "name": "39.4389"
        },
        {
         "data": [
          {
           "alignmentgroup": "True",
           "hovertemplate": "Mortality Rate (Deaths per 1000 live births)=%{marker.color}<br>Country.Name=%{y}<extra></extra>",
           "legendgroup": "",
           "marker": {
            "color": [
             14.5602
            ],
            "coloraxis": "coloraxis",
            "pattern": {
             "shape": ""
            }
           },
           "name": "",
           "offsetgroup": "",
           "orientation": "h",
           "showlegend": false,
           "textposition": "auto",
           "type": "bar",
           "x": [
            14.5602
           ],
           "xaxis": "x",
           "y": [
            "Saint Kitts and Nevis"
           ],
           "yaxis": "y"
          }
         ],
         "name": "14.5602"
        },
        {
         "data": [
          {
           "alignmentgroup": "True",
           "hovertemplate": "Mortality Rate (Deaths per 1000 live births)=%{marker.color}<br>Country.Name=%{y}<extra></extra>",
           "legendgroup": "",
           "marker": {
            "color": [
             24.8206
            ],
            "coloraxis": "coloraxis",
            "pattern": {
             "shape": ""
            }
           },
           "name": "",
           "offsetgroup": "",
           "orientation": "h",
           "showlegend": false,
           "textposition": "auto",
           "type": "bar",
           "x": [
            24.8206
           ],
           "xaxis": "x",
           "y": [
            "Saint Lucia"
           ],
           "yaxis": "y"
          }
         ],
         "name": "24.8206"
        },
        {
         "data": [
          {
           "alignmentgroup": "True",
           "hovertemplate": "Mortality Rate (Deaths per 1000 live births)=%{marker.color}<br>Country.Name=%{y}<extra></extra>",
           "legendgroup": "",
           "marker": {
            "color": [
             13.7103
            ],
            "coloraxis": "coloraxis",
            "pattern": {
             "shape": ""
            }
           },
           "name": "",
           "offsetgroup": "",
           "orientation": "h",
           "showlegend": false,
           "textposition": "auto",
           "type": "bar",
           "x": [
            13.7103
           ],
           "xaxis": "x",
           "y": [
            "Saint Vincent and the Grenadines"
           ],
           "yaxis": "y"
          }
         ],
         "name": "13.7103"
        },
        {
         "data": [
          {
           "alignmentgroup": "True",
           "hovertemplate": "Mortality Rate (Deaths per 1000 live births)=%{marker.color}<br>Country.Name=%{y}<extra></extra>",
           "legendgroup": "",
           "marker": {
            "color": [
             16.7185
            ],
            "coloraxis": "coloraxis",
            "pattern": {
             "shape": ""
            }
           },
           "name": "",
           "offsetgroup": "",
           "orientation": "h",
           "showlegend": false,
           "textposition": "auto",
           "type": "bar",
           "x": [
            16.7185
           ],
           "xaxis": "x",
           "y": [
            "Samoa"
           ],
           "yaxis": "y"
          }
         ],
         "name": "16.7185"
        },
        {
         "data": [
          {
           "alignmentgroup": "True",
           "hovertemplate": "Mortality Rate (Deaths per 1000 live births)=%{marker.color}<br>Country.Name=%{y}<extra></extra>",
           "legendgroup": "",
           "marker": {
            "color": [
             1.7172
            ],
            "coloraxis": "coloraxis",
            "pattern": {
             "shape": ""
            }
           },
           "name": "",
           "offsetgroup": "",
           "orientation": "h",
           "showlegend": false,
           "textposition": "auto",
           "type": "bar",
           "x": [
            1.7172
           ],
           "xaxis": "x",
           "y": [
            "San Marino"
           ],
           "yaxis": "y"
          }
         ],
         "name": "1.7172"
        },
        {
         "data": [
          {
           "alignmentgroup": "True",
           "hovertemplate": "Mortality Rate (Deaths per 1000 live births)=%{marker.color}<br>Country.Name=%{y}<extra></extra>",
           "legendgroup": "",
           "marker": {
            "color": [
             15.4256
            ],
            "coloraxis": "coloraxis",
            "pattern": {
             "shape": ""
            }
           },
           "name": "",
           "offsetgroup": "",
           "orientation": "h",
           "showlegend": false,
           "textposition": "auto",
           "type": "bar",
           "x": [
            15.4256
           ],
           "xaxis": "x",
           "y": [
            "Sao Tome and Principe"
           ],
           "yaxis": "y"
          }
         ],
         "name": "15.4256"
        },
        {
         "data": [
          {
           "alignmentgroup": "True",
           "hovertemplate": "Mortality Rate (Deaths per 1000 live births)=%{marker.color}<br>Country.Name=%{y}<extra></extra>",
           "legendgroup": "",
           "marker": {
            "color": [
             6.7211
            ],
            "coloraxis": "coloraxis",
            "pattern": {
             "shape": ""
            }
           },
           "name": "",
           "offsetgroup": "",
           "orientation": "h",
           "showlegend": false,
           "textposition": "auto",
           "type": "bar",
           "x": [
            6.7211
           ],
           "xaxis": "x",
           "y": [
            "Saudi Arabia"
           ],
           "yaxis": "y"
          }
         ],
         "name": "6.7211"
        },
        {
         "data": [
          {
           "alignmentgroup": "True",
           "hovertemplate": "Mortality Rate (Deaths per 1000 live births)=%{marker.color}<br>Country.Name=%{y}<extra></extra>",
           "legendgroup": "",
           "marker": {
            "color": [
             38.5999
            ],
            "coloraxis": "coloraxis",
            "pattern": {
             "shape": ""
            }
           },
           "name": "",
           "offsetgroup": "",
           "orientation": "h",
           "showlegend": false,
           "textposition": "auto",
           "type": "bar",
           "x": [
            38.5999
           ],
           "xaxis": "x",
           "y": [
            "Senegal"
           ],
           "yaxis": "y"
          }
         ],
         "name": "38.5999"
        },
        {
         "data": [
          {
           "alignmentgroup": "True",
           "hovertemplate": "Mortality Rate (Deaths per 1000 live births)=%{marker.color}<br>Country.Name=%{y}<extra></extra>",
           "legendgroup": "",
           "marker": {
            "color": [
             5.4873
            ],
            "coloraxis": "coloraxis",
            "pattern": {
             "shape": ""
            }
           },
           "name": "",
           "offsetgroup": "",
           "orientation": "h",
           "showlegend": false,
           "textposition": "auto",
           "type": "bar",
           "x": [
            5.4873
           ],
           "xaxis": "x",
           "y": [
            "Serbia"
           ],
           "yaxis": "y"
          }
         ],
         "name": "5.4873"
        },
        {
         "data": [
          {
           "alignmentgroup": "True",
           "hovertemplate": "Mortality Rate (Deaths per 1000 live births)=%{marker.color}<br>Country.Name=%{y}<extra></extra>",
           "legendgroup": "",
           "marker": {
            "color": [
             13.9128
            ],
            "coloraxis": "coloraxis",
            "pattern": {
             "shape": ""
            }
           },
           "name": "",
           "offsetgroup": "",
           "orientation": "h",
           "showlegend": false,
           "textposition": "auto",
           "type": "bar",
           "x": [
            13.9128
           ],
           "xaxis": "x",
           "y": [
            "Seychelles"
           ],
           "yaxis": "y"
          }
         ],
         "name": "13.9128"
        },
        {
         "data": [
          {
           "alignmentgroup": "True",
           "hovertemplate": "Mortality Rate (Deaths per 1000 live births)=%{marker.color}<br>Country.Name=%{y}<extra></extra>",
           "legendgroup": "",
           "marker": {
            "color": [
             104.687
            ],
            "coloraxis": "coloraxis",
            "pattern": {
             "shape": ""
            }
           },
           "name": "",
           "offsetgroup": "",
           "orientation": "h",
           "showlegend": false,
           "textposition": "auto",
           "type": "bar",
           "x": [
            104.687
           ],
           "xaxis": "x",
           "y": [
            "Sierra Leone"
           ],
           "yaxis": "y"
          }
         ],
         "name": "104.687"
        },
        {
         "data": [
          {
           "alignmentgroup": "True",
           "hovertemplate": "Mortality Rate (Deaths per 1000 live births)=%{marker.color}<br>Country.Name=%{y}<extra></extra>",
           "legendgroup": "",
           "marker": {
            "color": [
             2.0883
            ],
            "coloraxis": "coloraxis",
            "pattern": {
             "shape": ""
            }
           },
           "name": "",
           "offsetgroup": "",
           "orientation": "h",
           "showlegend": false,
           "textposition": "auto",
           "type": "bar",
           "x": [
            2.0883
           ],
           "xaxis": "x",
           "y": [
            "Singapore"
           ],
           "yaxis": "y"
          }
         ],
         "name": "2.0883"
        },
        {
         "data": [
          {
           "alignmentgroup": "True",
           "hovertemplate": "Mortality Rate (Deaths per 1000 live births)=%{marker.color}<br>Country.Name=%{y}<extra></extra>",
           "legendgroup": "",
           "marker": {
            "color": [
             5.6331
            ],
            "coloraxis": "coloraxis",
            "pattern": {
             "shape": ""
            }
           },
           "name": "",
           "offsetgroup": "",
           "orientation": "h",
           "showlegend": false,
           "textposition": "auto",
           "type": "bar",
           "x": [
            5.6331
           ],
           "xaxis": "x",
           "y": [
            "Slovakia"
           ],
           "yaxis": "y"
          }
         ],
         "name": "5.6331"
        },
        {
         "data": [
          {
           "alignmentgroup": "True",
           "hovertemplate": "Mortality Rate (Deaths per 1000 live births)=%{marker.color}<br>Country.Name=%{y}<extra></extra>",
           "legendgroup": "",
           "marker": {
            "color": [
             2.1696
            ],
            "coloraxis": "coloraxis",
            "pattern": {
             "shape": ""
            }
           },
           "name": "",
           "offsetgroup": "",
           "orientation": "h",
           "showlegend": false,
           "textposition": "auto",
           "type": "bar",
           "x": [
            2.1696
           ],
           "xaxis": "x",
           "y": [
            "Slovenia"
           ],
           "yaxis": "y"
          }
         ],
         "name": "2.1696"
        },
        {
         "data": [
          {
           "alignmentgroup": "True",
           "hovertemplate": "Mortality Rate (Deaths per 1000 live births)=%{marker.color}<br>Country.Name=%{y}<extra></extra>",
           "legendgroup": "",
           "marker": {
            "color": [
             18.7853
            ],
            "coloraxis": "coloraxis",
            "pattern": {
             "shape": ""
            }
           },
           "name": "",
           "offsetgroup": "",
           "orientation": "h",
           "showlegend": false,
           "textposition": "auto",
           "type": "bar",
           "x": [
            18.7853
           ],
           "xaxis": "x",
           "y": [
            "Solomon Islands"
           ],
           "yaxis": "y"
          }
         ],
         "name": "18.7853"
        },
        {
         "data": [
          {
           "alignmentgroup": "True",
           "hovertemplate": "Mortality Rate (Deaths per 1000 live births)=%{marker.color}<br>Country.Name=%{y}<extra></extra>",
           "legendgroup": "",
           "marker": {
            "color": [
             111.7846
            ],
            "coloraxis": "coloraxis",
            "pattern": {
             "shape": ""
            }
           },
           "name": "",
           "offsetgroup": "",
           "orientation": "h",
           "showlegend": false,
           "textposition": "auto",
           "type": "bar",
           "x": [
            111.7846
           ],
           "xaxis": "x",
           "y": [
            "Somalia"
           ],
           "yaxis": "y"
          }
         ],
         "name": "111.7846"
        },
        {
         "data": [
          {
           "alignmentgroup": "True",
           "hovertemplate": "Mortality Rate (Deaths per 1000 live births)=%{marker.color}<br>Country.Name=%{y}<extra></extra>",
           "legendgroup": "",
           "marker": {
            "color": [
             32.8473
            ],
            "coloraxis": "coloraxis",
            "pattern": {
             "shape": ""
            }
           },
           "name": "",
           "offsetgroup": "",
           "orientation": "h",
           "showlegend": false,
           "textposition": "auto",
           "type": "bar",
           "x": [
            32.8473
           ],
           "xaxis": "x",
           "y": [
            "South Africa"
           ],
           "yaxis": "y"
          }
         ],
         "name": "32.8473"
        },
        {
         "data": [
          {
           "alignmentgroup": "True",
           "hovertemplate": "Mortality Rate (Deaths per 1000 live births)=%{marker.color}<br>Country.Name=%{y}<extra></extra>",
           "legendgroup": "",
           "marker": {
            "color": [
             98.6896
            ],
            "coloraxis": "coloraxis",
            "pattern": {
             "shape": ""
            }
           },
           "name": "",
           "offsetgroup": "",
           "orientation": "h",
           "showlegend": false,
           "textposition": "auto",
           "type": "bar",
           "x": [
            98.6896
           ],
           "xaxis": "x",
           "y": [
            "South Sudan"
           ],
           "yaxis": "y"
          }
         ],
         "name": "98.6896"
        },
        {
         "data": [
          {
           "alignmentgroup": "True",
           "hovertemplate": "Mortality Rate (Deaths per 1000 live births)=%{marker.color}<br>Country.Name=%{y}<extra></extra>",
           "legendgroup": "",
           "marker": {
            "color": [
             3.0454
            ],
            "coloraxis": "coloraxis",
            "pattern": {
             "shape": ""
            }
           },
           "name": "",
           "offsetgroup": "",
           "orientation": "h",
           "showlegend": false,
           "textposition": "auto",
           "type": "bar",
           "x": [
            3.0454
           ],
           "xaxis": "x",
           "y": [
            "Spain"
           ],
           "yaxis": "y"
          }
         ],
         "name": "3.0454"
        },
        {
         "data": [
          {
           "alignmentgroup": "True",
           "hovertemplate": "Mortality Rate (Deaths per 1000 live births)=%{marker.color}<br>Country.Name=%{y}<extra></extra>",
           "legendgroup": "",
           "marker": {
            "color": [
             6.7481
            ],
            "coloraxis": "coloraxis",
            "pattern": {
             "shape": ""
            }
           },
           "name": "",
           "offsetgroup": "",
           "orientation": "h",
           "showlegend": false,
           "textposition": "auto",
           "type": "bar",
           "x": [
            6.7481
           ],
           "xaxis": "x",
           "y": [
            "Sri Lanka"
           ],
           "yaxis": "y"
          }
         ],
         "name": "6.7481"
        },
        {
         "data": [
          {
           "alignmentgroup": "True",
           "hovertemplate": "Mortality Rate (Deaths per 1000 live births)=%{marker.color}<br>Country.Name=%{y}<extra></extra>",
           "legendgroup": "",
           "marker": {
            "color": [
             14.8348
            ],
            "coloraxis": "coloraxis",
            "pattern": {
             "shape": ""
            }
           },
           "name": "",
           "offsetgroup": "",
           "orientation": "h",
           "showlegend": false,
           "textposition": "auto",
           "type": "bar",
           "x": [
            14.8348
           ],
           "xaxis": "x",
           "y": [
            "State of Palestine"
           ],
           "yaxis": "y"
          }
         ],
         "name": "14.8348"
        },
        {
         "data": [
          {
           "alignmentgroup": "True",
           "hovertemplate": "Mortality Rate (Deaths per 1000 live births)=%{marker.color}<br>Country.Name=%{y}<extra></extra>",
           "legendgroup": "",
           "marker": {
            "color": [
             54.8955
            ],
            "coloraxis": "coloraxis",
            "pattern": {
             "shape": ""
            }
           },
           "name": "",
           "offsetgroup": "",
           "orientation": "h",
           "showlegend": false,
           "textposition": "auto",
           "type": "bar",
           "x": [
            54.8955
           ],
           "xaxis": "x",
           "y": [
            "Sudan"
           ],
           "yaxis": "y"
          }
         ],
         "name": "54.8955"
        },
        {
         "data": [
          {
           "alignmentgroup": "True",
           "hovertemplate": "Mortality Rate (Deaths per 1000 live births)=%{marker.color}<br>Country.Name=%{y}<extra></extra>",
           "legendgroup": "",
           "marker": {
            "color": [
             17.1758
            ],
            "coloraxis": "coloraxis",
            "pattern": {
             "shape": ""
            }
           },
           "name": "",
           "offsetgroup": "",
           "orientation": "h",
           "showlegend": false,
           "textposition": "auto",
           "type": "bar",
           "x": [
            17.1758
           ],
           "xaxis": "x",
           "y": [
            "Suriname"
           ],
           "yaxis": "y"
          }
         ],
         "name": "17.1758"
        },
        {
         "data": [
          {
           "alignmentgroup": "True",
           "hovertemplate": "Mortality Rate (Deaths per 1000 live births)=%{marker.color}<br>Country.Name=%{y}<extra></extra>",
           "legendgroup": "",
           "marker": {
            "color": [
             2.4645
            ],
            "coloraxis": "coloraxis",
            "pattern": {
             "shape": ""
            }
           },
           "name": "",
           "offsetgroup": "",
           "orientation": "h",
           "showlegend": false,
           "textposition": "auto",
           "type": "bar",
           "x": [
            2.4645
           ],
           "xaxis": "x",
           "y": [
            "Sweden"
           ],
           "yaxis": "y"
          }
         ],
         "name": "2.4645"
        },
        {
         "data": [
          {
           "alignmentgroup": "True",
           "hovertemplate": "Mortality Rate (Deaths per 1000 live births)=%{marker.color}<br>Country.Name=%{y}<extra></extra>",
           "legendgroup": "",
           "marker": {
            "color": [
             3.8306
            ],
            "coloraxis": "coloraxis",
            "pattern": {
             "shape": ""
            }
           },
           "name": "",
           "offsetgroup": "",
           "orientation": "h",
           "showlegend": false,
           "textposition": "auto",
           "type": "bar",
           "x": [
            3.8306
           ],
           "xaxis": "x",
           "y": [
            "Switzerland"
           ],
           "yaxis": "y"
          }
         ],
         "name": "3.8306"
        },
        {
         "data": [
          {
           "alignmentgroup": "True",
           "hovertemplate": "Mortality Rate (Deaths per 1000 live births)=%{marker.color}<br>Country.Name=%{y}<extra></extra>",
           "legendgroup": "",
           "marker": {
            "color": [
             22.2724
            ],
            "coloraxis": "coloraxis",
            "pattern": {
             "shape": ""
            }
           },
           "name": "",
           "offsetgroup": "",
           "orientation": "h",
           "showlegend": false,
           "textposition": "auto",
           "type": "bar",
           "x": [
            22.2724
           ],
           "xaxis": "x",
           "y": [
            "Syrian Arab Republic"
           ],
           "yaxis": "y"
          }
         ],
         "name": "22.2724"
        },
        {
         "data": [
          {
           "alignmentgroup": "True",
           "hovertemplate": "Mortality Rate (Deaths per 1000 live births)=%{marker.color}<br>Country.Name=%{y}<extra></extra>",
           "legendgroup": "",
           "marker": {
            "color": [
             31.419
            ],
            "coloraxis": "coloraxis",
            "pattern": {
             "shape": ""
            }
           },
           "name": "",
           "offsetgroup": "",
           "orientation": "h",
           "showlegend": false,
           "textposition": "auto",
           "type": "bar",
           "x": [
            31.419
           ],
           "xaxis": "x",
           "y": [
            "Tajikistan"
           ],
           "yaxis": "y"
          }
         ],
         "name": "31.419"
        },
        {
         "data": [
          {
           "alignmentgroup": "True",
           "hovertemplate": "Mortality Rate (Deaths per 1000 live births)=%{marker.color}<br>Country.Name=%{y}<extra></extra>",
           "legendgroup": "",
           "marker": {
            "color": [
             8.291
            ],
            "coloraxis": "coloraxis",
            "pattern": {
             "shape": ""
            }
           },
           "name": "",
           "offsetgroup": "",
           "orientation": "h",
           "showlegend": false,
           "textposition": "auto",
           "type": "bar",
           "x": [
            8.291
           ],
           "xaxis": "x",
           "y": [
            "Thailand"
           ],
           "yaxis": "y"
          }
         ],
         "name": "8.291"
        },
        {
         "data": [
          {
           "alignmentgroup": "True",
           "hovertemplate": "Mortality Rate (Deaths per 1000 live births)=%{marker.color}<br>Country.Name=%{y}<extra></extra>",
           "legendgroup": "",
           "marker": {
            "color": [
             50.549
            ],
            "coloraxis": "coloraxis",
            "pattern": {
             "shape": ""
            }
           },
           "name": "",
           "offsetgroup": "",
           "orientation": "h",
           "showlegend": false,
           "textposition": "auto",
           "type": "bar",
           "x": [
            50.549
           ],
           "xaxis": "x",
           "y": [
            "Timor-Leste"
           ],
           "yaxis": "y"
          }
         ],
         "name": "50.549"
        },
        {
         "data": [
          {
           "alignmentgroup": "True",
           "hovertemplate": "Mortality Rate (Deaths per 1000 live births)=%{marker.color}<br>Country.Name=%{y}<extra></extra>",
           "legendgroup": "",
           "marker": {
            "color": [
             62.6045
            ],
            "coloraxis": "coloraxis",
            "pattern": {
             "shape": ""
            }
           },
           "name": "",
           "offsetgroup": "",
           "orientation": "h",
           "showlegend": false,
           "textposition": "auto",
           "type": "bar",
           "x": [
            62.6045
           ],
           "xaxis": "x",
           "y": [
            "Togo"
           ],
           "yaxis": "y"
          }
         ],
         "name": "62.6045"
        },
        {
         "data": [
          {
           "alignmentgroup": "True",
           "hovertemplate": "Mortality Rate (Deaths per 1000 live births)=%{marker.color}<br>Country.Name=%{y}<extra></extra>",
           "legendgroup": "",
           "marker": {
            "color": [
             11.1399
            ],
            "coloraxis": "coloraxis",
            "pattern": {
             "shape": ""
            }
           },
           "name": "",
           "offsetgroup": "",
           "orientation": "h",
           "showlegend": false,
           "textposition": "auto",
           "type": "bar",
           "x": [
            11.1399
           ],
           "xaxis": "x",
           "y": [
            "Tonga"
           ],
           "yaxis": "y"
          }
         ],
         "name": "11.1399"
        },
        {
         "data": [
          {
           "alignmentgroup": "True",
           "hovertemplate": "Mortality Rate (Deaths per 1000 live births)=%{marker.color}<br>Country.Name=%{y}<extra></extra>",
           "legendgroup": "",
           "marker": {
            "color": [
             16.3318
            ],
            "coloraxis": "coloraxis",
            "pattern": {
             "shape": ""
            }
           },
           "name": "",
           "offsetgroup": "",
           "orientation": "h",
           "showlegend": false,
           "textposition": "auto",
           "type": "bar",
           "x": [
            16.3318
           ],
           "xaxis": "x",
           "y": [
            "Trinidad and Tobago"
           ],
           "yaxis": "y"
          }
         ],
         "name": "16.3318"
        },
        {
         "data": [
          {
           "alignmentgroup": "True",
           "hovertemplate": "Mortality Rate (Deaths per 1000 live births)=%{marker.color}<br>Country.Name=%{y}<extra></extra>",
           "legendgroup": "",
           "marker": {
            "color": [
             16.3213
            ],
            "coloraxis": "coloraxis",
            "pattern": {
             "shape": ""
            }
           },
           "name": "",
           "offsetgroup": "",
           "orientation": "h",
           "showlegend": false,
           "textposition": "auto",
           "type": "bar",
           "x": [
            16.3213
           ],
           "xaxis": "x",
           "y": [
            "Tunisia"
           ],
           "yaxis": "y"
          }
         ],
         "name": "16.3213"
        },
        {
         "data": [
          {
           "alignmentgroup": "True",
           "hovertemplate": "Mortality Rate (Deaths per 1000 live births)=%{marker.color}<br>Country.Name=%{y}<extra></extra>",
           "legendgroup": "",
           "marker": {
            "color": [
             41.4278
            ],
            "coloraxis": "coloraxis",
            "pattern": {
             "shape": ""
            }
           },
           "name": "",
           "offsetgroup": "",
           "orientation": "h",
           "showlegend": false,
           "textposition": "auto",
           "type": "bar",
           "x": [
            41.4278
           ],
           "xaxis": "x",
           "y": [
            "Turkmenistan"
           ],
           "yaxis": "y"
          }
         ],
         "name": "41.4278"
        },
        {
         "data": [
          {
           "alignmentgroup": "True",
           "hovertemplate": "Mortality Rate (Deaths per 1000 live births)=%{marker.color}<br>Country.Name=%{y}<extra></extra>",
           "legendgroup": "",
           "marker": {
            "color": [
             4.4894
            ],
            "coloraxis": "coloraxis",
            "pattern": {
             "shape": ""
            }
           },
           "name": "",
           "offsetgroup": "",
           "orientation": "h",
           "showlegend": false,
           "textposition": "auto",
           "type": "bar",
           "x": [
            4.4894
           ],
           "xaxis": "x",
           "y": [
            "Turks and Caicos Islands"
           ],
           "yaxis": "y"
          }
         ],
         "name": "4.4894"
        },
        {
         "data": [
          {
           "alignmentgroup": "True",
           "hovertemplate": "Mortality Rate (Deaths per 1000 live births)=%{marker.color}<br>Country.Name=%{y}<extra></extra>",
           "legendgroup": "",
           "marker": {
            "color": [
             21.2541
            ],
            "coloraxis": "coloraxis",
            "pattern": {
             "shape": ""
            }
           },
           "name": "",
           "offsetgroup": "",
           "orientation": "h",
           "showlegend": false,
           "textposition": "auto",
           "type": "bar",
           "x": [
            21.2541
           ],
           "xaxis": "x",
           "y": [
            "Tuvalu"
           ],
           "yaxis": "y"
          }
         ],
         "name": "21.2541"
        },
        {
         "data": [
          {
           "alignmentgroup": "True",
           "hovertemplate": "Mortality Rate (Deaths per 1000 live births)=%{marker.color}<br>Country.Name=%{y}<extra></extra>",
           "legendgroup": "",
           "marker": {
            "color": [
             8.9802
            ],
            "coloraxis": "coloraxis",
            "pattern": {
             "shape": ""
            }
           },
           "name": "",
           "offsetgroup": "",
           "orientation": "h",
           "showlegend": false,
           "textposition": "auto",
           "type": "bar",
           "x": [
            8.9802
           ],
           "xaxis": "x",
           "y": [
            "Türkiye"
           ],
           "yaxis": "y"
          }
         ],
         "name": "8.9802"
        },
        {
         "data": [
          {
           "alignmentgroup": "True",
           "hovertemplate": "Mortality Rate (Deaths per 1000 live births)=%{marker.color}<br>Country.Name=%{y}<extra></extra>",
           "legendgroup": "",
           "marker": {
            "color": [
             42.1282
            ],
            "coloraxis": "coloraxis",
            "pattern": {
             "shape": ""
            }
           },
           "name": "",
           "offsetgroup": "",
           "orientation": "h",
           "showlegend": false,
           "textposition": "auto",
           "type": "bar",
           "x": [
            42.1282
           ],
           "xaxis": "x",
           "y": [
            "Uganda"
           ],
           "yaxis": "y"
          }
         ],
         "name": "42.1282"
        },
        {
         "data": [
          {
           "alignmentgroup": "True",
           "hovertemplate": "Mortality Rate (Deaths per 1000 live births)=%{marker.color}<br>Country.Name=%{y}<extra></extra>",
           "legendgroup": "",
           "marker": {
            "color": [
             8.2232
            ],
            "coloraxis": "coloraxis",
            "pattern": {
             "shape": ""
            }
           },
           "name": "",
           "offsetgroup": "",
           "orientation": "h",
           "showlegend": false,
           "textposition": "auto",
           "type": "bar",
           "x": [
            8.2232
           ],
           "xaxis": "x",
           "y": [
            "Ukraine"
           ],
           "yaxis": "y"
          }
         ],
         "name": "8.2232"
        },
        {
         "data": [
          {
           "alignmentgroup": "True",
           "hovertemplate": "Mortality Rate (Deaths per 1000 live births)=%{marker.color}<br>Country.Name=%{y}<extra></extra>",
           "legendgroup": "",
           "marker": {
            "color": [
             6.3718
            ],
            "coloraxis": "coloraxis",
            "pattern": {
             "shape": ""
            }
           },
           "name": "",
           "offsetgroup": "",
           "orientation": "h",
           "showlegend": false,
           "textposition": "auto",
           "type": "bar",
           "x": [
            6.3718
           ],
           "xaxis": "x",
           "y": [
            "United Arab Emirates"
           ],
           "yaxis": "y"
          }
         ],
         "name": "6.3718"
        },
        {
         "data": [
          {
           "alignmentgroup": "True",
           "hovertemplate": "Mortality Rate (Deaths per 1000 live births)=%{marker.color}<br>Country.Name=%{y}<extra></extra>",
           "legendgroup": "",
           "marker": {
            "color": [
             4.1854
            ],
            "coloraxis": "coloraxis",
            "pattern": {
             "shape": ""
            }
           },
           "name": "",
           "offsetgroup": "",
           "orientation": "h",
           "showlegend": false,
           "textposition": "auto",
           "type": "bar",
           "x": [
            4.1854
           ],
           "xaxis": "x",
           "y": [
            "United Kingdom"
           ],
           "yaxis": "y"
          }
         ],
         "name": "4.1854"
        },
        {
         "data": [
          {
           "alignmentgroup": "True",
           "hovertemplate": "Mortality Rate (Deaths per 1000 live births)=%{marker.color}<br>Country.Name=%{y}<extra></extra>",
           "legendgroup": "",
           "marker": {
            "color": [
             47.1164
            ],
            "coloraxis": "coloraxis",
            "pattern": {
             "shape": ""
            }
           },
           "name": "",
           "offsetgroup": "",
           "orientation": "h",
           "showlegend": false,
           "textposition": "auto",
           "type": "bar",
           "x": [
            47.1164
           ],
           "xaxis": "x",
           "y": [
            "United Republic of Tanzania"
           ],
           "yaxis": "y"
          }
         ],
         "name": "47.1164"
        },
        {
         "data": [
          {
           "alignmentgroup": "True",
           "hovertemplate": "Mortality Rate (Deaths per 1000 live births)=%{marker.color}<br>Country.Name=%{y}<extra></extra>",
           "legendgroup": "",
           "marker": {
            "color": [
             6.243
            ],
            "coloraxis": "coloraxis",
            "pattern": {
             "shape": ""
            }
           },
           "name": "",
           "offsetgroup": "",
           "orientation": "h",
           "showlegend": false,
           "textposition": "auto",
           "type": "bar",
           "x": [
            6.243
           ],
           "xaxis": "x",
           "y": [
            "United States"
           ],
           "yaxis": "y"
          }
         ],
         "name": "6.243"
        },
        {
         "data": [
          {
           "alignmentgroup": "True",
           "hovertemplate": "Mortality Rate (Deaths per 1000 live births)=%{marker.color}<br>Country.Name=%{y}<extra></extra>",
           "legendgroup": "",
           "marker": {
            "color": [
             5.8231
            ],
            "coloraxis": "coloraxis",
            "pattern": {
             "shape": ""
            }
           },
           "name": "",
           "offsetgroup": "",
           "orientation": "h",
           "showlegend": false,
           "textposition": "auto",
           "type": "bar",
           "x": [
            5.8231
           ],
           "xaxis": "x",
           "y": [
            "Uruguay"
           ],
           "yaxis": "y"
          }
         ],
         "name": "5.8231"
        },
        {
         "data": [
          {
           "alignmentgroup": "True",
           "hovertemplate": "Mortality Rate (Deaths per 1000 live births)=%{marker.color}<br>Country.Name=%{y}<extra></extra>",
           "legendgroup": "",
           "marker": {
            "color": [
             14.0661
            ],
            "coloraxis": "coloraxis",
            "pattern": {
             "shape": ""
            }
           },
           "name": "",
           "offsetgroup": "",
           "orientation": "h",
           "showlegend": false,
           "textposition": "auto",
           "type": "bar",
           "x": [
            14.0661
           ],
           "xaxis": "x",
           "y": [
            "Uzbekistan"
           ],
           "yaxis": "y"
          }
         ],
         "name": "14.0661"
        },
        {
         "data": [
          {
           "alignmentgroup": "True",
           "hovertemplate": "Mortality Rate (Deaths per 1000 live births)=%{marker.color}<br>Country.Name=%{y}<extra></extra>",
           "legendgroup": "",
           "marker": {
            "color": [
             23.2141
            ],
            "coloraxis": "coloraxis",
            "pattern": {
             "shape": ""
            }
           },
           "name": "",
           "offsetgroup": "",
           "orientation": "h",
           "showlegend": false,
           "textposition": "auto",
           "type": "bar",
           "x": [
            23.2141
           ],
           "xaxis": "x",
           "y": [
            "Vanuatu"
           ],
           "yaxis": "y"
          }
         ],
         "name": "23.2141"
        },
        {
         "data": [
          {
           "alignmentgroup": "True",
           "hovertemplate": "Mortality Rate (Deaths per 1000 live births)=%{marker.color}<br>Country.Name=%{y}<extra></extra>",
           "legendgroup": "",
           "marker": {
            "color": [
             24.2297
            ],
            "coloraxis": "coloraxis",
            "pattern": {
             "shape": ""
            }
           },
           "name": "",
           "offsetgroup": "",
           "orientation": "h",
           "showlegend": false,
           "textposition": "auto",
           "type": "bar",
           "x": [
            24.2297
           ],
           "xaxis": "x",
           "y": [
            "Venezuela (Bolivarian Republic of)"
           ],
           "yaxis": "y"
          }
         ],
         "name": "24.2297"
        },
        {
         "data": [
          {
           "alignmentgroup": "True",
           "hovertemplate": "Mortality Rate (Deaths per 1000 live births)=%{marker.color}<br>Country.Name=%{y}<extra></extra>",
           "legendgroup": "",
           "marker": {
            "color": [
             20.6016
            ],
            "coloraxis": "coloraxis",
            "pattern": {
             "shape": ""
            }
           },
           "name": "",
           "offsetgroup": "",
           "orientation": "h",
           "showlegend": false,
           "textposition": "auto",
           "type": "bar",
           "x": [
            20.6016
           ],
           "xaxis": "x",
           "y": [
            "Viet Nam"
           ],
           "yaxis": "y"
          }
         ],
         "name": "20.6016"
        },
        {
         "data": [
          {
           "alignmentgroup": "True",
           "hovertemplate": "Mortality Rate (Deaths per 1000 live births)=%{marker.color}<br>Country.Name=%{y}<extra></extra>",
           "legendgroup": "",
           "marker": {
            "color": [
             61.9089
            ],
            "coloraxis": "coloraxis",
            "pattern": {
             "shape": ""
            }
           },
           "name": "",
           "offsetgroup": "",
           "orientation": "h",
           "showlegend": false,
           "textposition": "auto",
           "type": "bar",
           "x": [
            61.9089
           ],
           "xaxis": "x",
           "y": [
            "Yemen"
           ],
           "yaxis": "y"
          }
         ],
         "name": "61.9089"
        },
        {
         "data": [
          {
           "alignmentgroup": "True",
           "hovertemplate": "Mortality Rate (Deaths per 1000 live births)=%{marker.color}<br>Country.Name=%{y}<extra></extra>",
           "legendgroup": "",
           "marker": {
            "color": [
             57.6918
            ],
            "coloraxis": "coloraxis",
            "pattern": {
             "shape": ""
            }
           },
           "name": "",
           "offsetgroup": "",
           "orientation": "h",
           "showlegend": false,
           "textposition": "auto",
           "type": "bar",
           "x": [
            57.6918
           ],
           "xaxis": "x",
           "y": [
            "Zambia"
           ],
           "yaxis": "y"
          }
         ],
         "name": "57.6918"
        },
        {
         "data": [
          {
           "alignmentgroup": "True",
           "hovertemplate": "Mortality Rate (Deaths per 1000 live births)=%{marker.color}<br>Country.Name=%{y}<extra></extra>",
           "legendgroup": "",
           "marker": {
            "color": [
             49.522
            ],
            "coloraxis": "coloraxis",
            "pattern": {
             "shape": ""
            }
           },
           "name": "",
           "offsetgroup": "",
           "orientation": "h",
           "showlegend": false,
           "textposition": "auto",
           "type": "bar",
           "x": [
            49.522
           ],
           "xaxis": "x",
           "y": [
            "Zimbabwe"
           ],
           "yaxis": "y"
          }
         ],
         "name": "49.522"
        }
       ],
       "layout": {
        "barmode": "relative",
        "coloraxis": {
         "colorbar": {
          "title": {
           "text": "Mortality Rate (Deaths per 1000 live births)"
          }
         },
         "colorscale": [
          [
           0,
           "#0d0887"
          ],
          [
           0.1111111111111111,
           "#46039f"
          ],
          [
           0.2222222222222222,
           "#7201a8"
          ],
          [
           0.3333333333333333,
           "#9c179e"
          ],
          [
           0.4444444444444444,
           "#bd3786"
          ],
          [
           0.5555555555555556,
           "#d8576b"
          ],
          [
           0.6666666666666666,
           "#ed7953"
          ],
          [
           0.7777777777777778,
           "#fb9f3a"
          ],
          [
           0.8888888888888888,
           "#fdca26"
          ],
          [
           1,
           "#f0f921"
          ]
         ]
        },
        "legend": {
         "tracegroupgap": 0
        },
        "sliders": [
         {
          "active": 0,
          "currentvalue": {
           "font": {
            "size": 20
           },
           "prefix": "Year:",
           "visible": true,
           "xanchor": "right"
          },
          "len": 0.9,
          "pad": {
           "b": 10,
           "t": 50
          },
          "steps": [
           {
            "args": [
             [
              "1988.5"
             ],
             {
              "frame": {
               "duration": 300,
               "redraw": true
              },
              "mode": "immediate",
              "transition": {
               "duration": 300
              }
             }
            ],
            "label": "1988.5",
            "method": "animate"
           },
           {
            "args": [
             [
              "1989.5"
             ],
             {
              "frame": {
               "duration": 300,
               "redraw": true
              },
              "mode": "immediate",
              "transition": {
               "duration": 300
              }
             }
            ],
            "label": "1989.5",
            "method": "animate"
           },
           {
            "args": [
             [
              "1990.5"
             ],
             {
              "frame": {
               "duration": 300,
               "redraw": true
              },
              "mode": "immediate",
              "transition": {
               "duration": 300
              }
             }
            ],
            "label": "1990.5",
            "method": "animate"
           },
           {
            "args": [
             [
              "1991.5"
             ],
             {
              "frame": {
               "duration": 300,
               "redraw": true
              },
              "mode": "immediate",
              "transition": {
               "duration": 300
              }
             }
            ],
            "label": "1991.5",
            "method": "animate"
           },
           {
            "args": [
             [
              "1992.5"
             ],
             {
              "frame": {
               "duration": 300,
               "redraw": true
              },
              "mode": "immediate",
              "transition": {
               "duration": 300
              }
             }
            ],
            "label": "1992.5",
            "method": "animate"
           },
           {
            "args": [
             [
              "1993.5"
             ],
             {
              "frame": {
               "duration": 300,
               "redraw": true
              },
              "mode": "immediate",
              "transition": {
               "duration": 300
              }
             }
            ],
            "label": "1993.5",
            "method": "animate"
           },
           {
            "args": [
             [
              "1994.5"
             ],
             {
              "frame": {
               "duration": 300,
               "redraw": true
              },
              "mode": "immediate",
              "transition": {
               "duration": 300
              }
             }
            ],
            "label": "1994.5",
            "method": "animate"
           },
           {
            "args": [
             [
              "1995.5"
             ],
             {
              "frame": {
               "duration": 300,
               "redraw": true
              },
              "mode": "immediate",
              "transition": {
               "duration": 300
              }
             }
            ],
            "label": "1995.5",
            "method": "animate"
           },
           {
            "args": [
             [
              "1996.5"
             ],
             {
              "frame": {
               "duration": 300,
               "redraw": true
              },
              "mode": "immediate",
              "transition": {
               "duration": 300
              }
             }
            ],
            "label": "1996.5",
            "method": "animate"
           },
           {
            "args": [
             [
              "1997.5"
             ],
             {
              "frame": {
               "duration": 300,
               "redraw": true
              },
              "mode": "immediate",
              "transition": {
               "duration": 300
              }
             }
            ],
            "label": "1997.5",
            "method": "animate"
           },
           {
            "args": [
             [
              "1998.5"
             ],
             {
              "frame": {
               "duration": 300,
               "redraw": true
              },
              "mode": "immediate",
              "transition": {
               "duration": 300
              }
             }
            ],
            "label": "1998.5",
            "method": "animate"
           },
           {
            "args": [
             [
              "1999.5"
             ],
             {
              "frame": {
               "duration": 300,
               "redraw": true
              },
              "mode": "immediate",
              "transition": {
               "duration": 300
              }
             }
            ],
            "label": "1999.5",
            "method": "animate"
           },
           {
            "args": [
             [
              "2000.5"
             ],
             {
              "frame": {
               "duration": 300,
               "redraw": true
              },
              "mode": "immediate",
              "transition": {
               "duration": 300
              }
             }
            ],
            "label": "2000.5",
            "method": "animate"
           },
           {
            "args": [
             [
              "2001.5"
             ],
             {
              "frame": {
               "duration": 300,
               "redraw": true
              },
              "mode": "immediate",
              "transition": {
               "duration": 300
              }
             }
            ],
            "label": "2001.5",
            "method": "animate"
           },
           {
            "args": [
             [
              "2002.5"
             ],
             {
              "frame": {
               "duration": 300,
               "redraw": true
              },
              "mode": "immediate",
              "transition": {
               "duration": 300
              }
             }
            ],
            "label": "2002.5",
            "method": "animate"
           },
           {
            "args": [
             [
              "2003.5"
             ],
             {
              "frame": {
               "duration": 300,
               "redraw": true
              },
              "mode": "immediate",
              "transition": {
               "duration": 300
              }
             }
            ],
            "label": "2003.5",
            "method": "animate"
           },
           {
            "args": [
             [
              "2004.5"
             ],
             {
              "frame": {
               "duration": 300,
               "redraw": true
              },
              "mode": "immediate",
              "transition": {
               "duration": 300
              }
             }
            ],
            "label": "2004.5",
            "method": "animate"
           },
           {
            "args": [
             [
              "2005.5"
             ],
             {
              "frame": {
               "duration": 300,
               "redraw": true
              },
              "mode": "immediate",
              "transition": {
               "duration": 300
              }
             }
            ],
            "label": "2005.5",
            "method": "animate"
           },
           {
            "args": [
             [
              "2006.5"
             ],
             {
              "frame": {
               "duration": 300,
               "redraw": true
              },
              "mode": "immediate",
              "transition": {
               "duration": 300
              }
             }
            ],
            "label": "2006.5",
            "method": "animate"
           },
           {
            "args": [
             [
              "2007.5"
             ],
             {
              "frame": {
               "duration": 300,
               "redraw": true
              },
              "mode": "immediate",
              "transition": {
               "duration": 300
              }
             }
            ],
            "label": "2007.5",
            "method": "animate"
           },
           {
            "args": [
             [
              "2008.5"
             ],
             {
              "frame": {
               "duration": 300,
               "redraw": true
              },
              "mode": "immediate",
              "transition": {
               "duration": 300
              }
             }
            ],
            "label": "2008.5",
            "method": "animate"
           },
           {
            "args": [
             [
              "2009.5"
             ],
             {
              "frame": {
               "duration": 300,
               "redraw": true
              },
              "mode": "immediate",
              "transition": {
               "duration": 300
              }
             }
            ],
            "label": "2009.5",
            "method": "animate"
           },
           {
            "args": [
             [
              "2010.5"
             ],
             {
              "frame": {
               "duration": 300,
               "redraw": true
              },
              "mode": "immediate",
              "transition": {
               "duration": 300
              }
             }
            ],
            "label": "2010.5",
            "method": "animate"
           },
           {
            "args": [
             [
              "2011.5"
             ],
             {
              "frame": {
               "duration": 300,
               "redraw": true
              },
              "mode": "immediate",
              "transition": {
               "duration": 300
              }
             }
            ],
            "label": "2011.5",
            "method": "animate"
           },
           {
            "args": [
             [
              "2012.5"
             ],
             {
              "frame": {
               "duration": 300,
               "redraw": true
              },
              "mode": "immediate",
              "transition": {
               "duration": 300
              }
             }
            ],
            "label": "2012.5",
            "method": "animate"
           },
           {
            "args": [
             [
              "2013.5"
             ],
             {
              "frame": {
               "duration": 300,
               "redraw": true
              },
              "mode": "immediate",
              "transition": {
               "duration": 300
              }
             }
            ],
            "label": "2013.5",
            "method": "animate"
           },
           {
            "args": [
             [
              "2014.5"
             ],
             {
              "frame": {
               "duration": 300,
               "redraw": true
              },
              "mode": "immediate",
              "transition": {
               "duration": 300
              }
             }
            ],
            "label": "2014.5",
            "method": "animate"
           },
           {
            "args": [
             [
              "2015.5"
             ],
             {
              "frame": {
               "duration": 300,
               "redraw": true
              },
              "mode": "immediate",
              "transition": {
               "duration": 300
              }
             }
            ],
            "label": "2015.5",
            "method": "animate"
           },
           {
            "args": [
             [
              "2016.5"
             ],
             {
              "frame": {
               "duration": 300,
               "redraw": true
              },
              "mode": "immediate",
              "transition": {
               "duration": 300
              }
             }
            ],
            "label": "2016.5",
            "method": "animate"
           },
           {
            "args": [
             [
              "2017.5"
             ],
             {
              "frame": {
               "duration": 300,
               "redraw": true
              },
              "mode": "immediate",
              "transition": {
               "duration": 300
              }
             }
            ],
            "label": "2017.5",
            "method": "animate"
           },
           {
            "args": [
             [
              "2018.5"
             ],
             {
              "frame": {
               "duration": 300,
               "redraw": true
              },
              "mode": "immediate",
              "transition": {
               "duration": 300
              }
             }
            ],
            "label": "2018.5",
            "method": "animate"
           },
           {
            "args": [
             [
              "2019.5"
             ],
             {
              "frame": {
               "duration": 300,
               "redraw": true
              },
              "mode": "immediate",
              "transition": {
               "duration": 300
              }
             }
            ],
            "label": "2019.5",
            "method": "animate"
           },
           {
            "args": [
             [
              "2020.5"
             ],
             {
              "frame": {
               "duration": 300,
               "redraw": true
              },
              "mode": "immediate",
              "transition": {
               "duration": 300
              }
             }
            ],
            "label": "2020.5",
            "method": "animate"
           },
           {
            "args": [
             [
              "1988.5"
             ],
             {
              "frame": {
               "duration": 300,
               "redraw": true
              },
              "mode": "immediate",
              "transition": {
               "duration": 300
              }
             }
            ],
            "label": "1988.5",
            "method": "animate"
           },
           {
            "args": [
             [
              "1989.5"
             ],
             {
              "frame": {
               "duration": 300,
               "redraw": true
              },
              "mode": "immediate",
              "transition": {
               "duration": 300
              }
             }
            ],
            "label": "1989.5",
            "method": "animate"
           },
           {
            "args": [
             [
              "1990.5"
             ],
             {
              "frame": {
               "duration": 300,
               "redraw": true
              },
              "mode": "immediate",
              "transition": {
               "duration": 300
              }
             }
            ],
            "label": "1990.5",
            "method": "animate"
           },
           {
            "args": [
             [
              "1991.5"
             ],
             {
              "frame": {
               "duration": 300,
               "redraw": true
              },
              "mode": "immediate",
              "transition": {
               "duration": 300
              }
             }
            ],
            "label": "1991.5",
            "method": "animate"
           },
           {
            "args": [
             [
              "1992.5"
             ],
             {
              "frame": {
               "duration": 300,
               "redraw": true
              },
              "mode": "immediate",
              "transition": {
               "duration": 300
              }
             }
            ],
            "label": "1992.5",
            "method": "animate"
           },
           {
            "args": [
             [
              "1993.5"
             ],
             {
              "frame": {
               "duration": 300,
               "redraw": true
              },
              "mode": "immediate",
              "transition": {
               "duration": 300
              }
             }
            ],
            "label": "1993.5",
            "method": "animate"
           },
           {
            "args": [
             [
              "1994.5"
             ],
             {
              "frame": {
               "duration": 300,
               "redraw": true
              },
              "mode": "immediate",
              "transition": {
               "duration": 300
              }
             }
            ],
            "label": "1994.5",
            "method": "animate"
           },
           {
            "args": [
             [
              "1995.5"
             ],
             {
              "frame": {
               "duration": 300,
               "redraw": true
              },
              "mode": "immediate",
              "transition": {
               "duration": 300
              }
             }
            ],
            "label": "1995.5",
            "method": "animate"
           },
           {
            "args": [
             [
              "1996.5"
             ],
             {
              "frame": {
               "duration": 300,
               "redraw": true
              },
              "mode": "immediate",
              "transition": {
               "duration": 300
              }
             }
            ],
            "label": "1996.5",
            "method": "animate"
           },
           {
            "args": [
             [
              "1997.5"
             ],
             {
              "frame": {
               "duration": 300,
               "redraw": true
              },
              "mode": "immediate",
              "transition": {
               "duration": 300
              }
             }
            ],
            "label": "1997.5",
            "method": "animate"
           },
           {
            "args": [
             [
              "1998.5"
             ],
             {
              "frame": {
               "duration": 300,
               "redraw": true
              },
              "mode": "immediate",
              "transition": {
               "duration": 300
              }
             }
            ],
            "label": "1998.5",
            "method": "animate"
           },
           {
            "args": [
             [
              "1999.5"
             ],
             {
              "frame": {
               "duration": 300,
               "redraw": true
              },
              "mode": "immediate",
              "transition": {
               "duration": 300
              }
             }
            ],
            "label": "1999.5",
            "method": "animate"
           },
           {
            "args": [
             [
              "2000.5"
             ],
             {
              "frame": {
               "duration": 300,
               "redraw": true
              },
              "mode": "immediate",
              "transition": {
               "duration": 300
              }
             }
            ],
            "label": "2000.5",
            "method": "animate"
           },
           {
            "args": [
             [
              "2001.5"
             ],
             {
              "frame": {
               "duration": 300,
               "redraw": true
              },
              "mode": "immediate",
              "transition": {
               "duration": 300
              }
             }
            ],
            "label": "2001.5",
            "method": "animate"
           },
           {
            "args": [
             [
              "2002.5"
             ],
             {
              "frame": {
               "duration": 300,
               "redraw": true
              },
              "mode": "immediate",
              "transition": {
               "duration": 300
              }
             }
            ],
            "label": "2002.5",
            "method": "animate"
           },
           {
            "args": [
             [
              "2003.5"
             ],
             {
              "frame": {
               "duration": 300,
               "redraw": true
              },
              "mode": "immediate",
              "transition": {
               "duration": 300
              }
             }
            ],
            "label": "2003.5",
            "method": "animate"
           },
           {
            "args": [
             [
              "2004.5"
             ],
             {
              "frame": {
               "duration": 300,
               "redraw": true
              },
              "mode": "immediate",
              "transition": {
               "duration": 300
              }
             }
            ],
            "label": "2004.5",
            "method": "animate"
           },
           {
            "args": [
             [
              "2005.5"
             ],
             {
              "frame": {
               "duration": 300,
               "redraw": true
              },
              "mode": "immediate",
              "transition": {
               "duration": 300
              }
             }
            ],
            "label": "2005.5",
            "method": "animate"
           },
           {
            "args": [
             [
              "2006.5"
             ],
             {
              "frame": {
               "duration": 300,
               "redraw": true
              },
              "mode": "immediate",
              "transition": {
               "duration": 300
              }
             }
            ],
            "label": "2006.5",
            "method": "animate"
           },
           {
            "args": [
             [
              "2007.5"
             ],
             {
              "frame": {
               "duration": 300,
               "redraw": true
              },
              "mode": "immediate",
              "transition": {
               "duration": 300
              }
             }
            ],
            "label": "2007.5",
            "method": "animate"
           },
           {
            "args": [
             [
              "2008.5"
             ],
             {
              "frame": {
               "duration": 300,
               "redraw": true
              },
              "mode": "immediate",
              "transition": {
               "duration": 300
              }
             }
            ],
            "label": "2008.5",
            "method": "animate"
           },
           {
            "args": [
             [
              "2009.5"
             ],
             {
              "frame": {
               "duration": 300,
               "redraw": true
              },
              "mode": "immediate",
              "transition": {
               "duration": 300
              }
             }
            ],
            "label": "2009.5",
            "method": "animate"
           },
           {
            "args": [
             [
              "2010.5"
             ],
             {
              "frame": {
               "duration": 300,
               "redraw": true
              },
              "mode": "immediate",
              "transition": {
               "duration": 300
              }
             }
            ],
            "label": "2010.5",
            "method": "animate"
           },
           {
            "args": [
             [
              "2011.5"
             ],
             {
              "frame": {
               "duration": 300,
               "redraw": true
              },
              "mode": "immediate",
              "transition": {
               "duration": 300
              }
             }
            ],
            "label": "2011.5",
            "method": "animate"
           },
           {
            "args": [
             [
              "2012.5"
             ],
             {
              "frame": {
               "duration": 300,
               "redraw": true
              },
              "mode": "immediate",
              "transition": {
               "duration": 300
              }
             }
            ],
            "label": "2012.5",
            "method": "animate"
           },
           {
            "args": [
             [
              "2013.5"
             ],
             {
              "frame": {
               "duration": 300,
               "redraw": true
              },
              "mode": "immediate",
              "transition": {
               "duration": 300
              }
             }
            ],
            "label": "2013.5",
            "method": "animate"
           },
           {
            "args": [
             [
              "2014.5"
             ],
             {
              "frame": {
               "duration": 300,
               "redraw": true
              },
              "mode": "immediate",
              "transition": {
               "duration": 300
              }
             }
            ],
            "label": "2014.5",
            "method": "animate"
           },
           {
            "args": [
             [
              "2015.5"
             ],
             {
              "frame": {
               "duration": 300,
               "redraw": true
              },
              "mode": "immediate",
              "transition": {
               "duration": 300
              }
             }
            ],
            "label": "2015.5",
            "method": "animate"
           },
           {
            "args": [
             [
              "2016.5"
             ],
             {
              "frame": {
               "duration": 300,
               "redraw": true
              },
              "mode": "immediate",
              "transition": {
               "duration": 300
              }
             }
            ],
            "label": "2016.5",
            "method": "animate"
           },
           {
            "args": [
             [
              "2017.5"
             ],
             {
              "frame": {
               "duration": 300,
               "redraw": true
              },
              "mode": "immediate",
              "transition": {
               "duration": 300
              }
             }
            ],
            "label": "2017.5",
            "method": "animate"
           },
           {
            "args": [
             [
              "2018.5"
             ],
             {
              "frame": {
               "duration": 300,
               "redraw": true
              },
              "mode": "immediate",
              "transition": {
               "duration": 300
              }
             }
            ],
            "label": "2018.5",
            "method": "animate"
           },
           {
            "args": [
             [
              "2019.5"
             ],
             {
              "frame": {
               "duration": 300,
               "redraw": true
              },
              "mode": "immediate",
              "transition": {
               "duration": 300
              }
             }
            ],
            "label": "2019.5",
            "method": "animate"
           },
           {
            "args": [
             [
              "2020.5"
             ],
             {
              "frame": {
               "duration": 300,
               "redraw": true
              },
              "mode": "immediate",
              "transition": {
               "duration": 300
              }
             }
            ],
            "label": "2020.5",
            "method": "animate"
           },
           {
            "args": [
             [
              "1988.5"
             ],
             {
              "frame": {
               "duration": 300,
               "redraw": true
              },
              "mode": "immediate",
              "transition": {
               "duration": 300
              }
             }
            ],
            "label": "1988.5",
            "method": "animate"
           },
           {
            "args": [
             [
              "1989.5"
             ],
             {
              "frame": {
               "duration": 300,
               "redraw": true
              },
              "mode": "immediate",
              "transition": {
               "duration": 300
              }
             }
            ],
            "label": "1989.5",
            "method": "animate"
           },
           {
            "args": [
             [
              "1990.5"
             ],
             {
              "frame": {
               "duration": 300,
               "redraw": true
              },
              "mode": "immediate",
              "transition": {
               "duration": 300
              }
             }
            ],
            "label": "1990.5",
            "method": "animate"
           },
           {
            "args": [
             [
              "1991.5"
             ],
             {
              "frame": {
               "duration": 300,
               "redraw": true
              },
              "mode": "immediate",
              "transition": {
               "duration": 300
              }
             }
            ],
            "label": "1991.5",
            "method": "animate"
           },
           {
            "args": [
             [
              "1992.5"
             ],
             {
              "frame": {
               "duration": 300,
               "redraw": true
              },
              "mode": "immediate",
              "transition": {
               "duration": 300
              }
             }
            ],
            "label": "1992.5",
            "method": "animate"
           },
           {
            "args": [
             [
              "1993.5"
             ],
             {
              "frame": {
               "duration": 300,
               "redraw": true
              },
              "mode": "immediate",
              "transition": {
               "duration": 300
              }
             }
            ],
            "label": "1993.5",
            "method": "animate"
           },
           {
            "args": [
             [
              "1994.5"
             ],
             {
              "frame": {
               "duration": 300,
               "redraw": true
              },
              "mode": "immediate",
              "transition": {
               "duration": 300
              }
             }
            ],
            "label": "1994.5",
            "method": "animate"
           },
           {
            "args": [
             [
              "1995.5"
             ],
             {
              "frame": {
               "duration": 300,
               "redraw": true
              },
              "mode": "immediate",
              "transition": {
               "duration": 300
              }
             }
            ],
            "label": "1995.5",
            "method": "animate"
           },
           {
            "args": [
             [
              "1996.5"
             ],
             {
              "frame": {
               "duration": 300,
               "redraw": true
              },
              "mode": "immediate",
              "transition": {
               "duration": 300
              }
             }
            ],
            "label": "1996.5",
            "method": "animate"
           },
           {
            "args": [
             [
              "1997.5"
             ],
             {
              "frame": {
               "duration": 300,
               "redraw": true
              },
              "mode": "immediate",
              "transition": {
               "duration": 300
              }
             }
            ],
            "label": "1997.5",
            "method": "animate"
           },
           {
            "args": [
             [
              "1998.5"
             ],
             {
              "frame": {
               "duration": 300,
               "redraw": true
              },
              "mode": "immediate",
              "transition": {
               "duration": 300
              }
             }
            ],
            "label": "1998.5",
            "method": "animate"
           },
           {
            "args": [
             [
              "1999.5"
             ],
             {
              "frame": {
               "duration": 300,
               "redraw": true
              },
              "mode": "immediate",
              "transition": {
               "duration": 300
              }
             }
            ],
            "label": "1999.5",
            "method": "animate"
           },
           {
            "args": [
             [
              "2000.5"
             ],
             {
              "frame": {
               "duration": 300,
               "redraw": true
              },
              "mode": "immediate",
              "transition": {
               "duration": 300
              }
             }
            ],
            "label": "2000.5",
            "method": "animate"
           },
           {
            "args": [
             [
              "2001.5"
             ],
             {
              "frame": {
               "duration": 300,
               "redraw": true
              },
              "mode": "immediate",
              "transition": {
               "duration": 300
              }
             }
            ],
            "label": "2001.5",
            "method": "animate"
           },
           {
            "args": [
             [
              "2002.5"
             ],
             {
              "frame": {
               "duration": 300,
               "redraw": true
              },
              "mode": "immediate",
              "transition": {
               "duration": 300
              }
             }
            ],
            "label": "2002.5",
            "method": "animate"
           },
           {
            "args": [
             [
              "2003.5"
             ],
             {
              "frame": {
               "duration": 300,
               "redraw": true
              },
              "mode": "immediate",
              "transition": {
               "duration": 300
              }
             }
            ],
            "label": "2003.5",
            "method": "animate"
           },
           {
            "args": [
             [
              "2004.5"
             ],
             {
              "frame": {
               "duration": 300,
               "redraw": true
              },
              "mode": "immediate",
              "transition": {
               "duration": 300
              }
             }
            ],
            "label": "2004.5",
            "method": "animate"
           },
           {
            "args": [
             [
              "2005.5"
             ],
             {
              "frame": {
               "duration": 300,
               "redraw": true
              },
              "mode": "immediate",
              "transition": {
               "duration": 300
              }
             }
            ],
            "label": "2005.5",
            "method": "animate"
           },
           {
            "args": [
             [
              "2006.5"
             ],
             {
              "frame": {
               "duration": 300,
               "redraw": true
              },
              "mode": "immediate",
              "transition": {
               "duration": 300
              }
             }
            ],
            "label": "2006.5",
            "method": "animate"
           },
           {
            "args": [
             [
              "2007.5"
             ],
             {
              "frame": {
               "duration": 300,
               "redraw": true
              },
              "mode": "immediate",
              "transition": {
               "duration": 300
              }
             }
            ],
            "label": "2007.5",
            "method": "animate"
           },
           {
            "args": [
             [
              "2008.5"
             ],
             {
              "frame": {
               "duration": 300,
               "redraw": true
              },
              "mode": "immediate",
              "transition": {
               "duration": 300
              }
             }
            ],
            "label": "2008.5",
            "method": "animate"
           },
           {
            "args": [
             [
              "2009.5"
             ],
             {
              "frame": {
               "duration": 300,
               "redraw": true
              },
              "mode": "immediate",
              "transition": {
               "duration": 300
              }
             }
            ],
            "label": "2009.5",
            "method": "animate"
           },
           {
            "args": [
             [
              "2010.5"
             ],
             {
              "frame": {
               "duration": 300,
               "redraw": true
              },
              "mode": "immediate",
              "transition": {
               "duration": 300
              }
             }
            ],
            "label": "2010.5",
            "method": "animate"
           },
           {
            "args": [
             [
              "2011.5"
             ],
             {
              "frame": {
               "duration": 300,
               "redraw": true
              },
              "mode": "immediate",
              "transition": {
               "duration": 300
              }
             }
            ],
            "label": "2011.5",
            "method": "animate"
           },
           {
            "args": [
             [
              "2012.5"
             ],
             {
              "frame": {
               "duration": 300,
               "redraw": true
              },
              "mode": "immediate",
              "transition": {
               "duration": 300
              }
             }
            ],
            "label": "2012.5",
            "method": "animate"
           },
           {
            "args": [
             [
              "2013.5"
             ],
             {
              "frame": {
               "duration": 300,
               "redraw": true
              },
              "mode": "immediate",
              "transition": {
               "duration": 300
              }
             }
            ],
            "label": "2013.5",
            "method": "animate"
           },
           {
            "args": [
             [
              "2014.5"
             ],
             {
              "frame": {
               "duration": 300,
               "redraw": true
              },
              "mode": "immediate",
              "transition": {
               "duration": 300
              }
             }
            ],
            "label": "2014.5",
            "method": "animate"
           },
           {
            "args": [
             [
              "2015.5"
             ],
             {
              "frame": {
               "duration": 300,
               "redraw": true
              },
              "mode": "immediate",
              "transition": {
               "duration": 300
              }
             }
            ],
            "label": "2015.5",
            "method": "animate"
           },
           {
            "args": [
             [
              "2016.5"
             ],
             {
              "frame": {
               "duration": 300,
               "redraw": true
              },
              "mode": "immediate",
              "transition": {
               "duration": 300
              }
             }
            ],
            "label": "2016.5",
            "method": "animate"
           },
           {
            "args": [
             [
              "2017.5"
             ],
             {
              "frame": {
               "duration": 300,
               "redraw": true
              },
              "mode": "immediate",
              "transition": {
               "duration": 300
              }
             }
            ],
            "label": "2017.5",
            "method": "animate"
           },
           {
            "args": [
             [
              "2018.5"
             ],
             {
              "frame": {
               "duration": 300,
               "redraw": true
              },
              "mode": "immediate",
              "transition": {
               "duration": 300
              }
             }
            ],
            "label": "2018.5",
            "method": "animate"
           },
           {
            "args": [
             [
              "2019.5"
             ],
             {
              "frame": {
               "duration": 300,
               "redraw": true
              },
              "mode": "immediate",
              "transition": {
               "duration": 300
              }
             }
            ],
            "label": "2019.5",
            "method": "animate"
           },
           {
            "args": [
             [
              "2020.5"
             ],
             {
              "frame": {
               "duration": 300,
               "redraw": true
              },
              "mode": "immediate",
              "transition": {
               "duration": 300
              }
             }
            ],
            "label": "2020.5",
            "method": "animate"
           },
           {
            "args": [
             [
              "1988.5"
             ],
             {
              "frame": {
               "duration": 300,
               "redraw": true
              },
              "mode": "immediate",
              "transition": {
               "duration": 300
              }
             }
            ],
            "label": "1988.5",
            "method": "animate"
           },
           {
            "args": [
             [
              "1989.5"
             ],
             {
              "frame": {
               "duration": 300,
               "redraw": true
              },
              "mode": "immediate",
              "transition": {
               "duration": 300
              }
             }
            ],
            "label": "1989.5",
            "method": "animate"
           },
           {
            "args": [
             [
              "1990.5"
             ],
             {
              "frame": {
               "duration": 300,
               "redraw": true
              },
              "mode": "immediate",
              "transition": {
               "duration": 300
              }
             }
            ],
            "label": "1990.5",
            "method": "animate"
           },
           {
            "args": [
             [
              "1991.5"
             ],
             {
              "frame": {
               "duration": 300,
               "redraw": true
              },
              "mode": "immediate",
              "transition": {
               "duration": 300
              }
             }
            ],
            "label": "1991.5",
            "method": "animate"
           },
           {
            "args": [
             [
              "1992.5"
             ],
             {
              "frame": {
               "duration": 300,
               "redraw": true
              },
              "mode": "immediate",
              "transition": {
               "duration": 300
              }
             }
            ],
            "label": "1992.5",
            "method": "animate"
           },
           {
            "args": [
             [
              "1993.5"
             ],
             {
              "frame": {
               "duration": 300,
               "redraw": true
              },
              "mode": "immediate",
              "transition": {
               "duration": 300
              }
             }
            ],
            "label": "1993.5",
            "method": "animate"
           },
           {
            "args": [
             [
              "1994.5"
             ],
             {
              "frame": {
               "duration": 300,
               "redraw": true
              },
              "mode": "immediate",
              "transition": {
               "duration": 300
              }
             }
            ],
            "label": "1994.5",
            "method": "animate"
           },
           {
            "args": [
             [
              "1995.5"
             ],
             {
              "frame": {
               "duration": 300,
               "redraw": true
              },
              "mode": "immediate",
              "transition": {
               "duration": 300
              }
             }
            ],
            "label": "1995.5",
            "method": "animate"
           },
           {
            "args": [
             [
              "1996.5"
             ],
             {
              "frame": {
               "duration": 300,
               "redraw": true
              },
              "mode": "immediate",
              "transition": {
               "duration": 300
              }
             }
            ],
            "label": "1996.5",
            "method": "animate"
           },
           {
            "args": [
             [
              "1997.5"
             ],
             {
              "frame": {
               "duration": 300,
               "redraw": true
              },
              "mode": "immediate",
              "transition": {
               "duration": 300
              }
             }
            ],
            "label": "1997.5",
            "method": "animate"
           },
           {
            "args": [
             [
              "1998.5"
             ],
             {
              "frame": {
               "duration": 300,
               "redraw": true
              },
              "mode": "immediate",
              "transition": {
               "duration": 300
              }
             }
            ],
            "label": "1998.5",
            "method": "animate"
           },
           {
            "args": [
             [
              "1999.5"
             ],
             {
              "frame": {
               "duration": 300,
               "redraw": true
              },
              "mode": "immediate",
              "transition": {
               "duration": 300
              }
             }
            ],
            "label": "1999.5",
            "method": "animate"
           },
           {
            "args": [
             [
              "2000.5"
             ],
             {
              "frame": {
               "duration": 300,
               "redraw": true
              },
              "mode": "immediate",
              "transition": {
               "duration": 300
              }
             }
            ],
            "label": "2000.5",
            "method": "animate"
           },
           {
            "args": [
             [
              "2001.5"
             ],
             {
              "frame": {
               "duration": 300,
               "redraw": true
              },
              "mode": "immediate",
              "transition": {
               "duration": 300
              }
             }
            ],
            "label": "2001.5",
            "method": "animate"
           },
           {
            "args": [
             [
              "2002.5"
             ],
             {
              "frame": {
               "duration": 300,
               "redraw": true
              },
              "mode": "immediate",
              "transition": {
               "duration": 300
              }
             }
            ],
            "label": "2002.5",
            "method": "animate"
           },
           {
            "args": [
             [
              "2003.5"
             ],
             {
              "frame": {
               "duration": 300,
               "redraw": true
              },
              "mode": "immediate",
              "transition": {
               "duration": 300
              }
             }
            ],
            "label": "2003.5",
            "method": "animate"
           },
           {
            "args": [
             [
              "2004.5"
             ],
             {
              "frame": {
               "duration": 300,
               "redraw": true
              },
              "mode": "immediate",
              "transition": {
               "duration": 300
              }
             }
            ],
            "label": "2004.5",
            "method": "animate"
           },
           {
            "args": [
             [
              "2005.5"
             ],
             {
              "frame": {
               "duration": 300,
               "redraw": true
              },
              "mode": "immediate",
              "transition": {
               "duration": 300
              }
             }
            ],
            "label": "2005.5",
            "method": "animate"
           },
           {
            "args": [
             [
              "2006.5"
             ],
             {
              "frame": {
               "duration": 300,
               "redraw": true
              },
              "mode": "immediate",
              "transition": {
               "duration": 300
              }
             }
            ],
            "label": "2006.5",
            "method": "animate"
           },
           {
            "args": [
             [
              "2007.5"
             ],
             {
              "frame": {
               "duration": 300,
               "redraw": true
              },
              "mode": "immediate",
              "transition": {
               "duration": 300
              }
             }
            ],
            "label": "2007.5",
            "method": "animate"
           },
           {
            "args": [
             [
              "2008.5"
             ],
             {
              "frame": {
               "duration": 300,
               "redraw": true
              },
              "mode": "immediate",
              "transition": {
               "duration": 300
              }
             }
            ],
            "label": "2008.5",
            "method": "animate"
           },
           {
            "args": [
             [
              "2009.5"
             ],
             {
              "frame": {
               "duration": 300,
               "redraw": true
              },
              "mode": "immediate",
              "transition": {
               "duration": 300
              }
             }
            ],
            "label": "2009.5",
            "method": "animate"
           },
           {
            "args": [
             [
              "2010.5"
             ],
             {
              "frame": {
               "duration": 300,
               "redraw": true
              },
              "mode": "immediate",
              "transition": {
               "duration": 300
              }
             }
            ],
            "label": "2010.5",
            "method": "animate"
           },
           {
            "args": [
             [
              "2011.5"
             ],
             {
              "frame": {
               "duration": 300,
               "redraw": true
              },
              "mode": "immediate",
              "transition": {
               "duration": 300
              }
             }
            ],
            "label": "2011.5",
            "method": "animate"
           },
           {
            "args": [
             [
              "2012.5"
             ],
             {
              "frame": {
               "duration": 300,
               "redraw": true
              },
              "mode": "immediate",
              "transition": {
               "duration": 300
              }
             }
            ],
            "label": "2012.5",
            "method": "animate"
           },
           {
            "args": [
             [
              "2013.5"
             ],
             {
              "frame": {
               "duration": 300,
               "redraw": true
              },
              "mode": "immediate",
              "transition": {
               "duration": 300
              }
             }
            ],
            "label": "2013.5",
            "method": "animate"
           },
           {
            "args": [
             [
              "2014.5"
             ],
             {
              "frame": {
               "duration": 300,
               "redraw": true
              },
              "mode": "immediate",
              "transition": {
               "duration": 300
              }
             }
            ],
            "label": "2014.5",
            "method": "animate"
           },
           {
            "args": [
             [
              "2015.5"
             ],
             {
              "frame": {
               "duration": 300,
               "redraw": true
              },
              "mode": "immediate",
              "transition": {
               "duration": 300
              }
             }
            ],
            "label": "2015.5",
            "method": "animate"
           },
           {
            "args": [
             [
              "2016.5"
             ],
             {
              "frame": {
               "duration": 300,
               "redraw": true
              },
              "mode": "immediate",
              "transition": {
               "duration": 300
              }
             }
            ],
            "label": "2016.5",
            "method": "animate"
           },
           {
            "args": [
             [
              "2017.5"
             ],
             {
              "frame": {
               "duration": 300,
               "redraw": true
              },
              "mode": "immediate",
              "transition": {
               "duration": 300
              }
             }
            ],
            "label": "2017.5",
            "method": "animate"
           },
           {
            "args": [
             [
              "2018.5"
             ],
             {
              "frame": {
               "duration": 300,
               "redraw": true
              },
              "mode": "immediate",
              "transition": {
               "duration": 300
              }
             }
            ],
            "label": "2018.5",
            "method": "animate"
           },
           {
            "args": [
             [
              "2019.5"
             ],
             {
              "frame": {
               "duration": 300,
               "redraw": true
              },
              "mode": "immediate",
              "transition": {
               "duration": 300
              }
             }
            ],
            "label": "2019.5",
            "method": "animate"
           },
           {
            "args": [
             [
              "2020.5"
             ],
             {
              "frame": {
               "duration": 300,
               "redraw": true
              },
              "mode": "immediate",
              "transition": {
               "duration": 300
              }
             }
            ],
            "label": "2020.5",
            "method": "animate"
           },
           {
            "args": [
             [
              "1988.5"
             ],
             {
              "frame": {
               "duration": 300,
               "redraw": true
              },
              "mode": "immediate",
              "transition": {
               "duration": 300
              }
             }
            ],
            "label": "1988.5",
            "method": "animate"
           },
           {
            "args": [
             [
              "1989.5"
             ],
             {
              "frame": {
               "duration": 300,
               "redraw": true
              },
              "mode": "immediate",
              "transition": {
               "duration": 300
              }
             }
            ],
            "label": "1989.5",
            "method": "animate"
           }
          ],
          "transition": {
           "duration": 300,
           "easing": "cubic-in-out"
          },
          "x": 0.1,
          "xanchor": "left",
          "y": 0,
          "yanchor": "top"
         }
        ],
        "template": {
         "data": {
          "bar": [
           {
            "error_x": {
             "color": "#2a3f5f"
            },
            "error_y": {
             "color": "#2a3f5f"
            },
            "marker": {
             "line": {
              "color": "#E5ECF6",
              "width": 0.5
             },
             "pattern": {
              "fillmode": "overlay",
              "size": 10,
              "solidity": 0.2
             }
            },
            "type": "bar"
           }
          ],
          "barpolar": [
           {
            "marker": {
             "line": {
              "color": "#E5ECF6",
              "width": 0.5
             },
             "pattern": {
              "fillmode": "overlay",
              "size": 10,
              "solidity": 0.2
             }
            },
            "type": "barpolar"
           }
          ],
          "carpet": [
           {
            "aaxis": {
             "endlinecolor": "#2a3f5f",
             "gridcolor": "white",
             "linecolor": "white",
             "minorgridcolor": "white",
             "startlinecolor": "#2a3f5f"
            },
            "baxis": {
             "endlinecolor": "#2a3f5f",
             "gridcolor": "white",
             "linecolor": "white",
             "minorgridcolor": "white",
             "startlinecolor": "#2a3f5f"
            },
            "type": "carpet"
           }
          ],
          "choropleth": [
           {
            "colorbar": {
             "outlinewidth": 0,
             "ticks": ""
            },
            "type": "choropleth"
           }
          ],
          "contour": [
           {
            "colorbar": {
             "outlinewidth": 0,
             "ticks": ""
            },
            "colorscale": [
             [
              0,
              "#0d0887"
             ],
             [
              0.1111111111111111,
              "#46039f"
             ],
             [
              0.2222222222222222,
              "#7201a8"
             ],
             [
              0.3333333333333333,
              "#9c179e"
             ],
             [
              0.4444444444444444,
              "#bd3786"
             ],
             [
              0.5555555555555556,
              "#d8576b"
             ],
             [
              0.6666666666666666,
              "#ed7953"
             ],
             [
              0.7777777777777778,
              "#fb9f3a"
             ],
             [
              0.8888888888888888,
              "#fdca26"
             ],
             [
              1,
              "#f0f921"
             ]
            ],
            "type": "contour"
           }
          ],
          "contourcarpet": [
           {
            "colorbar": {
             "outlinewidth": 0,
             "ticks": ""
            },
            "type": "contourcarpet"
           }
          ],
          "heatmap": [
           {
            "colorbar": {
             "outlinewidth": 0,
             "ticks": ""
            },
            "colorscale": [
             [
              0,
              "#0d0887"
             ],
             [
              0.1111111111111111,
              "#46039f"
             ],
             [
              0.2222222222222222,
              "#7201a8"
             ],
             [
              0.3333333333333333,
              "#9c179e"
             ],
             [
              0.4444444444444444,
              "#bd3786"
             ],
             [
              0.5555555555555556,
              "#d8576b"
             ],
             [
              0.6666666666666666,
              "#ed7953"
             ],
             [
              0.7777777777777778,
              "#fb9f3a"
             ],
             [
              0.8888888888888888,
              "#fdca26"
             ],
             [
              1,
              "#f0f921"
             ]
            ],
            "type": "heatmap"
           }
          ],
          "heatmapgl": [
           {
            "colorbar": {
             "outlinewidth": 0,
             "ticks": ""
            },
            "colorscale": [
             [
              0,
              "#0d0887"
             ],
             [
              0.1111111111111111,
              "#46039f"
             ],
             [
              0.2222222222222222,
              "#7201a8"
             ],
             [
              0.3333333333333333,
              "#9c179e"
             ],
             [
              0.4444444444444444,
              "#bd3786"
             ],
             [
              0.5555555555555556,
              "#d8576b"
             ],
             [
              0.6666666666666666,
              "#ed7953"
             ],
             [
              0.7777777777777778,
              "#fb9f3a"
             ],
             [
              0.8888888888888888,
              "#fdca26"
             ],
             [
              1,
              "#f0f921"
             ]
            ],
            "type": "heatmapgl"
           }
          ],
          "histogram": [
           {
            "marker": {
             "pattern": {
              "fillmode": "overlay",
              "size": 10,
              "solidity": 0.2
             }
            },
            "type": "histogram"
           }
          ],
          "histogram2d": [
           {
            "colorbar": {
             "outlinewidth": 0,
             "ticks": ""
            },
            "colorscale": [
             [
              0,
              "#0d0887"
             ],
             [
              0.1111111111111111,
              "#46039f"
             ],
             [
              0.2222222222222222,
              "#7201a8"
             ],
             [
              0.3333333333333333,
              "#9c179e"
             ],
             [
              0.4444444444444444,
              "#bd3786"
             ],
             [
              0.5555555555555556,
              "#d8576b"
             ],
             [
              0.6666666666666666,
              "#ed7953"
             ],
             [
              0.7777777777777778,
              "#fb9f3a"
             ],
             [
              0.8888888888888888,
              "#fdca26"
             ],
             [
              1,
              "#f0f921"
             ]
            ],
            "type": "histogram2d"
           }
          ],
          "histogram2dcontour": [
           {
            "colorbar": {
             "outlinewidth": 0,
             "ticks": ""
            },
            "colorscale": [
             [
              0,
              "#0d0887"
             ],
             [
              0.1111111111111111,
              "#46039f"
             ],
             [
              0.2222222222222222,
              "#7201a8"
             ],
             [
              0.3333333333333333,
              "#9c179e"
             ],
             [
              0.4444444444444444,
              "#bd3786"
             ],
             [
              0.5555555555555556,
              "#d8576b"
             ],
             [
              0.6666666666666666,
              "#ed7953"
             ],
             [
              0.7777777777777778,
              "#fb9f3a"
             ],
             [
              0.8888888888888888,
              "#fdca26"
             ],
             [
              1,
              "#f0f921"
             ]
            ],
            "type": "histogram2dcontour"
           }
          ],
          "mesh3d": [
           {
            "colorbar": {
             "outlinewidth": 0,
             "ticks": ""
            },
            "type": "mesh3d"
           }
          ],
          "parcoords": [
           {
            "line": {
             "colorbar": {
              "outlinewidth": 0,
              "ticks": ""
             }
            },
            "type": "parcoords"
           }
          ],
          "pie": [
           {
            "automargin": true,
            "type": "pie"
           }
          ],
          "scatter": [
           {
            "fillpattern": {
             "fillmode": "overlay",
             "size": 10,
             "solidity": 0.2
            },
            "type": "scatter"
           }
          ],
          "scatter3d": [
           {
            "line": {
             "colorbar": {
              "outlinewidth": 0,
              "ticks": ""
             }
            },
            "marker": {
             "colorbar": {
              "outlinewidth": 0,
              "ticks": ""
             }
            },
            "type": "scatter3d"
           }
          ],
          "scattercarpet": [
           {
            "marker": {
             "colorbar": {
              "outlinewidth": 0,
              "ticks": ""
             }
            },
            "type": "scattercarpet"
           }
          ],
          "scattergeo": [
           {
            "marker": {
             "colorbar": {
              "outlinewidth": 0,
              "ticks": ""
             }
            },
            "type": "scattergeo"
           }
          ],
          "scattergl": [
           {
            "marker": {
             "colorbar": {
              "outlinewidth": 0,
              "ticks": ""
             }
            },
            "type": "scattergl"
           }
          ],
          "scattermapbox": [
           {
            "marker": {
             "colorbar": {
              "outlinewidth": 0,
              "ticks": ""
             }
            },
            "type": "scattermapbox"
           }
          ],
          "scatterpolar": [
           {
            "marker": {
             "colorbar": {
              "outlinewidth": 0,
              "ticks": ""
             }
            },
            "type": "scatterpolar"
           }
          ],
          "scatterpolargl": [
           {
            "marker": {
             "colorbar": {
              "outlinewidth": 0,
              "ticks": ""
             }
            },
            "type": "scatterpolargl"
           }
          ],
          "scatterternary": [
           {
            "marker": {
             "colorbar": {
              "outlinewidth": 0,
              "ticks": ""
             }
            },
            "type": "scatterternary"
           }
          ],
          "surface": [
           {
            "colorbar": {
             "outlinewidth": 0,
             "ticks": ""
            },
            "colorscale": [
             [
              0,
              "#0d0887"
             ],
             [
              0.1111111111111111,
              "#46039f"
             ],
             [
              0.2222222222222222,
              "#7201a8"
             ],
             [
              0.3333333333333333,
              "#9c179e"
             ],
             [
              0.4444444444444444,
              "#bd3786"
             ],
             [
              0.5555555555555556,
              "#d8576b"
             ],
             [
              0.6666666666666666,
              "#ed7953"
             ],
             [
              0.7777777777777778,
              "#fb9f3a"
             ],
             [
              0.8888888888888888,
              "#fdca26"
             ],
             [
              1,
              "#f0f921"
             ]
            ],
            "type": "surface"
           }
          ],
          "table": [
           {
            "cells": {
             "fill": {
              "color": "#EBF0F8"
             },
             "line": {
              "color": "white"
             }
            },
            "header": {
             "fill": {
              "color": "#C8D4E3"
             },
             "line": {
              "color": "white"
             }
            },
            "type": "table"
           }
          ]
         },
         "layout": {
          "annotationdefaults": {
           "arrowcolor": "#2a3f5f",
           "arrowhead": 0,
           "arrowwidth": 1
          },
          "autotypenumbers": "strict",
          "coloraxis": {
           "colorbar": {
            "outlinewidth": 0,
            "ticks": ""
           }
          },
          "colorscale": {
           "diverging": [
            [
             0,
             "#8e0152"
            ],
            [
             0.1,
             "#c51b7d"
            ],
            [
             0.2,
             "#de77ae"
            ],
            [
             0.3,
             "#f1b6da"
            ],
            [
             0.4,
             "#fde0ef"
            ],
            [
             0.5,
             "#f7f7f7"
            ],
            [
             0.6,
             "#e6f5d0"
            ],
            [
             0.7,
             "#b8e186"
            ],
            [
             0.8,
             "#7fbc41"
            ],
            [
             0.9,
             "#4d9221"
            ],
            [
             1,
             "#276419"
            ]
           ],
           "sequential": [
            [
             0,
             "#0d0887"
            ],
            [
             0.1111111111111111,
             "#46039f"
            ],
            [
             0.2222222222222222,
             "#7201a8"
            ],
            [
             0.3333333333333333,
             "#9c179e"
            ],
            [
             0.4444444444444444,
             "#bd3786"
            ],
            [
             0.5555555555555556,
             "#d8576b"
            ],
            [
             0.6666666666666666,
             "#ed7953"
            ],
            [
             0.7777777777777778,
             "#fb9f3a"
            ],
            [
             0.8888888888888888,
             "#fdca26"
            ],
            [
             1,
             "#f0f921"
            ]
           ],
           "sequentialminus": [
            [
             0,
             "#0d0887"
            ],
            [
             0.1111111111111111,
             "#46039f"
            ],
            [
             0.2222222222222222,
             "#7201a8"
            ],
            [
             0.3333333333333333,
             "#9c179e"
            ],
            [
             0.4444444444444444,
             "#bd3786"
            ],
            [
             0.5555555555555556,
             "#d8576b"
            ],
            [
             0.6666666666666666,
             "#ed7953"
            ],
            [
             0.7777777777777778,
             "#fb9f3a"
            ],
            [
             0.8888888888888888,
             "#fdca26"
            ],
            [
             1,
             "#f0f921"
            ]
           ]
          },
          "colorway": [
           "#636efa",
           "#EF553B",
           "#00cc96",
           "#ab63fa",
           "#FFA15A",
           "#19d3f3",
           "#FF6692",
           "#B6E880",
           "#FF97FF",
           "#FECB52"
          ],
          "font": {
           "color": "#2a3f5f"
          },
          "geo": {
           "bgcolor": "white",
           "lakecolor": "white",
           "landcolor": "#E5ECF6",
           "showlakes": true,
           "showland": true,
           "subunitcolor": "white"
          },
          "hoverlabel": {
           "align": "left"
          },
          "hovermode": "closest",
          "mapbox": {
           "style": "light"
          },
          "paper_bgcolor": "white",
          "plot_bgcolor": "#E5ECF6",
          "polar": {
           "angularaxis": {
            "gridcolor": "white",
            "linecolor": "white",
            "ticks": ""
           },
           "bgcolor": "#E5ECF6",
           "radialaxis": {
            "gridcolor": "white",
            "linecolor": "white",
            "ticks": ""
           }
          },
          "scene": {
           "xaxis": {
            "backgroundcolor": "#E5ECF6",
            "gridcolor": "white",
            "gridwidth": 2,
            "linecolor": "white",
            "showbackground": true,
            "ticks": "",
            "zerolinecolor": "white"
           },
           "yaxis": {
            "backgroundcolor": "#E5ECF6",
            "gridcolor": "white",
            "gridwidth": 2,
            "linecolor": "white",
            "showbackground": true,
            "ticks": "",
            "zerolinecolor": "white"
           },
           "zaxis": {
            "backgroundcolor": "#E5ECF6",
            "gridcolor": "white",
            "gridwidth": 2,
            "linecolor": "white",
            "showbackground": true,
            "ticks": "",
            "zerolinecolor": "white"
           }
          },
          "shapedefaults": {
           "line": {
            "color": "#2a3f5f"
           }
          },
          "ternary": {
           "aaxis": {
            "gridcolor": "white",
            "linecolor": "white",
            "ticks": ""
           },
           "baxis": {
            "gridcolor": "white",
            "linecolor": "white",
            "ticks": ""
           },
           "bgcolor": "#E5ECF6",
           "caxis": {
            "gridcolor": "white",
            "linecolor": "white",
            "ticks": ""
           }
          },
          "title": {
           "x": 0.05
          },
          "xaxis": {
           "automargin": true,
           "gridcolor": "white",
           "linecolor": "white",
           "ticks": "",
           "title": {
            "standoff": 15
           },
           "zerolinecolor": "white",
           "zerolinewidth": 2
          },
          "yaxis": {
           "automargin": true,
           "gridcolor": "white",
           "linecolor": "white",
           "ticks": "",
           "title": {
            "standoff": 15
           },
           "zerolinecolor": "white",
           "zerolinewidth": 2
          }
         }
        },
        "title": {
         "text": "Under-five Mortality Rates Over the Years"
        },
        "updatemenus": [
         {
          "buttons": [
           {
            "args": [
             null,
             {
              "frame": {
               "duration": 500,
               "redraw": true
              },
              "fromcurrent": true
             }
            ],
            "label": "Play",
            "method": "animate"
           },
           {
            "args": [
             [
              null
             ],
             {
              "frame": {
               "duration": 0,
               "redraw": true
              },
              "mode": "immediate",
              "transition": {
               "duration": 0
              }
             }
            ],
            "label": "Pause",
            "method": "animate"
           }
          ],
          "direction": "left",
          "pad": {
           "r": 10,
           "t": 70
          },
          "showactive": false,
          "type": "buttons",
          "x": 0.1,
          "xanchor": "right",
          "y": 0,
          "yanchor": "top"
         }
        ],
        "xaxis": {
         "anchor": "y",
         "categoryarray": [
          55.6575,
          9.4559,
          22.3353,
          2.7564,
          69.4213,
          4.0451,
          6.1446,
          6.9182,
          10.7211,
          3.7119,
          3.6576,
          18.5862,
          13.1591,
          6.9156,
          27.2736,
          11.9135,
          2.7249,
          4.1007,
          11.1866,
          26.6874,
          24.6919,
          5.6006,
          34.8694,
          10.4629,
          11.476,
          6.3243,
          82.6076,
          52.6048,
          24.7636,
          69.788,
          5.0413,
          99.9161,
          107.0655,
          6.5534,
          6.9346,
          12.8482,
          42.9679,
          74.7853,
          2.7855,
          78.9605,
          35.8948,
          18.9578,
          38.0916,
          46.8115,
          4.3538,
          9.4798,
          3.7141,
          98.7269,
          58.6327,
          2.6359,
          12.6313,
          3.3566,
          2.3024,
          37.1526,
          8.7338,
          3.6796,
          76.0402,
          2.7349,
          7.5561,
          5.832,
          16.6172,
          2.9236,
          5.2735,
          41.8124,
          27.1635,
          13.2554,
          24.1315,
          10.1395,
          63.3326,
          16.2452,
          13.8705,
          42.8119,
          18.1575,
          14.1226,
          25.7395,
          4.3466,
          3.0985,
          5.3061,
          2.8882,
          14.1965,
          6.4269,
          5.0549,
          39.4389,
          14.5602,
          24.8206,
          13.7103,
          16.7185,
          1.7172,
          15.4256,
          6.7211,
          38.5999,
          5.4873,
          13.9128,
          104.687,
          2.0883,
          5.6331,
          2.1696,
          18.7853,
          111.7846,
          32.8473,
          98.6896,
          3.0454,
          6.7481,
          14.8348,
          54.8955,
          17.1758,
          2.4645,
          3.8306,
          22.2724,
          31.419,
          8.291,
          50.549,
          62.6045,
          11.1399,
          16.3318,
          16.3213,
          41.4278,
          4.4894,
          21.2541,
          8.9802,
          42.1282,
          8.2232,
          6.3718,
          4.1854,
          47.1164,
          6.243,
          5.8231,
          14.0661,
          23.2141,
          24.2297,
          20.6016,
          61.9089,
          57.6918,
          49.522
         ],
         "categoryorder": "array",
         "domain": [
          0,
          1
         ],
         "title": {
          "text": "Mortality Rate (Deaths per 1000 live births)"
         }
        },
        "yaxis": {
         "anchor": "x",
         "domain": [
          0,
          1
         ],
         "title": {
          "text": "Country.Name"
         }
        }
       }
      },
      "text/html": [
       "<div>                            <div id=\"ffdaed55-500a-491c-8bd7-827eb0361e8f\" class=\"plotly-graph-div\" style=\"height:525px; width:100%;\"></div>            <script type=\"text/javascript\">                require([\"plotly\"], function(Plotly) {                    window.PLOTLYENV=window.PLOTLYENV || {};                                    if (document.getElementById(\"ffdaed55-500a-491c-8bd7-827eb0361e8f\")) {                    Plotly.newPlot(                        \"ffdaed55-500a-491c-8bd7-827eb0361e8f\",                        [{\"alignmentgroup\":\"True\",\"hovertemplate\":\"Mortality Rate (Deaths per 1000 live births)=%{marker.color}<br>Country.Name=%{y}<extra></extra>\",\"legendgroup\":\"\",\"marker\":{\"color\":[55.6575],\"coloraxis\":\"coloraxis\",\"pattern\":{\"shape\":\"\"}},\"name\":\"\",\"offsetgroup\":\"\",\"orientation\":\"h\",\"showlegend\":false,\"textposition\":\"auto\",\"x\":[55.6575],\"xaxis\":\"x\",\"y\":[\"Afghanistan\"],\"yaxis\":\"y\",\"type\":\"bar\"}],                        {\"template\":{\"data\":{\"histogram2dcontour\":[{\"type\":\"histogram2dcontour\",\"colorbar\":{\"outlinewidth\":0,\"ticks\":\"\"},\"colorscale\":[[0.0,\"#0d0887\"],[0.1111111111111111,\"#46039f\"],[0.2222222222222222,\"#7201a8\"],[0.3333333333333333,\"#9c179e\"],[0.4444444444444444,\"#bd3786\"],[0.5555555555555556,\"#d8576b\"],[0.6666666666666666,\"#ed7953\"],[0.7777777777777778,\"#fb9f3a\"],[0.8888888888888888,\"#fdca26\"],[1.0,\"#f0f921\"]]}],\"choropleth\":[{\"type\":\"choropleth\",\"colorbar\":{\"outlinewidth\":0,\"ticks\":\"\"}}],\"histogram2d\":[{\"type\":\"histogram2d\",\"colorbar\":{\"outlinewidth\":0,\"ticks\":\"\"},\"colorscale\":[[0.0,\"#0d0887\"],[0.1111111111111111,\"#46039f\"],[0.2222222222222222,\"#7201a8\"],[0.3333333333333333,\"#9c179e\"],[0.4444444444444444,\"#bd3786\"],[0.5555555555555556,\"#d8576b\"],[0.6666666666666666,\"#ed7953\"],[0.7777777777777778,\"#fb9f3a\"],[0.8888888888888888,\"#fdca26\"],[1.0,\"#f0f921\"]]}],\"heatmap\":[{\"type\":\"heatmap\",\"colorbar\":{\"outlinewidth\":0,\"ticks\":\"\"},\"colorscale\":[[0.0,\"#0d0887\"],[0.1111111111111111,\"#46039f\"],[0.2222222222222222,\"#7201a8\"],[0.3333333333333333,\"#9c179e\"],[0.4444444444444444,\"#bd3786\"],[0.5555555555555556,\"#d8576b\"],[0.6666666666666666,\"#ed7953\"],[0.7777777777777778,\"#fb9f3a\"],[0.8888888888888888,\"#fdca26\"],[1.0,\"#f0f921\"]]}],\"heatmapgl\":[{\"type\":\"heatmapgl\",\"colorbar\":{\"outlinewidth\":0,\"ticks\":\"\"},\"colorscale\":[[0.0,\"#0d0887\"],[0.1111111111111111,\"#46039f\"],[0.2222222222222222,\"#7201a8\"],[0.3333333333333333,\"#9c179e\"],[0.4444444444444444,\"#bd3786\"],[0.5555555555555556,\"#d8576b\"],[0.6666666666666666,\"#ed7953\"],[0.7777777777777778,\"#fb9f3a\"],[0.8888888888888888,\"#fdca26\"],[1.0,\"#f0f921\"]]}],\"contourcarpet\":[{\"type\":\"contourcarpet\",\"colorbar\":{\"outlinewidth\":0,\"ticks\":\"\"}}],\"contour\":[{\"type\":\"contour\",\"colorbar\":{\"outlinewidth\":0,\"ticks\":\"\"},\"colorscale\":[[0.0,\"#0d0887\"],[0.1111111111111111,\"#46039f\"],[0.2222222222222222,\"#7201a8\"],[0.3333333333333333,\"#9c179e\"],[0.4444444444444444,\"#bd3786\"],[0.5555555555555556,\"#d8576b\"],[0.6666666666666666,\"#ed7953\"],[0.7777777777777778,\"#fb9f3a\"],[0.8888888888888888,\"#fdca26\"],[1.0,\"#f0f921\"]]}],\"surface\":[{\"type\":\"surface\",\"colorbar\":{\"outlinewidth\":0,\"ticks\":\"\"},\"colorscale\":[[0.0,\"#0d0887\"],[0.1111111111111111,\"#46039f\"],[0.2222222222222222,\"#7201a8\"],[0.3333333333333333,\"#9c179e\"],[0.4444444444444444,\"#bd3786\"],[0.5555555555555556,\"#d8576b\"],[0.6666666666666666,\"#ed7953\"],[0.7777777777777778,\"#fb9f3a\"],[0.8888888888888888,\"#fdca26\"],[1.0,\"#f0f921\"]]}],\"mesh3d\":[{\"type\":\"mesh3d\",\"colorbar\":{\"outlinewidth\":0,\"ticks\":\"\"}}],\"scatter\":[{\"fillpattern\":{\"fillmode\":\"overlay\",\"size\":10,\"solidity\":0.2},\"type\":\"scatter\"}],\"parcoords\":[{\"type\":\"parcoords\",\"line\":{\"colorbar\":{\"outlinewidth\":0,\"ticks\":\"\"}}}],\"scatterpolargl\":[{\"type\":\"scatterpolargl\",\"marker\":{\"colorbar\":{\"outlinewidth\":0,\"ticks\":\"\"}}}],\"bar\":[{\"error_x\":{\"color\":\"#2a3f5f\"},\"error_y\":{\"color\":\"#2a3f5f\"},\"marker\":{\"line\":{\"color\":\"#E5ECF6\",\"width\":0.5},\"pattern\":{\"fillmode\":\"overlay\",\"size\":10,\"solidity\":0.2}},\"type\":\"bar\"}],\"scattergeo\":[{\"type\":\"scattergeo\",\"marker\":{\"colorbar\":{\"outlinewidth\":0,\"ticks\":\"\"}}}],\"scatterpolar\":[{\"type\":\"scatterpolar\",\"marker\":{\"colorbar\":{\"outlinewidth\":0,\"ticks\":\"\"}}}],\"histogram\":[{\"marker\":{\"pattern\":{\"fillmode\":\"overlay\",\"size\":10,\"solidity\":0.2}},\"type\":\"histogram\"}],\"scattergl\":[{\"type\":\"scattergl\",\"marker\":{\"colorbar\":{\"outlinewidth\":0,\"ticks\":\"\"}}}],\"scatter3d\":[{\"type\":\"scatter3d\",\"line\":{\"colorbar\":{\"outlinewidth\":0,\"ticks\":\"\"}},\"marker\":{\"colorbar\":{\"outlinewidth\":0,\"ticks\":\"\"}}}],\"scattermapbox\":[{\"type\":\"scattermapbox\",\"marker\":{\"colorbar\":{\"outlinewidth\":0,\"ticks\":\"\"}}}],\"scatterternary\":[{\"type\":\"scatterternary\",\"marker\":{\"colorbar\":{\"outlinewidth\":0,\"ticks\":\"\"}}}],\"scattercarpet\":[{\"type\":\"scattercarpet\",\"marker\":{\"colorbar\":{\"outlinewidth\":0,\"ticks\":\"\"}}}],\"carpet\":[{\"aaxis\":{\"endlinecolor\":\"#2a3f5f\",\"gridcolor\":\"white\",\"linecolor\":\"white\",\"minorgridcolor\":\"white\",\"startlinecolor\":\"#2a3f5f\"},\"baxis\":{\"endlinecolor\":\"#2a3f5f\",\"gridcolor\":\"white\",\"linecolor\":\"white\",\"minorgridcolor\":\"white\",\"startlinecolor\":\"#2a3f5f\"},\"type\":\"carpet\"}],\"table\":[{\"cells\":{\"fill\":{\"color\":\"#EBF0F8\"},\"line\":{\"color\":\"white\"}},\"header\":{\"fill\":{\"color\":\"#C8D4E3\"},\"line\":{\"color\":\"white\"}},\"type\":\"table\"}],\"barpolar\":[{\"marker\":{\"line\":{\"color\":\"#E5ECF6\",\"width\":0.5},\"pattern\":{\"fillmode\":\"overlay\",\"size\":10,\"solidity\":0.2}},\"type\":\"barpolar\"}],\"pie\":[{\"automargin\":true,\"type\":\"pie\"}]},\"layout\":{\"autotypenumbers\":\"strict\",\"colorway\":[\"#636efa\",\"#EF553B\",\"#00cc96\",\"#ab63fa\",\"#FFA15A\",\"#19d3f3\",\"#FF6692\",\"#B6E880\",\"#FF97FF\",\"#FECB52\"],\"font\":{\"color\":\"#2a3f5f\"},\"hovermode\":\"closest\",\"hoverlabel\":{\"align\":\"left\"},\"paper_bgcolor\":\"white\",\"plot_bgcolor\":\"#E5ECF6\",\"polar\":{\"bgcolor\":\"#E5ECF6\",\"angularaxis\":{\"gridcolor\":\"white\",\"linecolor\":\"white\",\"ticks\":\"\"},\"radialaxis\":{\"gridcolor\":\"white\",\"linecolor\":\"white\",\"ticks\":\"\"}},\"ternary\":{\"bgcolor\":\"#E5ECF6\",\"aaxis\":{\"gridcolor\":\"white\",\"linecolor\":\"white\",\"ticks\":\"\"},\"baxis\":{\"gridcolor\":\"white\",\"linecolor\":\"white\",\"ticks\":\"\"},\"caxis\":{\"gridcolor\":\"white\",\"linecolor\":\"white\",\"ticks\":\"\"}},\"coloraxis\":{\"colorbar\":{\"outlinewidth\":0,\"ticks\":\"\"}},\"colorscale\":{\"sequential\":[[0.0,\"#0d0887\"],[0.1111111111111111,\"#46039f\"],[0.2222222222222222,\"#7201a8\"],[0.3333333333333333,\"#9c179e\"],[0.4444444444444444,\"#bd3786\"],[0.5555555555555556,\"#d8576b\"],[0.6666666666666666,\"#ed7953\"],[0.7777777777777778,\"#fb9f3a\"],[0.8888888888888888,\"#fdca26\"],[1.0,\"#f0f921\"]],\"sequentialminus\":[[0.0,\"#0d0887\"],[0.1111111111111111,\"#46039f\"],[0.2222222222222222,\"#7201a8\"],[0.3333333333333333,\"#9c179e\"],[0.4444444444444444,\"#bd3786\"],[0.5555555555555556,\"#d8576b\"],[0.6666666666666666,\"#ed7953\"],[0.7777777777777778,\"#fb9f3a\"],[0.8888888888888888,\"#fdca26\"],[1.0,\"#f0f921\"]],\"diverging\":[[0,\"#8e0152\"],[0.1,\"#c51b7d\"],[0.2,\"#de77ae\"],[0.3,\"#f1b6da\"],[0.4,\"#fde0ef\"],[0.5,\"#f7f7f7\"],[0.6,\"#e6f5d0\"],[0.7,\"#b8e186\"],[0.8,\"#7fbc41\"],[0.9,\"#4d9221\"],[1,\"#276419\"]]},\"xaxis\":{\"gridcolor\":\"white\",\"linecolor\":\"white\",\"ticks\":\"\",\"title\":{\"standoff\":15},\"zerolinecolor\":\"white\",\"automargin\":true,\"zerolinewidth\":2},\"yaxis\":{\"gridcolor\":\"white\",\"linecolor\":\"white\",\"ticks\":\"\",\"title\":{\"standoff\":15},\"zerolinecolor\":\"white\",\"automargin\":true,\"zerolinewidth\":2},\"scene\":{\"xaxis\":{\"backgroundcolor\":\"#E5ECF6\",\"gridcolor\":\"white\",\"linecolor\":\"white\",\"showbackground\":true,\"ticks\":\"\",\"zerolinecolor\":\"white\",\"gridwidth\":2},\"yaxis\":{\"backgroundcolor\":\"#E5ECF6\",\"gridcolor\":\"white\",\"linecolor\":\"white\",\"showbackground\":true,\"ticks\":\"\",\"zerolinecolor\":\"white\",\"gridwidth\":2},\"zaxis\":{\"backgroundcolor\":\"#E5ECF6\",\"gridcolor\":\"white\",\"linecolor\":\"white\",\"showbackground\":true,\"ticks\":\"\",\"zerolinecolor\":\"white\",\"gridwidth\":2}},\"shapedefaults\":{\"line\":{\"color\":\"#2a3f5f\"}},\"annotationdefaults\":{\"arrowcolor\":\"#2a3f5f\",\"arrowhead\":0,\"arrowwidth\":1},\"geo\":{\"bgcolor\":\"white\",\"landcolor\":\"#E5ECF6\",\"subunitcolor\":\"white\",\"showland\":true,\"showlakes\":true,\"lakecolor\":\"white\"},\"title\":{\"x\":0.05},\"mapbox\":{\"style\":\"light\"}}},\"xaxis\":{\"anchor\":\"y\",\"domain\":[0.0,1.0],\"title\":{\"text\":\"Mortality Rate (Deaths per 1000 live births)\"},\"categoryorder\":\"array\",\"categoryarray\":[55.6575,9.4559,22.3353,2.7564,69.4213,4.0451,6.1446,6.9182,10.7211,3.7119,3.6576,18.5862,13.1591,6.9156,27.2736,11.9135,2.7249,4.1007,11.1866,26.6874,24.6919,5.6006,34.8694,10.4629,11.476,6.3243,82.6076,52.6048,24.7636,69.788,5.0413,99.9161,107.0655,6.5534,6.9346,12.8482,42.9679,74.7853,2.7855,78.9605,35.8948,18.9578,38.0916,46.8115,4.3538,9.4798,3.7141,98.7269,58.6327,2.6359,12.6313,3.3566,2.3024,37.1526,8.7338,3.6796,76.0402,2.7349,7.5561,5.832,16.6172,2.9236,5.2735,41.8124,27.1635,13.2554,24.1315,10.1395,63.3326,16.2452,13.8705,42.8119,18.1575,14.1226,25.7395,4.3466,3.0985,5.3061,2.8882,14.1965,6.4269,5.0549,39.4389,14.5602,24.8206,13.7103,16.7185,1.7172,15.4256,6.7211,38.5999,5.4873,13.9128,104.687,2.0883,5.6331,2.1696,18.7853,111.7846,32.8473,98.6896,3.0454,6.7481,14.8348,54.8955,17.1758,2.4645,3.8306,22.2724,31.419,8.291,50.549,62.6045,11.1399,16.3318,16.3213,41.4278,4.4894,21.2541,8.9802,42.1282,8.2232,6.3718,4.1854,47.1164,6.243,5.8231,14.0661,23.2141,24.2297,20.6016,61.9089,57.6918,49.522]},\"yaxis\":{\"anchor\":\"x\",\"domain\":[0.0,1.0],\"title\":{\"text\":\"Country.Name\"}},\"coloraxis\":{\"colorbar\":{\"title\":{\"text\":\"Mortality Rate (Deaths per 1000 live births)\"}},\"colorscale\":[[0.0,\"#0d0887\"],[0.1111111111111111,\"#46039f\"],[0.2222222222222222,\"#7201a8\"],[0.3333333333333333,\"#9c179e\"],[0.4444444444444444,\"#bd3786\"],[0.5555555555555556,\"#d8576b\"],[0.6666666666666666,\"#ed7953\"],[0.7777777777777778,\"#fb9f3a\"],[0.8888888888888888,\"#fdca26\"],[1.0,\"#f0f921\"]]},\"legend\":{\"tracegroupgap\":0},\"title\":{\"text\":\"Under-five Mortality Rates Over the Years\"},\"barmode\":\"relative\",\"updatemenus\":[{\"buttons\":[{\"args\":[null,{\"frame\":{\"duration\":500,\"redraw\":true},\"fromcurrent\":true}],\"label\":\"Play\",\"method\":\"animate\"},{\"args\":[[null],{\"frame\":{\"duration\":0,\"redraw\":true},\"mode\":\"immediate\",\"transition\":{\"duration\":0}}],\"label\":\"Pause\",\"method\":\"animate\"}],\"direction\":\"left\",\"pad\":{\"r\":10,\"t\":70},\"showactive\":false,\"type\":\"buttons\",\"x\":0.1,\"xanchor\":\"right\",\"y\":0,\"yanchor\":\"top\"}],\"sliders\":[{\"active\":0,\"currentvalue\":{\"prefix\":\"Year:\",\"font\":{\"size\":20},\"visible\":true,\"xanchor\":\"right\"},\"len\":0.9,\"pad\":{\"b\":10,\"t\":50},\"steps\":[{\"args\":[[\"1988.5\"],{\"frame\":{\"duration\":300,\"redraw\":true},\"mode\":\"immediate\",\"transition\":{\"duration\":300}}],\"label\":\"1988.5\",\"method\":\"animate\"},{\"args\":[[\"1989.5\"],{\"frame\":{\"duration\":300,\"redraw\":true},\"mode\":\"immediate\",\"transition\":{\"duration\":300}}],\"label\":\"1989.5\",\"method\":\"animate\"},{\"args\":[[\"1990.5\"],{\"frame\":{\"duration\":300,\"redraw\":true},\"mode\":\"immediate\",\"transition\":{\"duration\":300}}],\"label\":\"1990.5\",\"method\":\"animate\"},{\"args\":[[\"1991.5\"],{\"frame\":{\"duration\":300,\"redraw\":true},\"mode\":\"immediate\",\"transition\":{\"duration\":300}}],\"label\":\"1991.5\",\"method\":\"animate\"},{\"args\":[[\"1992.5\"],{\"frame\":{\"duration\":300,\"redraw\":true},\"mode\":\"immediate\",\"transition\":{\"duration\":300}}],\"label\":\"1992.5\",\"method\":\"animate\"},{\"args\":[[\"1993.5\"],{\"frame\":{\"duration\":300,\"redraw\":true},\"mode\":\"immediate\",\"transition\":{\"duration\":300}}],\"label\":\"1993.5\",\"method\":\"animate\"},{\"args\":[[\"1994.5\"],{\"frame\":{\"duration\":300,\"redraw\":true},\"mode\":\"immediate\",\"transition\":{\"duration\":300}}],\"label\":\"1994.5\",\"method\":\"animate\"},{\"args\":[[\"1995.5\"],{\"frame\":{\"duration\":300,\"redraw\":true},\"mode\":\"immediate\",\"transition\":{\"duration\":300}}],\"label\":\"1995.5\",\"method\":\"animate\"},{\"args\":[[\"1996.5\"],{\"frame\":{\"duration\":300,\"redraw\":true},\"mode\":\"immediate\",\"transition\":{\"duration\":300}}],\"label\":\"1996.5\",\"method\":\"animate\"},{\"args\":[[\"1997.5\"],{\"frame\":{\"duration\":300,\"redraw\":true},\"mode\":\"immediate\",\"transition\":{\"duration\":300}}],\"label\":\"1997.5\",\"method\":\"animate\"},{\"args\":[[\"1998.5\"],{\"frame\":{\"duration\":300,\"redraw\":true},\"mode\":\"immediate\",\"transition\":{\"duration\":300}}],\"label\":\"1998.5\",\"method\":\"animate\"},{\"args\":[[\"1999.5\"],{\"frame\":{\"duration\":300,\"redraw\":true},\"mode\":\"immediate\",\"transition\":{\"duration\":300}}],\"label\":\"1999.5\",\"method\":\"animate\"},{\"args\":[[\"2000.5\"],{\"frame\":{\"duration\":300,\"redraw\":true},\"mode\":\"immediate\",\"transition\":{\"duration\":300}}],\"label\":\"2000.5\",\"method\":\"animate\"},{\"args\":[[\"2001.5\"],{\"frame\":{\"duration\":300,\"redraw\":true},\"mode\":\"immediate\",\"transition\":{\"duration\":300}}],\"label\":\"2001.5\",\"method\":\"animate\"},{\"args\":[[\"2002.5\"],{\"frame\":{\"duration\":300,\"redraw\":true},\"mode\":\"immediate\",\"transition\":{\"duration\":300}}],\"label\":\"2002.5\",\"method\":\"animate\"},{\"args\":[[\"2003.5\"],{\"frame\":{\"duration\":300,\"redraw\":true},\"mode\":\"immediate\",\"transition\":{\"duration\":300}}],\"label\":\"2003.5\",\"method\":\"animate\"},{\"args\":[[\"2004.5\"],{\"frame\":{\"duration\":300,\"redraw\":true},\"mode\":\"immediate\",\"transition\":{\"duration\":300}}],\"label\":\"2004.5\",\"method\":\"animate\"},{\"args\":[[\"2005.5\"],{\"frame\":{\"duration\":300,\"redraw\":true},\"mode\":\"immediate\",\"transition\":{\"duration\":300}}],\"label\":\"2005.5\",\"method\":\"animate\"},{\"args\":[[\"2006.5\"],{\"frame\":{\"duration\":300,\"redraw\":true},\"mode\":\"immediate\",\"transition\":{\"duration\":300}}],\"label\":\"2006.5\",\"method\":\"animate\"},{\"args\":[[\"2007.5\"],{\"frame\":{\"duration\":300,\"redraw\":true},\"mode\":\"immediate\",\"transition\":{\"duration\":300}}],\"label\":\"2007.5\",\"method\":\"animate\"},{\"args\":[[\"2008.5\"],{\"frame\":{\"duration\":300,\"redraw\":true},\"mode\":\"immediate\",\"transition\":{\"duration\":300}}],\"label\":\"2008.5\",\"method\":\"animate\"},{\"args\":[[\"2009.5\"],{\"frame\":{\"duration\":300,\"redraw\":true},\"mode\":\"immediate\",\"transition\":{\"duration\":300}}],\"label\":\"2009.5\",\"method\":\"animate\"},{\"args\":[[\"2010.5\"],{\"frame\":{\"duration\":300,\"redraw\":true},\"mode\":\"immediate\",\"transition\":{\"duration\":300}}],\"label\":\"2010.5\",\"method\":\"animate\"},{\"args\":[[\"2011.5\"],{\"frame\":{\"duration\":300,\"redraw\":true},\"mode\":\"immediate\",\"transition\":{\"duration\":300}}],\"label\":\"2011.5\",\"method\":\"animate\"},{\"args\":[[\"2012.5\"],{\"frame\":{\"duration\":300,\"redraw\":true},\"mode\":\"immediate\",\"transition\":{\"duration\":300}}],\"label\":\"2012.5\",\"method\":\"animate\"},{\"args\":[[\"2013.5\"],{\"frame\":{\"duration\":300,\"redraw\":true},\"mode\":\"immediate\",\"transition\":{\"duration\":300}}],\"label\":\"2013.5\",\"method\":\"animate\"},{\"args\":[[\"2014.5\"],{\"frame\":{\"duration\":300,\"redraw\":true},\"mode\":\"immediate\",\"transition\":{\"duration\":300}}],\"label\":\"2014.5\",\"method\":\"animate\"},{\"args\":[[\"2015.5\"],{\"frame\":{\"duration\":300,\"redraw\":true},\"mode\":\"immediate\",\"transition\":{\"duration\":300}}],\"label\":\"2015.5\",\"method\":\"animate\"},{\"args\":[[\"2016.5\"],{\"frame\":{\"duration\":300,\"redraw\":true},\"mode\":\"immediate\",\"transition\":{\"duration\":300}}],\"label\":\"2016.5\",\"method\":\"animate\"},{\"args\":[[\"2017.5\"],{\"frame\":{\"duration\":300,\"redraw\":true},\"mode\":\"immediate\",\"transition\":{\"duration\":300}}],\"label\":\"2017.5\",\"method\":\"animate\"},{\"args\":[[\"2018.5\"],{\"frame\":{\"duration\":300,\"redraw\":true},\"mode\":\"immediate\",\"transition\":{\"duration\":300}}],\"label\":\"2018.5\",\"method\":\"animate\"},{\"args\":[[\"2019.5\"],{\"frame\":{\"duration\":300,\"redraw\":true},\"mode\":\"immediate\",\"transition\":{\"duration\":300}}],\"label\":\"2019.5\",\"method\":\"animate\"},{\"args\":[[\"2020.5\"],{\"frame\":{\"duration\":300,\"redraw\":true},\"mode\":\"immediate\",\"transition\":{\"duration\":300}}],\"label\":\"2020.5\",\"method\":\"animate\"},{\"args\":[[\"1988.5\"],{\"frame\":{\"duration\":300,\"redraw\":true},\"mode\":\"immediate\",\"transition\":{\"duration\":300}}],\"label\":\"1988.5\",\"method\":\"animate\"},{\"args\":[[\"1989.5\"],{\"frame\":{\"duration\":300,\"redraw\":true},\"mode\":\"immediate\",\"transition\":{\"duration\":300}}],\"label\":\"1989.5\",\"method\":\"animate\"},{\"args\":[[\"1990.5\"],{\"frame\":{\"duration\":300,\"redraw\":true},\"mode\":\"immediate\",\"transition\":{\"duration\":300}}],\"label\":\"1990.5\",\"method\":\"animate\"},{\"args\":[[\"1991.5\"],{\"frame\":{\"duration\":300,\"redraw\":true},\"mode\":\"immediate\",\"transition\":{\"duration\":300}}],\"label\":\"1991.5\",\"method\":\"animate\"},{\"args\":[[\"1992.5\"],{\"frame\":{\"duration\":300,\"redraw\":true},\"mode\":\"immediate\",\"transition\":{\"duration\":300}}],\"label\":\"1992.5\",\"method\":\"animate\"},{\"args\":[[\"1993.5\"],{\"frame\":{\"duration\":300,\"redraw\":true},\"mode\":\"immediate\",\"transition\":{\"duration\":300}}],\"label\":\"1993.5\",\"method\":\"animate\"},{\"args\":[[\"1994.5\"],{\"frame\":{\"duration\":300,\"redraw\":true},\"mode\":\"immediate\",\"transition\":{\"duration\":300}}],\"label\":\"1994.5\",\"method\":\"animate\"},{\"args\":[[\"1995.5\"],{\"frame\":{\"duration\":300,\"redraw\":true},\"mode\":\"immediate\",\"transition\":{\"duration\":300}}],\"label\":\"1995.5\",\"method\":\"animate\"},{\"args\":[[\"1996.5\"],{\"frame\":{\"duration\":300,\"redraw\":true},\"mode\":\"immediate\",\"transition\":{\"duration\":300}}],\"label\":\"1996.5\",\"method\":\"animate\"},{\"args\":[[\"1997.5\"],{\"frame\":{\"duration\":300,\"redraw\":true},\"mode\":\"immediate\",\"transition\":{\"duration\":300}}],\"label\":\"1997.5\",\"method\":\"animate\"},{\"args\":[[\"1998.5\"],{\"frame\":{\"duration\":300,\"redraw\":true},\"mode\":\"immediate\",\"transition\":{\"duration\":300}}],\"label\":\"1998.5\",\"method\":\"animate\"},{\"args\":[[\"1999.5\"],{\"frame\":{\"duration\":300,\"redraw\":true},\"mode\":\"immediate\",\"transition\":{\"duration\":300}}],\"label\":\"1999.5\",\"method\":\"animate\"},{\"args\":[[\"2000.5\"],{\"frame\":{\"duration\":300,\"redraw\":true},\"mode\":\"immediate\",\"transition\":{\"duration\":300}}],\"label\":\"2000.5\",\"method\":\"animate\"},{\"args\":[[\"2001.5\"],{\"frame\":{\"duration\":300,\"redraw\":true},\"mode\":\"immediate\",\"transition\":{\"duration\":300}}],\"label\":\"2001.5\",\"method\":\"animate\"},{\"args\":[[\"2002.5\"],{\"frame\":{\"duration\":300,\"redraw\":true},\"mode\":\"immediate\",\"transition\":{\"duration\":300}}],\"label\":\"2002.5\",\"method\":\"animate\"},{\"args\":[[\"2003.5\"],{\"frame\":{\"duration\":300,\"redraw\":true},\"mode\":\"immediate\",\"transition\":{\"duration\":300}}],\"label\":\"2003.5\",\"method\":\"animate\"},{\"args\":[[\"2004.5\"],{\"frame\":{\"duration\":300,\"redraw\":true},\"mode\":\"immediate\",\"transition\":{\"duration\":300}}],\"label\":\"2004.5\",\"method\":\"animate\"},{\"args\":[[\"2005.5\"],{\"frame\":{\"duration\":300,\"redraw\":true},\"mode\":\"immediate\",\"transition\":{\"duration\":300}}],\"label\":\"2005.5\",\"method\":\"animate\"},{\"args\":[[\"2006.5\"],{\"frame\":{\"duration\":300,\"redraw\":true},\"mode\":\"immediate\",\"transition\":{\"duration\":300}}],\"label\":\"2006.5\",\"method\":\"animate\"},{\"args\":[[\"2007.5\"],{\"frame\":{\"duration\":300,\"redraw\":true},\"mode\":\"immediate\",\"transition\":{\"duration\":300}}],\"label\":\"2007.5\",\"method\":\"animate\"},{\"args\":[[\"2008.5\"],{\"frame\":{\"duration\":300,\"redraw\":true},\"mode\":\"immediate\",\"transition\":{\"duration\":300}}],\"label\":\"2008.5\",\"method\":\"animate\"},{\"args\":[[\"2009.5\"],{\"frame\":{\"duration\":300,\"redraw\":true},\"mode\":\"immediate\",\"transition\":{\"duration\":300}}],\"label\":\"2009.5\",\"method\":\"animate\"},{\"args\":[[\"2010.5\"],{\"frame\":{\"duration\":300,\"redraw\":true},\"mode\":\"immediate\",\"transition\":{\"duration\":300}}],\"label\":\"2010.5\",\"method\":\"animate\"},{\"args\":[[\"2011.5\"],{\"frame\":{\"duration\":300,\"redraw\":true},\"mode\":\"immediate\",\"transition\":{\"duration\":300}}],\"label\":\"2011.5\",\"method\":\"animate\"},{\"args\":[[\"2012.5\"],{\"frame\":{\"duration\":300,\"redraw\":true},\"mode\":\"immediate\",\"transition\":{\"duration\":300}}],\"label\":\"2012.5\",\"method\":\"animate\"},{\"args\":[[\"2013.5\"],{\"frame\":{\"duration\":300,\"redraw\":true},\"mode\":\"immediate\",\"transition\":{\"duration\":300}}],\"label\":\"2013.5\",\"method\":\"animate\"},{\"args\":[[\"2014.5\"],{\"frame\":{\"duration\":300,\"redraw\":true},\"mode\":\"immediate\",\"transition\":{\"duration\":300}}],\"label\":\"2014.5\",\"method\":\"animate\"},{\"args\":[[\"2015.5\"],{\"frame\":{\"duration\":300,\"redraw\":true},\"mode\":\"immediate\",\"transition\":{\"duration\":300}}],\"label\":\"2015.5\",\"method\":\"animate\"},{\"args\":[[\"2016.5\"],{\"frame\":{\"duration\":300,\"redraw\":true},\"mode\":\"immediate\",\"transition\":{\"duration\":300}}],\"label\":\"2016.5\",\"method\":\"animate\"},{\"args\":[[\"2017.5\"],{\"frame\":{\"duration\":300,\"redraw\":true},\"mode\":\"immediate\",\"transition\":{\"duration\":300}}],\"label\":\"2017.5\",\"method\":\"animate\"},{\"args\":[[\"2018.5\"],{\"frame\":{\"duration\":300,\"redraw\":true},\"mode\":\"immediate\",\"transition\":{\"duration\":300}}],\"label\":\"2018.5\",\"method\":\"animate\"},{\"args\":[[\"2019.5\"],{\"frame\":{\"duration\":300,\"redraw\":true},\"mode\":\"immediate\",\"transition\":{\"duration\":300}}],\"label\":\"2019.5\",\"method\":\"animate\"},{\"args\":[[\"2020.5\"],{\"frame\":{\"duration\":300,\"redraw\":true},\"mode\":\"immediate\",\"transition\":{\"duration\":300}}],\"label\":\"2020.5\",\"method\":\"animate\"},{\"args\":[[\"1988.5\"],{\"frame\":{\"duration\":300,\"redraw\":true},\"mode\":\"immediate\",\"transition\":{\"duration\":300}}],\"label\":\"1988.5\",\"method\":\"animate\"},{\"args\":[[\"1989.5\"],{\"frame\":{\"duration\":300,\"redraw\":true},\"mode\":\"immediate\",\"transition\":{\"duration\":300}}],\"label\":\"1989.5\",\"method\":\"animate\"},{\"args\":[[\"1990.5\"],{\"frame\":{\"duration\":300,\"redraw\":true},\"mode\":\"immediate\",\"transition\":{\"duration\":300}}],\"label\":\"1990.5\",\"method\":\"animate\"},{\"args\":[[\"1991.5\"],{\"frame\":{\"duration\":300,\"redraw\":true},\"mode\":\"immediate\",\"transition\":{\"duration\":300}}],\"label\":\"1991.5\",\"method\":\"animate\"},{\"args\":[[\"1992.5\"],{\"frame\":{\"duration\":300,\"redraw\":true},\"mode\":\"immediate\",\"transition\":{\"duration\":300}}],\"label\":\"1992.5\",\"method\":\"animate\"},{\"args\":[[\"1993.5\"],{\"frame\":{\"duration\":300,\"redraw\":true},\"mode\":\"immediate\",\"transition\":{\"duration\":300}}],\"label\":\"1993.5\",\"method\":\"animate\"},{\"args\":[[\"1994.5\"],{\"frame\":{\"duration\":300,\"redraw\":true},\"mode\":\"immediate\",\"transition\":{\"duration\":300}}],\"label\":\"1994.5\",\"method\":\"animate\"},{\"args\":[[\"1995.5\"],{\"frame\":{\"duration\":300,\"redraw\":true},\"mode\":\"immediate\",\"transition\":{\"duration\":300}}],\"label\":\"1995.5\",\"method\":\"animate\"},{\"args\":[[\"1996.5\"],{\"frame\":{\"duration\":300,\"redraw\":true},\"mode\":\"immediate\",\"transition\":{\"duration\":300}}],\"label\":\"1996.5\",\"method\":\"animate\"},{\"args\":[[\"1997.5\"],{\"frame\":{\"duration\":300,\"redraw\":true},\"mode\":\"immediate\",\"transition\":{\"duration\":300}}],\"label\":\"1997.5\",\"method\":\"animate\"},{\"args\":[[\"1998.5\"],{\"frame\":{\"duration\":300,\"redraw\":true},\"mode\":\"immediate\",\"transition\":{\"duration\":300}}],\"label\":\"1998.5\",\"method\":\"animate\"},{\"args\":[[\"1999.5\"],{\"frame\":{\"duration\":300,\"redraw\":true},\"mode\":\"immediate\",\"transition\":{\"duration\":300}}],\"label\":\"1999.5\",\"method\":\"animate\"},{\"args\":[[\"2000.5\"],{\"frame\":{\"duration\":300,\"redraw\":true},\"mode\":\"immediate\",\"transition\":{\"duration\":300}}],\"label\":\"2000.5\",\"method\":\"animate\"},{\"args\":[[\"2001.5\"],{\"frame\":{\"duration\":300,\"redraw\":true},\"mode\":\"immediate\",\"transition\":{\"duration\":300}}],\"label\":\"2001.5\",\"method\":\"animate\"},{\"args\":[[\"2002.5\"],{\"frame\":{\"duration\":300,\"redraw\":true},\"mode\":\"immediate\",\"transition\":{\"duration\":300}}],\"label\":\"2002.5\",\"method\":\"animate\"},{\"args\":[[\"2003.5\"],{\"frame\":{\"duration\":300,\"redraw\":true},\"mode\":\"immediate\",\"transition\":{\"duration\":300}}],\"label\":\"2003.5\",\"method\":\"animate\"},{\"args\":[[\"2004.5\"],{\"frame\":{\"duration\":300,\"redraw\":true},\"mode\":\"immediate\",\"transition\":{\"duration\":300}}],\"label\":\"2004.5\",\"method\":\"animate\"},{\"args\":[[\"2005.5\"],{\"frame\":{\"duration\":300,\"redraw\":true},\"mode\":\"immediate\",\"transition\":{\"duration\":300}}],\"label\":\"2005.5\",\"method\":\"animate\"},{\"args\":[[\"2006.5\"],{\"frame\":{\"duration\":300,\"redraw\":true},\"mode\":\"immediate\",\"transition\":{\"duration\":300}}],\"label\":\"2006.5\",\"method\":\"animate\"},{\"args\":[[\"2007.5\"],{\"frame\":{\"duration\":300,\"redraw\":true},\"mode\":\"immediate\",\"transition\":{\"duration\":300}}],\"label\":\"2007.5\",\"method\":\"animate\"},{\"args\":[[\"2008.5\"],{\"frame\":{\"duration\":300,\"redraw\":true},\"mode\":\"immediate\",\"transition\":{\"duration\":300}}],\"label\":\"2008.5\",\"method\":\"animate\"},{\"args\":[[\"2009.5\"],{\"frame\":{\"duration\":300,\"redraw\":true},\"mode\":\"immediate\",\"transition\":{\"duration\":300}}],\"label\":\"2009.5\",\"method\":\"animate\"},{\"args\":[[\"2010.5\"],{\"frame\":{\"duration\":300,\"redraw\":true},\"mode\":\"immediate\",\"transition\":{\"duration\":300}}],\"label\":\"2010.5\",\"method\":\"animate\"},{\"args\":[[\"2011.5\"],{\"frame\":{\"duration\":300,\"redraw\":true},\"mode\":\"immediate\",\"transition\":{\"duration\":300}}],\"label\":\"2011.5\",\"method\":\"animate\"},{\"args\":[[\"2012.5\"],{\"frame\":{\"duration\":300,\"redraw\":true},\"mode\":\"immediate\",\"transition\":{\"duration\":300}}],\"label\":\"2012.5\",\"method\":\"animate\"},{\"args\":[[\"2013.5\"],{\"frame\":{\"duration\":300,\"redraw\":true},\"mode\":\"immediate\",\"transition\":{\"duration\":300}}],\"label\":\"2013.5\",\"method\":\"animate\"},{\"args\":[[\"2014.5\"],{\"frame\":{\"duration\":300,\"redraw\":true},\"mode\":\"immediate\",\"transition\":{\"duration\":300}}],\"label\":\"2014.5\",\"method\":\"animate\"},{\"args\":[[\"2015.5\"],{\"frame\":{\"duration\":300,\"redraw\":true},\"mode\":\"immediate\",\"transition\":{\"duration\":300}}],\"label\":\"2015.5\",\"method\":\"animate\"},{\"args\":[[\"2016.5\"],{\"frame\":{\"duration\":300,\"redraw\":true},\"mode\":\"immediate\",\"transition\":{\"duration\":300}}],\"label\":\"2016.5\",\"method\":\"animate\"},{\"args\":[[\"2017.5\"],{\"frame\":{\"duration\":300,\"redraw\":true},\"mode\":\"immediate\",\"transition\":{\"duration\":300}}],\"label\":\"2017.5\",\"method\":\"animate\"},{\"args\":[[\"2018.5\"],{\"frame\":{\"duration\":300,\"redraw\":true},\"mode\":\"immediate\",\"transition\":{\"duration\":300}}],\"label\":\"2018.5\",\"method\":\"animate\"},{\"args\":[[\"2019.5\"],{\"frame\":{\"duration\":300,\"redraw\":true},\"mode\":\"immediate\",\"transition\":{\"duration\":300}}],\"label\":\"2019.5\",\"method\":\"animate\"},{\"args\":[[\"2020.5\"],{\"frame\":{\"duration\":300,\"redraw\":true},\"mode\":\"immediate\",\"transition\":{\"duration\":300}}],\"label\":\"2020.5\",\"method\":\"animate\"},{\"args\":[[\"1988.5\"],{\"frame\":{\"duration\":300,\"redraw\":true},\"mode\":\"immediate\",\"transition\":{\"duration\":300}}],\"label\":\"1988.5\",\"method\":\"animate\"},{\"args\":[[\"1989.5\"],{\"frame\":{\"duration\":300,\"redraw\":true},\"mode\":\"immediate\",\"transition\":{\"duration\":300}}],\"label\":\"1989.5\",\"method\":\"animate\"},{\"args\":[[\"1990.5\"],{\"frame\":{\"duration\":300,\"redraw\":true},\"mode\":\"immediate\",\"transition\":{\"duration\":300}}],\"label\":\"1990.5\",\"method\":\"animate\"},{\"args\":[[\"1991.5\"],{\"frame\":{\"duration\":300,\"redraw\":true},\"mode\":\"immediate\",\"transition\":{\"duration\":300}}],\"label\":\"1991.5\",\"method\":\"animate\"},{\"args\":[[\"1992.5\"],{\"frame\":{\"duration\":300,\"redraw\":true},\"mode\":\"immediate\",\"transition\":{\"duration\":300}}],\"label\":\"1992.5\",\"method\":\"animate\"},{\"args\":[[\"1993.5\"],{\"frame\":{\"duration\":300,\"redraw\":true},\"mode\":\"immediate\",\"transition\":{\"duration\":300}}],\"label\":\"1993.5\",\"method\":\"animate\"},{\"args\":[[\"1994.5\"],{\"frame\":{\"duration\":300,\"redraw\":true},\"mode\":\"immediate\",\"transition\":{\"duration\":300}}],\"label\":\"1994.5\",\"method\":\"animate\"},{\"args\":[[\"1995.5\"],{\"frame\":{\"duration\":300,\"redraw\":true},\"mode\":\"immediate\",\"transition\":{\"duration\":300}}],\"label\":\"1995.5\",\"method\":\"animate\"},{\"args\":[[\"1996.5\"],{\"frame\":{\"duration\":300,\"redraw\":true},\"mode\":\"immediate\",\"transition\":{\"duration\":300}}],\"label\":\"1996.5\",\"method\":\"animate\"},{\"args\":[[\"1997.5\"],{\"frame\":{\"duration\":300,\"redraw\":true},\"mode\":\"immediate\",\"transition\":{\"duration\":300}}],\"label\":\"1997.5\",\"method\":\"animate\"},{\"args\":[[\"1998.5\"],{\"frame\":{\"duration\":300,\"redraw\":true},\"mode\":\"immediate\",\"transition\":{\"duration\":300}}],\"label\":\"1998.5\",\"method\":\"animate\"},{\"args\":[[\"1999.5\"],{\"frame\":{\"duration\":300,\"redraw\":true},\"mode\":\"immediate\",\"transition\":{\"duration\":300}}],\"label\":\"1999.5\",\"method\":\"animate\"},{\"args\":[[\"2000.5\"],{\"frame\":{\"duration\":300,\"redraw\":true},\"mode\":\"immediate\",\"transition\":{\"duration\":300}}],\"label\":\"2000.5\",\"method\":\"animate\"},{\"args\":[[\"2001.5\"],{\"frame\":{\"duration\":300,\"redraw\":true},\"mode\":\"immediate\",\"transition\":{\"duration\":300}}],\"label\":\"2001.5\",\"method\":\"animate\"},{\"args\":[[\"2002.5\"],{\"frame\":{\"duration\":300,\"redraw\":true},\"mode\":\"immediate\",\"transition\":{\"duration\":300}}],\"label\":\"2002.5\",\"method\":\"animate\"},{\"args\":[[\"2003.5\"],{\"frame\":{\"duration\":300,\"redraw\":true},\"mode\":\"immediate\",\"transition\":{\"duration\":300}}],\"label\":\"2003.5\",\"method\":\"animate\"},{\"args\":[[\"2004.5\"],{\"frame\":{\"duration\":300,\"redraw\":true},\"mode\":\"immediate\",\"transition\":{\"duration\":300}}],\"label\":\"2004.5\",\"method\":\"animate\"},{\"args\":[[\"2005.5\"],{\"frame\":{\"duration\":300,\"redraw\":true},\"mode\":\"immediate\",\"transition\":{\"duration\":300}}],\"label\":\"2005.5\",\"method\":\"animate\"},{\"args\":[[\"2006.5\"],{\"frame\":{\"duration\":300,\"redraw\":true},\"mode\":\"immediate\",\"transition\":{\"duration\":300}}],\"label\":\"2006.5\",\"method\":\"animate\"},{\"args\":[[\"2007.5\"],{\"frame\":{\"duration\":300,\"redraw\":true},\"mode\":\"immediate\",\"transition\":{\"duration\":300}}],\"label\":\"2007.5\",\"method\":\"animate\"},{\"args\":[[\"2008.5\"],{\"frame\":{\"duration\":300,\"redraw\":true},\"mode\":\"immediate\",\"transition\":{\"duration\":300}}],\"label\":\"2008.5\",\"method\":\"animate\"},{\"args\":[[\"2009.5\"],{\"frame\":{\"duration\":300,\"redraw\":true},\"mode\":\"immediate\",\"transition\":{\"duration\":300}}],\"label\":\"2009.5\",\"method\":\"animate\"},{\"args\":[[\"2010.5\"],{\"frame\":{\"duration\":300,\"redraw\":true},\"mode\":\"immediate\",\"transition\":{\"duration\":300}}],\"label\":\"2010.5\",\"method\":\"animate\"},{\"args\":[[\"2011.5\"],{\"frame\":{\"duration\":300,\"redraw\":true},\"mode\":\"immediate\",\"transition\":{\"duration\":300}}],\"label\":\"2011.5\",\"method\":\"animate\"},{\"args\":[[\"2012.5\"],{\"frame\":{\"duration\":300,\"redraw\":true},\"mode\":\"immediate\",\"transition\":{\"duration\":300}}],\"label\":\"2012.5\",\"method\":\"animate\"},{\"args\":[[\"2013.5\"],{\"frame\":{\"duration\":300,\"redraw\":true},\"mode\":\"immediate\",\"transition\":{\"duration\":300}}],\"label\":\"2013.5\",\"method\":\"animate\"},{\"args\":[[\"2014.5\"],{\"frame\":{\"duration\":300,\"redraw\":true},\"mode\":\"immediate\",\"transition\":{\"duration\":300}}],\"label\":\"2014.5\",\"method\":\"animate\"},{\"args\":[[\"2015.5\"],{\"frame\":{\"duration\":300,\"redraw\":true},\"mode\":\"immediate\",\"transition\":{\"duration\":300}}],\"label\":\"2015.5\",\"method\":\"animate\"},{\"args\":[[\"2016.5\"],{\"frame\":{\"duration\":300,\"redraw\":true},\"mode\":\"immediate\",\"transition\":{\"duration\":300}}],\"label\":\"2016.5\",\"method\":\"animate\"},{\"args\":[[\"2017.5\"],{\"frame\":{\"duration\":300,\"redraw\":true},\"mode\":\"immediate\",\"transition\":{\"duration\":300}}],\"label\":\"2017.5\",\"method\":\"animate\"},{\"args\":[[\"2018.5\"],{\"frame\":{\"duration\":300,\"redraw\":true},\"mode\":\"immediate\",\"transition\":{\"duration\":300}}],\"label\":\"2018.5\",\"method\":\"animate\"},{\"args\":[[\"2019.5\"],{\"frame\":{\"duration\":300,\"redraw\":true},\"mode\":\"immediate\",\"transition\":{\"duration\":300}}],\"label\":\"2019.5\",\"method\":\"animate\"},{\"args\":[[\"2020.5\"],{\"frame\":{\"duration\":300,\"redraw\":true},\"mode\":\"immediate\",\"transition\":{\"duration\":300}}],\"label\":\"2020.5\",\"method\":\"animate\"},{\"args\":[[\"1988.5\"],{\"frame\":{\"duration\":300,\"redraw\":true},\"mode\":\"immediate\",\"transition\":{\"duration\":300}}],\"label\":\"1988.5\",\"method\":\"animate\"},{\"args\":[[\"1989.5\"],{\"frame\":{\"duration\":300,\"redraw\":true},\"mode\":\"immediate\",\"transition\":{\"duration\":300}}],\"label\":\"1989.5\",\"method\":\"animate\"}],\"x\":0.1,\"xanchor\":\"left\",\"y\":0,\"yanchor\":\"top\",\"transition\":{\"duration\":300,\"easing\":\"cubic-in-out\"}}]},                        {\"responsive\": true}                    ).then(function(){\n",
       "                            Plotly.addFrames('ffdaed55-500a-491c-8bd7-827eb0361e8f', [{\"data\":[{\"alignmentgroup\":\"True\",\"hovertemplate\":\"Mortality Rate (Deaths per 1000 live births)=%{marker.color}<br>Country.Name=%{y}<extra></extra>\",\"legendgroup\":\"\",\"marker\":{\"color\":[55.6575],\"coloraxis\":\"coloraxis\",\"pattern\":{\"shape\":\"\"}},\"name\":\"\",\"offsetgroup\":\"\",\"orientation\":\"h\",\"showlegend\":false,\"textposition\":\"auto\",\"x\":[55.6575],\"xaxis\":\"x\",\"y\":[\"Afghanistan\"],\"yaxis\":\"y\",\"type\":\"bar\"}],\"name\":\"55.6575\"},{\"data\":[{\"alignmentgroup\":\"True\",\"hovertemplate\":\"Mortality Rate (Deaths per 1000 live births)=%{marker.color}<br>Country.Name=%{y}<extra></extra>\",\"legendgroup\":\"\",\"marker\":{\"color\":[9.4559],\"coloraxis\":\"coloraxis\",\"pattern\":{\"shape\":\"\"}},\"name\":\"\",\"offsetgroup\":\"\",\"orientation\":\"h\",\"showlegend\":false,\"textposition\":\"auto\",\"x\":[9.4559],\"xaxis\":\"x\",\"y\":[\"Albania\"],\"yaxis\":\"y\",\"type\":\"bar\"}],\"name\":\"9.4559\"},{\"data\":[{\"alignmentgroup\":\"True\",\"hovertemplate\":\"Mortality Rate (Deaths per 1000 live births)=%{marker.color}<br>Country.Name=%{y}<extra></extra>\",\"legendgroup\":\"\",\"marker\":{\"color\":[22.3353],\"coloraxis\":\"coloraxis\",\"pattern\":{\"shape\":\"\"}},\"name\":\"\",\"offsetgroup\":\"\",\"orientation\":\"h\",\"showlegend\":false,\"textposition\":\"auto\",\"x\":[22.3353],\"xaxis\":\"x\",\"y\":[\"Algeria\"],\"yaxis\":\"y\",\"type\":\"bar\"}],\"name\":\"22.3353\"},{\"data\":[{\"alignmentgroup\":\"True\",\"hovertemplate\":\"Mortality Rate (Deaths per 1000 live births)=%{marker.color}<br>Country.Name=%{y}<extra></extra>\",\"legendgroup\":\"\",\"marker\":{\"color\":[2.7564],\"coloraxis\":\"coloraxis\",\"pattern\":{\"shape\":\"\"}},\"name\":\"\",\"offsetgroup\":\"\",\"orientation\":\"h\",\"showlegend\":false,\"textposition\":\"auto\",\"x\":[2.7564],\"xaxis\":\"x\",\"y\":[\"Andorra\"],\"yaxis\":\"y\",\"type\":\"bar\"}],\"name\":\"2.7564\"},{\"data\":[{\"alignmentgroup\":\"True\",\"hovertemplate\":\"Mortality Rate (Deaths per 1000 live births)=%{marker.color}<br>Country.Name=%{y}<extra></extra>\",\"legendgroup\":\"\",\"marker\":{\"color\":[69.4213],\"coloraxis\":\"coloraxis\",\"pattern\":{\"shape\":\"\"}},\"name\":\"\",\"offsetgroup\":\"\",\"orientation\":\"h\",\"showlegend\":false,\"textposition\":\"auto\",\"x\":[69.4213],\"xaxis\":\"x\",\"y\":[\"Angola\"],\"yaxis\":\"y\",\"type\":\"bar\"}],\"name\":\"69.4213\"},{\"data\":[{\"alignmentgroup\":\"True\",\"hovertemplate\":\"Mortality Rate (Deaths per 1000 live births)=%{marker.color}<br>Country.Name=%{y}<extra></extra>\",\"legendgroup\":\"\",\"marker\":{\"color\":[4.0451],\"coloraxis\":\"coloraxis\",\"pattern\":{\"shape\":\"\"}},\"name\":\"\",\"offsetgroup\":\"\",\"orientation\":\"h\",\"showlegend\":false,\"textposition\":\"auto\",\"x\":[4.0451],\"xaxis\":\"x\",\"y\":[\"Anguilla\"],\"yaxis\":\"y\",\"type\":\"bar\"}],\"name\":\"4.0451\"},{\"data\":[{\"alignmentgroup\":\"True\",\"hovertemplate\":\"Mortality Rate (Deaths per 1000 live births)=%{marker.color}<br>Country.Name=%{y}<extra></extra>\",\"legendgroup\":\"\",\"marker\":{\"color\":[6.1446],\"coloraxis\":\"coloraxis\",\"pattern\":{\"shape\":\"\"}},\"name\":\"\",\"offsetgroup\":\"\",\"orientation\":\"h\",\"showlegend\":false,\"textposition\":\"auto\",\"x\":[6.1446],\"xaxis\":\"x\",\"y\":[\"Antigua and Barbuda\"],\"yaxis\":\"y\",\"type\":\"bar\"}],\"name\":\"6.1446\"},{\"data\":[{\"alignmentgroup\":\"True\",\"hovertemplate\":\"Mortality Rate (Deaths per 1000 live births)=%{marker.color}<br>Country.Name=%{y}<extra></extra>\",\"legendgroup\":\"\",\"marker\":{\"color\":[6.9182],\"coloraxis\":\"coloraxis\",\"pattern\":{\"shape\":\"\"}},\"name\":\"\",\"offsetgroup\":\"\",\"orientation\":\"h\",\"showlegend\":false,\"textposition\":\"auto\",\"x\":[6.9182],\"xaxis\":\"x\",\"y\":[\"Argentina\"],\"yaxis\":\"y\",\"type\":\"bar\"}],\"name\":\"6.9182\"},{\"data\":[{\"alignmentgroup\":\"True\",\"hovertemplate\":\"Mortality Rate (Deaths per 1000 live births)=%{marker.color}<br>Country.Name=%{y}<extra></extra>\",\"legendgroup\":\"\",\"marker\":{\"color\":[10.7211],\"coloraxis\":\"coloraxis\",\"pattern\":{\"shape\":\"\"}},\"name\":\"\",\"offsetgroup\":\"\",\"orientation\":\"h\",\"showlegend\":false,\"textposition\":\"auto\",\"x\":[10.7211],\"xaxis\":\"x\",\"y\":[\"Armenia\"],\"yaxis\":\"y\",\"type\":\"bar\"}],\"name\":\"10.7211\"},{\"data\":[{\"alignmentgroup\":\"True\",\"hovertemplate\":\"Mortality Rate (Deaths per 1000 live births)=%{marker.color}<br>Country.Name=%{y}<extra></extra>\",\"legendgroup\":\"\",\"marker\":{\"color\":[3.7119],\"coloraxis\":\"coloraxis\",\"pattern\":{\"shape\":\"\"}},\"name\":\"\",\"offsetgroup\":\"\",\"orientation\":\"h\",\"showlegend\":false,\"textposition\":\"auto\",\"x\":[3.7119],\"xaxis\":\"x\",\"y\":[\"Australia\"],\"yaxis\":\"y\",\"type\":\"bar\"}],\"name\":\"3.7119\"},{\"data\":[{\"alignmentgroup\":\"True\",\"hovertemplate\":\"Mortality Rate (Deaths per 1000 live births)=%{marker.color}<br>Country.Name=%{y}<extra></extra>\",\"legendgroup\":\"\",\"marker\":{\"color\":[3.6576],\"coloraxis\":\"coloraxis\",\"pattern\":{\"shape\":\"\"}},\"name\":\"\",\"offsetgroup\":\"\",\"orientation\":\"h\",\"showlegend\":false,\"textposition\":\"auto\",\"x\":[3.6576],\"xaxis\":\"x\",\"y\":[\"Austria\"],\"yaxis\":\"y\",\"type\":\"bar\"}],\"name\":\"3.6576\"},{\"data\":[{\"alignmentgroup\":\"True\",\"hovertemplate\":\"Mortality Rate (Deaths per 1000 live births)=%{marker.color}<br>Country.Name=%{y}<extra></extra>\",\"legendgroup\":\"\",\"marker\":{\"color\":[18.5862],\"coloraxis\":\"coloraxis\",\"pattern\":{\"shape\":\"\"}},\"name\":\"\",\"offsetgroup\":\"\",\"orientation\":\"h\",\"showlegend\":false,\"textposition\":\"auto\",\"x\":[18.5862],\"xaxis\":\"x\",\"y\":[\"Azerbaijan\"],\"yaxis\":\"y\",\"type\":\"bar\"}],\"name\":\"18.5862\"},{\"data\":[{\"alignmentgroup\":\"True\",\"hovertemplate\":\"Mortality Rate (Deaths per 1000 live births)=%{marker.color}<br>Country.Name=%{y}<extra></extra>\",\"legendgroup\":\"\",\"marker\":{\"color\":[13.1591],\"coloraxis\":\"coloraxis\",\"pattern\":{\"shape\":\"\"}},\"name\":\"\",\"offsetgroup\":\"\",\"orientation\":\"h\",\"showlegend\":false,\"textposition\":\"auto\",\"x\":[13.1591],\"xaxis\":\"x\",\"y\":[\"Bahamas\"],\"yaxis\":\"y\",\"type\":\"bar\"}],\"name\":\"13.1591\"},{\"data\":[{\"alignmentgroup\":\"True\",\"hovertemplate\":\"Mortality Rate (Deaths per 1000 live births)=%{marker.color}<br>Country.Name=%{y}<extra></extra>\",\"legendgroup\":\"\",\"marker\":{\"color\":[6.9156],\"coloraxis\":\"coloraxis\",\"pattern\":{\"shape\":\"\"}},\"name\":\"\",\"offsetgroup\":\"\",\"orientation\":\"h\",\"showlegend\":false,\"textposition\":\"auto\",\"x\":[6.9156],\"xaxis\":\"x\",\"y\":[\"Bahrain\"],\"yaxis\":\"y\",\"type\":\"bar\"}],\"name\":\"6.9156\"},{\"data\":[{\"alignmentgroup\":\"True\",\"hovertemplate\":\"Mortality Rate (Deaths per 1000 live births)=%{marker.color}<br>Country.Name=%{y}<extra></extra>\",\"legendgroup\":\"\",\"marker\":{\"color\":[27.2736],\"coloraxis\":\"coloraxis\",\"pattern\":{\"shape\":\"\"}},\"name\":\"\",\"offsetgroup\":\"\",\"orientation\":\"h\",\"showlegend\":false,\"textposition\":\"auto\",\"x\":[27.2736],\"xaxis\":\"x\",\"y\":[\"Bangladesh\"],\"yaxis\":\"y\",\"type\":\"bar\"}],\"name\":\"27.2736\"},{\"data\":[{\"alignmentgroup\":\"True\",\"hovertemplate\":\"Mortality Rate (Deaths per 1000 live births)=%{marker.color}<br>Country.Name=%{y}<extra></extra>\",\"legendgroup\":\"\",\"marker\":{\"color\":[11.9135],\"coloraxis\":\"coloraxis\",\"pattern\":{\"shape\":\"\"}},\"name\":\"\",\"offsetgroup\":\"\",\"orientation\":\"h\",\"showlegend\":false,\"textposition\":\"auto\",\"x\":[11.9135],\"xaxis\":\"x\",\"y\":[\"Barbados\"],\"yaxis\":\"y\",\"type\":\"bar\"}],\"name\":\"11.9135\"},{\"data\":[{\"alignmentgroup\":\"True\",\"hovertemplate\":\"Mortality Rate (Deaths per 1000 live births)=%{marker.color}<br>Country.Name=%{y}<extra></extra>\",\"legendgroup\":\"\",\"marker\":{\"color\":[2.7249],\"coloraxis\":\"coloraxis\",\"pattern\":{\"shape\":\"\"}},\"name\":\"\",\"offsetgroup\":\"\",\"orientation\":\"h\",\"showlegend\":false,\"textposition\":\"auto\",\"x\":[2.7249],\"xaxis\":\"x\",\"y\":[\"Belarus\"],\"yaxis\":\"y\",\"type\":\"bar\"}],\"name\":\"2.7249\"},{\"data\":[{\"alignmentgroup\":\"True\",\"hovertemplate\":\"Mortality Rate (Deaths per 1000 live births)=%{marker.color}<br>Country.Name=%{y}<extra></extra>\",\"legendgroup\":\"\",\"marker\":{\"color\":[4.1007],\"coloraxis\":\"coloraxis\",\"pattern\":{\"shape\":\"\"}},\"name\":\"\",\"offsetgroup\":\"\",\"orientation\":\"h\",\"showlegend\":false,\"textposition\":\"auto\",\"x\":[4.1007],\"xaxis\":\"x\",\"y\":[\"Belgium\"],\"yaxis\":\"y\",\"type\":\"bar\"}],\"name\":\"4.1007\"},{\"data\":[{\"alignmentgroup\":\"True\",\"hovertemplate\":\"Mortality Rate (Deaths per 1000 live births)=%{marker.color}<br>Country.Name=%{y}<extra></extra>\",\"legendgroup\":\"\",\"marker\":{\"color\":[11.1866],\"coloraxis\":\"coloraxis\",\"pattern\":{\"shape\":\"\"}},\"name\":\"\",\"offsetgroup\":\"\",\"orientation\":\"h\",\"showlegend\":false,\"textposition\":\"auto\",\"x\":[11.1866],\"xaxis\":\"x\",\"y\":[\"Belize\"],\"yaxis\":\"y\",\"type\":\"bar\"}],\"name\":\"11.1866\"},{\"data\":[{\"alignmentgroup\":\"True\",\"hovertemplate\":\"Mortality Rate (Deaths per 1000 live births)=%{marker.color}<br>Country.Name=%{y}<extra></extra>\",\"legendgroup\":\"\",\"marker\":{\"color\":[26.6874],\"coloraxis\":\"coloraxis\",\"pattern\":{\"shape\":\"\"}},\"name\":\"\",\"offsetgroup\":\"\",\"orientation\":\"h\",\"showlegend\":false,\"textposition\":\"auto\",\"x\":[26.6874],\"xaxis\":\"x\",\"y\":[\"Bhutan\"],\"yaxis\":\"y\",\"type\":\"bar\"}],\"name\":\"26.6874\"},{\"data\":[{\"alignmentgroup\":\"True\",\"hovertemplate\":\"Mortality Rate (Deaths per 1000 live births)=%{marker.color}<br>Country.Name=%{y}<extra></extra>\",\"legendgroup\":\"\",\"marker\":{\"color\":[24.6919],\"coloraxis\":\"coloraxis\",\"pattern\":{\"shape\":\"\"}},\"name\":\"\",\"offsetgroup\":\"\",\"orientation\":\"h\",\"showlegend\":false,\"textposition\":\"auto\",\"x\":[24.6919],\"xaxis\":\"x\",\"y\":[\"Bolivia (Plurinational State of)\"],\"yaxis\":\"y\",\"type\":\"bar\"}],\"name\":\"24.6919\"},{\"data\":[{\"alignmentgroup\":\"True\",\"hovertemplate\":\"Mortality Rate (Deaths per 1000 live births)=%{marker.color}<br>Country.Name=%{y}<extra></extra>\",\"legendgroup\":\"\",\"marker\":{\"color\":[5.6006],\"coloraxis\":\"coloraxis\",\"pattern\":{\"shape\":\"\"}},\"name\":\"\",\"offsetgroup\":\"\",\"orientation\":\"h\",\"showlegend\":false,\"textposition\":\"auto\",\"x\":[5.6006],\"xaxis\":\"x\",\"y\":[\"Bosnia and Herzegovina\"],\"yaxis\":\"y\",\"type\":\"bar\"}],\"name\":\"5.6006\"},{\"data\":[{\"alignmentgroup\":\"True\",\"hovertemplate\":\"Mortality Rate (Deaths per 1000 live births)=%{marker.color}<br>Country.Name=%{y}<extra></extra>\",\"legendgroup\":\"\",\"marker\":{\"color\":[34.8694],\"coloraxis\":\"coloraxis\",\"pattern\":{\"shape\":\"\"}},\"name\":\"\",\"offsetgroup\":\"\",\"orientation\":\"h\",\"showlegend\":false,\"textposition\":\"auto\",\"x\":[34.8694],\"xaxis\":\"x\",\"y\":[\"Botswana\"],\"yaxis\":\"y\",\"type\":\"bar\"}],\"name\":\"34.8694\"},{\"data\":[{\"alignmentgroup\":\"True\",\"hovertemplate\":\"Mortality Rate (Deaths per 1000 live births)=%{marker.color}<br>Country.Name=%{y}<extra></extra>\",\"legendgroup\":\"\",\"marker\":{\"color\":[10.4629],\"coloraxis\":\"coloraxis\",\"pattern\":{\"shape\":\"\"}},\"name\":\"\",\"offsetgroup\":\"\",\"orientation\":\"h\",\"showlegend\":false,\"textposition\":\"auto\",\"x\":[10.4629],\"xaxis\":\"x\",\"y\":[\"British Virgin Islands\"],\"yaxis\":\"y\",\"type\":\"bar\"}],\"name\":\"10.4629\"},{\"data\":[{\"alignmentgroup\":\"True\",\"hovertemplate\":\"Mortality Rate (Deaths per 1000 live births)=%{marker.color}<br>Country.Name=%{y}<extra></extra>\",\"legendgroup\":\"\",\"marker\":{\"color\":[11.476],\"coloraxis\":\"coloraxis\",\"pattern\":{\"shape\":\"\"}},\"name\":\"\",\"offsetgroup\":\"\",\"orientation\":\"h\",\"showlegend\":false,\"textposition\":\"auto\",\"x\":[11.476],\"xaxis\":\"x\",\"y\":[\"Brunei Darussalam\"],\"yaxis\":\"y\",\"type\":\"bar\"}],\"name\":\"11.476\"},{\"data\":[{\"alignmentgroup\":\"True\",\"hovertemplate\":\"Mortality Rate (Deaths per 1000 live births)=%{marker.color}<br>Country.Name=%{y}<extra></extra>\",\"legendgroup\":\"\",\"marker\":{\"color\":[6.3243],\"coloraxis\":\"coloraxis\",\"pattern\":{\"shape\":\"\"}},\"name\":\"\",\"offsetgroup\":\"\",\"orientation\":\"h\",\"showlegend\":false,\"textposition\":\"auto\",\"x\":[6.3243],\"xaxis\":\"x\",\"y\":[\"Bulgaria\"],\"yaxis\":\"y\",\"type\":\"bar\"}],\"name\":\"6.3243\"},{\"data\":[{\"alignmentgroup\":\"True\",\"hovertemplate\":\"Mortality Rate (Deaths per 1000 live births)=%{marker.color}<br>Country.Name=%{y}<extra></extra>\",\"legendgroup\":\"\",\"marker\":{\"color\":[82.6076],\"coloraxis\":\"coloraxis\",\"pattern\":{\"shape\":\"\"}},\"name\":\"\",\"offsetgroup\":\"\",\"orientation\":\"h\",\"showlegend\":false,\"textposition\":\"auto\",\"x\":[82.6076],\"xaxis\":\"x\",\"y\":[\"Burkina Faso\"],\"yaxis\":\"y\",\"type\":\"bar\"}],\"name\":\"82.6076\"},{\"data\":[{\"alignmentgroup\":\"True\",\"hovertemplate\":\"Mortality Rate (Deaths per 1000 live births)=%{marker.color}<br>Country.Name=%{y}<extra></extra>\",\"legendgroup\":\"\",\"marker\":{\"color\":[52.6048],\"coloraxis\":\"coloraxis\",\"pattern\":{\"shape\":\"\"}},\"name\":\"\",\"offsetgroup\":\"\",\"orientation\":\"h\",\"showlegend\":false,\"textposition\":\"auto\",\"x\":[52.6048],\"xaxis\":\"x\",\"y\":[\"Burundi\"],\"yaxis\":\"y\",\"type\":\"bar\"}],\"name\":\"52.6048\"},{\"data\":[{\"alignmentgroup\":\"True\",\"hovertemplate\":\"Mortality Rate (Deaths per 1000 live births)=%{marker.color}<br>Country.Name=%{y}<extra></extra>\",\"legendgroup\":\"\",\"marker\":{\"color\":[24.7636],\"coloraxis\":\"coloraxis\",\"pattern\":{\"shape\":\"\"}},\"name\":\"\",\"offsetgroup\":\"\",\"orientation\":\"h\",\"showlegend\":false,\"textposition\":\"auto\",\"x\":[24.7636],\"xaxis\":\"x\",\"y\":[\"Cambodia\"],\"yaxis\":\"y\",\"type\":\"bar\"}],\"name\":\"24.7636\"},{\"data\":[{\"alignmentgroup\":\"True\",\"hovertemplate\":\"Mortality Rate (Deaths per 1000 live births)=%{marker.color}<br>Country.Name=%{y}<extra></extra>\",\"legendgroup\":\"\",\"marker\":{\"color\":[69.788],\"coloraxis\":\"coloraxis\",\"pattern\":{\"shape\":\"\"}},\"name\":\"\",\"offsetgroup\":\"\",\"orientation\":\"h\",\"showlegend\":false,\"textposition\":\"auto\",\"x\":[69.788],\"xaxis\":\"x\",\"y\":[\"Cameroon\"],\"yaxis\":\"y\",\"type\":\"bar\"}],\"name\":\"69.788\"},{\"data\":[{\"alignmentgroup\":\"True\",\"hovertemplate\":\"Mortality Rate (Deaths per 1000 live births)=%{marker.color}<br>Country.Name=%{y}<extra></extra>\",\"legendgroup\":\"\",\"marker\":{\"color\":[5.0413],\"coloraxis\":\"coloraxis\",\"pattern\":{\"shape\":\"\"}},\"name\":\"\",\"offsetgroup\":\"\",\"orientation\":\"h\",\"showlegend\":false,\"textposition\":\"auto\",\"x\":[5.0413],\"xaxis\":\"x\",\"y\":[\"Canada\"],\"yaxis\":\"y\",\"type\":\"bar\"}],\"name\":\"5.0413\"},{\"data\":[{\"alignmentgroup\":\"True\",\"hovertemplate\":\"Mortality Rate (Deaths per 1000 live births)=%{marker.color}<br>Country.Name=%{y}<extra></extra>\",\"legendgroup\":\"\",\"marker\":{\"color\":[99.9161],\"coloraxis\":\"coloraxis\",\"pattern\":{\"shape\":\"\"}},\"name\":\"\",\"offsetgroup\":\"\",\"orientation\":\"h\",\"showlegend\":false,\"textposition\":\"auto\",\"x\":[99.9161],\"xaxis\":\"x\",\"y\":[\"Central African Republic\"],\"yaxis\":\"y\",\"type\":\"bar\"}],\"name\":\"99.9161\"},{\"data\":[{\"alignmentgroup\":\"True\",\"hovertemplate\":\"Mortality Rate (Deaths per 1000 live births)=%{marker.color}<br>Country.Name=%{y}<extra></extra>\",\"legendgroup\":\"\",\"marker\":{\"color\":[107.0655],\"coloraxis\":\"coloraxis\",\"pattern\":{\"shape\":\"\"}},\"name\":\"\",\"offsetgroup\":\"\",\"orientation\":\"h\",\"showlegend\":false,\"textposition\":\"auto\",\"x\":[107.0655],\"xaxis\":\"x\",\"y\":[\"Chad\"],\"yaxis\":\"y\",\"type\":\"bar\"}],\"name\":\"107.0655\"},{\"data\":[{\"alignmentgroup\":\"True\",\"hovertemplate\":\"Mortality Rate (Deaths per 1000 live births)=%{marker.color}<br>Country.Name=%{y}<extra></extra>\",\"legendgroup\":\"\",\"marker\":{\"color\":[6.5534],\"coloraxis\":\"coloraxis\",\"pattern\":{\"shape\":\"\"}},\"name\":\"\",\"offsetgroup\":\"\",\"orientation\":\"h\",\"showlegend\":false,\"textposition\":\"auto\",\"x\":[6.5534],\"xaxis\":\"x\",\"y\":[\"Chile\"],\"yaxis\":\"y\",\"type\":\"bar\"}],\"name\":\"6.5534\"},{\"data\":[{\"alignmentgroup\":\"True\",\"hovertemplate\":\"Mortality Rate (Deaths per 1000 live births)=%{marker.color}<br>Country.Name=%{y}<extra></extra>\",\"legendgroup\":\"\",\"marker\":{\"color\":[6.9346],\"coloraxis\":\"coloraxis\",\"pattern\":{\"shape\":\"\"}},\"name\":\"\",\"offsetgroup\":\"\",\"orientation\":\"h\",\"showlegend\":false,\"textposition\":\"auto\",\"x\":[6.9346],\"xaxis\":\"x\",\"y\":[\"China\"],\"yaxis\":\"y\",\"type\":\"bar\"}],\"name\":\"6.9346\"},{\"data\":[{\"alignmentgroup\":\"True\",\"hovertemplate\":\"Mortality Rate (Deaths per 1000 live births)=%{marker.color}<br>Country.Name=%{y}<extra></extra>\",\"legendgroup\":\"\",\"marker\":{\"color\":[12.8482],\"coloraxis\":\"coloraxis\",\"pattern\":{\"shape\":\"\"}},\"name\":\"\",\"offsetgroup\":\"\",\"orientation\":\"h\",\"showlegend\":false,\"textposition\":\"auto\",\"x\":[12.8482],\"xaxis\":\"x\",\"y\":[\"Colombia\"],\"yaxis\":\"y\",\"type\":\"bar\"}],\"name\":\"12.8482\"},{\"data\":[{\"alignmentgroup\":\"True\",\"hovertemplate\":\"Mortality Rate (Deaths per 1000 live births)=%{marker.color}<br>Country.Name=%{y}<extra></extra>\",\"legendgroup\":\"\",\"marker\":{\"color\":[42.9679],\"coloraxis\":\"coloraxis\",\"pattern\":{\"shape\":\"\"}},\"name\":\"\",\"offsetgroup\":\"\",\"orientation\":\"h\",\"showlegend\":false,\"textposition\":\"auto\",\"x\":[42.9679],\"xaxis\":\"x\",\"y\":[\"Congo\"],\"yaxis\":\"y\",\"type\":\"bar\"}],\"name\":\"42.9679\"},{\"data\":[{\"alignmentgroup\":\"True\",\"hovertemplate\":\"Mortality Rate (Deaths per 1000 live births)=%{marker.color}<br>Country.Name=%{y}<extra></extra>\",\"legendgroup\":\"\",\"marker\":{\"color\":[74.7853],\"coloraxis\":\"coloraxis\",\"pattern\":{\"shape\":\"\"}},\"name\":\"\",\"offsetgroup\":\"\",\"orientation\":\"h\",\"showlegend\":false,\"textposition\":\"auto\",\"x\":[74.7853],\"xaxis\":\"x\",\"y\":[\"Cote d'Ivoire\"],\"yaxis\":\"y\",\"type\":\"bar\"}],\"name\":\"74.7853\"},{\"data\":[{\"alignmentgroup\":\"True\",\"hovertemplate\":\"Mortality Rate (Deaths per 1000 live births)=%{marker.color}<br>Country.Name=%{y}<extra></extra>\",\"legendgroup\":\"\",\"marker\":{\"color\":[2.7855],\"coloraxis\":\"coloraxis\",\"pattern\":{\"shape\":\"\"}},\"name\":\"\",\"offsetgroup\":\"\",\"orientation\":\"h\",\"showlegend\":false,\"textposition\":\"auto\",\"x\":[2.7855],\"xaxis\":\"x\",\"y\":[\"Cyprus\"],\"yaxis\":\"y\",\"type\":\"bar\"}],\"name\":\"2.7855\"},{\"data\":[{\"alignmentgroup\":\"True\",\"hovertemplate\":\"Mortality Rate (Deaths per 1000 live births)=%{marker.color}<br>Country.Name=%{y}<extra></extra>\",\"legendgroup\":\"\",\"marker\":{\"color\":[78.9605],\"coloraxis\":\"coloraxis\",\"pattern\":{\"shape\":\"\"}},\"name\":\"\",\"offsetgroup\":\"\",\"orientation\":\"h\",\"showlegend\":false,\"textposition\":\"auto\",\"x\":[78.9605],\"xaxis\":\"x\",\"y\":[\"Democratic Republic of the Congo\"],\"yaxis\":\"y\",\"type\":\"bar\"}],\"name\":\"78.9605\"},{\"data\":[{\"alignmentgroup\":\"True\",\"hovertemplate\":\"Mortality Rate (Deaths per 1000 live births)=%{marker.color}<br>Country.Name=%{y}<extra></extra>\",\"legendgroup\":\"\",\"marker\":{\"color\":[35.8948],\"coloraxis\":\"coloraxis\",\"pattern\":{\"shape\":\"\"}},\"name\":\"\",\"offsetgroup\":\"\",\"orientation\":\"h\",\"showlegend\":false,\"textposition\":\"auto\",\"x\":[35.8948],\"xaxis\":\"x\",\"y\":[\"Dominica\"],\"yaxis\":\"y\",\"type\":\"bar\"}],\"name\":\"35.8948\"},{\"data\":[{\"alignmentgroup\":\"True\",\"hovertemplate\":\"Mortality Rate (Deaths per 1000 live births)=%{marker.color}<br>Country.Name=%{y}<extra></extra>\",\"legendgroup\":\"\",\"marker\":{\"color\":[18.9578],\"coloraxis\":\"coloraxis\",\"pattern\":{\"shape\":\"\"}},\"name\":\"\",\"offsetgroup\":\"\",\"orientation\":\"h\",\"showlegend\":false,\"textposition\":\"auto\",\"x\":[18.9578],\"xaxis\":\"x\",\"y\":[\"Egypt\"],\"yaxis\":\"y\",\"type\":\"bar\"}],\"name\":\"18.9578\"},{\"data\":[{\"alignmentgroup\":\"True\",\"hovertemplate\":\"Mortality Rate (Deaths per 1000 live births)=%{marker.color}<br>Country.Name=%{y}<extra></extra>\",\"legendgroup\":\"\",\"marker\":{\"color\":[38.0916],\"coloraxis\":\"coloraxis\",\"pattern\":{\"shape\":\"\"}},\"name\":\"\",\"offsetgroup\":\"\",\"orientation\":\"h\",\"showlegend\":false,\"textposition\":\"auto\",\"x\":[38.0916],\"xaxis\":\"x\",\"y\":[\"Eritrea\"],\"yaxis\":\"y\",\"type\":\"bar\"}],\"name\":\"38.0916\"},{\"data\":[{\"alignmentgroup\":\"True\",\"hovertemplate\":\"Mortality Rate (Deaths per 1000 live births)=%{marker.color}<br>Country.Name=%{y}<extra></extra>\",\"legendgroup\":\"\",\"marker\":{\"color\":[46.8115],\"coloraxis\":\"coloraxis\",\"pattern\":{\"shape\":\"\"}},\"name\":\"\",\"offsetgroup\":\"\",\"orientation\":\"h\",\"showlegend\":false,\"textposition\":\"auto\",\"x\":[46.8115],\"xaxis\":\"x\",\"y\":[\"Ethiopia\"],\"yaxis\":\"y\",\"type\":\"bar\"}],\"name\":\"46.8115\"},{\"data\":[{\"alignmentgroup\":\"True\",\"hovertemplate\":\"Mortality Rate (Deaths per 1000 live births)=%{marker.color}<br>Country.Name=%{y}<extra></extra>\",\"legendgroup\":\"\",\"marker\":{\"color\":[4.3538],\"coloraxis\":\"coloraxis\",\"pattern\":{\"shape\":\"\"}},\"name\":\"\",\"offsetgroup\":\"\",\"orientation\":\"h\",\"showlegend\":false,\"textposition\":\"auto\",\"x\":[4.3538],\"xaxis\":\"x\",\"y\":[\"France\"],\"yaxis\":\"y\",\"type\":\"bar\"}],\"name\":\"4.3538\"},{\"data\":[{\"alignmentgroup\":\"True\",\"hovertemplate\":\"Mortality Rate (Deaths per 1000 live births)=%{marker.color}<br>Country.Name=%{y}<extra></extra>\",\"legendgroup\":\"\",\"marker\":{\"color\":[9.4798],\"coloraxis\":\"coloraxis\",\"pattern\":{\"shape\":\"\"}},\"name\":\"\",\"offsetgroup\":\"\",\"orientation\":\"h\",\"showlegend\":false,\"textposition\":\"auto\",\"x\":[9.4798],\"xaxis\":\"x\",\"y\":[\"Georgia\"],\"yaxis\":\"y\",\"type\":\"bar\"}],\"name\":\"9.4798\"},{\"data\":[{\"alignmentgroup\":\"True\",\"hovertemplate\":\"Mortality Rate (Deaths per 1000 live births)=%{marker.color}<br>Country.Name=%{y}<extra></extra>\",\"legendgroup\":\"\",\"marker\":{\"color\":[3.7141],\"coloraxis\":\"coloraxis\",\"pattern\":{\"shape\":\"\"}},\"name\":\"\",\"offsetgroup\":\"\",\"orientation\":\"h\",\"showlegend\":false,\"textposition\":\"auto\",\"x\":[3.7141],\"xaxis\":\"x\",\"y\":[\"Greece\"],\"yaxis\":\"y\",\"type\":\"bar\"}],\"name\":\"3.7141\"},{\"data\":[{\"alignmentgroup\":\"True\",\"hovertemplate\":\"Mortality Rate (Deaths per 1000 live births)=%{marker.color}<br>Country.Name=%{y}<extra></extra>\",\"legendgroup\":\"\",\"marker\":{\"color\":[98.7269],\"coloraxis\":\"coloraxis\",\"pattern\":{\"shape\":\"\"}},\"name\":\"\",\"offsetgroup\":\"\",\"orientation\":\"h\",\"showlegend\":false,\"textposition\":\"auto\",\"x\":[98.7269],\"xaxis\":\"x\",\"y\":[\"Guinea\"],\"yaxis\":\"y\",\"type\":\"bar\"}],\"name\":\"98.7269\"},{\"data\":[{\"alignmentgroup\":\"True\",\"hovertemplate\":\"Mortality Rate (Deaths per 1000 live births)=%{marker.color}<br>Country.Name=%{y}<extra></extra>\",\"legendgroup\":\"\",\"marker\":{\"color\":[58.6327],\"coloraxis\":\"coloraxis\",\"pattern\":{\"shape\":\"\"}},\"name\":\"\",\"offsetgroup\":\"\",\"orientation\":\"h\",\"showlegend\":false,\"textposition\":\"auto\",\"x\":[58.6327],\"xaxis\":\"x\",\"y\":[\"Haiti\"],\"yaxis\":\"y\",\"type\":\"bar\"}],\"name\":\"58.6327\"},{\"data\":[{\"alignmentgroup\":\"True\",\"hovertemplate\":\"Mortality Rate (Deaths per 1000 live births)=%{marker.color}<br>Country.Name=%{y}<extra></extra>\",\"legendgroup\":\"\",\"marker\":{\"color\":[2.6359],\"coloraxis\":\"coloraxis\",\"pattern\":{\"shape\":\"\"}},\"name\":\"\",\"offsetgroup\":\"\",\"orientation\":\"h\",\"showlegend\":false,\"textposition\":\"auto\",\"x\":[2.6359],\"xaxis\":\"x\",\"y\":[\"Iceland\"],\"yaxis\":\"y\",\"type\":\"bar\"}],\"name\":\"2.6359\"},{\"data\":[{\"alignmentgroup\":\"True\",\"hovertemplate\":\"Mortality Rate (Deaths per 1000 live births)=%{marker.color}<br>Country.Name=%{y}<extra></extra>\",\"legendgroup\":\"\",\"marker\":{\"color\":[12.6313],\"coloraxis\":\"coloraxis\",\"pattern\":{\"shape\":\"\"}},\"name\":\"\",\"offsetgroup\":\"\",\"orientation\":\"h\",\"showlegend\":false,\"textposition\":\"auto\",\"x\":[12.6313],\"xaxis\":\"x\",\"y\":[\"Iran (Islamic Republic of)\"],\"yaxis\":\"y\",\"type\":\"bar\"}],\"name\":\"12.6313\"},{\"data\":[{\"alignmentgroup\":\"True\",\"hovertemplate\":\"Mortality Rate (Deaths per 1000 live births)=%{marker.color}<br>Country.Name=%{y}<extra></extra>\",\"legendgroup\":\"\",\"marker\":{\"color\":[3.3566],\"coloraxis\":\"coloraxis\",\"pattern\":{\"shape\":\"\"}},\"name\":\"\",\"offsetgroup\":\"\",\"orientation\":\"h\",\"showlegend\":false,\"textposition\":\"auto\",\"x\":[3.3566],\"xaxis\":\"x\",\"y\":[\"Israel\"],\"yaxis\":\"y\",\"type\":\"bar\"}],\"name\":\"3.3566\"},{\"data\":[{\"alignmentgroup\":\"True\",\"hovertemplate\":\"Mortality Rate (Deaths per 1000 live births)=%{marker.color}<br>Country.Name=%{y}<extra></extra>\",\"legendgroup\":\"\",\"marker\":{\"color\":[2.3024],\"coloraxis\":\"coloraxis\",\"pattern\":{\"shape\":\"\"}},\"name\":\"\",\"offsetgroup\":\"\",\"orientation\":\"h\",\"showlegend\":false,\"textposition\":\"auto\",\"x\":[2.3024],\"xaxis\":\"x\",\"y\":[\"Japan\"],\"yaxis\":\"y\",\"type\":\"bar\"}],\"name\":\"2.3024\"},{\"data\":[{\"alignmentgroup\":\"True\",\"hovertemplate\":\"Mortality Rate (Deaths per 1000 live births)=%{marker.color}<br>Country.Name=%{y}<extra></extra>\",\"legendgroup\":\"\",\"marker\":{\"color\":[37.1526],\"coloraxis\":\"coloraxis\",\"pattern\":{\"shape\":\"\"}},\"name\":\"\",\"offsetgroup\":\"\",\"orientation\":\"h\",\"showlegend\":false,\"textposition\":\"auto\",\"x\":[37.1526],\"xaxis\":\"x\",\"y\":[\"Kenya\"],\"yaxis\":\"y\",\"type\":\"bar\"}],\"name\":\"37.1526\"},{\"data\":[{\"alignmentgroup\":\"True\",\"hovertemplate\":\"Mortality Rate (Deaths per 1000 live births)=%{marker.color}<br>Country.Name=%{y}<extra></extra>\",\"legendgroup\":\"\",\"marker\":{\"color\":[8.7338],\"coloraxis\":\"coloraxis\",\"pattern\":{\"shape\":\"\"}},\"name\":\"\",\"offsetgroup\":\"\",\"orientation\":\"h\",\"showlegend\":false,\"textposition\":\"auto\",\"x\":[8.7338],\"xaxis\":\"x\",\"y\":[\"Kuwait\"],\"yaxis\":\"y\",\"type\":\"bar\"}],\"name\":\"8.7338\"},{\"data\":[{\"alignmentgroup\":\"True\",\"hovertemplate\":\"Mortality Rate (Deaths per 1000 live births)=%{marker.color}<br>Country.Name=%{y}<extra></extra>\",\"legendgroup\":\"\",\"marker\":{\"color\":[3.6796],\"coloraxis\":\"coloraxis\",\"pattern\":{\"shape\":\"\"}},\"name\":\"\",\"offsetgroup\":\"\",\"orientation\":\"h\",\"showlegend\":false,\"textposition\":\"auto\",\"x\":[3.6796],\"xaxis\":\"x\",\"y\":[\"Latvia\"],\"yaxis\":\"y\",\"type\":\"bar\"}],\"name\":\"3.6796\"},{\"data\":[{\"alignmentgroup\":\"True\",\"hovertemplate\":\"Mortality Rate (Deaths per 1000 live births)=%{marker.color}<br>Country.Name=%{y}<extra></extra>\",\"legendgroup\":\"\",\"marker\":{\"color\":[76.0402],\"coloraxis\":\"coloraxis\",\"pattern\":{\"shape\":\"\"}},\"name\":\"\",\"offsetgroup\":\"\",\"orientation\":\"h\",\"showlegend\":false,\"textposition\":\"auto\",\"x\":[76.0402],\"xaxis\":\"x\",\"y\":[\"Liberia\"],\"yaxis\":\"y\",\"type\":\"bar\"}],\"name\":\"76.0402\"},{\"data\":[{\"alignmentgroup\":\"True\",\"hovertemplate\":\"Mortality Rate (Deaths per 1000 live births)=%{marker.color}<br>Country.Name=%{y}<extra></extra>\",\"legendgroup\":\"\",\"marker\":{\"color\":[2.7349],\"coloraxis\":\"coloraxis\",\"pattern\":{\"shape\":\"\"}},\"name\":\"\",\"offsetgroup\":\"\",\"orientation\":\"h\",\"showlegend\":false,\"textposition\":\"auto\",\"x\":[2.7349],\"xaxis\":\"x\",\"y\":[\"Luxembourg\"],\"yaxis\":\"y\",\"type\":\"bar\"}],\"name\":\"2.7349\"},{\"data\":[{\"alignmentgroup\":\"True\",\"hovertemplate\":\"Mortality Rate (Deaths per 1000 live births)=%{marker.color}<br>Country.Name=%{y}<extra></extra>\",\"legendgroup\":\"\",\"marker\":{\"color\":[7.5561],\"coloraxis\":\"coloraxis\",\"pattern\":{\"shape\":\"\"}},\"name\":\"\",\"offsetgroup\":\"\",\"orientation\":\"h\",\"showlegend\":false,\"textposition\":\"auto\",\"x\":[7.5561],\"xaxis\":\"x\",\"y\":[\"Malaysia\"],\"yaxis\":\"y\",\"type\":\"bar\"}],\"name\":\"7.5561\"},{\"data\":[{\"alignmentgroup\":\"True\",\"hovertemplate\":\"Mortality Rate (Deaths per 1000 live births)=%{marker.color}<br>Country.Name=%{y}<extra></extra>\",\"legendgroup\":\"\",\"marker\":{\"color\":[5.832],\"coloraxis\":\"coloraxis\",\"pattern\":{\"shape\":\"\"}},\"name\":\"\",\"offsetgroup\":\"\",\"orientation\":\"h\",\"showlegend\":false,\"textposition\":\"auto\",\"x\":[5.832],\"xaxis\":\"x\",\"y\":[\"Malta\"],\"yaxis\":\"y\",\"type\":\"bar\"}],\"name\":\"5.832\"},{\"data\":[{\"alignmentgroup\":\"True\",\"hovertemplate\":\"Mortality Rate (Deaths per 1000 live births)=%{marker.color}<br>Country.Name=%{y}<extra></extra>\",\"legendgroup\":\"\",\"marker\":{\"color\":[16.6172],\"coloraxis\":\"coloraxis\",\"pattern\":{\"shape\":\"\"}},\"name\":\"\",\"offsetgroup\":\"\",\"orientation\":\"h\",\"showlegend\":false,\"textposition\":\"auto\",\"x\":[16.6172],\"xaxis\":\"x\",\"y\":[\"Mauritius\"],\"yaxis\":\"y\",\"type\":\"bar\"}],\"name\":\"16.6172\"},{\"data\":[{\"alignmentgroup\":\"True\",\"hovertemplate\":\"Mortality Rate (Deaths per 1000 live births)=%{marker.color}<br>Country.Name=%{y}<extra></extra>\",\"legendgroup\":\"\",\"marker\":{\"color\":[2.9236],\"coloraxis\":\"coloraxis\",\"pattern\":{\"shape\":\"\"}},\"name\":\"\",\"offsetgroup\":\"\",\"orientation\":\"h\",\"showlegend\":false,\"textposition\":\"auto\",\"x\":[2.9236],\"xaxis\":\"x\",\"y\":[\"Monaco\"],\"yaxis\":\"y\",\"type\":\"bar\"}],\"name\":\"2.9236\"},{\"data\":[{\"alignmentgroup\":\"True\",\"hovertemplate\":\"Mortality Rate (Deaths per 1000 live births)=%{marker.color}<br>Country.Name=%{y}<extra></extra>\",\"legendgroup\":\"\",\"marker\":{\"color\":[5.2735],\"coloraxis\":\"coloraxis\",\"pattern\":{\"shape\":\"\"}},\"name\":\"\",\"offsetgroup\":\"\",\"orientation\":\"h\",\"showlegend\":false,\"textposition\":\"auto\",\"x\":[5.2735],\"xaxis\":\"x\",\"y\":[\"Montserrat\"],\"yaxis\":\"y\",\"type\":\"bar\"}],\"name\":\"5.2735\"},{\"data\":[{\"alignmentgroup\":\"True\",\"hovertemplate\":\"Mortality Rate (Deaths per 1000 live births)=%{marker.color}<br>Country.Name=%{y}<extra></extra>\",\"legendgroup\":\"\",\"marker\":{\"color\":[41.8124],\"coloraxis\":\"coloraxis\",\"pattern\":{\"shape\":\"\"}},\"name\":\"\",\"offsetgroup\":\"\",\"orientation\":\"h\",\"showlegend\":false,\"textposition\":\"auto\",\"x\":[41.8124],\"xaxis\":\"x\",\"y\":[\"Myanmar\"],\"yaxis\":\"y\",\"type\":\"bar\"}],\"name\":\"41.8124\"},{\"data\":[{\"alignmentgroup\":\"True\",\"hovertemplate\":\"Mortality Rate (Deaths per 1000 live births)=%{marker.color}<br>Country.Name=%{y}<extra></extra>\",\"legendgroup\":\"\",\"marker\":{\"color\":[27.1635],\"coloraxis\":\"coloraxis\",\"pattern\":{\"shape\":\"\"}},\"name\":\"\",\"offsetgroup\":\"\",\"orientation\":\"h\",\"showlegend\":false,\"textposition\":\"auto\",\"x\":[27.1635],\"xaxis\":\"x\",\"y\":[\"Nepal\"],\"yaxis\":\"y\",\"type\":\"bar\"}],\"name\":\"27.1635\"},{\"data\":[{\"alignmentgroup\":\"True\",\"hovertemplate\":\"Mortality Rate (Deaths per 1000 live births)=%{marker.color}<br>Country.Name=%{y}<extra></extra>\",\"legendgroup\":\"\",\"marker\":{\"color\":[13.2554],\"coloraxis\":\"coloraxis\",\"pattern\":{\"shape\":\"\"}},\"name\":\"\",\"offsetgroup\":\"\",\"orientation\":\"h\",\"showlegend\":false,\"textposition\":\"auto\",\"x\":[13.2554],\"xaxis\":\"x\",\"y\":[\"Nicaragua\"],\"yaxis\":\"y\",\"type\":\"bar\"}],\"name\":\"13.2554\"},{\"data\":[{\"alignmentgroup\":\"True\",\"hovertemplate\":\"Mortality Rate (Deaths per 1000 live births)=%{marker.color}<br>Country.Name=%{y}<extra></extra>\",\"legendgroup\":\"\",\"marker\":{\"color\":[24.1315],\"coloraxis\":\"coloraxis\",\"pattern\":{\"shape\":\"\"}},\"name\":\"\",\"offsetgroup\":\"\",\"orientation\":\"h\",\"showlegend\":false,\"textposition\":\"auto\",\"x\":[24.1315],\"xaxis\":\"x\",\"y\":[\"Niue\"],\"yaxis\":\"y\",\"type\":\"bar\"}],\"name\":\"24.1315\"},{\"data\":[{\"alignmentgroup\":\"True\",\"hovertemplate\":\"Mortality Rate (Deaths per 1000 live births)=%{marker.color}<br>Country.Name=%{y}<extra></extra>\",\"legendgroup\":\"\",\"marker\":{\"color\":[10.1395],\"coloraxis\":\"coloraxis\",\"pattern\":{\"shape\":\"\"}},\"name\":\"\",\"offsetgroup\":\"\",\"orientation\":\"h\",\"showlegend\":false,\"textposition\":\"auto\",\"x\":[10.1395],\"xaxis\":\"x\",\"y\":[\"Oman\"],\"yaxis\":\"y\",\"type\":\"bar\"}],\"name\":\"10.1395\"},{\"data\":[{\"alignmentgroup\":\"True\",\"hovertemplate\":\"Mortality Rate (Deaths per 1000 live births)=%{marker.color}<br>Country.Name=%{y}<extra></extra>\",\"legendgroup\":\"\",\"marker\":{\"color\":[63.3326],\"coloraxis\":\"coloraxis\",\"pattern\":{\"shape\":\"\"}},\"name\":\"\",\"offsetgroup\":\"\",\"orientation\":\"h\",\"showlegend\":false,\"textposition\":\"auto\",\"x\":[63.3326],\"xaxis\":\"x\",\"y\":[\"Pakistan\"],\"yaxis\":\"y\",\"type\":\"bar\"}],\"name\":\"63.3326\"},{\"data\":[{\"alignmentgroup\":\"True\",\"hovertemplate\":\"Mortality Rate (Deaths per 1000 live births)=%{marker.color}<br>Country.Name=%{y}<extra></extra>\",\"legendgroup\":\"\",\"marker\":{\"color\":[16.2452],\"coloraxis\":\"coloraxis\",\"pattern\":{\"shape\":\"\"}},\"name\":\"\",\"offsetgroup\":\"\",\"orientation\":\"h\",\"showlegend\":false,\"textposition\":\"auto\",\"x\":[16.2452],\"xaxis\":\"x\",\"y\":[\"Palau\"],\"yaxis\":\"y\",\"type\":\"bar\"}],\"name\":\"16.2452\"},{\"data\":[{\"alignmentgroup\":\"True\",\"hovertemplate\":\"Mortality Rate (Deaths per 1000 live births)=%{marker.color}<br>Country.Name=%{y}<extra></extra>\",\"legendgroup\":\"\",\"marker\":{\"color\":[13.8705],\"coloraxis\":\"coloraxis\",\"pattern\":{\"shape\":\"\"}},\"name\":\"\",\"offsetgroup\":\"\",\"orientation\":\"h\",\"showlegend\":false,\"textposition\":\"auto\",\"x\":[13.8705],\"xaxis\":\"x\",\"y\":[\"Panama\"],\"yaxis\":\"y\",\"type\":\"bar\"}],\"name\":\"13.8705\"},{\"data\":[{\"alignmentgroup\":\"True\",\"hovertemplate\":\"Mortality Rate (Deaths per 1000 live births)=%{marker.color}<br>Country.Name=%{y}<extra></extra>\",\"legendgroup\":\"\",\"marker\":{\"color\":[42.8119],\"coloraxis\":\"coloraxis\",\"pattern\":{\"shape\":\"\"}},\"name\":\"\",\"offsetgroup\":\"\",\"orientation\":\"h\",\"showlegend\":false,\"textposition\":\"auto\",\"x\":[42.8119],\"xaxis\":\"x\",\"y\":[\"Papua New Guinea\"],\"yaxis\":\"y\",\"type\":\"bar\"}],\"name\":\"42.8119\"},{\"data\":[{\"alignmentgroup\":\"True\",\"hovertemplate\":\"Mortality Rate (Deaths per 1000 live births)=%{marker.color}<br>Country.Name=%{y}<extra></extra>\",\"legendgroup\":\"\",\"marker\":{\"color\":[18.1575],\"coloraxis\":\"coloraxis\",\"pattern\":{\"shape\":\"\"}},\"name\":\"\",\"offsetgroup\":\"\",\"orientation\":\"h\",\"showlegend\":false,\"textposition\":\"auto\",\"x\":[18.1575],\"xaxis\":\"x\",\"y\":[\"Paraguay\"],\"yaxis\":\"y\",\"type\":\"bar\"}],\"name\":\"18.1575\"},{\"data\":[{\"alignmentgroup\":\"True\",\"hovertemplate\":\"Mortality Rate (Deaths per 1000 live births)=%{marker.color}<br>Country.Name=%{y}<extra></extra>\",\"legendgroup\":\"\",\"marker\":{\"color\":[14.1226],\"coloraxis\":\"coloraxis\",\"pattern\":{\"shape\":\"\"}},\"name\":\"\",\"offsetgroup\":\"\",\"orientation\":\"h\",\"showlegend\":false,\"textposition\":\"auto\",\"x\":[14.1226],\"xaxis\":\"x\",\"y\":[\"Peru\"],\"yaxis\":\"y\",\"type\":\"bar\"}],\"name\":\"14.1226\"},{\"data\":[{\"alignmentgroup\":\"True\",\"hovertemplate\":\"Mortality Rate (Deaths per 1000 live births)=%{marker.color}<br>Country.Name=%{y}<extra></extra>\",\"legendgroup\":\"\",\"marker\":{\"color\":[25.7395],\"coloraxis\":\"coloraxis\",\"pattern\":{\"shape\":\"\"}},\"name\":\"\",\"offsetgroup\":\"\",\"orientation\":\"h\",\"showlegend\":false,\"textposition\":\"auto\",\"x\":[25.7395],\"xaxis\":\"x\",\"y\":[\"Philippines\"],\"yaxis\":\"y\",\"type\":\"bar\"}],\"name\":\"25.7395\"},{\"data\":[{\"alignmentgroup\":\"True\",\"hovertemplate\":\"Mortality Rate (Deaths per 1000 live births)=%{marker.color}<br>Country.Name=%{y}<extra></extra>\",\"legendgroup\":\"\",\"marker\":{\"color\":[4.3466],\"coloraxis\":\"coloraxis\",\"pattern\":{\"shape\":\"\"}},\"name\":\"\",\"offsetgroup\":\"\",\"orientation\":\"h\",\"showlegend\":false,\"textposition\":\"auto\",\"x\":[4.3466],\"xaxis\":\"x\",\"y\":[\"Poland\"],\"yaxis\":\"y\",\"type\":\"bar\"}],\"name\":\"4.3466\"},{\"data\":[{\"alignmentgroup\":\"True\",\"hovertemplate\":\"Mortality Rate (Deaths per 1000 live births)=%{marker.color}<br>Country.Name=%{y}<extra></extra>\",\"legendgroup\":\"\",\"marker\":{\"color\":[3.0985],\"coloraxis\":\"coloraxis\",\"pattern\":{\"shape\":\"\"}},\"name\":\"\",\"offsetgroup\":\"\",\"orientation\":\"h\",\"showlegend\":false,\"textposition\":\"auto\",\"x\":[3.0985],\"xaxis\":\"x\",\"y\":[\"Portugal\"],\"yaxis\":\"y\",\"type\":\"bar\"}],\"name\":\"3.0985\"},{\"data\":[{\"alignmentgroup\":\"True\",\"hovertemplate\":\"Mortality Rate (Deaths per 1000 live births)=%{marker.color}<br>Country.Name=%{y}<extra></extra>\",\"legendgroup\":\"\",\"marker\":{\"color\":[5.3061],\"coloraxis\":\"coloraxis\",\"pattern\":{\"shape\":\"\"}},\"name\":\"\",\"offsetgroup\":\"\",\"orientation\":\"h\",\"showlegend\":false,\"textposition\":\"auto\",\"x\":[5.3061],\"xaxis\":\"x\",\"y\":[\"Qatar\"],\"yaxis\":\"y\",\"type\":\"bar\"}],\"name\":\"5.3061\"},{\"data\":[{\"alignmentgroup\":\"True\",\"hovertemplate\":\"Mortality Rate (Deaths per 1000 live births)=%{marker.color}<br>Country.Name=%{y}<extra></extra>\",\"legendgroup\":\"\",\"marker\":{\"color\":[2.8882],\"coloraxis\":\"coloraxis\",\"pattern\":{\"shape\":\"\"}},\"name\":\"\",\"offsetgroup\":\"\",\"orientation\":\"h\",\"showlegend\":false,\"textposition\":\"auto\",\"x\":[2.8882],\"xaxis\":\"x\",\"y\":[\"Republic of Korea\"],\"yaxis\":\"y\",\"type\":\"bar\"}],\"name\":\"2.8882\"},{\"data\":[{\"alignmentgroup\":\"True\",\"hovertemplate\":\"Mortality Rate (Deaths per 1000 live births)=%{marker.color}<br>Country.Name=%{y}<extra></extra>\",\"legendgroup\":\"\",\"marker\":{\"color\":[14.1965],\"coloraxis\":\"coloraxis\",\"pattern\":{\"shape\":\"\"}},\"name\":\"\",\"offsetgroup\":\"\",\"orientation\":\"h\",\"showlegend\":false,\"textposition\":\"auto\",\"x\":[14.1965],\"xaxis\":\"x\",\"y\":[\"Republic of Moldova\"],\"yaxis\":\"y\",\"type\":\"bar\"}],\"name\":\"14.1965\"},{\"data\":[{\"alignmentgroup\":\"True\",\"hovertemplate\":\"Mortality Rate (Deaths per 1000 live births)=%{marker.color}<br>Country.Name=%{y}<extra></extra>\",\"legendgroup\":\"\",\"marker\":{\"color\":[6.4269],\"coloraxis\":\"coloraxis\",\"pattern\":{\"shape\":\"\"}},\"name\":\"\",\"offsetgroup\":\"\",\"orientation\":\"h\",\"showlegend\":false,\"textposition\":\"auto\",\"x\":[6.4269],\"xaxis\":\"x\",\"y\":[\"Romania\"],\"yaxis\":\"y\",\"type\":\"bar\"}],\"name\":\"6.4269\"},{\"data\":[{\"alignmentgroup\":\"True\",\"hovertemplate\":\"Mortality Rate (Deaths per 1000 live births)=%{marker.color}<br>Country.Name=%{y}<extra></extra>\",\"legendgroup\":\"\",\"marker\":{\"color\":[5.0549],\"coloraxis\":\"coloraxis\",\"pattern\":{\"shape\":\"\"}},\"name\":\"\",\"offsetgroup\":\"\",\"orientation\":\"h\",\"showlegend\":false,\"textposition\":\"auto\",\"x\":[5.0549],\"xaxis\":\"x\",\"y\":[\"Russian Federation\"],\"yaxis\":\"y\",\"type\":\"bar\"}],\"name\":\"5.0549\"},{\"data\":[{\"alignmentgroup\":\"True\",\"hovertemplate\":\"Mortality Rate (Deaths per 1000 live births)=%{marker.color}<br>Country.Name=%{y}<extra></extra>\",\"legendgroup\":\"\",\"marker\":{\"color\":[39.4389],\"coloraxis\":\"coloraxis\",\"pattern\":{\"shape\":\"\"}},\"name\":\"\",\"offsetgroup\":\"\",\"orientation\":\"h\",\"showlegend\":false,\"textposition\":\"auto\",\"x\":[39.4389],\"xaxis\":\"x\",\"y\":[\"Rwanda\"],\"yaxis\":\"y\",\"type\":\"bar\"}],\"name\":\"39.4389\"},{\"data\":[{\"alignmentgroup\":\"True\",\"hovertemplate\":\"Mortality Rate (Deaths per 1000 live births)=%{marker.color}<br>Country.Name=%{y}<extra></extra>\",\"legendgroup\":\"\",\"marker\":{\"color\":[14.5602],\"coloraxis\":\"coloraxis\",\"pattern\":{\"shape\":\"\"}},\"name\":\"\",\"offsetgroup\":\"\",\"orientation\":\"h\",\"showlegend\":false,\"textposition\":\"auto\",\"x\":[14.5602],\"xaxis\":\"x\",\"y\":[\"Saint Kitts and Nevis\"],\"yaxis\":\"y\",\"type\":\"bar\"}],\"name\":\"14.5602\"},{\"data\":[{\"alignmentgroup\":\"True\",\"hovertemplate\":\"Mortality Rate (Deaths per 1000 live births)=%{marker.color}<br>Country.Name=%{y}<extra></extra>\",\"legendgroup\":\"\",\"marker\":{\"color\":[24.8206],\"coloraxis\":\"coloraxis\",\"pattern\":{\"shape\":\"\"}},\"name\":\"\",\"offsetgroup\":\"\",\"orientation\":\"h\",\"showlegend\":false,\"textposition\":\"auto\",\"x\":[24.8206],\"xaxis\":\"x\",\"y\":[\"Saint Lucia\"],\"yaxis\":\"y\",\"type\":\"bar\"}],\"name\":\"24.8206\"},{\"data\":[{\"alignmentgroup\":\"True\",\"hovertemplate\":\"Mortality Rate (Deaths per 1000 live births)=%{marker.color}<br>Country.Name=%{y}<extra></extra>\",\"legendgroup\":\"\",\"marker\":{\"color\":[13.7103],\"coloraxis\":\"coloraxis\",\"pattern\":{\"shape\":\"\"}},\"name\":\"\",\"offsetgroup\":\"\",\"orientation\":\"h\",\"showlegend\":false,\"textposition\":\"auto\",\"x\":[13.7103],\"xaxis\":\"x\",\"y\":[\"Saint Vincent and the Grenadines\"],\"yaxis\":\"y\",\"type\":\"bar\"}],\"name\":\"13.7103\"},{\"data\":[{\"alignmentgroup\":\"True\",\"hovertemplate\":\"Mortality Rate (Deaths per 1000 live births)=%{marker.color}<br>Country.Name=%{y}<extra></extra>\",\"legendgroup\":\"\",\"marker\":{\"color\":[16.7185],\"coloraxis\":\"coloraxis\",\"pattern\":{\"shape\":\"\"}},\"name\":\"\",\"offsetgroup\":\"\",\"orientation\":\"h\",\"showlegend\":false,\"textposition\":\"auto\",\"x\":[16.7185],\"xaxis\":\"x\",\"y\":[\"Samoa\"],\"yaxis\":\"y\",\"type\":\"bar\"}],\"name\":\"16.7185\"},{\"data\":[{\"alignmentgroup\":\"True\",\"hovertemplate\":\"Mortality Rate (Deaths per 1000 live births)=%{marker.color}<br>Country.Name=%{y}<extra></extra>\",\"legendgroup\":\"\",\"marker\":{\"color\":[1.7172],\"coloraxis\":\"coloraxis\",\"pattern\":{\"shape\":\"\"}},\"name\":\"\",\"offsetgroup\":\"\",\"orientation\":\"h\",\"showlegend\":false,\"textposition\":\"auto\",\"x\":[1.7172],\"xaxis\":\"x\",\"y\":[\"San Marino\"],\"yaxis\":\"y\",\"type\":\"bar\"}],\"name\":\"1.7172\"},{\"data\":[{\"alignmentgroup\":\"True\",\"hovertemplate\":\"Mortality Rate (Deaths per 1000 live births)=%{marker.color}<br>Country.Name=%{y}<extra></extra>\",\"legendgroup\":\"\",\"marker\":{\"color\":[15.4256],\"coloraxis\":\"coloraxis\",\"pattern\":{\"shape\":\"\"}},\"name\":\"\",\"offsetgroup\":\"\",\"orientation\":\"h\",\"showlegend\":false,\"textposition\":\"auto\",\"x\":[15.4256],\"xaxis\":\"x\",\"y\":[\"Sao Tome and Principe\"],\"yaxis\":\"y\",\"type\":\"bar\"}],\"name\":\"15.4256\"},{\"data\":[{\"alignmentgroup\":\"True\",\"hovertemplate\":\"Mortality Rate (Deaths per 1000 live births)=%{marker.color}<br>Country.Name=%{y}<extra></extra>\",\"legendgroup\":\"\",\"marker\":{\"color\":[6.7211],\"coloraxis\":\"coloraxis\",\"pattern\":{\"shape\":\"\"}},\"name\":\"\",\"offsetgroup\":\"\",\"orientation\":\"h\",\"showlegend\":false,\"textposition\":\"auto\",\"x\":[6.7211],\"xaxis\":\"x\",\"y\":[\"Saudi Arabia\"],\"yaxis\":\"y\",\"type\":\"bar\"}],\"name\":\"6.7211\"},{\"data\":[{\"alignmentgroup\":\"True\",\"hovertemplate\":\"Mortality Rate (Deaths per 1000 live births)=%{marker.color}<br>Country.Name=%{y}<extra></extra>\",\"legendgroup\":\"\",\"marker\":{\"color\":[38.5999],\"coloraxis\":\"coloraxis\",\"pattern\":{\"shape\":\"\"}},\"name\":\"\",\"offsetgroup\":\"\",\"orientation\":\"h\",\"showlegend\":false,\"textposition\":\"auto\",\"x\":[38.5999],\"xaxis\":\"x\",\"y\":[\"Senegal\"],\"yaxis\":\"y\",\"type\":\"bar\"}],\"name\":\"38.5999\"},{\"data\":[{\"alignmentgroup\":\"True\",\"hovertemplate\":\"Mortality Rate (Deaths per 1000 live births)=%{marker.color}<br>Country.Name=%{y}<extra></extra>\",\"legendgroup\":\"\",\"marker\":{\"color\":[5.4873],\"coloraxis\":\"coloraxis\",\"pattern\":{\"shape\":\"\"}},\"name\":\"\",\"offsetgroup\":\"\",\"orientation\":\"h\",\"showlegend\":false,\"textposition\":\"auto\",\"x\":[5.4873],\"xaxis\":\"x\",\"y\":[\"Serbia\"],\"yaxis\":\"y\",\"type\":\"bar\"}],\"name\":\"5.4873\"},{\"data\":[{\"alignmentgroup\":\"True\",\"hovertemplate\":\"Mortality Rate (Deaths per 1000 live births)=%{marker.color}<br>Country.Name=%{y}<extra></extra>\",\"legendgroup\":\"\",\"marker\":{\"color\":[13.9128],\"coloraxis\":\"coloraxis\",\"pattern\":{\"shape\":\"\"}},\"name\":\"\",\"offsetgroup\":\"\",\"orientation\":\"h\",\"showlegend\":false,\"textposition\":\"auto\",\"x\":[13.9128],\"xaxis\":\"x\",\"y\":[\"Seychelles\"],\"yaxis\":\"y\",\"type\":\"bar\"}],\"name\":\"13.9128\"},{\"data\":[{\"alignmentgroup\":\"True\",\"hovertemplate\":\"Mortality Rate (Deaths per 1000 live births)=%{marker.color}<br>Country.Name=%{y}<extra></extra>\",\"legendgroup\":\"\",\"marker\":{\"color\":[104.687],\"coloraxis\":\"coloraxis\",\"pattern\":{\"shape\":\"\"}},\"name\":\"\",\"offsetgroup\":\"\",\"orientation\":\"h\",\"showlegend\":false,\"textposition\":\"auto\",\"x\":[104.687],\"xaxis\":\"x\",\"y\":[\"Sierra Leone\"],\"yaxis\":\"y\",\"type\":\"bar\"}],\"name\":\"104.687\"},{\"data\":[{\"alignmentgroup\":\"True\",\"hovertemplate\":\"Mortality Rate (Deaths per 1000 live births)=%{marker.color}<br>Country.Name=%{y}<extra></extra>\",\"legendgroup\":\"\",\"marker\":{\"color\":[2.0883],\"coloraxis\":\"coloraxis\",\"pattern\":{\"shape\":\"\"}},\"name\":\"\",\"offsetgroup\":\"\",\"orientation\":\"h\",\"showlegend\":false,\"textposition\":\"auto\",\"x\":[2.0883],\"xaxis\":\"x\",\"y\":[\"Singapore\"],\"yaxis\":\"y\",\"type\":\"bar\"}],\"name\":\"2.0883\"},{\"data\":[{\"alignmentgroup\":\"True\",\"hovertemplate\":\"Mortality Rate (Deaths per 1000 live births)=%{marker.color}<br>Country.Name=%{y}<extra></extra>\",\"legendgroup\":\"\",\"marker\":{\"color\":[5.6331],\"coloraxis\":\"coloraxis\",\"pattern\":{\"shape\":\"\"}},\"name\":\"\",\"offsetgroup\":\"\",\"orientation\":\"h\",\"showlegend\":false,\"textposition\":\"auto\",\"x\":[5.6331],\"xaxis\":\"x\",\"y\":[\"Slovakia\"],\"yaxis\":\"y\",\"type\":\"bar\"}],\"name\":\"5.6331\"},{\"data\":[{\"alignmentgroup\":\"True\",\"hovertemplate\":\"Mortality Rate (Deaths per 1000 live births)=%{marker.color}<br>Country.Name=%{y}<extra></extra>\",\"legendgroup\":\"\",\"marker\":{\"color\":[2.1696],\"coloraxis\":\"coloraxis\",\"pattern\":{\"shape\":\"\"}},\"name\":\"\",\"offsetgroup\":\"\",\"orientation\":\"h\",\"showlegend\":false,\"textposition\":\"auto\",\"x\":[2.1696],\"xaxis\":\"x\",\"y\":[\"Slovenia\"],\"yaxis\":\"y\",\"type\":\"bar\"}],\"name\":\"2.1696\"},{\"data\":[{\"alignmentgroup\":\"True\",\"hovertemplate\":\"Mortality Rate (Deaths per 1000 live births)=%{marker.color}<br>Country.Name=%{y}<extra></extra>\",\"legendgroup\":\"\",\"marker\":{\"color\":[18.7853],\"coloraxis\":\"coloraxis\",\"pattern\":{\"shape\":\"\"}},\"name\":\"\",\"offsetgroup\":\"\",\"orientation\":\"h\",\"showlegend\":false,\"textposition\":\"auto\",\"x\":[18.7853],\"xaxis\":\"x\",\"y\":[\"Solomon Islands\"],\"yaxis\":\"y\",\"type\":\"bar\"}],\"name\":\"18.7853\"},{\"data\":[{\"alignmentgroup\":\"True\",\"hovertemplate\":\"Mortality Rate (Deaths per 1000 live births)=%{marker.color}<br>Country.Name=%{y}<extra></extra>\",\"legendgroup\":\"\",\"marker\":{\"color\":[111.7846],\"coloraxis\":\"coloraxis\",\"pattern\":{\"shape\":\"\"}},\"name\":\"\",\"offsetgroup\":\"\",\"orientation\":\"h\",\"showlegend\":false,\"textposition\":\"auto\",\"x\":[111.7846],\"xaxis\":\"x\",\"y\":[\"Somalia\"],\"yaxis\":\"y\",\"type\":\"bar\"}],\"name\":\"111.7846\"},{\"data\":[{\"alignmentgroup\":\"True\",\"hovertemplate\":\"Mortality Rate (Deaths per 1000 live births)=%{marker.color}<br>Country.Name=%{y}<extra></extra>\",\"legendgroup\":\"\",\"marker\":{\"color\":[32.8473],\"coloraxis\":\"coloraxis\",\"pattern\":{\"shape\":\"\"}},\"name\":\"\",\"offsetgroup\":\"\",\"orientation\":\"h\",\"showlegend\":false,\"textposition\":\"auto\",\"x\":[32.8473],\"xaxis\":\"x\",\"y\":[\"South Africa\"],\"yaxis\":\"y\",\"type\":\"bar\"}],\"name\":\"32.8473\"},{\"data\":[{\"alignmentgroup\":\"True\",\"hovertemplate\":\"Mortality Rate (Deaths per 1000 live births)=%{marker.color}<br>Country.Name=%{y}<extra></extra>\",\"legendgroup\":\"\",\"marker\":{\"color\":[98.6896],\"coloraxis\":\"coloraxis\",\"pattern\":{\"shape\":\"\"}},\"name\":\"\",\"offsetgroup\":\"\",\"orientation\":\"h\",\"showlegend\":false,\"textposition\":\"auto\",\"x\":[98.6896],\"xaxis\":\"x\",\"y\":[\"South Sudan\"],\"yaxis\":\"y\",\"type\":\"bar\"}],\"name\":\"98.6896\"},{\"data\":[{\"alignmentgroup\":\"True\",\"hovertemplate\":\"Mortality Rate (Deaths per 1000 live births)=%{marker.color}<br>Country.Name=%{y}<extra></extra>\",\"legendgroup\":\"\",\"marker\":{\"color\":[3.0454],\"coloraxis\":\"coloraxis\",\"pattern\":{\"shape\":\"\"}},\"name\":\"\",\"offsetgroup\":\"\",\"orientation\":\"h\",\"showlegend\":false,\"textposition\":\"auto\",\"x\":[3.0454],\"xaxis\":\"x\",\"y\":[\"Spain\"],\"yaxis\":\"y\",\"type\":\"bar\"}],\"name\":\"3.0454\"},{\"data\":[{\"alignmentgroup\":\"True\",\"hovertemplate\":\"Mortality Rate (Deaths per 1000 live births)=%{marker.color}<br>Country.Name=%{y}<extra></extra>\",\"legendgroup\":\"\",\"marker\":{\"color\":[6.7481],\"coloraxis\":\"coloraxis\",\"pattern\":{\"shape\":\"\"}},\"name\":\"\",\"offsetgroup\":\"\",\"orientation\":\"h\",\"showlegend\":false,\"textposition\":\"auto\",\"x\":[6.7481],\"xaxis\":\"x\",\"y\":[\"Sri Lanka\"],\"yaxis\":\"y\",\"type\":\"bar\"}],\"name\":\"6.7481\"},{\"data\":[{\"alignmentgroup\":\"True\",\"hovertemplate\":\"Mortality Rate (Deaths per 1000 live births)=%{marker.color}<br>Country.Name=%{y}<extra></extra>\",\"legendgroup\":\"\",\"marker\":{\"color\":[14.8348],\"coloraxis\":\"coloraxis\",\"pattern\":{\"shape\":\"\"}},\"name\":\"\",\"offsetgroup\":\"\",\"orientation\":\"h\",\"showlegend\":false,\"textposition\":\"auto\",\"x\":[14.8348],\"xaxis\":\"x\",\"y\":[\"State of Palestine\"],\"yaxis\":\"y\",\"type\":\"bar\"}],\"name\":\"14.8348\"},{\"data\":[{\"alignmentgroup\":\"True\",\"hovertemplate\":\"Mortality Rate (Deaths per 1000 live births)=%{marker.color}<br>Country.Name=%{y}<extra></extra>\",\"legendgroup\":\"\",\"marker\":{\"color\":[54.8955],\"coloraxis\":\"coloraxis\",\"pattern\":{\"shape\":\"\"}},\"name\":\"\",\"offsetgroup\":\"\",\"orientation\":\"h\",\"showlegend\":false,\"textposition\":\"auto\",\"x\":[54.8955],\"xaxis\":\"x\",\"y\":[\"Sudan\"],\"yaxis\":\"y\",\"type\":\"bar\"}],\"name\":\"54.8955\"},{\"data\":[{\"alignmentgroup\":\"True\",\"hovertemplate\":\"Mortality Rate (Deaths per 1000 live births)=%{marker.color}<br>Country.Name=%{y}<extra></extra>\",\"legendgroup\":\"\",\"marker\":{\"color\":[17.1758],\"coloraxis\":\"coloraxis\",\"pattern\":{\"shape\":\"\"}},\"name\":\"\",\"offsetgroup\":\"\",\"orientation\":\"h\",\"showlegend\":false,\"textposition\":\"auto\",\"x\":[17.1758],\"xaxis\":\"x\",\"y\":[\"Suriname\"],\"yaxis\":\"y\",\"type\":\"bar\"}],\"name\":\"17.1758\"},{\"data\":[{\"alignmentgroup\":\"True\",\"hovertemplate\":\"Mortality Rate (Deaths per 1000 live births)=%{marker.color}<br>Country.Name=%{y}<extra></extra>\",\"legendgroup\":\"\",\"marker\":{\"color\":[2.4645],\"coloraxis\":\"coloraxis\",\"pattern\":{\"shape\":\"\"}},\"name\":\"\",\"offsetgroup\":\"\",\"orientation\":\"h\",\"showlegend\":false,\"textposition\":\"auto\",\"x\":[2.4645],\"xaxis\":\"x\",\"y\":[\"Sweden\"],\"yaxis\":\"y\",\"type\":\"bar\"}],\"name\":\"2.4645\"},{\"data\":[{\"alignmentgroup\":\"True\",\"hovertemplate\":\"Mortality Rate (Deaths per 1000 live births)=%{marker.color}<br>Country.Name=%{y}<extra></extra>\",\"legendgroup\":\"\",\"marker\":{\"color\":[3.8306],\"coloraxis\":\"coloraxis\",\"pattern\":{\"shape\":\"\"}},\"name\":\"\",\"offsetgroup\":\"\",\"orientation\":\"h\",\"showlegend\":false,\"textposition\":\"auto\",\"x\":[3.8306],\"xaxis\":\"x\",\"y\":[\"Switzerland\"],\"yaxis\":\"y\",\"type\":\"bar\"}],\"name\":\"3.8306\"},{\"data\":[{\"alignmentgroup\":\"True\",\"hovertemplate\":\"Mortality Rate (Deaths per 1000 live births)=%{marker.color}<br>Country.Name=%{y}<extra></extra>\",\"legendgroup\":\"\",\"marker\":{\"color\":[22.2724],\"coloraxis\":\"coloraxis\",\"pattern\":{\"shape\":\"\"}},\"name\":\"\",\"offsetgroup\":\"\",\"orientation\":\"h\",\"showlegend\":false,\"textposition\":\"auto\",\"x\":[22.2724],\"xaxis\":\"x\",\"y\":[\"Syrian Arab Republic\"],\"yaxis\":\"y\",\"type\":\"bar\"}],\"name\":\"22.2724\"},{\"data\":[{\"alignmentgroup\":\"True\",\"hovertemplate\":\"Mortality Rate (Deaths per 1000 live births)=%{marker.color}<br>Country.Name=%{y}<extra></extra>\",\"legendgroup\":\"\",\"marker\":{\"color\":[31.419],\"coloraxis\":\"coloraxis\",\"pattern\":{\"shape\":\"\"}},\"name\":\"\",\"offsetgroup\":\"\",\"orientation\":\"h\",\"showlegend\":false,\"textposition\":\"auto\",\"x\":[31.419],\"xaxis\":\"x\",\"y\":[\"Tajikistan\"],\"yaxis\":\"y\",\"type\":\"bar\"}],\"name\":\"31.419\"},{\"data\":[{\"alignmentgroup\":\"True\",\"hovertemplate\":\"Mortality Rate (Deaths per 1000 live births)=%{marker.color}<br>Country.Name=%{y}<extra></extra>\",\"legendgroup\":\"\",\"marker\":{\"color\":[8.291],\"coloraxis\":\"coloraxis\",\"pattern\":{\"shape\":\"\"}},\"name\":\"\",\"offsetgroup\":\"\",\"orientation\":\"h\",\"showlegend\":false,\"textposition\":\"auto\",\"x\":[8.291],\"xaxis\":\"x\",\"y\":[\"Thailand\"],\"yaxis\":\"y\",\"type\":\"bar\"}],\"name\":\"8.291\"},{\"data\":[{\"alignmentgroup\":\"True\",\"hovertemplate\":\"Mortality Rate (Deaths per 1000 live births)=%{marker.color}<br>Country.Name=%{y}<extra></extra>\",\"legendgroup\":\"\",\"marker\":{\"color\":[50.549],\"coloraxis\":\"coloraxis\",\"pattern\":{\"shape\":\"\"}},\"name\":\"\",\"offsetgroup\":\"\",\"orientation\":\"h\",\"showlegend\":false,\"textposition\":\"auto\",\"x\":[50.549],\"xaxis\":\"x\",\"y\":[\"Timor-Leste\"],\"yaxis\":\"y\",\"type\":\"bar\"}],\"name\":\"50.549\"},{\"data\":[{\"alignmentgroup\":\"True\",\"hovertemplate\":\"Mortality Rate (Deaths per 1000 live births)=%{marker.color}<br>Country.Name=%{y}<extra></extra>\",\"legendgroup\":\"\",\"marker\":{\"color\":[62.6045],\"coloraxis\":\"coloraxis\",\"pattern\":{\"shape\":\"\"}},\"name\":\"\",\"offsetgroup\":\"\",\"orientation\":\"h\",\"showlegend\":false,\"textposition\":\"auto\",\"x\":[62.6045],\"xaxis\":\"x\",\"y\":[\"Togo\"],\"yaxis\":\"y\",\"type\":\"bar\"}],\"name\":\"62.6045\"},{\"data\":[{\"alignmentgroup\":\"True\",\"hovertemplate\":\"Mortality Rate (Deaths per 1000 live births)=%{marker.color}<br>Country.Name=%{y}<extra></extra>\",\"legendgroup\":\"\",\"marker\":{\"color\":[11.1399],\"coloraxis\":\"coloraxis\",\"pattern\":{\"shape\":\"\"}},\"name\":\"\",\"offsetgroup\":\"\",\"orientation\":\"h\",\"showlegend\":false,\"textposition\":\"auto\",\"x\":[11.1399],\"xaxis\":\"x\",\"y\":[\"Tonga\"],\"yaxis\":\"y\",\"type\":\"bar\"}],\"name\":\"11.1399\"},{\"data\":[{\"alignmentgroup\":\"True\",\"hovertemplate\":\"Mortality Rate (Deaths per 1000 live births)=%{marker.color}<br>Country.Name=%{y}<extra></extra>\",\"legendgroup\":\"\",\"marker\":{\"color\":[16.3318],\"coloraxis\":\"coloraxis\",\"pattern\":{\"shape\":\"\"}},\"name\":\"\",\"offsetgroup\":\"\",\"orientation\":\"h\",\"showlegend\":false,\"textposition\":\"auto\",\"x\":[16.3318],\"xaxis\":\"x\",\"y\":[\"Trinidad and Tobago\"],\"yaxis\":\"y\",\"type\":\"bar\"}],\"name\":\"16.3318\"},{\"data\":[{\"alignmentgroup\":\"True\",\"hovertemplate\":\"Mortality Rate (Deaths per 1000 live births)=%{marker.color}<br>Country.Name=%{y}<extra></extra>\",\"legendgroup\":\"\",\"marker\":{\"color\":[16.3213],\"coloraxis\":\"coloraxis\",\"pattern\":{\"shape\":\"\"}},\"name\":\"\",\"offsetgroup\":\"\",\"orientation\":\"h\",\"showlegend\":false,\"textposition\":\"auto\",\"x\":[16.3213],\"xaxis\":\"x\",\"y\":[\"Tunisia\"],\"yaxis\":\"y\",\"type\":\"bar\"}],\"name\":\"16.3213\"},{\"data\":[{\"alignmentgroup\":\"True\",\"hovertemplate\":\"Mortality Rate (Deaths per 1000 live births)=%{marker.color}<br>Country.Name=%{y}<extra></extra>\",\"legendgroup\":\"\",\"marker\":{\"color\":[41.4278],\"coloraxis\":\"coloraxis\",\"pattern\":{\"shape\":\"\"}},\"name\":\"\",\"offsetgroup\":\"\",\"orientation\":\"h\",\"showlegend\":false,\"textposition\":\"auto\",\"x\":[41.4278],\"xaxis\":\"x\",\"y\":[\"Turkmenistan\"],\"yaxis\":\"y\",\"type\":\"bar\"}],\"name\":\"41.4278\"},{\"data\":[{\"alignmentgroup\":\"True\",\"hovertemplate\":\"Mortality Rate (Deaths per 1000 live births)=%{marker.color}<br>Country.Name=%{y}<extra></extra>\",\"legendgroup\":\"\",\"marker\":{\"color\":[4.4894],\"coloraxis\":\"coloraxis\",\"pattern\":{\"shape\":\"\"}},\"name\":\"\",\"offsetgroup\":\"\",\"orientation\":\"h\",\"showlegend\":false,\"textposition\":\"auto\",\"x\":[4.4894],\"xaxis\":\"x\",\"y\":[\"Turks and Caicos Islands\"],\"yaxis\":\"y\",\"type\":\"bar\"}],\"name\":\"4.4894\"},{\"data\":[{\"alignmentgroup\":\"True\",\"hovertemplate\":\"Mortality Rate (Deaths per 1000 live births)=%{marker.color}<br>Country.Name=%{y}<extra></extra>\",\"legendgroup\":\"\",\"marker\":{\"color\":[21.2541],\"coloraxis\":\"coloraxis\",\"pattern\":{\"shape\":\"\"}},\"name\":\"\",\"offsetgroup\":\"\",\"orientation\":\"h\",\"showlegend\":false,\"textposition\":\"auto\",\"x\":[21.2541],\"xaxis\":\"x\",\"y\":[\"Tuvalu\"],\"yaxis\":\"y\",\"type\":\"bar\"}],\"name\":\"21.2541\"},{\"data\":[{\"alignmentgroup\":\"True\",\"hovertemplate\":\"Mortality Rate (Deaths per 1000 live births)=%{marker.color}<br>Country.Name=%{y}<extra></extra>\",\"legendgroup\":\"\",\"marker\":{\"color\":[8.9802],\"coloraxis\":\"coloraxis\",\"pattern\":{\"shape\":\"\"}},\"name\":\"\",\"offsetgroup\":\"\",\"orientation\":\"h\",\"showlegend\":false,\"textposition\":\"auto\",\"x\":[8.9802],\"xaxis\":\"x\",\"y\":[\"T\\u00fcrkiye\"],\"yaxis\":\"y\",\"type\":\"bar\"}],\"name\":\"8.9802\"},{\"data\":[{\"alignmentgroup\":\"True\",\"hovertemplate\":\"Mortality Rate (Deaths per 1000 live births)=%{marker.color}<br>Country.Name=%{y}<extra></extra>\",\"legendgroup\":\"\",\"marker\":{\"color\":[42.1282],\"coloraxis\":\"coloraxis\",\"pattern\":{\"shape\":\"\"}},\"name\":\"\",\"offsetgroup\":\"\",\"orientation\":\"h\",\"showlegend\":false,\"textposition\":\"auto\",\"x\":[42.1282],\"xaxis\":\"x\",\"y\":[\"Uganda\"],\"yaxis\":\"y\",\"type\":\"bar\"}],\"name\":\"42.1282\"},{\"data\":[{\"alignmentgroup\":\"True\",\"hovertemplate\":\"Mortality Rate (Deaths per 1000 live births)=%{marker.color}<br>Country.Name=%{y}<extra></extra>\",\"legendgroup\":\"\",\"marker\":{\"color\":[8.2232],\"coloraxis\":\"coloraxis\",\"pattern\":{\"shape\":\"\"}},\"name\":\"\",\"offsetgroup\":\"\",\"orientation\":\"h\",\"showlegend\":false,\"textposition\":\"auto\",\"x\":[8.2232],\"xaxis\":\"x\",\"y\":[\"Ukraine\"],\"yaxis\":\"y\",\"type\":\"bar\"}],\"name\":\"8.2232\"},{\"data\":[{\"alignmentgroup\":\"True\",\"hovertemplate\":\"Mortality Rate (Deaths per 1000 live births)=%{marker.color}<br>Country.Name=%{y}<extra></extra>\",\"legendgroup\":\"\",\"marker\":{\"color\":[6.3718],\"coloraxis\":\"coloraxis\",\"pattern\":{\"shape\":\"\"}},\"name\":\"\",\"offsetgroup\":\"\",\"orientation\":\"h\",\"showlegend\":false,\"textposition\":\"auto\",\"x\":[6.3718],\"xaxis\":\"x\",\"y\":[\"United Arab Emirates\"],\"yaxis\":\"y\",\"type\":\"bar\"}],\"name\":\"6.3718\"},{\"data\":[{\"alignmentgroup\":\"True\",\"hovertemplate\":\"Mortality Rate (Deaths per 1000 live births)=%{marker.color}<br>Country.Name=%{y}<extra></extra>\",\"legendgroup\":\"\",\"marker\":{\"color\":[4.1854],\"coloraxis\":\"coloraxis\",\"pattern\":{\"shape\":\"\"}},\"name\":\"\",\"offsetgroup\":\"\",\"orientation\":\"h\",\"showlegend\":false,\"textposition\":\"auto\",\"x\":[4.1854],\"xaxis\":\"x\",\"y\":[\"United Kingdom\"],\"yaxis\":\"y\",\"type\":\"bar\"}],\"name\":\"4.1854\"},{\"data\":[{\"alignmentgroup\":\"True\",\"hovertemplate\":\"Mortality Rate (Deaths per 1000 live births)=%{marker.color}<br>Country.Name=%{y}<extra></extra>\",\"legendgroup\":\"\",\"marker\":{\"color\":[47.1164],\"coloraxis\":\"coloraxis\",\"pattern\":{\"shape\":\"\"}},\"name\":\"\",\"offsetgroup\":\"\",\"orientation\":\"h\",\"showlegend\":false,\"textposition\":\"auto\",\"x\":[47.1164],\"xaxis\":\"x\",\"y\":[\"United Republic of Tanzania\"],\"yaxis\":\"y\",\"type\":\"bar\"}],\"name\":\"47.1164\"},{\"data\":[{\"alignmentgroup\":\"True\",\"hovertemplate\":\"Mortality Rate (Deaths per 1000 live births)=%{marker.color}<br>Country.Name=%{y}<extra></extra>\",\"legendgroup\":\"\",\"marker\":{\"color\":[6.243],\"coloraxis\":\"coloraxis\",\"pattern\":{\"shape\":\"\"}},\"name\":\"\",\"offsetgroup\":\"\",\"orientation\":\"h\",\"showlegend\":false,\"textposition\":\"auto\",\"x\":[6.243],\"xaxis\":\"x\",\"y\":[\"United States\"],\"yaxis\":\"y\",\"type\":\"bar\"}],\"name\":\"6.243\"},{\"data\":[{\"alignmentgroup\":\"True\",\"hovertemplate\":\"Mortality Rate (Deaths per 1000 live births)=%{marker.color}<br>Country.Name=%{y}<extra></extra>\",\"legendgroup\":\"\",\"marker\":{\"color\":[5.8231],\"coloraxis\":\"coloraxis\",\"pattern\":{\"shape\":\"\"}},\"name\":\"\",\"offsetgroup\":\"\",\"orientation\":\"h\",\"showlegend\":false,\"textposition\":\"auto\",\"x\":[5.8231],\"xaxis\":\"x\",\"y\":[\"Uruguay\"],\"yaxis\":\"y\",\"type\":\"bar\"}],\"name\":\"5.8231\"},{\"data\":[{\"alignmentgroup\":\"True\",\"hovertemplate\":\"Mortality Rate (Deaths per 1000 live births)=%{marker.color}<br>Country.Name=%{y}<extra></extra>\",\"legendgroup\":\"\",\"marker\":{\"color\":[14.0661],\"coloraxis\":\"coloraxis\",\"pattern\":{\"shape\":\"\"}},\"name\":\"\",\"offsetgroup\":\"\",\"orientation\":\"h\",\"showlegend\":false,\"textposition\":\"auto\",\"x\":[14.0661],\"xaxis\":\"x\",\"y\":[\"Uzbekistan\"],\"yaxis\":\"y\",\"type\":\"bar\"}],\"name\":\"14.0661\"},{\"data\":[{\"alignmentgroup\":\"True\",\"hovertemplate\":\"Mortality Rate (Deaths per 1000 live births)=%{marker.color}<br>Country.Name=%{y}<extra></extra>\",\"legendgroup\":\"\",\"marker\":{\"color\":[23.2141],\"coloraxis\":\"coloraxis\",\"pattern\":{\"shape\":\"\"}},\"name\":\"\",\"offsetgroup\":\"\",\"orientation\":\"h\",\"showlegend\":false,\"textposition\":\"auto\",\"x\":[23.2141],\"xaxis\":\"x\",\"y\":[\"Vanuatu\"],\"yaxis\":\"y\",\"type\":\"bar\"}],\"name\":\"23.2141\"},{\"data\":[{\"alignmentgroup\":\"True\",\"hovertemplate\":\"Mortality Rate (Deaths per 1000 live births)=%{marker.color}<br>Country.Name=%{y}<extra></extra>\",\"legendgroup\":\"\",\"marker\":{\"color\":[24.2297],\"coloraxis\":\"coloraxis\",\"pattern\":{\"shape\":\"\"}},\"name\":\"\",\"offsetgroup\":\"\",\"orientation\":\"h\",\"showlegend\":false,\"textposition\":\"auto\",\"x\":[24.2297],\"xaxis\":\"x\",\"y\":[\"Venezuela (Bolivarian Republic of)\"],\"yaxis\":\"y\",\"type\":\"bar\"}],\"name\":\"24.2297\"},{\"data\":[{\"alignmentgroup\":\"True\",\"hovertemplate\":\"Mortality Rate (Deaths per 1000 live births)=%{marker.color}<br>Country.Name=%{y}<extra></extra>\",\"legendgroup\":\"\",\"marker\":{\"color\":[20.6016],\"coloraxis\":\"coloraxis\",\"pattern\":{\"shape\":\"\"}},\"name\":\"\",\"offsetgroup\":\"\",\"orientation\":\"h\",\"showlegend\":false,\"textposition\":\"auto\",\"x\":[20.6016],\"xaxis\":\"x\",\"y\":[\"Viet Nam\"],\"yaxis\":\"y\",\"type\":\"bar\"}],\"name\":\"20.6016\"},{\"data\":[{\"alignmentgroup\":\"True\",\"hovertemplate\":\"Mortality Rate (Deaths per 1000 live births)=%{marker.color}<br>Country.Name=%{y}<extra></extra>\",\"legendgroup\":\"\",\"marker\":{\"color\":[61.9089],\"coloraxis\":\"coloraxis\",\"pattern\":{\"shape\":\"\"}},\"name\":\"\",\"offsetgroup\":\"\",\"orientation\":\"h\",\"showlegend\":false,\"textposition\":\"auto\",\"x\":[61.9089],\"xaxis\":\"x\",\"y\":[\"Yemen\"],\"yaxis\":\"y\",\"type\":\"bar\"}],\"name\":\"61.9089\"},{\"data\":[{\"alignmentgroup\":\"True\",\"hovertemplate\":\"Mortality Rate (Deaths per 1000 live births)=%{marker.color}<br>Country.Name=%{y}<extra></extra>\",\"legendgroup\":\"\",\"marker\":{\"color\":[57.6918],\"coloraxis\":\"coloraxis\",\"pattern\":{\"shape\":\"\"}},\"name\":\"\",\"offsetgroup\":\"\",\"orientation\":\"h\",\"showlegend\":false,\"textposition\":\"auto\",\"x\":[57.6918],\"xaxis\":\"x\",\"y\":[\"Zambia\"],\"yaxis\":\"y\",\"type\":\"bar\"}],\"name\":\"57.6918\"},{\"data\":[{\"alignmentgroup\":\"True\",\"hovertemplate\":\"Mortality Rate (Deaths per 1000 live births)=%{marker.color}<br>Country.Name=%{y}<extra></extra>\",\"legendgroup\":\"\",\"marker\":{\"color\":[49.522],\"coloraxis\":\"coloraxis\",\"pattern\":{\"shape\":\"\"}},\"name\":\"\",\"offsetgroup\":\"\",\"orientation\":\"h\",\"showlegend\":false,\"textposition\":\"auto\",\"x\":[49.522],\"xaxis\":\"x\",\"y\":[\"Zimbabwe\"],\"yaxis\":\"y\",\"type\":\"bar\"}],\"name\":\"49.522\"}]);\n",
       "                        }).then(function(){\n",
       "                            \n",
       "var gd = document.getElementById('ffdaed55-500a-491c-8bd7-827eb0361e8f');\n",
       "var x = new MutationObserver(function (mutations, observer) {{\n",
       "        var display = window.getComputedStyle(gd).display;\n",
       "        if (!display || display === 'none') {{\n",
       "            console.log([gd, 'removed!']);\n",
       "            Plotly.purge(gd);\n",
       "            observer.disconnect();\n",
       "        }}\n",
       "}});\n",
       "\n",
       "// Listen for the removal of the full notebook cells\n",
       "var notebookContainer = gd.closest('#notebook-container');\n",
       "if (notebookContainer) {{\n",
       "    x.observe(notebookContainer, {childList: true});\n",
       "}}\n",
       "\n",
       "// Listen for the clearing of the current output cell\n",
       "var outputEl = gd.closest('.output');\n",
       "if (outputEl) {{\n",
       "    x.observe(outputEl, {childList: true});\n",
       "}}\n",
       "\n",
       "                        })                };                });            </script>        </div>"
      ]
     },
     "metadata": {},
     "output_type": "display_data"
    }
   ],
   "source": [
    "import plotly.express as px\n",
    "\n",
    "# Assuming 'data' is your DataFrame\n",
    "# Extract years from the columns\n",
    "years = Data3.columns[5:-1]\n",
    "years = [str(year) for year in years]\n",
    "\n",
    "# Create animated bar chart\n",
    "fig_bar = px.bar(Data3, x='2021.5', y='Country.Name', orientation='h',\n",
    "                 animation_frame='2021.5',  # Replace 'Year' with the correct column name\n",
    "                 color='2021.5',\n",
    "                 title='Under-five Mortality Rates Over the Years',\n",
    "                 labels={'2021.5': 'Mortality Rate (Deaths per 1000 live births)'})\n",
    "\n",
    "\n",
    "# Update layout for animation controls\n",
    "fig_bar.update_layout(updatemenus=[{\n",
    "    'type': 'buttons',\n",
    "    'showactive': False,\n",
    "    'buttons': [\n",
    "        {'label': 'Play',\n",
    "         'method': 'animate',\n",
    "         'args': [None, {'frame': {'duration': 500, 'redraw': True}, 'fromcurrent': True}]},\n",
    "        {'label': 'Pause',\n",
    "         'method': 'animate',\n",
    "         'args': [[None], {'frame': {'duration': 0, 'redraw': True}, 'mode': 'immediate', 'transition': {'duration': 0}}],\n",
    "        }],\n",
    "}])\n",
    "\n",
    "# Add slider for selecting the year\n",
    "fig_bar.update_layout(sliders=[{\n",
    "    'active': 0,\n",
    "    'yanchor': 'top',\n",
    "    'xanchor': 'left',\n",
    "    'currentvalue': {\n",
    "        'font': {'size': 20},\n",
    "        'prefix': 'Year:',\n",
    "        'visible': True,\n",
    "        'xanchor': 'right',\n",
    "    },\n",
    "    'transition': {'duration': 300, 'easing': 'cubic-in-out'},\n",
    "    'pad': {'b': 10, 't': 50},\n",
    "    'steps': [{\n",
    "        'args': [\n",
    "            [year],\n",
    "            {\n",
    "                'frame': {'duration': 300, 'redraw': True},\n",
    "                'mode': 'immediate',\n",
    "                'transition': {'duration': 300},\n",
    "            },\n",
    "        ],\n",
    "        'label': str(year),\n",
    "        'method': 'animate',\n",
    "    } for year in years],\n",
    "}])\n",
    "\n",
    "# Show the plot\n",
    "fig_bar.show()\n"
   ]
  },
  {
   "cell_type": "code",
   "execution_count": 157,
   "id": "7f8c0604",
   "metadata": {},
   "outputs": [],
   "source": [
    "#Dividing data into independent and dependent varible\n",
    "x=np.array(Data['Year']).reshape(-1,1)\n",
    "y=np.array(Data['Lower']).reshape(-1,1)"
   ]
  },
  {
   "cell_type": "code",
   "execution_count": 158,
   "id": "2f86d1cf",
   "metadata": {},
   "outputs": [
    {
     "name": "stdout",
     "output_type": "stream",
     "text": [
      "Linear Regression - Mean Squared Error: 11.68274949644685, R-squared: 0.9532390524105752\n",
      "Decision Tree - Mean Squared Error: 182.55242148714288, R-squared: 0.2693223272416234\n",
      "Random Forest - Mean Squared Error: 74.29776152767101, R-squared: 0.7026184860110498\n"
     ]
    }
   ],
   "source": [
    "from sklearn.preprocessing import PolynomialFeatures\n",
    "from sklearn.pipeline import make_pipeline\n",
    "\n",
    "# Extracting features (X) and target variable (y) for Data1\n",
    "X_data =Data[['Year']].astype(float)\n",
    "y_data = Data['Lower'].astype(float)\n",
    "\n",
    "# Split the data into training and testing sets for Data1\n",
    "X_train_data, X_test_data, y_train_data, y_test_data = train_test_split(X_data, y_data, test_size=0.2, random_state=42)\n",
    "\n",
    "# Regression Models for Data1\n",
    "models = {\n",
    "    'Linear Regression': LinearRegression(),\n",
    "    'Decision Tree': DecisionTreeRegressor(random_state=42),\n",
    "    'Random Forest': RandomForestRegressor(random_state=42)\n",
    "}\n",
    "\n",
    "# Train and evaluate each model\n",
    "for name, model in models.items():\n",
    "    model.fit(X_train_data, y_train_data)\n",
    "    y_pred = model.predict(X_test_data)\n",
    "    mse = mean_squared_error(y_test_data, y_pred)\n",
    "    r2 = r2_score(y_test_data, y_pred)\n",
    "    print(f'{name} - Mean Squared Error: {mse}, R-squared: {r2}')\n"
   ]
  },
  {
   "cell_type": "code",
   "execution_count": 159,
   "id": "fdd64ed6",
   "metadata": {},
   "outputs": [
    {
     "data": {
      "image/png": "[encoded data removed]",
      "text/plain": [
       "<Figure size 1200x600 with 1 Axes>"
      ]
     },
     "metadata": {},
     "output_type": "display_data"
    }
   ],
   "source": [
    "import matplotlib.pyplot as plt\n",
    "import seaborn as sns\n",
    "\n",
    "# Plotting for all three models\n",
    "plt.figure(figsize=(12, 6))\n",
    "\n",
    "# Linear Regression\n",
    "sns.lineplot(x=y_test_data, y=models['Linear Regression'].predict(X_test_data), label='Linear Regression', linestyle='dashed')\n",
    "# Decision Tree\n",
    "sns.lineplot(x=y_test_data, y=models['Decision Tree'].predict(X_test_data), label='Decision Tree', linestyle='dashed')\n",
    "# Random Forest\n",
    "sns.lineplot(x=y_test_data, y=models['Random Forest'].predict(X_test_data), label='Random Forest', linestyle='dashed')\n",
    "\n",
    "# Scatter plot points for all three models\n",
    "sns.scatterplot(x=y_test_data, y=models['Linear Regression'].predict(X_test_data), label='Linear Regression')\n",
    "sns.scatterplot(x=y_test_data, y=models['Decision Tree'].predict(X_test_data), label='Decision Tree')\n",
    "sns.scatterplot(x=y_test_data, y=models['Random Forest'].predict(X_test_data), label='Random Forest')\n",
    "\n",
    "plt.title(' Models - Actual and Predicted Values')\n",
    "plt.xlabel('Actual Values')\n",
    "plt.ylabel('Predicted Values')\n",
    "plt.legend()\n",
    "plt.show()\n"
   ]
  },
  {
   "cell_type": "code",
   "execution_count": 160,
   "id": "c33d9d4c",
   "metadata": {},
   "outputs": [
    {
     "name": "stdout",
     "output_type": "stream",
     "text": [
      "            Year     Upper    Median     Lower\n",
      "Year    1.000000 -0.920039 -0.919254 -0.915831\n",
      "Upper  -0.920039  1.000000  0.999922  0.998953\n",
      "Median -0.919254  0.999922  1.000000  0.999444\n",
      "Lower  -0.915831  0.998953  0.999444  1.000000\n"
     ]
    }
   ],
   "source": [
    "correlation_matrix = Data.corr()\n",
    "# Display the correlation matrix\n",
    "print(correlation_matrix)\n"
   ]
  },
  {
   "cell_type": "code",
   "execution_count": 161,
   "id": "604e1b4e",
   "metadata": {},
   "outputs": [
    {
     "data": {
      "image/png": "[encoded data removed]",
      "text/plain": [
       "<Figure size 1000x1000 with 2 Axes>"
      ]
     },
     "metadata": {},
     "output_type": "display_data"
    }
   ],
   "source": [
    "#Visualize the data correlation using heatmap\n",
    "plt.figure(figsize=(10,10))\n",
    "sns.heatmap(Data.corr(),annot=True,fmt=\".0%\");"
   ]
  },
  {
   "cell_type": "code",
   "execution_count": 162,
   "id": "e6c3960d",
   "metadata": {},
   "outputs": [
    {
     "name": "stdout",
     "output_type": "stream",
     "text": [
      "Actual and Predicted Values for Linear Regression:\n",
      "     Actual  Predicted\n",
      "29  42.4574  43.034927\n",
      "15  64.2363  67.617319\n",
      "24  46.1260  51.814352\n",
      "17  59.1185  64.105548\n",
      "8   82.6101  79.908515\n",
      "9   80.2255  78.152630\n",
      "30  42.3704  41.279041\n"
     ]
    }
   ],
   "source": [
    "# Make predictions on the test set\n",
    "y_pred_linear_regression = models['Linear Regression'].predict(X_test_data)\n",
    "\n",
    "# Create a DataFrame to display Actual and Predicted Values\n",
    "result_df_linear_regression = pd.DataFrame({'Actual': y_test_data, 'Predicted': y_pred_linear_regression})\n",
    "\n",
    "# Print or show the Actual and Predicted Values\n",
    "print(\"Actual and Predicted Values for Linear Regression:\")\n",
    "print(result_df_linear_regression)\n"
   ]
  },
  {
   "cell_type": "code",
   "execution_count": 164,
   "id": "0ecdbddb",
   "metadata": {},
   "outputs": [
    {
     "name": "stdout",
     "output_type": "stream",
     "text": [
      "Prediction for 2030.5: 23.72018999726697\n"
     ]
    },
    {
     "name": "stderr",
     "output_type": "stream",
     "text": [
      "C:\\ProgramData\\anaconda3\\Lib\\site-packages\\sklearn\\base.py:464: UserWarning:\n",
      "\n",
      "X does not have valid feature names, but LinearRegression was fitted with feature names\n",
      "\n"
     ]
    }
   ],
   "source": [
    "# Use the Linear Regression model\n",
    "linear_reg = LinearRegression()\n",
    "\n",
    "# TO fit the model on our training data\n",
    "linear_reg.fit(X_train_data, y_train_data)\n",
    "\n",
    "# Predict for the year 2030.5\n",
    "prediction_2030_5 = linear_reg.predict([[2030.5]])\n",
    "\n",
    "# Print the predicted value for 2030.5\n",
    "print(f'Prediction for 2030.5: {prediction_2030_5[0]}')\n"
   ]
  },
  {
   "cell_type": "code",
   "execution_count": 165,
   "id": "47687486",
   "metadata": {},
   "outputs": [
    {
     "data": {
      "text/plain": [
       "['Modeling Tomorrow.joblib']"
      ]
     },
     "execution_count": 165,
     "metadata": {},
     "output_type": "execute_result"
    }
   ],
   "source": [
    "#dumping a data\n",
    "from joblib import dump\n",
    "dump(model,\"Modeling Tomorrow.joblib\")"
   ]
  },
  {
   "cell_type": "code",
   "execution_count": 166,
   "id": "144e0c19",
   "metadata": {},
   "outputs": [],
   "source": [
    "import pickle\n",
    "pickle.dump(model,open('model.pkl','wb'))"
   ]
  }
 ],
 "metadata": {
  "kernelspec": {
   "display_name": "Python 3 (ipykernel)",
   "language": "python",
   "name": "python3"
  },
  "language_info": {
   "codemirror_mode": {
    "name": "ipython",
    "version": 3
   },
   "file_extension": ".py",
   "mimetype": "text/x-python",
   "name": "python",
   "nbconvert_exporter": "python",
   "pygments_lexer": "ipython3",
   "version": "3.11.3"
  }
 },
 "nbformat": 4,
 "nbformat_minor": 5
}
